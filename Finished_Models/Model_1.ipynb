{
 "cells": [
  {
   "cell_type": "code",
   "execution_count": 32,
   "metadata": {},
   "outputs": [],
   "source": [
    "import tensorflow as tf\n",
    "from tensorflow import keras\n",
    "from tensorflow.keras.models import Sequential\n",
    "from tensorflow.keras.layers import Dropout\n",
    "from tensorflow.keras.models import Model\n",
    "from tensorflow.keras.layers import Input\n",
    "from tensorflow.keras.layers import Dense\n",
    "from tensorflow.keras.layers import Activation\n",
    "from tensorflow.keras.layers import Flatten\n",
    "from tensorflow.keras.layers import Dropout\n",
    "from tensorflow.keras.layers import Conv2D, Conv3D\n",
    "from tensorflow.keras.layers import MaxPooling2D, MaxPooling3D\n",
    "from tensorflow.keras.layers import GlobalAveragePooling2D\n",
    "from tensorflow.keras.layers import BatchNormalization\n",
    "from tensorflow.keras.applications.vgg16 import VGG16\n",
    "from tensorflow.keras import optimizers\n",
    "from tensorflow.keras import regularizers\n",
    "from sklearn.metrics import f1_score\n",
    "#from keras import backend as K\n",
    "from keras.callbacks import EarlyStopping\n",
    "from keras.preprocessing.image import ImageDataGenerator\n",
    "from sklearn.model_selection import train_test_split\n",
    "import numpy as np\n",
    "import matplotlib.pyplot as plt\n",
    "import pandas as pd\n",
    "from PIL import Image \n",
    "import seaborn as sns\n",
    "import os\n",
    "import re\n",
    "import glob\n",
    "import cv2\n",
    "from sklearn.metrics import classification_report\n",
    "from sklearn.metrics import confusion_matrix\n",
    "from sklearn.utils.multiclass import unique_labels\n",
    "from sklearn import preprocessing\n",
    "import tqdm\n",
    "from numpy import loadtxt\n",
    "from sklearn.utils import class_weight"
   ]
  },
  {
   "cell_type": "code",
   "execution_count": 33,
   "metadata": {},
   "outputs": [],
   "source": [
    "def atoi(text):\n",
    "    return int(text) if text.isdigit() else text\n",
    "def natural_keys(text):\n",
    "    return [atoi(c) for c in re.split('(\\d+)', text)]"
   ]
  },
  {
   "cell_type": "code",
   "execution_count": 34,
   "metadata": {},
   "outputs": [],
   "source": [
    "def draw_confusion_matrix(true,preds):\n",
    "    conf_matx = confusion_matrix(true, preds)\n",
    "    sns.heatmap(conf_matx, annot=True,annot_kws={\"size\": 12},fmt='g', cbar=False, cmap=plt.cm.Blues) #'viridis'\n",
    "    #plt.savefig('/home/jovyan/img1.png')\n",
    "    plt.show()\n",
    "    \n",
    "    return conf_matx"
   ]
  },
  {
   "cell_type": "code",
   "execution_count": 35,
   "metadata": {},
   "outputs": [],
   "source": [
    "def plot_history(model_history, model_name):\n",
    "    fig = plt.figure(figsize=(15,5), facecolor='w')\n",
    "    ax = fig.add_subplot(121)\n",
    "    ax.plot(model_history.history['loss'])\n",
    "    ax.plot(model_history.history['val_loss'])\n",
    "    ax.set(title=model_name + ': Model loss', ylabel='Loss', xlabel='Epoch')\n",
    "    ax.legend(['Train', 'Val'], loc='upper left')\n",
    "    ax = fig.add_subplot(122)\n",
    "    ax.plot(model_history.history['accuracy'])\n",
    "    ax.plot(model_history.history['val_accuracy'])\n",
    "    ax.set(title=model_name + ': Model Accuracy; test='+ str(np.round(model_history.history['val_accuracy'][-1], 3)),\n",
    "           ylabel='Accuracy', xlabel='Epoch')\n",
    "    ax.legend(['Train', 'Val'], loc='upper left')\n",
    "    #plt.savefig('/home/jovyan/img2.png')\n",
    "    plt.show()\n",
    "   \n",
    "    \n",
    "    return fig"
   ]
  },
  {
   "cell_type": "code",
   "execution_count": 36,
   "metadata": {},
   "outputs": [],
   "source": [
    "def loadImages():\n",
    "\n",
    "    image_list = []\n",
    "    \n",
    "\n",
    "    for filename in sorted(glob.glob('/home/jovyan/DATA_MASTER_PROJECT/IMAGES_MASTER_PROJECT/Cropped_P276_Conc_170/*.tiff'), key=natural_keys): \n",
    "        im=cv2.imread(filename)\n",
    "        imarray = np.array(im)\n",
    "        #imarray = imarray.astype('float32')\n",
    "        image_list.append(imarray)\n",
    "\n",
    "    x_orig = np.reshape(image_list, (len(image_list), 90, 90, 3))\n",
    "    \n",
    "    path = '/home/jovyan/DATA_MASTER_PROJECT/leb_P276_conc_170_.csv'     \n",
    "    labels = pd.read_csv(path, usecols=[\"Type\", \"Category\"],\n",
    "                       sep=\",\" )\n",
    "    y_orig = np.array(labels['Category'])\n",
    "\n",
    "    return x_orig, y_orig"
   ]
  },
  {
   "cell_type": "code",
   "execution_count": 37,
   "metadata": {},
   "outputs": [],
   "source": [
    "def normalization(data, norm_mean):#, norm_sigma):\n",
    "    \n",
    "    x_scaled = (data - norm_mean)# / norm_sigma\n",
    "    data = x_scaled\n",
    "    \n",
    "    return data"
   ]
  },
  {
   "cell_type": "code",
   "execution_count": 38,
   "metadata": {},
   "outputs": [],
   "source": [
    "es = EarlyStopping(monitor='val_loss', mode='min', verbose=2, patience=3)"
   ]
  },
  {
   "cell_type": "code",
   "execution_count": 39,
   "metadata": {},
   "outputs": [],
   "source": [
    "pretrained_model = VGG16(weights='imagenet',include_top=False, input_shape=(90, 90, 3))\n",
    "\n",
    "base_model = Model(inputs=pretrained_model.input, outputs=pretrained_model.get_layer('block3_pool').output)"
   ]
  },
  {
   "cell_type": "code",
   "execution_count": 40,
   "metadata": {},
   "outputs": [
    {
     "name": "stderr",
     "output_type": "stream",
     "text": [
      "100%|██████████| 2/2 [00:00<00:00, 6853.44it/s]\n"
     ]
    },
    {
     "data": {
      "text/plain": [
       "((14252, 90, 90, 3), (14252,))"
      ]
     },
     "execution_count": 40,
     "metadata": {},
     "output_type": "execute_result"
    }
   ],
   "source": [
    "x_orig_1, y_orig_1 = tqdm.tqdm(loadImages())\n",
    "x_orig_1.shape, y_orig_1.shape"
   ]
  },
  {
   "cell_type": "code",
   "execution_count": 41,
   "metadata": {},
   "outputs": [
    {
     "data": {
      "text/plain": [
       "((11401, 90, 90, 3), (2851, 90, 90, 3), (11401,), (2851,))"
      ]
     },
     "execution_count": 41,
     "metadata": {},
     "output_type": "execute_result"
    }
   ],
   "source": [
    "x_train, x_test, y_train, y_test = train_test_split(x_orig_1, y_orig_1, test_size=0.2, random_state=999 )\n",
    "x_train.shape, x_test.shape, y_train.shape, y_test.shape"
   ]
  },
  {
   "cell_type": "code",
   "execution_count": 42,
   "metadata": {},
   "outputs": [
    {
     "data": {
      "text/plain": [
       "((9120, 90, 90, 3), (2281, 90, 90, 3), (9120,), (2281,))"
      ]
     },
     "execution_count": 42,
     "metadata": {},
     "output_type": "execute_result"
    }
   ],
   "source": [
    "x_train_1, x_val, y_train_1, y_val = train_test_split(x_train, y_train, test_size=0.2, random_state=999 )\n",
    "x_train_1.shape, x_val.shape, y_train_1.shape, y_val.shape"
   ]
  },
  {
   "cell_type": "code",
   "execution_count": 43,
   "metadata": {},
   "outputs": [
    {
     "data": {
      "text/plain": [
       "{0: 1212, 1: 1601, 2: 2113, 3: 1771, 4: 2423}"
      ]
     },
     "execution_count": 43,
     "metadata": {},
     "output_type": "execute_result"
    }
   ],
   "source": [
    "unique, counts = np.unique(y_train_1, return_counts=True)\n",
    "dict(zip(unique, counts))"
   ]
  },
  {
   "cell_type": "code",
   "execution_count": 44,
   "metadata": {},
   "outputs": [
    {
     "data": {
      "text/plain": [
       "{0: 318, 1: 402, 2: 553, 3: 424, 4: 584}"
      ]
     },
     "execution_count": 44,
     "metadata": {},
     "output_type": "execute_result"
    }
   ],
   "source": [
    "unique, counts = np.unique(y_val, return_counts=True)\n",
    "dict(zip(unique, counts))"
   ]
  },
  {
   "cell_type": "code",
   "execution_count": 45,
   "metadata": {},
   "outputs": [
    {
     "name": "stdout",
     "output_type": "stream",
     "text": [
      "weights = [1.5049505  1.13928795 0.86322764 1.0299266  0.7527858 ]\n"
     ]
    }
   ],
   "source": [
    "weights = class_weight.compute_class_weight('balanced', np.unique(y_train_1),y_train_1)\n",
    "print('weights = ' + str(weights))"
   ]
  },
  {
   "cell_type": "code",
   "execution_count": 46,
   "metadata": {},
   "outputs": [
    {
     "data": {
      "text/plain": [
       "((9120, 5), (2851, 5), (2281, 5))"
      ]
     },
     "execution_count": 46,
     "metadata": {},
     "output_type": "execute_result"
    }
   ],
   "source": [
    "y_train_1 = keras.utils.to_categorical(y_train_1)\n",
    "y_test_1 = keras.utils.to_categorical(y_test)\n",
    "y_val = keras.utils.to_categorical(y_val)\n",
    "\n",
    "y_train_1.shape, y_test_1.shape, y_val.shape"
   ]
  },
  {
   "cell_type": "code",
   "execution_count": 47,
   "metadata": {},
   "outputs": [
    {
     "name": "stdout",
     "output_type": "stream",
     "text": [
      "Shape:(9120, 90, 90, 3)\n",
      "Mean:22.668270481373185\n",
      "Sigma:16.385280958654533\n"
     ]
    }
   ],
   "source": [
    "print('Shape:{0}\\nMean:{1}\\nSigma:{2}'.format(x_train_1.shape,np.mean(x_train_1),np.std(x_train_1)))"
   ]
  },
  {
   "cell_type": "code",
   "execution_count": 48,
   "metadata": {},
   "outputs": [],
   "source": [
    "norm_mean = np.mean(x_train_1)\n",
    "norm_sigma = np.std(x_train_1)\n",
    "\n",
    "x_train_1 = normalization(x_train_1, norm_mean)#, norm_sigma)\n",
    "\n",
    "x_val = normalization(x_val, norm_mean)#, norm_sigma)\n",
    "\n",
    "x_test = normalization(x_test, norm_mean)#, norm_sigma)\n"
   ]
  },
  {
   "cell_type": "code",
   "execution_count": 49,
   "metadata": {},
   "outputs": [],
   "source": [
    "batch_size = 32"
   ]
  },
  {
   "cell_type": "code",
   "execution_count": 50,
   "metadata": {},
   "outputs": [],
   "source": [
    "datagen = ImageDataGenerator()\n",
    "\n",
    "datagen.fit(x_train_1)\n",
    "\n",
    "train_gen = datagen.flow(x_train_1, y_train_1, batch_size=batch_size)"
   ]
  },
  {
   "cell_type": "code",
   "execution_count": 51,
   "metadata": {},
   "outputs": [],
   "source": [
    "dat_val = ImageDataGenerator()\n",
    "\n",
    "dat_val.fit(x_val)\n",
    "\n",
    "val_gen = dat_val.flow(x_val, y_val, batch_size=batch_size)"
   ]
  },
  {
   "cell_type": "code",
   "execution_count": 52,
   "metadata": {},
   "outputs": [
    {
     "name": "stdout",
     "output_type": "stream",
     "text": [
      "Model: \"sequential_1\"\n",
      "_________________________________________________________________\n",
      "Layer (type)                 Output Shape              Param #   \n",
      "=================================================================\n",
      "model_1 (Model)              (None, 11, 11, 256)       1735488   \n",
      "_________________________________________________________________\n",
      "batch_normalization_1 (Batch (None, 11, 11, 256)       1024      \n",
      "_________________________________________________________________\n",
      "global_average_pooling2d_1 ( (None, 256)               0         \n",
      "_________________________________________________________________\n",
      "dense_1 (Dense)              (None, 5)                 1285      \n",
      "=================================================================\n",
      "Total params: 1,737,797\n",
      "Trainable params: 1,737,285\n",
      "Non-trainable params: 512\n",
      "_________________________________________________________________\n"
     ]
    }
   ],
   "source": [
    "m4 = Sequential()\n",
    "m4.add(base_model)\n",
    "\n",
    "\n",
    "m4.add(BatchNormalization())\n",
    "m4.add(GlobalAveragePooling2D())\n",
    "m4.add(Dense(5, activation = 'softmax'))\n",
    "\n",
    "m4.summary()\n",
    "\n",
    "\n"
   ]
  },
  {
   "cell_type": "code",
   "execution_count": 53,
   "metadata": {},
   "outputs": [],
   "source": [
    "base_model.trainable = False\n",
    "\n",
    "opt = keras.optimizers.Adam(lr=1e-2)\n",
    "\n",
    "m4.compile(loss= keras.losses.categorical_crossentropy, optimizer=opt, metrics = ['accuracy'])\n"
   ]
  },
  {
   "cell_type": "code",
   "execution_count": 54,
   "metadata": {},
   "outputs": [
    {
     "name": "stdout",
     "output_type": "stream",
     "text": [
      "WARNING:tensorflow:sample_weight modes were coerced from\n",
      "  ...\n",
      "    to  \n",
      "  ['...']\n",
      "WARNING:tensorflow:sample_weight modes were coerced from\n",
      "  ...\n",
      "    to  \n",
      "  ['...']\n",
      "Train for 285.0 steps, validate for 71.28125 steps\n",
      "Epoch 1/100\n",
      "285/285 [==============================] - 6s 21ms/step - loss: 1.2879 - accuracy: 0.4581 - val_loss: 1.2931 - val_accuracy: 0.4910\n",
      "Epoch 2/100\n",
      "285/285 [==============================] - 5s 17ms/step - loss: 1.1977 - accuracy: 0.5156 - val_loss: 1.2081 - val_accuracy: 0.5103\n",
      "Epoch 3/100\n",
      "285/285 [==============================] - 5s 18ms/step - loss: 1.1626 - accuracy: 0.5319 - val_loss: 1.1659 - val_accuracy: 0.5344\n",
      "Epoch 4/100\n",
      "285/285 [==============================] - 5s 17ms/step - loss: 1.1460 - accuracy: 0.5437 - val_loss: 1.1479 - val_accuracy: 0.5502\n",
      "Epoch 5/100\n",
      "285/285 [==============================] - 5s 18ms/step - loss: 1.1389 - accuracy: 0.5437 - val_loss: 1.1727 - val_accuracy: 0.5243\n",
      "Epoch 6/100\n",
      "285/285 [==============================] - 5s 18ms/step - loss: 1.1252 - accuracy: 0.5542 - val_loss: 1.1560 - val_accuracy: 0.5449\n",
      "Epoch 7/100\n",
      "285/285 [==============================] - 5s 18ms/step - loss: 1.1256 - accuracy: 0.5496 - val_loss: 1.1623 - val_accuracy: 0.5445\n",
      "Epoch 00007: early stopping\n"
     ]
    }
   ],
   "source": [
    "\n",
    "epochs = 100\n",
    "\n",
    "m4_h = m4.fit(train_gen,\n",
    "                steps_per_epoch=(len(x_train_1)/batch_size),\n",
    "                callbacks = [es],\n",
    "                epochs=epochs,\n",
    "                validation_data = val_gen, \n",
    "                validation_steps = (len(x_val)/batch_size),\n",
    "                class_weight = weights)"
   ]
  },
  {
   "cell_type": "code",
   "execution_count": 55,
   "metadata": {},
   "outputs": [],
   "source": [
    "base_model.trainable = True\n",
    "\n",
    "opt = keras.optimizers.Adam(lr=1e-5)\n",
    "\n",
    "m4.compile(loss= keras.losses.categorical_crossentropy, optimizer=opt, metrics = ['accuracy'])"
   ]
  },
  {
   "cell_type": "code",
   "execution_count": 56,
   "metadata": {},
   "outputs": [
    {
     "name": "stdout",
     "output_type": "stream",
     "text": [
      "WARNING:tensorflow:sample_weight modes were coerced from\n",
      "  ...\n",
      "    to  \n",
      "  ['...']\n",
      "WARNING:tensorflow:sample_weight modes were coerced from\n",
      "  ...\n",
      "    to  \n",
      "  ['...']\n",
      "Train for 285.0 steps, validate for 71.28125 steps\n",
      "Epoch 1/100\n",
      "285/285 [==============================] - 12s 42ms/step - loss: 1.0512 - accuracy: 0.5947 - val_loss: 1.1758 - val_accuracy: 0.5265\n",
      "Epoch 2/100\n",
      "285/285 [==============================] - 11s 39ms/step - loss: 0.9648 - accuracy: 0.6338 - val_loss: 1.0057 - val_accuracy: 0.6111\n",
      "Epoch 3/100\n",
      "285/285 [==============================] - 11s 39ms/step - loss: 0.9053 - accuracy: 0.6557 - val_loss: 1.0094 - val_accuracy: 0.6256\n",
      "Epoch 4/100\n",
      "285/285 [==============================] - 11s 39ms/step - loss: 0.8562 - accuracy: 0.6745 - val_loss: 0.9444 - val_accuracy: 0.6440\n",
      "Epoch 5/100\n",
      "285/285 [==============================] - 11s 39ms/step - loss: 0.8139 - accuracy: 0.6974 - val_loss: 0.9547 - val_accuracy: 0.6260\n",
      "Epoch 6/100\n",
      "285/285 [==============================] - 11s 38ms/step - loss: 0.7752 - accuracy: 0.7135 - val_loss: 0.8803 - val_accuracy: 0.6673\n",
      "Epoch 7/100\n",
      "285/285 [==============================] - 11s 39ms/step - loss: 0.7391 - accuracy: 0.7306 - val_loss: 0.9083 - val_accuracy: 0.6497\n",
      "Epoch 8/100\n",
      "285/285 [==============================] - 11s 39ms/step - loss: 0.7103 - accuracy: 0.7469 - val_loss: 0.8752 - val_accuracy: 0.6756\n",
      "Epoch 9/100\n",
      "285/285 [==============================] - 11s 39ms/step - loss: 0.6791 - accuracy: 0.7599 - val_loss: 0.8664 - val_accuracy: 0.6668\n",
      "Epoch 10/100\n",
      "285/285 [==============================] - 11s 39ms/step - loss: 0.6522 - accuracy: 0.7721 - val_loss: 0.8171 - val_accuracy: 0.7036\n",
      "Epoch 11/100\n",
      "285/285 [==============================] - 11s 39ms/step - loss: 0.6255 - accuracy: 0.7836 - val_loss: 0.8485 - val_accuracy: 0.6786\n",
      "Epoch 12/100\n",
      "285/285 [==============================] - 11s 39ms/step - loss: 0.6005 - accuracy: 0.7957 - val_loss: 0.8128 - val_accuracy: 0.6800\n",
      "Epoch 13/100\n",
      "285/285 [==============================] - 11s 39ms/step - loss: 0.5789 - accuracy: 0.8078 - val_loss: 0.7831 - val_accuracy: 0.7080\n",
      "Epoch 14/100\n",
      "285/285 [==============================] - 11s 39ms/step - loss: 0.5564 - accuracy: 0.8166 - val_loss: 0.9147 - val_accuracy: 0.6594\n",
      "Epoch 15/100\n",
      "285/285 [==============================] - 11s 39ms/step - loss: 0.5320 - accuracy: 0.8276 - val_loss: 0.7403 - val_accuracy: 0.7304\n",
      "Epoch 16/100\n",
      "285/285 [==============================] - 11s 39ms/step - loss: 0.5125 - accuracy: 0.8348 - val_loss: 0.7377 - val_accuracy: 0.7225\n",
      "Epoch 17/100\n",
      "285/285 [==============================] - 11s 39ms/step - loss: 0.4955 - accuracy: 0.8445 - val_loss: 0.7193 - val_accuracy: 0.7264\n",
      "Epoch 18/100\n",
      "285/285 [==============================] - 11s 39ms/step - loss: 0.4749 - accuracy: 0.8531 - val_loss: 0.8752 - val_accuracy: 0.6664\n",
      "Epoch 19/100\n",
      "285/285 [==============================] - 11s 39ms/step - loss: 0.4562 - accuracy: 0.8609 - val_loss: 0.8230 - val_accuracy: 0.6975\n",
      "Epoch 20/100\n",
      "285/285 [==============================] - 11s 39ms/step - loss: 0.4395 - accuracy: 0.8682 - val_loss: 0.6804 - val_accuracy: 0.7462\n",
      "Epoch 21/100\n",
      "285/285 [==============================] - 11s 39ms/step - loss: 0.4208 - accuracy: 0.8769 - val_loss: 0.7209 - val_accuracy: 0.7352\n",
      "Epoch 22/100\n",
      "285/285 [==============================] - 11s 39ms/step - loss: 0.4042 - accuracy: 0.8879 - val_loss: 0.6750 - val_accuracy: 0.7527\n",
      "Epoch 23/100\n",
      "285/285 [==============================] - 11s 39ms/step - loss: 0.3869 - accuracy: 0.8908 - val_loss: 0.7209 - val_accuracy: 0.7317\n",
      "Epoch 24/100\n",
      "285/285 [==============================] - 11s 39ms/step - loss: 0.3741 - accuracy: 0.8967 - val_loss: 0.7614 - val_accuracy: 0.7168\n",
      "Epoch 25/100\n",
      "285/285 [==============================] - 11s 39ms/step - loss: 0.3571 - accuracy: 0.9042 - val_loss: 0.7485 - val_accuracy: 0.7304\n",
      "Epoch 00025: early stopping\n"
     ]
    }
   ],
   "source": [
    "\n",
    "epochs = 100\n",
    "\n",
    "m4_h = m4.fit(train_gen,\n",
    "                steps_per_epoch=(len(x_train_1)/batch_size),\n",
    "                callbacks = [es],\n",
    "                epochs=epochs,\n",
    "                validation_data = val_gen, \n",
    "                validation_steps = (len(x_val)/batch_size),\n",
    "                class_weight = weights)"
   ]
  },
  {
   "cell_type": "code",
   "execution_count": 57,
   "metadata": {},
   "outputs": [
    {
     "data": {
      "image/png": "[encoded data removed]",
      "text/plain": [
       "<Figure size 1080x360 with 2 Axes>"
      ]
     },
     "metadata": {},
     "output_type": "display_data"
    },
    {
     "data": {
      "image/png": "[encoded data removed]",
      "text/plain": [
       "<Figure size 1080x360 with 2 Axes>"
      ]
     },
     "execution_count": 57,
     "metadata": {},
     "output_type": "execute_result"
    }
   ],
   "source": [
    "plot_history(m4_h, 'first')\n"
   ]
  },
  {
   "cell_type": "code",
   "execution_count": 58,
   "metadata": {},
   "outputs": [
    {
     "name": "stdout",
     "output_type": "stream",
     "text": [
      "2851/2851 [==============================] - 1s 462us/sample - loss: 0.7406 - accuracy: 0.7261\n",
      "\n",
      "accuracy: 72.61%\n"
     ]
    }
   ],
   "source": [
    "scores = m4.evaluate(x_test, y_test_1)\n",
    "print(\"\\n%s: %.2f%%\" % (m4.metrics_names[1], scores[1]*100))"
   ]
  },
  {
   "cell_type": "code",
   "execution_count": 59,
   "metadata": {},
   "outputs": [],
   "source": [
    "test_preds = m4.predict(x_test)"
   ]
  },
  {
   "cell_type": "code",
   "execution_count": 60,
   "metadata": {},
   "outputs": [],
   "source": [
    "preds_df = pd.DataFrame(test_preds)\n",
    "predicted_labels = preds_df.idxmax(axis=1)"
   ]
  },
  {
   "cell_type": "code",
   "execution_count": 61,
   "metadata": {},
   "outputs": [
    {
     "data": {
      "image/png": "[encoded data removed]",
      "text/plain": [
       "<Figure size 432x288 with 1 Axes>"
      ]
     },
     "metadata": {
      "needs_background": "light"
     },
     "output_type": "display_data"
    },
    {
     "data": {
      "text/plain": [
       "array([[267,  15,  66,   7,   5],\n",
       "       [ 19, 341, 142,  29,  10],\n",
       "       [ 13,   8, 638,   4,   6],\n",
       "       [ 37,  56, 142, 315,  10],\n",
       "       [ 38,  39, 112,  23, 509]])"
      ]
     },
     "execution_count": 61,
     "metadata": {},
     "output_type": "execute_result"
    }
   ],
   "source": [
    "draw_confusion_matrix(y_test, predicted_labels)"
   ]
  },
  {
   "cell_type": "code",
   "execution_count": 62,
   "metadata": {},
   "outputs": [
    {
     "name": "stdout",
     "output_type": "stream",
     "text": [
      "              precision    recall  f1-score   support\n",
      "\n",
      "           0       0.71      0.74      0.73       360\n",
      "           1       0.74      0.63      0.68       541\n",
      "           2       0.58      0.95      0.72       669\n",
      "           3       0.83      0.56      0.67       560\n",
      "           4       0.94      0.71      0.81       721\n",
      "\n",
      "    accuracy                           0.73      2851\n",
      "   macro avg       0.76      0.72      0.72      2851\n",
      "weighted avg       0.77      0.73      0.73      2851\n",
      "\n"
     ]
    }
   ],
   "source": [
    "print(classification_report(y_test, predicted_labels))"
   ]
  },
  {
   "cell_type": "code",
   "execution_count": null,
   "metadata": {},
   "outputs": [],
   "source": [
    "# p = '/home/jovyan/Saved_Models/'\n",
    "# m4.save(p + \"CNN_t1_correct_normaliztion_transfer.h5\")"
   ]
  },
  {
   "cell_type": "code",
   "execution_count": null,
   "metadata": {},
   "outputs": [],
   "source": []
  }
 ],
 "metadata": {
  "kernelspec": {
   "display_name": "Python 3",
   "language": "python",
   "name": "python3"
  },
  "language_info": {
   "codemirror_mode": {
    "name": "ipython",
    "version": 3
   },
   "file_extension": ".py",
   "mimetype": "text/x-python",
   "name": "python",
   "nbconvert_exporter": "python",
   "pygments_lexer": "ipython3",
   "version": "3.6.9"
  }
 },
 "nbformat": 4,
 "nbformat_minor": 4
}
