{
 "cells": [
  {
   "cell_type": "code",
   "execution_count": 1,
   "metadata": {},
   "outputs": [
    {
     "name": "stderr",
     "output_type": "stream",
     "text": [
      "Using TensorFlow backend.\n"
     ]
    }
   ],
   "source": [
    "import tensorflow as tf\n",
    "from tensorflow import keras\n",
    "from tensorflow.keras.models import Sequential\n",
    "from tensorflow.keras.layers import Dropout\n",
    "from tensorflow.keras.models import Model\n",
    "from tensorflow.keras.layers import Input\n",
    "from tensorflow.keras.layers import Dense\n",
    "from tensorflow.keras.layers import Activation\n",
    "from tensorflow.keras.layers import Flatten\n",
    "from tensorflow.keras.layers import Dropout\n",
    "from tensorflow.keras.layers import Conv2D, Conv3D\n",
    "from tensorflow.keras.layers import MaxPooling2D, MaxPooling3D\n",
    "from tensorflow.keras.layers import GlobalAveragePooling2D\n",
    "from tensorflow.keras.layers import BatchNormalization\n",
    "from tensorflow.keras.applications.vgg16 import VGG16\n",
    "from tensorflow.keras import optimizers\n",
    "from tensorflow.keras import regularizers\n",
    "from sklearn.metrics import f1_score\n",
    "#from keras import backend as K\n",
    "from keras.callbacks import EarlyStopping\n",
    "from keras.preprocessing.image import ImageDataGenerator\n",
    "from sklearn.model_selection import train_test_split\n",
    "import numpy as np\n",
    "import matplotlib.pyplot as plt\n",
    "import pandas as pd\n",
    "from PIL import Image \n",
    "import seaborn as sns\n",
    "import os\n",
    "import re\n",
    "import glob\n",
    "import cv2\n",
    "from sklearn.metrics import classification_report\n",
    "from sklearn.metrics import confusion_matrix\n",
    "from sklearn.utils.multiclass import unique_labels\n",
    "from sklearn import preprocessing\n",
    "import tqdm\n",
    "from numpy import loadtxt\n",
    "from sklearn.utils import class_weight"
   ]
  },
  {
   "cell_type": "code",
   "execution_count": 2,
   "metadata": {},
   "outputs": [],
   "source": [
    "def atoi(text):\n",
    "    return int(text) if text.isdigit() else text\n",
    "def natural_keys(text):\n",
    "    return [atoi(c) for c in re.split('(\\d+)', text)]"
   ]
  },
  {
   "cell_type": "code",
   "execution_count": 3,
   "metadata": {},
   "outputs": [],
   "source": [
    "def draw_confusion_matrix(true,preds):\n",
    "    conf_matx = confusion_matrix(true, preds)\n",
    "    sns.heatmap(conf_matx, annot=True,annot_kws={\"size\": 12},fmt='g', cbar=False, cmap=plt.cm.Blues) #'viridis'\n",
    "    #plt.savefig('/home/jovyan/img1.png')\n",
    "    plt.show()\n",
    "    \n",
    "    return conf_matx"
   ]
  },
  {
   "cell_type": "code",
   "execution_count": 4,
   "metadata": {},
   "outputs": [],
   "source": [
    "def plot_history(model_history, model_name):\n",
    "    fig = plt.figure(figsize=(15,5), facecolor='w')\n",
    "    ax = fig.add_subplot(121)\n",
    "    ax.plot(model_history.history['loss'])\n",
    "    ax.plot(model_history.history['val_loss'])\n",
    "    ax.set(title=model_name + ': Model loss', ylabel='Loss', xlabel='Epoch')\n",
    "    ax.legend(['Train', 'Val'], loc='upper left')\n",
    "    ax = fig.add_subplot(122)\n",
    "    ax.plot(model_history.history['accuracy'])\n",
    "    ax.plot(model_history.history['val_accuracy'])\n",
    "    ax.set(title=model_name + ': Model Accuracy; test='+ str(np.round(model_history.history['val_accuracy'][-1], 3)),\n",
    "           ylabel='Accuracy', xlabel='Epoch')\n",
    "    ax.legend(['Train', 'Val'], loc='upper left')\n",
    "    #plt.savefig('/home/jovyan/img2.png')\n",
    "    plt.show()\n",
    "   \n",
    "    \n",
    "    return fig"
   ]
  },
  {
   "cell_type": "code",
   "execution_count": 5,
   "metadata": {},
   "outputs": [],
   "source": [
    "def loadImages():\n",
    "\n",
    "    image_list = []\n",
    "    \n",
    "\n",
    "    for filename in sorted(glob.glob('/home/jovyan/DATA_MASTER_PROJECT/IMAGES_MASTER_PROJECT/Cropped_P276_Conc_170/*.tiff'), key=natural_keys): \n",
    "        im=cv2.imread(filename)\n",
    "        imarray = np.array(im)\n",
    "        imarray = imarray.astype('float32')\n",
    "        image_list.append(imarray)\n",
    "\n",
    "    x_orig = np.reshape(image_list, (len(image_list), 90, 90, 3))\n",
    "    \n",
    "    path = '/home/jovyan/DATA_MASTER_PROJECT/leb_P276_conc_170_.csv'     \n",
    "    labels = pd.read_csv(path, usecols=[\"Type\", \"Category\"],\n",
    "                       sep=\",\" )\n",
    "    y_orig = np.array(labels['Category'])\n",
    "\n",
    "    return x_orig, y_orig"
   ]
  },
  {
   "cell_type": "code",
   "execution_count": 6,
   "metadata": {},
   "outputs": [],
   "source": [
    "def normalization(data, norm_mean):#, norm_sigma):\n",
    "    \n",
    "    x_scaled = (data - norm_mean)# / norm_sigma\n",
    "    data = x_scaled\n",
    "    \n",
    "    return data"
   ]
  },
  {
   "cell_type": "code",
   "execution_count": 7,
   "metadata": {},
   "outputs": [],
   "source": [
    "es = EarlyStopping(monitor='val_loss', mode='min', verbose=2, patience=3)"
   ]
  },
  {
   "cell_type": "code",
   "execution_count": 8,
   "metadata": {},
   "outputs": [],
   "source": [
    "pretrained_model = VGG16(weights='imagenet',include_top=False, input_shape=(90, 90, 3))\n",
    "\n",
    "base_model = Model(inputs=pretrained_model.input, outputs=pretrained_model.get_layer('block3_pool').output)"
   ]
  },
  {
   "cell_type": "code",
   "execution_count": 9,
   "metadata": {},
   "outputs": [
    {
     "name": "stderr",
     "output_type": "stream",
     "text": [
      "100%|██████████| 2/2 [00:00<00:00, 7212.90it/s]\n"
     ]
    },
    {
     "data": {
      "text/plain": [
       "((14252, 90, 90, 3), (14252,))"
      ]
     },
     "execution_count": 9,
     "metadata": {},
     "output_type": "execute_result"
    }
   ],
   "source": [
    "x_orig_1, y_orig_1 = tqdm.tqdm(loadImages())\n",
    "x_orig_1.shape, y_orig_1.shape"
   ]
  },
  {
   "cell_type": "code",
   "execution_count": 10,
   "metadata": {},
   "outputs": [
    {
     "data": {
      "text/plain": [
       "((11401, 90, 90, 3), (2851, 90, 90, 3), (11401,), (2851,))"
      ]
     },
     "execution_count": 10,
     "metadata": {},
     "output_type": "execute_result"
    }
   ],
   "source": [
    "x_train, x_test, y_train, y_test = train_test_split(x_orig_1, y_orig_1, test_size=0.2, random_state=999 )\n",
    "x_train.shape, x_test.shape, y_train.shape, y_test.shape"
   ]
  },
  {
   "cell_type": "code",
   "execution_count": 11,
   "metadata": {},
   "outputs": [
    {
     "data": {
      "text/plain": [
       "((9120, 90, 90, 3), (2281, 90, 90, 3), (9120,), (2281,))"
      ]
     },
     "execution_count": 11,
     "metadata": {},
     "output_type": "execute_result"
    }
   ],
   "source": [
    "x_train_1, x_val, y_train_1, y_val = train_test_split(x_train, y_train, test_size=0.2, random_state=999 )\n",
    "x_train_1.shape, x_val.shape, y_train_1.shape, y_val.shape"
   ]
  },
  {
   "cell_type": "code",
   "execution_count": 12,
   "metadata": {},
   "outputs": [
    {
     "data": {
      "text/plain": [
       "{0: 1212, 1: 1601, 2: 2113, 3: 1771, 4: 2423}"
      ]
     },
     "execution_count": 12,
     "metadata": {},
     "output_type": "execute_result"
    }
   ],
   "source": [
    "unique, counts = np.unique(y_train_1, return_counts=True)\n",
    "dict(zip(unique, counts))"
   ]
  },
  {
   "cell_type": "code",
   "execution_count": 13,
   "metadata": {},
   "outputs": [
    {
     "data": {
      "text/plain": [
       "{0: 318, 1: 402, 2: 553, 3: 424, 4: 584}"
      ]
     },
     "execution_count": 13,
     "metadata": {},
     "output_type": "execute_result"
    }
   ],
   "source": [
    "unique, counts = np.unique(y_val, return_counts=True)\n",
    "dict(zip(unique, counts))"
   ]
  },
  {
   "cell_type": "code",
   "execution_count": 14,
   "metadata": {},
   "outputs": [
    {
     "name": "stdout",
     "output_type": "stream",
     "text": [
      "weights = [1.5049505  1.13928795 0.86322764 1.0299266  0.7527858 ]\n"
     ]
    }
   ],
   "source": [
    "weights = class_weight.compute_class_weight('balanced', np.unique(y_train_1),y_train_1)\n",
    "print('weights = ' + str(weights))"
   ]
  },
  {
   "cell_type": "code",
   "execution_count": 15,
   "metadata": {},
   "outputs": [
    {
     "data": {
      "text/plain": [
       "((9120, 5), (2851, 5), (2281, 5))"
      ]
     },
     "execution_count": 15,
     "metadata": {},
     "output_type": "execute_result"
    }
   ],
   "source": [
    "y_train_1 = keras.utils.to_categorical(y_train_1)\n",
    "y_test_1 = keras.utils.to_categorical(y_test)\n",
    "y_val = keras.utils.to_categorical(y_val)\n",
    "\n",
    "y_train_1.shape, y_test_1.shape, y_val.shape"
   ]
  },
  {
   "cell_type": "code",
   "execution_count": 16,
   "metadata": {},
   "outputs": [
    {
     "name": "stdout",
     "output_type": "stream",
     "text": [
      "Shape:(9120, 90, 90, 3)\n",
      "Mean:22.66825294494629\n",
      "Sigma:16.385271072387695\n"
     ]
    }
   ],
   "source": [
    "print('Shape:{0}\\nMean:{1}\\nSigma:{2}'.format(x_train_1.shape,np.mean(x_train_1),np.std(x_train_1)))"
   ]
  },
  {
   "cell_type": "code",
   "execution_count": 17,
   "metadata": {},
   "outputs": [],
   "source": [
    "norm_mean = np.mean(x_train_1)\n",
    "norm_sigma = np.std(x_train_1)\n",
    "\n",
    "x_train_1 = normalization(x_train_1, norm_mean)#, norm_sigma)\n",
    "\n",
    "x_val = normalization(x_val, norm_mean)#, norm_sigma)\n",
    "\n",
    "x_test = normalization(x_test, norm_mean)#, norm_sigma)\n"
   ]
  },
  {
   "cell_type": "code",
   "execution_count": 18,
   "metadata": {},
   "outputs": [],
   "source": [
    "batch_size = 32"
   ]
  },
  {
   "cell_type": "code",
   "execution_count": 19,
   "metadata": {},
   "outputs": [],
   "source": [
    "datagen = ImageDataGenerator()\n",
    "\n",
    "datagen.fit(x_train_1)\n",
    "\n",
    "train_gen = datagen.flow(x_train_1, y_train_1, batch_size=batch_size)"
   ]
  },
  {
   "cell_type": "code",
   "execution_count": 20,
   "metadata": {},
   "outputs": [],
   "source": [
    "dat_val = ImageDataGenerator()\n",
    "\n",
    "dat_val.fit(x_val)\n",
    "\n",
    "val_gen = dat_val.flow(x_val, y_val, batch_size=batch_size)"
   ]
  },
  {
   "cell_type": "code",
   "execution_count": 21,
   "metadata": {},
   "outputs": [
    {
     "name": "stdout",
     "output_type": "stream",
     "text": [
      "Model: \"sequential\"\n",
      "_________________________________________________________________\n",
      "Layer (type)                 Output Shape              Param #   \n",
      "=================================================================\n",
      "model (Model)                (None, 11, 11, 256)       1735488   \n",
      "_________________________________________________________________\n",
      "batch_normalization (BatchNo (None, 11, 11, 256)       1024      \n",
      "_________________________________________________________________\n",
      "global_average_pooling2d (Gl (None, 256)               0         \n",
      "_________________________________________________________________\n",
      "dense (Dense)                (None, 5)                 1285      \n",
      "=================================================================\n",
      "Total params: 1,737,797\n",
      "Trainable params: 1,737,285\n",
      "Non-trainable params: 512\n",
      "_________________________________________________________________\n"
     ]
    }
   ],
   "source": [
    "m4 = Sequential()\n",
    "m4.add(base_model)\n",
    "\n",
    "\n",
    "m4.add(BatchNormalization())\n",
    "m4.add(GlobalAveragePooling2D())\n",
    "m4.add(Dense(5, activation = 'softmax'))\n",
    "\n",
    "m4.summary()\n",
    "\n",
    "\n"
   ]
  },
  {
   "cell_type": "code",
   "execution_count": 22,
   "metadata": {},
   "outputs": [],
   "source": [
    "base_model.trainable = False\n",
    "\n",
    "opt = keras.optimizers.Adam(lr=1e-2)\n",
    "\n",
    "m4.compile(loss= keras.losses.categorical_crossentropy, optimizer=opt, metrics = ['accuracy'])\n"
   ]
  },
  {
   "cell_type": "code",
   "execution_count": 23,
   "metadata": {},
   "outputs": [
    {
     "name": "stdout",
     "output_type": "stream",
     "text": [
      "WARNING:tensorflow:sample_weight modes were coerced from\n",
      "  ...\n",
      "    to  \n",
      "  ['...']\n",
      "WARNING:tensorflow:sample_weight modes were coerced from\n",
      "  ...\n",
      "    to  \n",
      "  ['...']\n",
      "Train for 285.0 steps, validate for 71.28125 steps\n",
      "Epoch 1/100\n",
      "285/285 [==============================] - 8s 28ms/step - loss: 1.2881 - accuracy: 0.4673 - val_loss: 1.2000 - val_accuracy: 0.5094\n",
      "Epoch 2/100\n",
      "285/285 [==============================] - 5s 18ms/step - loss: 1.1915 - accuracy: 0.5151 - val_loss: 1.1633 - val_accuracy: 0.5449\n",
      "Epoch 3/100\n",
      "285/285 [==============================] - 5s 17ms/step - loss: 1.1655 - accuracy: 0.5270 - val_loss: 1.1494 - val_accuracy: 0.5528\n",
      "Epoch 4/100\n",
      "285/285 [==============================] - 5s 17ms/step - loss: 1.1428 - accuracy: 0.5370 - val_loss: 1.1655 - val_accuracy: 0.5419\n",
      "Epoch 5/100\n",
      "285/285 [==============================] - 5s 18ms/step - loss: 1.1430 - accuracy: 0.5419 - val_loss: 1.1615 - val_accuracy: 0.5541\n",
      "Epoch 6/100\n",
      "285/285 [==============================] - 5s 17ms/step - loss: 1.1219 - accuracy: 0.5461 - val_loss: 1.1331 - val_accuracy: 0.5471\n",
      "Epoch 7/100\n",
      "285/285 [==============================] - 5s 17ms/step - loss: 1.1232 - accuracy: 0.5456 - val_loss: 1.1324 - val_accuracy: 0.5581\n",
      "Epoch 8/100\n",
      "285/285 [==============================] - 5s 17ms/step - loss: 1.1186 - accuracy: 0.5561 - val_loss: 1.1629 - val_accuracy: 0.5445\n",
      "Epoch 9/100\n",
      "285/285 [==============================] - 5s 18ms/step - loss: 1.1105 - accuracy: 0.5581 - val_loss: 1.1505 - val_accuracy: 0.5449\n",
      "Epoch 10/100\n",
      "285/285 [==============================] - 5s 18ms/step - loss: 1.1037 - accuracy: 0.5659 - val_loss: 1.1466 - val_accuracy: 0.5458\n",
      "Epoch 00010: early stopping\n"
     ]
    }
   ],
   "source": [
    "\n",
    "epochs = 100\n",
    "\n",
    "m4_h = m4.fit(train_gen,\n",
    "                steps_per_epoch=(len(x_train_1)/batch_size),\n",
    "                callbacks = [es],\n",
    "                epochs=epochs,\n",
    "                validation_data = val_gen, \n",
    "                validation_steps = (len(x_val)/batch_size),\n",
    "                class_weight = weights)"
   ]
  },
  {
   "cell_type": "code",
   "execution_count": 24,
   "metadata": {},
   "outputs": [],
   "source": [
    "base_model.trainable = True\n",
    "\n",
    "opt = keras.optimizers.Adam(lr=1e-5)\n",
    "\n",
    "m4.compile(loss= keras.losses.categorical_crossentropy, optimizer=opt, metrics = ['accuracy'])"
   ]
  },
  {
   "cell_type": "code",
   "execution_count": 25,
   "metadata": {},
   "outputs": [
    {
     "name": "stdout",
     "output_type": "stream",
     "text": [
      "WARNING:tensorflow:sample_weight modes were coerced from\n",
      "  ...\n",
      "    to  \n",
      "  ['...']\n",
      "WARNING:tensorflow:sample_weight modes were coerced from\n",
      "  ...\n",
      "    to  \n",
      "  ['...']\n",
      "Train for 285.0 steps, validate for 71.28125 steps\n",
      "Epoch 1/100\n",
      "285/285 [==============================] - 12s 42ms/step - loss: 1.0340 - accuracy: 0.5908 - val_loss: 1.2026 - val_accuracy: 0.5401\n",
      "Epoch 2/100\n",
      "285/285 [==============================] - 11s 38ms/step - loss: 0.9515 - accuracy: 0.6328 - val_loss: 1.0564 - val_accuracy: 0.5875\n",
      "Epoch 3/100\n",
      "285/285 [==============================] - 11s 38ms/step - loss: 0.8913 - accuracy: 0.6660 - val_loss: 1.0238 - val_accuracy: 0.5875\n",
      "Epoch 4/100\n",
      "285/285 [==============================] - 11s 38ms/step - loss: 0.8406 - accuracy: 0.6873 - val_loss: 0.9653 - val_accuracy: 0.6247\n",
      "Epoch 5/100\n",
      "285/285 [==============================] - 11s 38ms/step - loss: 0.8010 - accuracy: 0.7021 - val_loss: 0.9673 - val_accuracy: 0.6173\n",
      "Epoch 6/100\n",
      "285/285 [==============================] - 11s 38ms/step - loss: 0.7594 - accuracy: 0.7220 - val_loss: 0.9298 - val_accuracy: 0.6357\n",
      "Epoch 7/100\n",
      "285/285 [==============================] - 11s 38ms/step - loss: 0.7263 - accuracy: 0.7361 - val_loss: 0.9083 - val_accuracy: 0.6611\n",
      "Epoch 8/100\n",
      "285/285 [==============================] - 11s 38ms/step - loss: 0.6935 - accuracy: 0.7516 - val_loss: 0.9257 - val_accuracy: 0.6445\n",
      "Epoch 9/100\n",
      "285/285 [==============================] - 11s 38ms/step - loss: 0.6625 - accuracy: 0.7672 - val_loss: 0.9228 - val_accuracy: 0.6655\n",
      "Epoch 10/100\n",
      "285/285 [==============================] - 11s 38ms/step - loss: 0.6373 - accuracy: 0.7764 - val_loss: 0.8350 - val_accuracy: 0.6861\n",
      "Epoch 11/100\n",
      "285/285 [==============================] - 11s 39ms/step - loss: 0.6101 - accuracy: 0.7878 - val_loss: 0.8533 - val_accuracy: 0.6795\n",
      "Epoch 12/100\n",
      "285/285 [==============================] - 11s 39ms/step - loss: 0.5845 - accuracy: 0.8024 - val_loss: 0.8204 - val_accuracy: 0.6957\n",
      "Epoch 13/100\n",
      "285/285 [==============================] - 11s 38ms/step - loss: 0.5605 - accuracy: 0.8155 - val_loss: 0.7926 - val_accuracy: 0.6971\n",
      "Epoch 14/100\n",
      "285/285 [==============================] - 11s 39ms/step - loss: 0.5353 - accuracy: 0.8237 - val_loss: 0.8842 - val_accuracy: 0.6642\n",
      "Epoch 15/100\n",
      "285/285 [==============================] - 11s 39ms/step - loss: 0.5138 - accuracy: 0.8336 - val_loss: 0.8049 - val_accuracy: 0.7010\n",
      "Epoch 16/100\n",
      "285/285 [==============================] - 11s 38ms/step - loss: 0.4931 - accuracy: 0.8440 - val_loss: 0.8249 - val_accuracy: 0.6918\n",
      "Epoch 00016: early stopping\n"
     ]
    }
   ],
   "source": [
    "\n",
    "epochs = 100\n",
    "\n",
    "m4_h = m4.fit(train_gen,\n",
    "                steps_per_epoch=(len(x_train_1)/batch_size),\n",
    "                callbacks = [es],\n",
    "                epochs=epochs,\n",
    "                validation_data = val_gen, \n",
    "                validation_steps = (len(x_val)/batch_size),\n",
    "                class_weight = weights)"
   ]
  },
  {
   "cell_type": "code",
   "execution_count": 26,
   "metadata": {},
   "outputs": [
    {
     "data": {
      "image/png": "[encoded data removed]",
      "text/plain": [
       "<Figure size 1080x360 with 2 Axes>"
      ]
     },
     "metadata": {},
     "output_type": "display_data"
    },
    {
     "data": {
      "image/png": "[encoded data removed]",
      "text/plain": [
       "<Figure size 1080x360 with 2 Axes>"
      ]
     },
     "execution_count": 26,
     "metadata": {},
     "output_type": "execute_result"
    }
   ],
   "source": [
    "plot_history(m4_h, 'first')\n"
   ]
  },
  {
   "cell_type": "code",
   "execution_count": 27,
   "metadata": {},
   "outputs": [
    {
     "name": "stdout",
     "output_type": "stream",
     "text": [
      "2851/2851 [==============================] - 1s 463us/sample - loss: 0.8158 - accuracy: 0.6913\n",
      "\n",
      "accuracy: 69.13%\n"
     ]
    }
   ],
   "source": [
    "scores = m4.evaluate(x_test, y_test_1)\n",
    "print(\"\\n%s: %.2f%%\" % (m4.metrics_names[1], scores[1]*100))"
   ]
  },
  {
   "cell_type": "code",
   "execution_count": 28,
   "metadata": {},
   "outputs": [],
   "source": [
    "test_preds = m4.predict(x_test)"
   ]
  },
  {
   "cell_type": "code",
   "execution_count": 29,
   "metadata": {},
   "outputs": [],
   "source": [
    "preds_df = pd.DataFrame(test_preds)\n",
    "predicted_labels = preds_df.idxmax(axis=1)"
   ]
  },
  {
   "cell_type": "code",
   "execution_count": 30,
   "metadata": {},
   "outputs": [
    {
     "data": {
      "image/png": "[encoded data removed]",
      "text/plain": [
       "<Figure size 432x288 with 1 Axes>"
      ]
     },
     "metadata": {
      "needs_background": "light"
     },
     "output_type": "display_data"
    },
    {
     "data": {
      "text/plain": [
       "array([[248,  20,  58,   8,  26],\n",
       "       [ 23, 239, 154,  42,  83],\n",
       "       [ 15,   8, 562,  10,  74],\n",
       "       [ 39,  31, 131, 296,  63],\n",
       "       [ 19,  11,  48,  17, 626]])"
      ]
     },
     "execution_count": 30,
     "metadata": {},
     "output_type": "execute_result"
    }
   ],
   "source": [
    "draw_confusion_matrix(y_test, predicted_labels)"
   ]
  },
  {
   "cell_type": "code",
   "execution_count": 31,
   "metadata": {},
   "outputs": [
    {
     "name": "stdout",
     "output_type": "stream",
     "text": [
      "              precision    recall  f1-score   support\n",
      "\n",
      "           0       0.72      0.69      0.70       360\n",
      "           1       0.77      0.44      0.56       541\n",
      "           2       0.59      0.84      0.69       669\n",
      "           3       0.79      0.53      0.63       560\n",
      "           4       0.72      0.87      0.79       721\n",
      "\n",
      "    accuracy                           0.69      2851\n",
      "   macro avg       0.72      0.67      0.68      2851\n",
      "weighted avg       0.71      0.69      0.68      2851\n",
      "\n"
     ]
    }
   ],
   "source": [
    "print(classification_report(y_test, predicted_labels))"
   ]
  },
  {
   "cell_type": "code",
   "execution_count": null,
   "metadata": {},
   "outputs": [],
   "source": [
    "# p = '/home/jovyan/Saved_Models/'\n",
    "# m4.save(p + \"CNN_t1_correct_normaliztion_transfer.h5\")"
   ]
  },
  {
   "cell_type": "code",
   "execution_count": null,
   "metadata": {},
   "outputs": [],
   "source": []
  }
 ],
 "metadata": {
  "kernelspec": {
   "display_name": "Python 3",
   "language": "python",
   "name": "python3"
  },
  "language_info": {
   "codemirror_mode": {
    "name": "ipython",
    "version": 3
   },
   "file_extension": ".py",
   "mimetype": "text/x-python",
   "name": "python",
   "nbconvert_exporter": "python",
   "pygments_lexer": "ipython3",
   "version": "3.6.9"
  }
 },
 "nbformat": 4,
 "nbformat_minor": 4
}
