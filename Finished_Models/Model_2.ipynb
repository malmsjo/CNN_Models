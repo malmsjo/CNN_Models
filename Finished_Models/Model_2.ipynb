{
 "cells": [
  {
   "cell_type": "code",
   "execution_count": 1,
   "metadata": {},
   "outputs": [
    {
     "name": "stderr",
     "output_type": "stream",
     "text": [
      "Using TensorFlow backend.\n"
     ]
    }
   ],
   "source": [
    "import tensorflow as tf\n",
    "from tensorflow import keras\n",
    "from tensorflow.keras.models import Sequential\n",
    "from tensorflow.keras.layers import Dropout\n",
    "from tensorflow.keras.models import Model\n",
    "from tensorflow.keras.layers import Input\n",
    "from tensorflow.keras.layers import Dense\n",
    "from tensorflow.keras.layers import Activation\n",
    "from tensorflow.keras.layers import Flatten\n",
    "from tensorflow.keras.layers import Dropout\n",
    "from tensorflow.keras.layers import Conv2D, Conv3D\n",
    "from tensorflow.keras.layers import MaxPooling2D, MaxPooling3D\n",
    "from tensorflow.keras.layers import GlobalAveragePooling2D\n",
    "from tensorflow.keras.layers import BatchNormalization\n",
    "from tensorflow.keras.applications.vgg16 import VGG16\n",
    "from tensorflow.keras import optimizers\n",
    "from tensorflow.keras import regularizers\n",
    "from sklearn.metrics import f1_score\n",
    "#from keras import backend as K\n",
    "from keras.callbacks import EarlyStopping\n",
    "from keras.preprocessing.image import ImageDataGenerator\n",
    "from sklearn.model_selection import train_test_split\n",
    "import numpy as np\n",
    "import matplotlib.pyplot as plt\n",
    "import pandas as pd\n",
    "from PIL import Image \n",
    "import seaborn as sns\n",
    "import os\n",
    "import re\n",
    "import glob\n",
    "import cv2\n",
    "from sklearn.metrics import classification_report\n",
    "from sklearn.metrics import confusion_matrix\n",
    "from sklearn.utils.multiclass import unique_labels\n",
    "from sklearn import preprocessing\n",
    "import tqdm\n",
    "from numpy import loadtxt\n",
    "from sklearn.utils import class_weight"
   ]
  },
  {
   "cell_type": "code",
   "execution_count": 2,
   "metadata": {},
   "outputs": [],
   "source": [
    "def atoi(text):\n",
    "    return int(text) if text.isdigit() else text\n",
    "def natural_keys(text):\n",
    "    return [atoi(c) for c in re.split('(\\d+)', text)]"
   ]
  },
  {
   "cell_type": "code",
   "execution_count": 3,
   "metadata": {},
   "outputs": [],
   "source": [
    "def draw_confusion_matrix(true,preds):\n",
    "    conf_matx = confusion_matrix(true, preds)\n",
    "    sns.heatmap(conf_matx, annot=True,annot_kws={\"size\": 12},fmt='g', cbar=False, cmap=plt.cm.Blues) #'viridis'\n",
    "    plt.savefig('/home/jovyan/Confmatrix.png')\n",
    "    plt.show()\n",
    "    \n",
    "    return conf_matx"
   ]
  },
  {
   "cell_type": "code",
   "execution_count": 4,
   "metadata": {},
   "outputs": [],
   "source": [
    "def plot_history(model_history, model_name):\n",
    "    fig = plt.figure(figsize=(15,5), facecolor='w')\n",
    "    ax = fig.add_subplot(121)\n",
    "    ax.plot(model_history.history['loss'])\n",
    "    ax.plot(model_history.history['val_loss'])\n",
    "    ax.set(title=model_name + ': Model loss', ylabel='Loss', xlabel='Epoch')\n",
    "    ax.legend(['Train', 'Val'], loc='upper left')\n",
    "    ax = fig.add_subplot(122)\n",
    "    ax.plot(model_history.history['accuracy'])\n",
    "    ax.plot(model_history.history['val_accuracy'])\n",
    "    ax.set(title=model_name + ': Model Accuracy; test='+ str(np.round(model_history.history['val_accuracy'][-1], 3)),\n",
    "           ylabel='Accuracy', xlabel='Epoch')\n",
    "    ax.legend(['Train', 'Val'], loc='upper left')\n",
    "    plt.savefig('/home/jovyan/Acc_loss.png')\n",
    "    plt.show()\n",
    "   \n",
    "    \n",
    "    return fig"
   ]
  },
  {
   "cell_type": "code",
   "execution_count": 5,
   "metadata": {},
   "outputs": [],
   "source": [
    "def loadImages():\n",
    "\n",
    "    image_list = []\n",
    "    \n",
    "\n",
    "    for filename in sorted(glob.glob('/home/jovyan/DATA_MASTER_PROJECT/IMAGES_MASTER_PROJECT/Cropped_P276_Conc_50/*.tiff'), key=natural_keys): \n",
    "        im=cv2.imread(filename)\n",
    "        imarray = np.array(im)\n",
    "        imarray = imarray.astype('float32')\n",
    "        image_list.append(imarray)\n",
    "\n",
    "    x_orig = np.reshape(image_list, (len(image_list), 90, 90, 3))\n",
    "    \n",
    "    path = '/home/jovyan/DATA_MASTER_PROJECT/leb_P276_conc_50.csv'     \n",
    "    labels = pd.read_csv(path, usecols=[\"Type\", \"Category\"],\n",
    "                       sep=\",\" )\n",
    "    y_orig = np.array(labels['Category'])\n",
    "\n",
    "    return x_orig, y_orig"
   ]
  },
  {
   "cell_type": "code",
   "execution_count": 6,
   "metadata": {},
   "outputs": [],
   "source": [
    "def normalization(data, norm_mean):#, norm_sigma):\n",
    "    \n",
    "    x_scaled = (data - norm_mean)# / norm_sigma\n",
    "    data = x_scaled\n",
    "    \n",
    "    return data"
   ]
  },
  {
   "cell_type": "code",
   "execution_count": 7,
   "metadata": {},
   "outputs": [],
   "source": [
    "es = EarlyStopping(monitor='val_loss', mode='min', verbose=2, patience=3)"
   ]
  },
  {
   "cell_type": "code",
   "execution_count": 8,
   "metadata": {},
   "outputs": [],
   "source": [
    "pretrained_model = VGG16(weights='imagenet',include_top=False, input_shape=(90, 90, 3))\n",
    "\n",
    "base_model = Model(inputs=pretrained_model.input, outputs=pretrained_model.get_layer('block3_pool').output)"
   ]
  },
  {
   "cell_type": "code",
   "execution_count": 9,
   "metadata": {},
   "outputs": [
    {
     "name": "stderr",
     "output_type": "stream",
     "text": [
      "100%|██████████| 2/2 [00:00<00:00, 7869.24it/s]\n"
     ]
    },
    {
     "data": {
      "text/plain": [
       "((12298, 90, 90, 3), (12298,))"
      ]
     },
     "execution_count": 9,
     "metadata": {},
     "output_type": "execute_result"
    }
   ],
   "source": [
    "x_orig_1, y_orig_1 = tqdm.tqdm(loadImages())\n",
    "x_orig_1.shape, y_orig_1.shape"
   ]
  },
  {
   "cell_type": "code",
   "execution_count": 10,
   "metadata": {},
   "outputs": [
    {
     "data": {
      "text/plain": [
       "((9838, 90, 90, 3), (2460, 90, 90, 3), (9838,), (2460,))"
      ]
     },
     "execution_count": 10,
     "metadata": {},
     "output_type": "execute_result"
    }
   ],
   "source": [
    "x_train, x_test, y_train, y_test = train_test_split(x_orig_1, y_orig_1, test_size=0.2, random_state=999 )\n",
    "x_train.shape, x_test.shape, y_train.shape, y_test.shape"
   ]
  },
  {
   "cell_type": "code",
   "execution_count": 11,
   "metadata": {},
   "outputs": [
    {
     "data": {
      "text/plain": [
       "((7870, 90, 90, 3), (1968, 90, 90, 3), (7870,), (1968,))"
      ]
     },
     "execution_count": 11,
     "metadata": {},
     "output_type": "execute_result"
    }
   ],
   "source": [
    "x_train_1, x_val, y_train_1, y_val = train_test_split(x_train, y_train, test_size=0.2, random_state=999 )\n",
    "x_train_1.shape, x_val.shape, y_train_1.shape, y_val.shape"
   ]
  },
  {
   "cell_type": "code",
   "execution_count": 12,
   "metadata": {},
   "outputs": [
    {
     "name": "stderr",
     "output_type": "stream",
     "text": [
      "Clipping input data to the valid range for imshow with RGB data ([0..1] for floats or [0..255] for integers).\n",
      "Clipping input data to the valid range for imshow with RGB data ([0..1] for floats or [0..255] for integers).\n",
      "Clipping input data to the valid range for imshow with RGB data ([0..1] for floats or [0..255] for integers).\n",
      "Clipping input data to the valid range for imshow with RGB data ([0..1] for floats or [0..255] for integers).\n",
      "Clipping input data to the valid range for imshow with RGB data ([0..1] for floats or [0..255] for integers).\n",
      "Clipping input data to the valid range for imshow with RGB data ([0..1] for floats or [0..255] for integers).\n",
      "Clipping input data to the valid range for imshow with RGB data ([0..1] for floats or [0..255] for integers).\n",
      "Clipping input data to the valid range for imshow with RGB data ([0..1] for floats or [0..255] for integers).\n",
      "Clipping input data to the valid range for imshow with RGB data ([0..1] for floats or [0..255] for integers).\n",
      "Clipping input data to the valid range for imshow with RGB data ([0..1] for floats or [0..255] for integers).\n",
      "Clipping input data to the valid range for imshow with RGB data ([0..1] for floats or [0..255] for integers).\n",
      "Clipping input data to the valid range for imshow with RGB data ([0..1] for floats or [0..255] for integers).\n",
      "Clipping input data to the valid range for imshow with RGB data ([0..1] for floats or [0..255] for integers).\n",
      "Clipping input data to the valid range for imshow with RGB data ([0..1] for floats or [0..255] for integers).\n",
      "Clipping input data to the valid range for imshow with RGB data ([0..1] for floats or [0..255] for integers).\n",
      "Clipping input data to the valid range for imshow with RGB data ([0..1] for floats or [0..255] for integers).\n",
      "Clipping input data to the valid range for imshow with RGB data ([0..1] for floats or [0..255] for integers).\n",
      "Clipping input data to the valid range for imshow with RGB data ([0..1] for floats or [0..255] for integers).\n",
      "Clipping input data to the valid range for imshow with RGB data ([0..1] for floats or [0..255] for integers).\n",
      "Clipping input data to the valid range for imshow with RGB data ([0..1] for floats or [0..255] for integers).\n",
      "Clipping input data to the valid range for imshow with RGB data ([0..1] for floats or [0..255] for integers).\n",
      "Clipping input data to the valid range for imshow with RGB data ([0..1] for floats or [0..255] for integers).\n",
      "Clipping input data to the valid range for imshow with RGB data ([0..1] for floats or [0..255] for integers).\n",
      "Clipping input data to the valid range for imshow with RGB data ([0..1] for floats or [0..255] for integers).\n",
      "Clipping input data to the valid range for imshow with RGB data ([0..1] for floats or [0..255] for integers).\n"
     ]
    },
    {
     "data": {
      "image/png": "[encoded data removed]",
      "text/plain": [
       "<Figure size 720x720 with 25 Axes>"
      ]
     },
     "metadata": {},
     "output_type": "display_data"
    }
   ],
   "source": [
    "#Show n rabdom images to check for quality\n",
    "\n",
    "plt.figure(figsize=(10,10))\n",
    "for i in range(25):\n",
    "    plt.subplot(5,5,i+1)\n",
    "    plt.xticks([])\n",
    "    plt.yticks([])\n",
    "    plt.grid(False)\n",
    "    plt.imshow(x_train_1[i], cmap=plt.cm.binary)\n",
    "    #plt.xlabel(class_names[y_orig_1[i]])\n",
    "plt.show()"
   ]
  },
  {
   "cell_type": "code",
   "execution_count": 13,
   "metadata": {},
   "outputs": [
    {
     "data": {
      "text/plain": [
       "{0: 1516, 1: 1210, 2: 1687, 3: 2447, 4: 1010}"
      ]
     },
     "execution_count": 13,
     "metadata": {},
     "output_type": "execute_result"
    }
   ],
   "source": [
    "unique, counts = np.unique(y_train_1, return_counts=True)\n",
    "dict(zip(unique, counts))"
   ]
  },
  {
   "cell_type": "code",
   "execution_count": 14,
   "metadata": {},
   "outputs": [
    {
     "data": {
      "text/plain": [
       "{0: 366, 1: 301, 2: 407, 3: 643, 4: 251}"
      ]
     },
     "execution_count": 14,
     "metadata": {},
     "output_type": "execute_result"
    }
   ],
   "source": [
    "unique, counts = np.unique(y_val, return_counts=True)\n",
    "dict(zip(unique, counts))"
   ]
  },
  {
   "cell_type": "code",
   "execution_count": 15,
   "metadata": {},
   "outputs": [
    {
     "name": "stdout",
     "output_type": "stream",
     "text": [
      "weights = [1.03825858 1.30082645 0.93301719 0.64323662 1.55841584]\n"
     ]
    }
   ],
   "source": [
    "weights = class_weight.compute_class_weight('balanced', np.unique(y_train_1),y_train_1)\n",
    "print('weights = ' + str(weights))"
   ]
  },
  {
   "cell_type": "code",
   "execution_count": 16,
   "metadata": {},
   "outputs": [
    {
     "data": {
      "text/plain": [
       "((7870, 5), (2460, 5), (1968, 5))"
      ]
     },
     "execution_count": 16,
     "metadata": {},
     "output_type": "execute_result"
    }
   ],
   "source": [
    "y_train_1 = keras.utils.to_categorical(y_train_1)\n",
    "y_test_1 = keras.utils.to_categorical(y_test)\n",
    "y_val = keras.utils.to_categorical(y_val)\n",
    "\n",
    "y_train_1.shape, y_test_1.shape, y_val.shape"
   ]
  },
  {
   "cell_type": "code",
   "execution_count": 17,
   "metadata": {},
   "outputs": [
    {
     "name": "stdout",
     "output_type": "stream",
     "text": [
      "Shape:(7870, 90, 90, 3)\n",
      "Mean:27.528568267822266\n",
      "Sigma:33.329830169677734\n"
     ]
    }
   ],
   "source": [
    "print('Shape:{0}\\nMean:{1}\\nSigma:{2}'.format(x_train_1.shape,np.mean(x_train_1),np.std(x_train_1)))"
   ]
  },
  {
   "cell_type": "code",
   "execution_count": 18,
   "metadata": {},
   "outputs": [],
   "source": [
    "norm_mean = np.mean(x_train_1)\n",
    "norm_sigma = np.std(x_train_1)\n",
    "\n",
    "x_train_1 = normalization(x_train_1, norm_mean)#, norm_sigma)\n",
    "\n",
    "x_val = normalization(x_val, norm_mean)#, norm_sigma)\n",
    "\n",
    "x_test = normalization(x_test, norm_mean)#, norm_sigma)\n"
   ]
  },
  {
   "cell_type": "code",
   "execution_count": 19,
   "metadata": {},
   "outputs": [],
   "source": [
    "batch_size = 32"
   ]
  },
  {
   "cell_type": "code",
   "execution_count": 20,
   "metadata": {},
   "outputs": [],
   "source": [
    "datagen = ImageDataGenerator()\n",
    "\n",
    "datagen.fit(x_train_1)\n",
    "\n",
    "train_gen = datagen.flow(x_train_1, y_train_1, batch_size=batch_size)"
   ]
  },
  {
   "cell_type": "code",
   "execution_count": 21,
   "metadata": {},
   "outputs": [],
   "source": [
    "dat_val = ImageDataGenerator()\n",
    "\n",
    "dat_val.fit(x_val)\n",
    "\n",
    "val_gen = dat_val.flow(x_val, y_val, batch_size=batch_size)"
   ]
  },
  {
   "cell_type": "code",
   "execution_count": 22,
   "metadata": {},
   "outputs": [
    {
     "name": "stdout",
     "output_type": "stream",
     "text": [
      "Model: \"sequential\"\n",
      "_________________________________________________________________\n",
      "Layer (type)                 Output Shape              Param #   \n",
      "=================================================================\n",
      "model (Model)                (None, 11, 11, 256)       1735488   \n",
      "_________________________________________________________________\n",
      "batch_normalization (BatchNo (None, 11, 11, 256)       1024      \n",
      "_________________________________________________________________\n",
      "global_average_pooling2d (Gl (None, 256)               0         \n",
      "_________________________________________________________________\n",
      "dense (Dense)                (None, 5)                 1285      \n",
      "=================================================================\n",
      "Total params: 1,737,797\n",
      "Trainable params: 1,737,285\n",
      "Non-trainable params: 512\n",
      "_________________________________________________________________\n"
     ]
    }
   ],
   "source": [
    "m4 = Sequential()\n",
    "m4.add(base_model)\n",
    "\n",
    "\n",
    "m4.add(BatchNormalization())\n",
    "m4.add(GlobalAveragePooling2D())\n",
    "m4.add(Dense(5, activation = 'softmax'))\n",
    "\n",
    "m4.summary()\n",
    "\n",
    "\n"
   ]
  },
  {
   "cell_type": "code",
   "execution_count": 23,
   "metadata": {},
   "outputs": [],
   "source": [
    "base_model.trainable = False\n",
    "\n",
    "opt = keras.optimizers.Adam(lr=1e-2)\n",
    "\n",
    "m4.compile(loss= keras.losses.categorical_crossentropy, optimizer=opt, metrics = ['accuracy'])\n"
   ]
  },
  {
   "cell_type": "code",
   "execution_count": 24,
   "metadata": {},
   "outputs": [
    {
     "name": "stdout",
     "output_type": "stream",
     "text": [
      "WARNING:tensorflow:sample_weight modes were coerced from\n",
      "  ...\n",
      "    to  \n",
      "  ['...']\n",
      "WARNING:tensorflow:sample_weight modes were coerced from\n",
      "  ...\n",
      "    to  \n",
      "  ['...']\n",
      "Train for 245.9375 steps, validate for 61.5 steps\n",
      "Epoch 1/100\n",
      "246/245 [==============================] - 8s 31ms/step - loss: 1.3447 - accuracy: 0.4332 - val_loss: 1.2394 - val_accuracy: 0.4959\n",
      "Epoch 2/100\n",
      "246/245 [==============================] - 4s 17ms/step - loss: 1.2645 - accuracy: 0.4848 - val_loss: 1.2282 - val_accuracy: 0.5142\n",
      "Epoch 3/100\n",
      "246/245 [==============================] - 4s 17ms/step - loss: 1.2359 - accuracy: 0.4921 - val_loss: 1.2250 - val_accuracy: 0.4985\n",
      "Epoch 4/100\n",
      "246/245 [==============================] - 4s 17ms/step - loss: 1.2091 - accuracy: 0.5084 - val_loss: 1.2464 - val_accuracy: 0.4939\n",
      "Epoch 5/100\n",
      "246/245 [==============================] - 4s 18ms/step - loss: 1.2052 - accuracy: 0.5097 - val_loss: 1.1774 - val_accuracy: 0.5295\n",
      "Epoch 6/100\n",
      "246/245 [==============================] - 4s 17ms/step - loss: 1.2050 - accuracy: 0.5107 - val_loss: 1.2204 - val_accuracy: 0.5071\n",
      "Epoch 7/100\n",
      "246/245 [==============================] - 4s 18ms/step - loss: 1.1945 - accuracy: 0.5126 - val_loss: 1.1616 - val_accuracy: 0.5401\n",
      "Epoch 8/100\n",
      "246/245 [==============================] - 4s 17ms/step - loss: 1.1860 - accuracy: 0.5172 - val_loss: 1.2125 - val_accuracy: 0.5163\n",
      "Epoch 9/100\n",
      "246/245 [==============================] - 4s 18ms/step - loss: 1.1912 - accuracy: 0.5175 - val_loss: 1.2255 - val_accuracy: 0.5051\n",
      "Epoch 10/100\n",
      "246/245 [==============================] - 4s 18ms/step - loss: 1.1877 - accuracy: 0.5139 - val_loss: 1.1532 - val_accuracy: 0.5432\n",
      "Epoch 11/100\n",
      "246/245 [==============================] - 4s 18ms/step - loss: 1.1827 - accuracy: 0.5192 - val_loss: 1.2127 - val_accuracy: 0.5142\n",
      "Epoch 12/100\n",
      "246/245 [==============================] - 4s 17ms/step - loss: 1.1820 - accuracy: 0.5173 - val_loss: 1.1547 - val_accuracy: 0.5356\n",
      "Epoch 13/100\n",
      "246/245 [==============================] - 4s 18ms/step - loss: 1.1722 - accuracy: 0.5184 - val_loss: 1.1938 - val_accuracy: 0.5107\n",
      "Epoch 00013: early stopping\n"
     ]
    }
   ],
   "source": [
    "\n",
    "epochs = 100\n",
    "\n",
    "m4_h = m4.fit(train_gen,\n",
    "                steps_per_epoch=(len(x_train_1)/batch_size),\n",
    "                callbacks = [es],\n",
    "                epochs=epochs,\n",
    "                validation_data = val_gen, \n",
    "                validation_steps = (len(x_val)/batch_size),\n",
    "                class_weight = weights)"
   ]
  },
  {
   "cell_type": "code",
   "execution_count": 25,
   "metadata": {},
   "outputs": [],
   "source": [
    "base_model.trainable = True\n",
    "\n",
    "opt = keras.optimizers.Adam(lr=1e-5)\n",
    "\n",
    "m4.compile(loss= keras.losses.categorical_crossentropy, optimizer=opt, metrics = ['accuracy'])"
   ]
  },
  {
   "cell_type": "code",
   "execution_count": 26,
   "metadata": {},
   "outputs": [
    {
     "name": "stdout",
     "output_type": "stream",
     "text": [
      "WARNING:tensorflow:sample_weight modes were coerced from\n",
      "  ...\n",
      "    to  \n",
      "  ['...']\n",
      "WARNING:tensorflow:sample_weight modes were coerced from\n",
      "  ...\n",
      "    to  \n",
      "  ['...']\n",
      "Train for 245.9375 steps, validate for 61.5 steps\n",
      "Epoch 1/100\n",
      "246/245 [==============================] - 11s 44ms/step - loss: 1.1304 - accuracy: 0.5446 - val_loss: 1.2539 - val_accuracy: 0.4812\n",
      "Epoch 2/100\n",
      "246/245 [==============================] - 9s 38ms/step - loss: 1.0532 - accuracy: 0.5807 - val_loss: 1.2652 - val_accuracy: 0.4985\n",
      "Epoch 3/100\n",
      "246/245 [==============================] - 10s 39ms/step - loss: 0.9969 - accuracy: 0.6062 - val_loss: 1.2646 - val_accuracy: 0.4782\n",
      "Epoch 4/100\n",
      "246/245 [==============================] - 10s 39ms/step - loss: 0.9484 - accuracy: 0.6315 - val_loss: 1.1249 - val_accuracy: 0.5554\n",
      "Epoch 5/100\n",
      "246/245 [==============================] - 10s 39ms/step - loss: 0.9066 - accuracy: 0.6536 - val_loss: 1.1325 - val_accuracy: 0.5269\n",
      "Epoch 6/100\n",
      "246/245 [==============================] - 10s 39ms/step - loss: 0.8666 - accuracy: 0.6681 - val_loss: 1.0336 - val_accuracy: 0.5960\n",
      "Epoch 7/100\n",
      "246/245 [==============================] - 10s 39ms/step - loss: 0.8326 - accuracy: 0.6859 - val_loss: 0.9510 - val_accuracy: 0.6331\n",
      "Epoch 8/100\n",
      "246/245 [==============================] - 10s 39ms/step - loss: 0.7994 - accuracy: 0.7022 - val_loss: 1.1070 - val_accuracy: 0.5818\n",
      "Epoch 9/100\n",
      "246/245 [==============================] - 10s 39ms/step - loss: 0.7710 - accuracy: 0.7159 - val_loss: 0.9022 - val_accuracy: 0.6489\n",
      "Epoch 10/100\n",
      "246/245 [==============================] - 10s 39ms/step - loss: 0.7429 - accuracy: 0.7295 - val_loss: 1.0091 - val_accuracy: 0.5935\n",
      "Epoch 11/100\n",
      "246/245 [==============================] - 10s 39ms/step - loss: 0.7155 - accuracy: 0.7438 - val_loss: 0.9781 - val_accuracy: 0.6159\n",
      "Epoch 12/100\n",
      "246/245 [==============================] - 10s 39ms/step - loss: 0.6888 - accuracy: 0.7563 - val_loss: 0.9096 - val_accuracy: 0.6402\n",
      "Epoch 00012: early stopping\n"
     ]
    }
   ],
   "source": [
    "\n",
    "epochs = 100\n",
    "\n",
    "m4_h = m4.fit(train_gen,\n",
    "                steps_per_epoch=(len(x_train_1)/batch_size),\n",
    "                callbacks = [es],\n",
    "                epochs=epochs,\n",
    "                validation_data = val_gen, \n",
    "                validation_steps = (len(x_val)/batch_size),\n",
    "                class_weight = weights)"
   ]
  },
  {
   "cell_type": "code",
   "execution_count": 27,
   "metadata": {},
   "outputs": [
    {
     "data": {
      "image/png": "[encoded data removed]",
      "text/plain": [
       "<Figure size 1080x360 with 2 Axes>"
      ]
     },
     "metadata": {},
     "output_type": "display_data"
    },
    {
     "data": {
      "image/png": "[encoded data removed]",
      "text/plain": [
       "<Figure size 1080x360 with 2 Axes>"
      ]
     },
     "execution_count": 27,
     "metadata": {},
     "output_type": "execute_result"
    }
   ],
   "source": [
    "plot_history(m4_h, 'first')\n"
   ]
  },
  {
   "cell_type": "code",
   "execution_count": 28,
   "metadata": {},
   "outputs": [
    {
     "name": "stdout",
     "output_type": "stream",
     "text": [
      "2460/2460 [==============================] - ETA: 0s - loss: 0.9170 - accuracy: 0.64 - 1s 511us/sample - loss: 0.9180 - accuracy: 0.6476\n",
      "\n",
      "accuracy: 64.76%\n"
     ]
    }
   ],
   "source": [
    "scores = m4.evaluate(x_test, y_test_1)\n",
    "print(\"\\n%s: %.2f%%\" % (m4.metrics_names[1], scores[1]*100))"
   ]
  },
  {
   "cell_type": "code",
   "execution_count": 29,
   "metadata": {},
   "outputs": [],
   "source": [
    "test_preds = m4.predict(x_test)"
   ]
  },
  {
   "cell_type": "code",
   "execution_count": 30,
   "metadata": {},
   "outputs": [],
   "source": [
    "preds_df = pd.DataFrame(test_preds)\n",
    "predicted_labels = preds_df.idxmax(axis=1)"
   ]
  },
  {
   "cell_type": "code",
   "execution_count": 31,
   "metadata": {},
   "outputs": [
    {
     "data": {
      "image/png": "[encoded data removed]",
      "text/plain": [
       "<Figure size 432x288 with 1 Axes>"
      ]
     },
     "metadata": {
      "needs_background": "light"
     },
     "output_type": "display_data"
    },
    {
     "data": {
      "text/plain": [
       "array([[181,  73,  66, 103,  29],\n",
       "       [  7, 319,  34,  23,   7],\n",
       "       [ 11,  59, 414,  37,  17],\n",
       "       [ 56, 116, 117, 439,  38],\n",
       "       [ 18,  25,  10,  21, 240]])"
      ]
     },
     "execution_count": 31,
     "metadata": {},
     "output_type": "execute_result"
    }
   ],
   "source": [
    "draw_confusion_matrix(y_test, predicted_labels)"
   ]
  },
  {
   "cell_type": "code",
   "execution_count": 32,
   "metadata": {},
   "outputs": [
    {
     "name": "stdout",
     "output_type": "stream",
     "text": [
      "              precision    recall  f1-score   support\n",
      "\n",
      "           0       0.66      0.40      0.50       452\n",
      "           1       0.54      0.82      0.65       390\n",
      "           2       0.65      0.77      0.70       538\n",
      "           3       0.70      0.57      0.63       766\n",
      "           4       0.73      0.76      0.74       314\n",
      "\n",
      "    accuracy                           0.65      2460\n",
      "   macro avg       0.66      0.67      0.65      2460\n",
      "weighted avg       0.66      0.65      0.64      2460\n",
      "\n"
     ]
    }
   ],
   "source": [
    "print(classification_report(y_test, predicted_labels))"
   ]
  },
  {
   "cell_type": "code",
   "execution_count": 33,
   "metadata": {},
   "outputs": [],
   "source": [
    "# p = '/home/jovyan/Saved_Models/'\n",
    "# m4.save(p + \"CNN_t1_correct_normaliztion_transfer.h5\")"
   ]
  },
  {
   "cell_type": "code",
   "execution_count": null,
   "metadata": {},
   "outputs": [],
   "source": []
  }
 ],
 "metadata": {
  "kernelspec": {
   "display_name": "Python 3",
   "language": "python",
   "name": "python3"
  },
  "language_info": {
   "codemirror_mode": {
    "name": "ipython",
    "version": 3
   },
   "file_extension": ".py",
   "mimetype": "text/x-python",
   "name": "python",
   "nbconvert_exporter": "python",
   "pygments_lexer": "ipython3",
   "version": "3.6.9"
  }
 },
 "nbformat": 4,
 "nbformat_minor": 4
}
