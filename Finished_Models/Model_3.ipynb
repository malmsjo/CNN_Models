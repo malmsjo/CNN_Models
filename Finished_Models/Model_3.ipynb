{
 "cells": [
  {
   "cell_type": "code",
   "execution_count": 10,
   "metadata": {},
   "outputs": [],
   "source": [
    "import tensorflow as tf\n",
    "from tensorflow import keras\n",
    "from tensorflow.keras.models import Sequential\n",
    "from tensorflow.keras.layers import Dropout\n",
    "from tensorflow.keras.models import Model\n",
    "from tensorflow.keras.layers import Input\n",
    "from tensorflow.keras.layers import Dense\n",
    "from tensorflow.keras.layers import Activation\n",
    "from tensorflow.keras.layers import Flatten\n",
    "from tensorflow.keras.layers import Dropout\n",
    "from tensorflow.keras.layers import Conv2D, Conv3D\n",
    "from tensorflow.keras.layers import MaxPooling2D, MaxPooling3D\n",
    "from tensorflow.keras.layers import GlobalAveragePooling2D\n",
    "from tensorflow.keras.layers import BatchNormalization\n",
    "from tensorflow.keras.applications.vgg16 import VGG16\n",
    "from tensorflow.keras import optimizers\n",
    "from tensorflow.keras import regularizers\n",
    "from sklearn.metrics import f1_score\n",
    "#from keras import backend as K\n",
    "from keras.callbacks import EarlyStopping\n",
    "from keras.preprocessing.image import ImageDataGenerator\n",
    "from sklearn.model_selection import train_test_split\n",
    "import numpy as np\n",
    "import matplotlib.pyplot as plt\n",
    "import pandas as pd\n",
    "from PIL import Image \n",
    "import seaborn as sns\n",
    "import os\n",
    "import re\n",
    "import glob\n",
    "import cv2\n",
    "from sklearn.metrics import classification_report\n",
    "from sklearn.metrics import confusion_matrix\n",
    "from sklearn.utils.multiclass import unique_labels\n",
    "from sklearn import preprocessing\n",
    "import tqdm\n",
    "from numpy import loadtxt\n",
    "from sklearn.utils import class_weight"
   ]
  },
  {
   "cell_type": "code",
   "execution_count": 11,
   "metadata": {},
   "outputs": [],
   "source": [
    "def atoi(text):\n",
    "   return int(text) if text.isdigit() else text\n",
    "def natural_keys(text):\n",
    "   return [atoi(c) for c in re.split('(\\d+)', text)]"
   ]
  },
  {
   "cell_type": "code",
   "execution_count": 12,
   "metadata": {},
   "outputs": [],
   "source": [
    "def draw_confusion_matrix(true,preds):\n",
    "    conf_matx = confusion_matrix(true, preds)\n",
    "    sns.heatmap(conf_matx, annot=True,annot_kws={\"size\": 12},fmt='g', cbar=False, cmap=plt.cm.Blues) #'viridis'\n",
    "    #plt.savefig('/home/jovyan/img1.png')\n",
    "    plt.show()\n",
    "    \n",
    "    return conf_matx"
   ]
  },
  {
   "cell_type": "code",
   "execution_count": 13,
   "metadata": {},
   "outputs": [],
   "source": [
    "def plot_history(model_history, model_name):\n",
    "    fig = plt.figure(figsize=(15,5), facecolor='w')\n",
    "    ax = fig.add_subplot(121)\n",
    "    ax.plot(model_history.history['loss'])\n",
    "    ax.plot(model_history.history['val_loss'])\n",
    "    ax.set(title=model_name + ': Model loss', ylabel='Loss', xlabel='Epoch')\n",
    "    ax.legend(['Train', 'Val'], loc='upper left')\n",
    "    ax = fig.add_subplot(122)\n",
    "    ax.plot(model_history.history['accuracy'])\n",
    "    ax.plot(model_history.history['val_accuracy'])\n",
    "    ax.set(title=model_name + ': Model Accuracy; test='+ str(np.round(model_history.history['val_accuracy'][-1], 3)),\n",
    "           ylabel='Accuracy', xlabel='Epoch')\n",
    "    ax.legend(['Train', 'Val'], loc='upper left')\n",
    "    #plt.savefig('/home/jovyan/img2.png')\n",
    "    plt.show()\n",
    "   \n",
    "    \n",
    "    return fig"
   ]
  },
  {
   "cell_type": "code",
   "execution_count": 20,
   "metadata": {},
   "outputs": [],
   "source": [
    "def loadImages():\n",
    "\n",
    "    image_list = []\n",
    "    \n",
    "\n",
    "    for filename in sorted(glob.glob('/home/jovyan/DATA_MASTER_PROJECT/IMAGES_MASTER_PROJECT/Cropped_P276_Conc_170/*.tiff'), key=natural_keys): \n",
    "        im=cv2.imread(filename)\n",
    "        imarray = np.array(im)\n",
    "        imarray = imarray.astype('float32')\n",
    "        image_list.append(imarray)\n",
    "\n",
    "    x_orig = np.reshape(image_list, (len(image_list), 90, 90, 3))\n",
    "    \n",
    "    path = '/home/jovyan/DATA_MASTER_PROJECT/leb_P276_conc_170_.csv'     \n",
    "    labels = pd.read_csv(path, usecols=[\"Type\", \"Category\"],\n",
    "                       sep=\",\" )\n",
    "    y_orig = np.array(labels['Category'])\n",
    "\n",
    "    return x_orig, y_orig"
   ]
  },
  {
   "cell_type": "code",
   "execution_count": 21,
   "metadata": {},
   "outputs": [],
   "source": [
    "def normalization(data, norm_mean):#, norm_sigma):\n",
    "    \n",
    "    x_scaled = (data - norm_mean)# / norm_sigma\n",
    "    data = x_scaled\n",
    "    \n",
    "    return data"
   ]
  },
  {
   "cell_type": "code",
   "execution_count": 22,
   "metadata": {},
   "outputs": [],
   "source": [
    "es = EarlyStopping(monitor='val_loss', mode='min', verbose=2, patience=5)"
   ]
  },
  {
   "cell_type": "code",
   "execution_count": 28,
   "metadata": {},
   "outputs": [],
   "source": [
    "def resize():\n",
    "    rescaled = []\n",
    "\n",
    "    for i in x_orig_1:\n",
    "\n",
    "        scale_percent = 140 # percent of original size\n",
    "        width = int(i.shape[1] / (scale_percent / 100))\n",
    "        height = int(i.shape[0] / (scale_percent / 100))\n",
    "        dim = (width, height)\n",
    "        resized = cv2.resize(i, dim, interpolation = cv2.INTER_AREA)\n",
    "        rescaled.append(resized)\n",
    "\n",
    "    x_orig = np.reshape( rescaled, (len( rescaled), resized.shape[1], resized.shape[1], 3))\n",
    "\n",
    "    return x_orig"
   ]
  },
  {
   "cell_type": "code",
   "execution_count": 29,
   "metadata": {},
   "outputs": [
    {
     "name": "stderr",
     "output_type": "stream",
     "text": [
      "100%|██████████| 2/2 [00:00<00:00, 9147.88it/s]\n"
     ]
    },
    {
     "data": {
      "text/plain": [
       "((14252, 90, 90, 3), (14252,))"
      ]
     },
     "execution_count": 29,
     "metadata": {},
     "output_type": "execute_result"
    }
   ],
   "source": [
    "x_orig_1, y_orig_1 = tqdm.tqdm(loadImages())\n",
    "x_orig_1.shape, y_orig_1.shape"
   ]
  },
  {
   "cell_type": "code",
   "execution_count": 30,
   "metadata": {},
   "outputs": [
    {
     "data": {
      "text/plain": [
       "(14252, 64, 64, 3)"
      ]
     },
     "execution_count": 30,
     "metadata": {},
     "output_type": "execute_result"
    }
   ],
   "source": [
    "x_orig_1 = resize()\n",
    "x_orig_1.shape"
   ]
  },
  {
   "cell_type": "code",
   "execution_count": 31,
   "metadata": {},
   "outputs": [
    {
     "data": {
      "text/plain": [
       "((11401, 64, 64, 3), (2851, 64, 64, 3), (11401,), (2851,))"
      ]
     },
     "execution_count": 31,
     "metadata": {},
     "output_type": "execute_result"
    }
   ],
   "source": [
    "x_train, x_test, y_train, y_test = train_test_split(x_orig_1, y_orig_1, test_size=0.2, random_state=999 )\n",
    "x_train.shape, x_test.shape, y_train.shape, y_test.shape"
   ]
  },
  {
   "cell_type": "code",
   "execution_count": 32,
   "metadata": {},
   "outputs": [
    {
     "data": {
      "text/plain": [
       "((9120, 64, 64, 3), (2281, 64, 64, 3), (9120,), (2281,))"
      ]
     },
     "execution_count": 32,
     "metadata": {},
     "output_type": "execute_result"
    }
   ],
   "source": [
    "x_train_1, x_val, y_train_1, y_val = train_test_split(x_train, y_train, test_size=0.2, random_state=999 )\n",
    "x_train_1.shape, x_val.shape, y_train_1.shape, y_val.shape"
   ]
  },
  {
   "cell_type": "code",
   "execution_count": 33,
   "metadata": {},
   "outputs": [],
   "source": [
    "pretrained_model = VGG16(weights='imagenet',include_top=False, input_shape=(64, 64, 3))\n",
    "\n",
    "base_model = Model(inputs=pretrained_model.input, outputs=pretrained_model.get_layer('block3_pool').output)"
   ]
  },
  {
   "cell_type": "code",
   "execution_count": 34,
   "metadata": {},
   "outputs": [
    {
     "data": {
      "text/plain": [
       "{0: 1212, 1: 1601, 2: 2113, 3: 1771, 4: 2423}"
      ]
     },
     "execution_count": 34,
     "metadata": {},
     "output_type": "execute_result"
    }
   ],
   "source": [
    "unique, counts = np.unique(y_train_1, return_counts=True)\n",
    "dict(zip(unique, counts))"
   ]
  },
  {
   "cell_type": "code",
   "execution_count": 35,
   "metadata": {},
   "outputs": [
    {
     "data": {
      "text/plain": [
       "{0: 318, 1: 402, 2: 553, 3: 424, 4: 584}"
      ]
     },
     "execution_count": 35,
     "metadata": {},
     "output_type": "execute_result"
    }
   ],
   "source": [
    "unique, counts = np.unique(y_val, return_counts=True)\n",
    "dict(zip(unique, counts))"
   ]
  },
  {
   "cell_type": "code",
   "execution_count": 36,
   "metadata": {},
   "outputs": [
    {
     "name": "stdout",
     "output_type": "stream",
     "text": [
      "weights = [1.5049505  1.13928795 0.86322764 1.0299266  0.7527858 ]\n"
     ]
    }
   ],
   "source": [
    "weights = class_weight.compute_class_weight('balanced', np.unique(y_train_1),y_train_1)\n",
    "print('weights = ' + str(weights))"
   ]
  },
  {
   "cell_type": "code",
   "execution_count": 37,
   "metadata": {},
   "outputs": [
    {
     "data": {
      "text/plain": [
       "((9120, 5), (2851, 5), (2281, 5))"
      ]
     },
     "execution_count": 37,
     "metadata": {},
     "output_type": "execute_result"
    }
   ],
   "source": [
    "y_train_1 = keras.utils.to_categorical(y_train_1)\n",
    "y_test_1 = keras.utils.to_categorical(y_test)\n",
    "y_val = keras.utils.to_categorical(y_val)\n",
    "\n",
    "y_train_1.shape, y_test_1.shape, y_val.shape"
   ]
  },
  {
   "cell_type": "code",
   "execution_count": 38,
   "metadata": {},
   "outputs": [
    {
     "name": "stdout",
     "output_type": "stream",
     "text": [
      "Shape:(9120, 64, 64, 3)\n",
      "Mean:22.668249130249023\n",
      "Sigma:16.184967041015625\n"
     ]
    }
   ],
   "source": [
    "print('Shape:{0}\\nMean:{1}\\nSigma:{2}'.format(x_train_1.shape,np.mean(x_train_1),np.std(x_train_1)))"
   ]
  },
  {
   "cell_type": "code",
   "execution_count": 39,
   "metadata": {},
   "outputs": [],
   "source": [
    "norm_mean = np.mean(x_train_1)\n",
    "norm_sigma = np.std(x_train_1)\n",
    "\n",
    "x_train_1 = normalization(x_train_1, norm_mean)#, norm_sigma)\n",
    "\n",
    "x_val = normalization(x_val, norm_mean)#, norm_sigma)\n",
    "\n",
    "x_test = normalization(x_test, norm_mean)#, norm_sigma)\n"
   ]
  },
  {
   "cell_type": "code",
   "execution_count": 40,
   "metadata": {},
   "outputs": [],
   "source": [
    "batch_size = 32"
   ]
  },
  {
   "cell_type": "code",
   "execution_count": 41,
   "metadata": {},
   "outputs": [],
   "source": [
    "datagen = ImageDataGenerator()\n",
    "\n",
    "datagen.fit(x_train_1)\n",
    "\n",
    "train_gen = datagen.flow(x_train_1, y_train_1, batch_size=batch_size)"
   ]
  },
  {
   "cell_type": "code",
   "execution_count": 42,
   "metadata": {},
   "outputs": [],
   "source": [
    "dat_val = ImageDataGenerator()\n",
    "\n",
    "dat_val.fit(x_val)\n",
    "\n",
    "val_gen = dat_val.flow(x_val, y_val, batch_size=batch_size)"
   ]
  },
  {
   "cell_type": "code",
   "execution_count": 44,
   "metadata": {},
   "outputs": [
    {
     "name": "stdout",
     "output_type": "stream",
     "text": [
      "Model: \"sequential_1\"\n",
      "_________________________________________________________________\n",
      "Layer (type)                 Output Shape              Param #   \n",
      "=================================================================\n",
      "model (Model)                (None, 8, 8, 256)         1735488   \n",
      "_________________________________________________________________\n",
      "batch_normalization_1 (Batch (None, 8, 8, 256)         1024      \n",
      "_________________________________________________________________\n",
      "global_average_pooling2d_1 ( (None, 256)               0         \n",
      "_________________________________________________________________\n",
      "dense_2 (Dense)              (None, 64)                16448     \n",
      "_________________________________________________________________\n",
      "dense_3 (Dense)              (None, 5)                 325       \n",
      "=================================================================\n",
      "Total params: 1,753,285\n",
      "Trainable params: 1,752,773\n",
      "Non-trainable params: 512\n",
      "_________________________________________________________________\n"
     ]
    }
   ],
   "source": [
    "m4 = Sequential()\n",
    "m4.add(base_model)\n",
    "\n",
    "\n",
    "m4.add(BatchNormalization())\n",
    "m4.add(GlobalAveragePooling2D())\n",
    "m4.add(Dense(64, activation='relu'))\n",
    "m4.add(Dense(5, activation = 'softmax'))\n",
    "\n",
    "m4.summary()\n",
    "\n",
    "\n"
   ]
  },
  {
   "cell_type": "code",
   "execution_count": 45,
   "metadata": {},
   "outputs": [],
   "source": [
    "base_model.trainable = False\n",
    "\n",
    "opt = keras.optimizers.Adam(lr=1e-3)\n",
    "\n",
    "m4.compile(loss= keras.losses.categorical_crossentropy, optimizer=opt, metrics = ['accuracy'])\n"
   ]
  },
  {
   "cell_type": "code",
   "execution_count": 46,
   "metadata": {},
   "outputs": [
    {
     "name": "stdout",
     "output_type": "stream",
     "text": [
      "WARNING:tensorflow:sample_weight modes were coerced from\n",
      "  ...\n",
      "    to  \n",
      "  ['...']\n",
      "WARNING:tensorflow:sample_weight modes were coerced from\n",
      "  ...\n",
      "    to  \n",
      "  ['...']\n",
      "Train for 285.0 steps, validate for 71.28125 steps\n",
      "Epoch 1/100\n",
      "285/285 [==============================] - 6s 21ms/step - loss: 1.2999 - accuracy: 0.4547 - val_loss: 1.1971 - val_accuracy: 0.5064\n",
      "Epoch 2/100\n",
      "285/285 [==============================] - 3s 10ms/step - loss: 1.1013 - accuracy: 0.5623 - val_loss: 1.0525 - val_accuracy: 0.5910\n",
      "Epoch 3/100\n",
      "285/285 [==============================] - 3s 10ms/step - loss: 1.0074 - accuracy: 0.6116 - val_loss: 0.9962 - val_accuracy: 0.6225\n",
      "Epoch 4/100\n",
      "285/285 [==============================] - 3s 10ms/step - loss: 0.9360 - accuracy: 0.6440 - val_loss: 0.9520 - val_accuracy: 0.6449\n",
      "Epoch 5/100\n",
      "285/285 [==============================] - 3s 10ms/step - loss: 0.8821 - accuracy: 0.6706 - val_loss: 0.9120 - val_accuracy: 0.6541\n",
      "Epoch 6/100\n",
      "285/285 [==============================] - 3s 10ms/step - loss: 0.8349 - accuracy: 0.6834 - val_loss: 0.9026 - val_accuracy: 0.6611\n",
      "Epoch 7/100\n",
      "285/285 [==============================] - 3s 10ms/step - loss: 0.7916 - accuracy: 0.7077 - val_loss: 0.8549 - val_accuracy: 0.6791\n",
      "Epoch 8/100\n",
      "285/285 [==============================] - 3s 10ms/step - loss: 0.7539 - accuracy: 0.7230 - val_loss: 0.8387 - val_accuracy: 0.6949\n",
      "Epoch 9/100\n",
      "285/285 [==============================] - 3s 11ms/step - loss: 0.7203 - accuracy: 0.7353 - val_loss: 0.8229 - val_accuracy: 0.7041\n",
      "Epoch 10/100\n",
      "285/285 [==============================] - 3s 10ms/step - loss: 0.6883 - accuracy: 0.7455 - val_loss: 0.8117 - val_accuracy: 0.7071\n",
      "Epoch 11/100\n",
      "285/285 [==============================] - 3s 10ms/step - loss: 0.6609 - accuracy: 0.7591 - val_loss: 0.7977 - val_accuracy: 0.7058\n",
      "Epoch 12/100\n",
      "285/285 [==============================] - 3s 10ms/step - loss: 0.6392 - accuracy: 0.7694 - val_loss: 0.7854 - val_accuracy: 0.7111\n",
      "Epoch 13/100\n",
      "285/285 [==============================] - 3s 10ms/step - loss: 0.6144 - accuracy: 0.7761 - val_loss: 0.7805 - val_accuracy: 0.7212\n",
      "Epoch 14/100\n",
      "285/285 [==============================] - 3s 10ms/step - loss: 0.5886 - accuracy: 0.7864 - val_loss: 0.7755 - val_accuracy: 0.7133\n",
      "Epoch 15/100\n",
      "285/285 [==============================] - 3s 10ms/step - loss: 0.5708 - accuracy: 0.7925 - val_loss: 0.7526 - val_accuracy: 0.7260\n",
      "Epoch 16/100\n",
      "285/285 [==============================] - 3s 11ms/step - loss: 0.5480 - accuracy: 0.8054 - val_loss: 0.7544 - val_accuracy: 0.7282\n",
      "Epoch 17/100\n",
      "285/285 [==============================] - 3s 11ms/step - loss: 0.5306 - accuracy: 0.8114 - val_loss: 0.7393 - val_accuracy: 0.7352\n",
      "Epoch 18/100\n",
      "285/285 [==============================] - 3s 10ms/step - loss: 0.5176 - accuracy: 0.8174 - val_loss: 0.7410 - val_accuracy: 0.7378\n",
      "Epoch 19/100\n",
      "285/285 [==============================] - 3s 11ms/step - loss: 0.5000 - accuracy: 0.8209 - val_loss: 0.7342 - val_accuracy: 0.7343\n",
      "Epoch 20/100\n",
      "285/285 [==============================] - 3s 10ms/step - loss: 0.4795 - accuracy: 0.8327 - val_loss: 0.7257 - val_accuracy: 0.7448\n",
      "Epoch 21/100\n",
      "285/285 [==============================] - 3s 10ms/step - loss: 0.4634 - accuracy: 0.8385 - val_loss: 0.7099 - val_accuracy: 0.7466\n",
      "Epoch 22/100\n",
      "285/285 [==============================] - 3s 10ms/step - loss: 0.4496 - accuracy: 0.8435 - val_loss: 0.7323 - val_accuracy: 0.7435\n",
      "Epoch 23/100\n",
      "285/285 [==============================] - 3s 10ms/step - loss: 0.4390 - accuracy: 0.8468 - val_loss: 0.7119 - val_accuracy: 0.7484\n",
      "Epoch 24/100\n",
      "285/285 [==============================] - 3s 10ms/step - loss: 0.4246 - accuracy: 0.8518 - val_loss: 0.7053 - val_accuracy: 0.7536\n",
      "Epoch 25/100\n",
      "285/285 [==============================] - 3s 10ms/step - loss: 0.4113 - accuracy: 0.8588 - val_loss: 0.7035 - val_accuracy: 0.7501\n",
      "Epoch 26/100\n",
      "285/285 [==============================] - 3s 10ms/step - loss: 0.3956 - accuracy: 0.8647 - val_loss: 0.7031 - val_accuracy: 0.7497\n",
      "Epoch 27/100\n",
      "285/285 [==============================] - 3s 10ms/step - loss: 0.3841 - accuracy: 0.8677 - val_loss: 0.7154 - val_accuracy: 0.7448\n",
      "Epoch 28/100\n",
      "285/285 [==============================] - 3s 10ms/step - loss: 0.3715 - accuracy: 0.8728 - val_loss: 0.7098 - val_accuracy: 0.7567\n",
      "Epoch 29/100\n",
      "285/285 [==============================] - 3s 10ms/step - loss: 0.3609 - accuracy: 0.8786 - val_loss: 0.6989 - val_accuracy: 0.7554\n",
      "Epoch 30/100\n",
      "285/285 [==============================] - 3s 11ms/step - loss: 0.3505 - accuracy: 0.8822 - val_loss: 0.7631 - val_accuracy: 0.7378\n",
      "Epoch 31/100\n",
      "285/285 [==============================] - 3s 10ms/step - loss: 0.3416 - accuracy: 0.8843 - val_loss: 0.7330 - val_accuracy: 0.7492\n",
      "Epoch 32/100\n",
      "285/285 [==============================] - 3s 10ms/step - loss: 0.3326 - accuracy: 0.8861 - val_loss: 0.7264 - val_accuracy: 0.7475\n",
      "Epoch 33/100\n",
      "285/285 [==============================] - 3s 11ms/step - loss: 0.3193 - accuracy: 0.8967 - val_loss: 0.7025 - val_accuracy: 0.7619\n",
      "Epoch 34/100\n",
      "285/285 [==============================] - 3s 10ms/step - loss: 0.3095 - accuracy: 0.8971 - val_loss: 0.7233 - val_accuracy: 0.7519\n",
      "Epoch 00034: early stopping\n"
     ]
    }
   ],
   "source": [
    "\n",
    "epochs = 100\n",
    "\n",
    "m4_h = m4.fit(train_gen,\n",
    "                steps_per_epoch=(len(x_train_1)/batch_size),\n",
    "                callbacks = [es],\n",
    "                epochs=epochs,\n",
    "                validation_data = val_gen, \n",
    "                validation_steps = (len(x_val)/batch_size),\n",
    "                class_weight = weights)"
   ]
  },
  {
   "cell_type": "code",
   "execution_count": 47,
   "metadata": {},
   "outputs": [],
   "source": [
    "base_model.trainable = True\n",
    "\n",
    "opt = keras.optimizers.Adam(lr=1e-5)\n",
    "\n",
    "m4.compile(loss= keras.losses.categorical_crossentropy, optimizer=opt, metrics = ['accuracy'])"
   ]
  },
  {
   "cell_type": "code",
   "execution_count": 48,
   "metadata": {},
   "outputs": [
    {
     "name": "stdout",
     "output_type": "stream",
     "text": [
      "WARNING:tensorflow:sample_weight modes were coerced from\n",
      "  ...\n",
      "    to  \n",
      "  ['...']\n",
      "WARNING:tensorflow:sample_weight modes were coerced from\n",
      "  ...\n",
      "    to  \n",
      "  ['...']\n",
      "Train for 285.0 steps, validate for 71.28125 steps\n",
      "Epoch 1/100\n",
      "285/285 [==============================] - 7s 24ms/step - loss: 0.2761 - accuracy: 0.9122 - val_loss: 0.8619 - val_accuracy: 0.7260\n",
      "Epoch 2/100\n",
      "285/285 [==============================] - 6s 20ms/step - loss: 0.2304 - accuracy: 0.9359 - val_loss: 0.7095 - val_accuracy: 0.7624\n",
      "Epoch 3/100\n",
      "285/285 [==============================] - 6s 20ms/step - loss: 0.2008 - accuracy: 0.9504 - val_loss: 0.7092 - val_accuracy: 0.7602\n",
      "Epoch 4/100\n",
      "285/285 [==============================] - 6s 20ms/step - loss: 0.1771 - accuracy: 0.9630 - val_loss: 0.6744 - val_accuracy: 0.7817\n",
      "Epoch 5/100\n",
      "285/285 [==============================] - 6s 20ms/step - loss: 0.1567 - accuracy: 0.9697 - val_loss: 0.6754 - val_accuracy: 0.7764\n",
      "Epoch 6/100\n",
      "285/285 [==============================] - 6s 20ms/step - loss: 0.1390 - accuracy: 0.9776 - val_loss: 0.6829 - val_accuracy: 0.7847\n",
      "Epoch 7/100\n",
      "285/285 [==============================] - 6s 20ms/step - loss: 0.1240 - accuracy: 0.9840 - val_loss: 0.7044 - val_accuracy: 0.7663\n",
      "Epoch 8/100\n",
      "285/285 [==============================] - 6s 20ms/step - loss: 0.1094 - accuracy: 0.9886 - val_loss: 0.6645 - val_accuracy: 0.7856\n",
      "Epoch 9/100\n",
      "285/285 [==============================] - 6s 20ms/step - loss: 0.0979 - accuracy: 0.9928 - val_loss: 0.6510 - val_accuracy: 0.7834\n",
      "Epoch 10/100\n",
      "285/285 [==============================] - 6s 20ms/step - loss: 0.0871 - accuracy: 0.9948 - val_loss: 0.6371 - val_accuracy: 0.7970\n",
      "Epoch 11/100\n",
      "285/285 [==============================] - 6s 20ms/step - loss: 0.0776 - accuracy: 0.9963 - val_loss: 0.6742 - val_accuracy: 0.7904\n",
      "Epoch 12/100\n",
      "285/285 [==============================] - 6s 20ms/step - loss: 0.0699 - accuracy: 0.9971 - val_loss: 0.6665 - val_accuracy: 0.7878\n",
      "Epoch 13/100\n",
      "285/285 [==============================] - 6s 20ms/step - loss: 0.0620 - accuracy: 0.9987 - val_loss: 0.6248 - val_accuracy: 0.7896\n",
      "Epoch 14/100\n",
      "285/285 [==============================] - 6s 20ms/step - loss: 0.0555 - accuracy: 0.9995 - val_loss: 0.6307 - val_accuracy: 0.7996\n",
      "Epoch 15/100\n",
      "285/285 [==============================] - 6s 20ms/step - loss: 0.0497 - accuracy: 0.9992 - val_loss: 0.6113 - val_accuracy: 0.8036\n",
      "Epoch 16/100\n",
      "285/285 [==============================] - 6s 20ms/step - loss: 0.0447 - accuracy: 0.9998 - val_loss: 0.5985 - val_accuracy: 0.8119\n",
      "Epoch 17/100\n",
      "285/285 [==============================] - 6s 20ms/step - loss: 0.0401 - accuracy: 1.0000 - val_loss: 0.6494 - val_accuracy: 0.7940\n",
      "Epoch 18/100\n",
      "285/285 [==============================] - 6s 20ms/step - loss: 0.0360 - accuracy: 1.0000 - val_loss: 0.6507 - val_accuracy: 0.7975\n",
      "Epoch 19/100\n",
      "285/285 [==============================] - 6s 20ms/step - loss: 0.0326 - accuracy: 1.0000 - val_loss: 0.6125 - val_accuracy: 0.8049\n",
      "Epoch 20/100\n",
      "285/285 [==============================] - 6s 20ms/step - loss: 0.0293 - accuracy: 1.0000 - val_loss: 0.6449 - val_accuracy: 0.8014\n",
      "Epoch 21/100\n",
      "285/285 [==============================] - 6s 20ms/step - loss: 0.0264 - accuracy: 1.0000 - val_loss: 0.6256 - val_accuracy: 0.8045\n",
      "Epoch 00021: early stopping\n"
     ]
    }
   ],
   "source": [
    "\n",
    "epochs = 100\n",
    "\n",
    "m4_h = m4.fit(train_gen,\n",
    "                steps_per_epoch=(len(x_train_1)/batch_size),\n",
    "                callbacks = [es],\n",
    "                epochs=epochs,\n",
    "                validation_data = val_gen, \n",
    "                validation_steps = (len(x_val)/batch_size),\n",
    "                class_weight = weights)"
   ]
  },
  {
   "cell_type": "code",
   "execution_count": 49,
   "metadata": {},
   "outputs": [
    {
     "data": {
      "image/png": "[encoded data removed]",
      "text/plain": [
       "<Figure size 1080x360 with 2 Axes>"
      ]
     },
     "metadata": {},
     "output_type": "display_data"
    },
    {
     "data": {
      "image/png": "[encoded data removed]",
      "text/plain": [
       "<Figure size 1080x360 with 2 Axes>"
      ]
     },
     "execution_count": 49,
     "metadata": {},
     "output_type": "execute_result"
    }
   ],
   "source": [
    "plot_history(m4_h, 'first')\n"
   ]
  },
  {
   "cell_type": "code",
   "execution_count": 50,
   "metadata": {},
   "outputs": [
    {
     "name": "stdout",
     "output_type": "stream",
     "text": [
      "2851/2851 [==============================] - 1s 310us/sample - loss: 0.5978 - accuracy: 0.8120\n",
      "\n",
      "accuracy: 81.20%\n"
     ]
    }
   ],
   "source": [
    "scores = m4.evaluate(x_test, y_test_1)\n",
    "print(\"\\n%s: %.2f%%\" % (m4.metrics_names[1], scores[1]*100))"
   ]
  },
  {
   "cell_type": "code",
   "execution_count": 51,
   "metadata": {},
   "outputs": [],
   "source": [
    "test_preds = m4.predict(x_test)"
   ]
  },
  {
   "cell_type": "code",
   "execution_count": 52,
   "metadata": {},
   "outputs": [],
   "source": [
    "preds_df = pd.DataFrame(test_preds)\n",
    "predicted_labels = preds_df.idxmax(axis=1)"
   ]
  },
  {
   "cell_type": "code",
   "execution_count": 53,
   "metadata": {},
   "outputs": [
    {
     "data": {
      "image/png": "[encoded data removed]",
      "text/plain": [
       "<Figure size 432x288 with 1 Axes>"
      ]
     },
     "metadata": {
      "needs_background": "light"
     },
     "output_type": "display_data"
    },
    {
     "data": {
      "text/plain": [
       "array([[273,  36,  21,  14,  16],\n",
       "       [ 11, 447,  34,  26,  23],\n",
       "       [ 25,  59, 505,  48,  32],\n",
       "       [ 21,  40,  23, 449,  27],\n",
       "       [  7,  40,  14,  19, 641]])"
      ]
     },
     "execution_count": 53,
     "metadata": {},
     "output_type": "execute_result"
    }
   ],
   "source": [
    "draw_confusion_matrix(y_test, predicted_labels)"
   ]
  },
  {
   "cell_type": "code",
   "execution_count": 54,
   "metadata": {},
   "outputs": [
    {
     "name": "stdout",
     "output_type": "stream",
     "text": [
      "              precision    recall  f1-score   support\n",
      "\n",
      "           0       0.81      0.76      0.78       360\n",
      "           1       0.72      0.83      0.77       541\n",
      "           2       0.85      0.75      0.80       669\n",
      "           3       0.81      0.80      0.80       560\n",
      "           4       0.87      0.89      0.88       721\n",
      "\n",
      "    accuracy                           0.81      2851\n",
      "   macro avg       0.81      0.81      0.81      2851\n",
      "weighted avg       0.82      0.81      0.81      2851\n",
      "\n"
     ]
    }
   ],
   "source": [
    "print(classification_report(y_test, predicted_labels))"
   ]
  },
  {
   "cell_type": "code",
   "execution_count": null,
   "metadata": {},
   "outputs": [],
   "source": [
    "# p = '/home/jovyan/Saved_Models/'\n",
    "# m4.save(p + \"CNN_t1_correct_normaliztion_transfer.h5\")"
   ]
  },
  {
   "cell_type": "code",
   "execution_count": null,
   "metadata": {},
   "outputs": [],
   "source": []
  }
 ],
 "metadata": {
  "kernelspec": {
   "display_name": "Python 3",
   "language": "python",
   "name": "python3"
  },
  "language_info": {
   "codemirror_mode": {
    "name": "ipython",
    "version": 3
   },
   "file_extension": ".py",
   "mimetype": "text/x-python",
   "name": "python",
   "nbconvert_exporter": "python",
   "pygments_lexer": "ipython3",
   "version": "3.6.9"
  }
 },
 "nbformat": 4,
 "nbformat_minor": 4
}
