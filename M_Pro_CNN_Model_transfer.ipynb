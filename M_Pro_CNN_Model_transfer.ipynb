{
 "cells": [
  {
   "cell_type": "code",
   "execution_count": 1,
   "metadata": {},
   "outputs": [
    {
     "name": "stderr",
     "output_type": "stream",
     "text": [
      "Using TensorFlow backend.\n"
     ]
    }
   ],
   "source": [
    "import tensorflow as tf\n",
    "from tensorflow import keras\n",
    "from tensorflow.keras.models import Sequential\n",
    "from tensorflow.keras.layers import Dropout\n",
    "from tensorflow.keras.models import Model\n",
    "from tensorflow.keras.layers import Input\n",
    "from tensorflow.keras.layers import Dense\n",
    "from tensorflow.keras.layers import Activation\n",
    "from tensorflow.keras.layers import Flatten\n",
    "from tensorflow.keras.layers import Dropout\n",
    "from tensorflow.keras.layers import Conv2D, Conv3D\n",
    "from tensorflow.keras.layers import MaxPooling2D, MaxPooling3D\n",
    "from tensorflow.keras.layers import GlobalAveragePooling2D\n",
    "from tensorflow.keras.layers import BatchNormalization\n",
    "from tensorflow.keras.applications.vgg16 import VGG16\n",
    "from tensorflow.keras import optimizers\n",
    "from tensorflow.keras import regularizers\n",
    "from sklearn.metrics import f1_score\n",
    "#from keras import backend as K\n",
    "from keras.callbacks import EarlyStopping\n",
    "from keras.preprocessing.image import ImageDataGenerator\n",
    "from sklearn.model_selection import train_test_split\n",
    "import numpy as np\n",
    "import matplotlib.pyplot as plt\n",
    "import pandas as pd\n",
    "from PIL import Image \n",
    "import seaborn as sns\n",
    "import os\n",
    "import re\n",
    "import glob\n",
    "import cv2\n",
    "from sklearn.metrics import classification_report\n",
    "from sklearn.metrics import confusion_matrix\n",
    "from sklearn.utils.multiclass import unique_labels\n",
    "from sklearn import preprocessing\n",
    "import tqdm\n",
    "from numpy import loadtxt\n",
    "from sklearn.utils import class_weight"
   ]
  },
  {
   "cell_type": "code",
   "execution_count": 2,
   "metadata": {},
   "outputs": [],
   "source": [
    "def atoi(text):\n",
    "   return int(text) if text.isdigit() else text\n",
    "def natural_keys(text):\n",
    "   return [atoi(c) for c in re.split('(\\d+)', text)]"
   ]
  },
  {
   "cell_type": "code",
   "execution_count": 3,
   "metadata": {},
   "outputs": [],
   "source": [
    "def draw_confusion_matrix(true,preds):\n",
    "    conf_matx = confusion_matrix(true, preds)\n",
    "    sns.heatmap(conf_matx, annot=True,annot_kws={\"size\": 12},fmt='g', cbar=False, cmap=plt.cm.Blues) #'viridis'\n",
    "    #plt.savefig('/home/jovyan/img1.png')\n",
    "    plt.show()\n",
    "    \n",
    "    return conf_matx"
   ]
  },
  {
   "cell_type": "code",
   "execution_count": 4,
   "metadata": {},
   "outputs": [],
   "source": [
    "def plot_history(model_history, model_name):\n",
    "    fig = plt.figure(figsize=(15,5), facecolor='w')\n",
    "    ax = fig.add_subplot(121)\n",
    "    ax.plot(model_history.history['loss'])\n",
    "    ax.plot(model_history.history['val_loss'])\n",
    "    ax.set(title=model_name + ': Model loss', ylabel='Loss', xlabel='Epoch')\n",
    "    ax.legend(['Train', 'Val'], loc='upper left')\n",
    "    ax = fig.add_subplot(122)\n",
    "    ax.plot(model_history.history['accuracy'])\n",
    "    ax.plot(model_history.history['val_accuracy'])\n",
    "    ax.set(title=model_name + ': Model Accuracy; test='+ str(np.round(model_history.history['val_accuracy'][-1], 3)),\n",
    "           ylabel='Accuracy', xlabel='Epoch')\n",
    "    ax.legend(['Train', 'Val'], loc='upper left')\n",
    "    #plt.savefig('/home/jovyan/img2.png')\n",
    "    plt.show()\n",
    "   \n",
    "    \n",
    "    return fig"
   ]
  },
  {
   "cell_type": "code",
   "execution_count": 5,
   "metadata": {},
   "outputs": [],
   "source": [
    "def loadImages():\n",
    "\n",
    "    image_list = []\n",
    "    \n",
    "\n",
    "    for filename in sorted(glob.glob('/home/jovyan/DATA_MASTER_PROJECT/IMAGES_MASTER_PROJECT/Cropped_Image/Cropped_T_10_5_classes_conc_170/*.tiff'), key=natural_keys): \n",
    "        im=cv2.imread(filename)\n",
    "        imarray = np.array(im)\n",
    "        imarray = imarray.astype('float32')\n",
    "        image_list.append(imarray)\n",
    "\n",
    "    x_orig = np.reshape(image_list, (len(image_list), 90, 90, 3))\n",
    "    \n",
    "    path = '/home/jovyan/DATA_MASTER_PROJECT/leb_T10_P276_conc_170.csv'     \n",
    "    labels = pd.read_csv(path, usecols=[\"Type\", \"Category\"],\n",
    "                       sep=\",\" )\n",
    "    y_orig = np.array(labels['Category'])\n",
    "\n",
    "    return x_orig, y_orig"
   ]
  },
  {
   "cell_type": "code",
   "execution_count": 6,
   "metadata": {},
   "outputs": [],
   "source": [
    "def normalization(data, norm_mean):#, norm_sigma):\n",
    "    \n",
    "    x_scaled = (data - norm_mean)# / norm_sigma\n",
    "    data = x_scaled\n",
    "    \n",
    "    return data"
   ]
  },
  {
   "cell_type": "code",
   "execution_count": 7,
   "metadata": {},
   "outputs": [],
   "source": [
    "es = EarlyStopping(monitor='val_loss', mode='min', verbose=2, patience=5)"
   ]
  },
  {
   "cell_type": "code",
   "execution_count": 8,
   "metadata": {},
   "outputs": [],
   "source": [
    "def resize():\n",
    "    rescaled = []\n",
    "\n",
    "    for i in x_orig_1:\n",
    "\n",
    "        scale_percent = 140 # percent of original size\n",
    "        width = int(i.shape[1] / (scale_percent / 100))\n",
    "        height = int(i.shape[0] / (scale_percent / 100))\n",
    "        dim = (width, height)\n",
    "        resized = cv2.resize(i, dim, interpolation = cv2.INTER_LANCZOS4)\n",
    "        rescaled.append(resized)\n",
    "\n",
    "    x_orig = np.reshape( rescaled, (len( rescaled), resized.shape[1], resized.shape[1], 3))\n",
    "\n",
    "    return x_orig"
   ]
  },
  {
   "cell_type": "code",
   "execution_count": 9,
   "metadata": {},
   "outputs": [
    {
     "name": "stderr",
     "output_type": "stream",
     "text": [
      "100%|██████████| 2/2 [00:00<00:00, 7981.55it/s]\n"
     ]
    },
    {
     "data": {
      "text/plain": [
       "((29407, 90, 90, 3), (29407,))"
      ]
     },
     "execution_count": 9,
     "metadata": {},
     "output_type": "execute_result"
    }
   ],
   "source": [
    "x_orig_1, y_orig_1 = tqdm.tqdm(loadImages())\n",
    "x_orig_1.shape, y_orig_1.shape"
   ]
  },
  {
   "cell_type": "code",
   "execution_count": 10,
   "metadata": {},
   "outputs": [
    {
     "data": {
      "text/plain": [
       "(29407, 64, 64, 3)"
      ]
     },
     "execution_count": 10,
     "metadata": {},
     "output_type": "execute_result"
    }
   ],
   "source": [
    "x_orig_1 = resize()\n",
    "x_orig_1.shape"
   ]
  },
  {
   "cell_type": "code",
   "execution_count": 11,
   "metadata": {},
   "outputs": [
    {
     "data": {
      "text/plain": [
       "((23525, 64, 64, 3), (5882, 64, 64, 3), (23525,), (5882,))"
      ]
     },
     "execution_count": 11,
     "metadata": {},
     "output_type": "execute_result"
    }
   ],
   "source": [
    "x_train, x_test, y_train, y_test = train_test_split(x_orig_1, y_orig_1, test_size=0.2, random_state=999 )\n",
    "x_train.shape, x_test.shape, y_train.shape, y_test.shape"
   ]
  },
  {
   "cell_type": "code",
   "execution_count": 12,
   "metadata": {},
   "outputs": [
    {
     "data": {
      "text/plain": [
       "((18820, 64, 64, 3), (4705, 64, 64, 3), (18820,), (4705,))"
      ]
     },
     "execution_count": 12,
     "metadata": {},
     "output_type": "execute_result"
    }
   ],
   "source": [
    "x_train_1, x_val, y_train_1, y_val = train_test_split(x_train, y_train, test_size=0.2, random_state=999 )\n",
    "x_train_1.shape, x_val.shape, y_train_1.shape, y_val.shape"
   ]
  },
  {
   "cell_type": "code",
   "execution_count": 13,
   "metadata": {},
   "outputs": [],
   "source": [
    "pretrained_model = VGG16(weights='imagenet',include_top=False, input_shape=(64, 64, 3))\n",
    "\n",
    "base_model = Model(inputs=pretrained_model.input, outputs=pretrained_model.get_layer('block3_pool').output)"
   ]
  },
  {
   "cell_type": "code",
   "execution_count": 14,
   "metadata": {},
   "outputs": [
    {
     "data": {
      "text/plain": [
       "{0: 1719, 1: 3113, 2: 3434, 3: 5304, 4: 5250}"
      ]
     },
     "execution_count": 14,
     "metadata": {},
     "output_type": "execute_result"
    }
   ],
   "source": [
    "unique, counts = np.unique(y_train_1, return_counts=True)\n",
    "dict(zip(unique, counts))"
   ]
  },
  {
   "cell_type": "code",
   "execution_count": 15,
   "metadata": {},
   "outputs": [
    {
     "data": {
      "text/plain": [
       "{0: 434, 1: 789, 2: 840, 3: 1339, 4: 1303}"
      ]
     },
     "execution_count": 15,
     "metadata": {},
     "output_type": "execute_result"
    }
   ],
   "source": [
    "unique, counts = np.unique(y_val, return_counts=True)\n",
    "dict(zip(unique, counts))"
   ]
  },
  {
   "cell_type": "code",
   "execution_count": 16,
   "metadata": {},
   "outputs": [
    {
     "name": "stdout",
     "output_type": "stream",
     "text": [
      "weights = [2.18964514 1.20912303 1.09609785 0.70965309 0.71695238]\n"
     ]
    }
   ],
   "source": [
    "weights = class_weight.compute_class_weight('balanced', np.unique(y_train_1),y_train_1)\n",
    "print('weights = ' + str(weights))"
   ]
  },
  {
   "cell_type": "code",
   "execution_count": 17,
   "metadata": {},
   "outputs": [
    {
     "data": {
      "text/plain": [
       "((18820, 5), (5882, 5), (4705, 5))"
      ]
     },
     "execution_count": 17,
     "metadata": {},
     "output_type": "execute_result"
    }
   ],
   "source": [
    "y_train_1 = keras.utils.to_categorical(y_train_1)\n",
    "y_test_1 = keras.utils.to_categorical(y_test)\n",
    "y_val = keras.utils.to_categorical(y_val)\n",
    "\n",
    "y_train_1.shape, y_test_1.shape, y_val.shape"
   ]
  },
  {
   "cell_type": "code",
   "execution_count": 36,
   "metadata": {},
   "outputs": [
    {
     "name": "stdout",
     "output_type": "stream",
     "text": [
      "Shape:(18820, 64, 64, 3)\n",
      "Mean:-3.5812059650197625e-05\n",
      "Sigma:13.97715950012207\n"
     ]
    }
   ],
   "source": [
    "print('Shape:{0}\\nMean:{1}\\nSigma:{2}'.format(x_train_1.shape,np.mean(x_train_1),np.std(x_train_1)))"
   ]
  },
  {
   "cell_type": "code",
   "execution_count": 19,
   "metadata": {},
   "outputs": [],
   "source": [
    "norm_mean = np.mean(x_train_1)\n",
    "norm_sigma = np.std(x_train_1)\n",
    "\n",
    "x_train_1 = normalization(x_train_1, norm_mean)#, norm_sigma)\n",
    "\n",
    "x_val = normalization(x_val, norm_mean)#, norm_sigma)\n",
    "\n",
    "x_test = normalization(x_test, norm_mean)#, norm_sigma)\n"
   ]
  },
  {
   "cell_type": "code",
   "execution_count": 20,
   "metadata": {},
   "outputs": [],
   "source": [
    "batch_size = 32"
   ]
  },
  {
   "cell_type": "code",
   "execution_count": 21,
   "metadata": {},
   "outputs": [],
   "source": [
    "datagen = ImageDataGenerator()\n",
    "\n",
    "datagen.fit(x_train_1)\n",
    "\n",
    "train_gen = datagen.flow(x_train_1, y_train_1, batch_size=batch_size)"
   ]
  },
  {
   "cell_type": "code",
   "execution_count": 22,
   "metadata": {},
   "outputs": [],
   "source": [
    "dat_val = ImageDataGenerator()\n",
    "\n",
    "dat_val.fit(x_val)\n",
    "\n",
    "val_gen = dat_val.flow(x_val, y_val, batch_size=batch_size)"
   ]
  },
  {
   "cell_type": "code",
   "execution_count": 23,
   "metadata": {},
   "outputs": [
    {
     "name": "stdout",
     "output_type": "stream",
     "text": [
      "Model: \"sequential\"\n",
      "_________________________________________________________________\n",
      "Layer (type)                 Output Shape              Param #   \n",
      "=================================================================\n",
      "model (Model)                (None, 8, 8, 256)         1735488   \n",
      "_________________________________________________________________\n",
      "batch_normalization (BatchNo (None, 8, 8, 256)         1024      \n",
      "_________________________________________________________________\n",
      "global_average_pooling2d (Gl (None, 256)               0         \n",
      "_________________________________________________________________\n",
      "dense (Dense)                (None, 64)                16448     \n",
      "_________________________________________________________________\n",
      "dense_1 (Dense)              (None, 5)                 325       \n",
      "=================================================================\n",
      "Total params: 1,753,285\n",
      "Trainable params: 1,752,773\n",
      "Non-trainable params: 512\n",
      "_________________________________________________________________\n"
     ]
    }
   ],
   "source": [
    "m4 = Sequential()\n",
    "m4.add(base_model)\n",
    "\n",
    "\n",
    "m4.add(BatchNormalization())\n",
    "m4.add(GlobalAveragePooling2D())\n",
    "m4.add(Dense(64, activation='relu'))\n",
    "m4.add(Dense(5, activation = 'softmax'))\n",
    "\n",
    "m4.summary()\n",
    "\n",
    "\n"
   ]
  },
  {
   "cell_type": "code",
   "execution_count": 24,
   "metadata": {},
   "outputs": [],
   "source": [
    "base_model.trainable = False\n",
    "\n",
    "opt = keras.optimizers.Adam(lr=1e-3)\n",
    "\n",
    "m4.compile(loss= keras.losses.categorical_crossentropy, optimizer=opt, metrics = ['accuracy'])\n"
   ]
  },
  {
   "cell_type": "code",
   "execution_count": 25,
   "metadata": {},
   "outputs": [
    {
     "name": "stdout",
     "output_type": "stream",
     "text": [
      "WARNING:tensorflow:sample_weight modes were coerced from\n",
      "  ...\n",
      "    to  \n",
      "  ['...']\n",
      "WARNING:tensorflow:sample_weight modes were coerced from\n",
      "  ...\n",
      "    to  \n",
      "  ['...']\n",
      "Train for 588.125 steps, validate for 147.03125 steps\n",
      "Epoch 1/100\n",
      "589/588 [==============================] - 9s 16ms/step - loss: 1.1116 - accuracy: 0.5541 - val_loss: 0.9803 - val_accuracy: 0.6168\n",
      "Epoch 2/100\n",
      "589/588 [==============================] - 6s 11ms/step - loss: 0.9169 - accuracy: 0.6461 - val_loss: 0.8872 - val_accuracy: 0.6516\n",
      "Epoch 3/100\n",
      "589/588 [==============================] - 6s 11ms/step - loss: 0.8295 - accuracy: 0.6833 - val_loss: 0.8241 - val_accuracy: 0.6806\n",
      "Epoch 4/100\n",
      "589/588 [==============================] - 6s 11ms/step - loss: 0.7658 - accuracy: 0.7072 - val_loss: 0.7814 - val_accuracy: 0.7092\n",
      "Epoch 5/100\n",
      "589/588 [==============================] - 6s 11ms/step - loss: 0.7220 - accuracy: 0.7282 - val_loss: 0.7535 - val_accuracy: 0.7197\n",
      "Epoch 6/100\n",
      "589/588 [==============================] - 6s 11ms/step - loss: 0.6823 - accuracy: 0.7457 - val_loss: 0.7232 - val_accuracy: 0.7318\n",
      "Epoch 7/100\n",
      "589/588 [==============================] - 6s 11ms/step - loss: 0.6544 - accuracy: 0.7567 - val_loss: 0.7274 - val_accuracy: 0.7275\n",
      "Epoch 8/100\n",
      "589/588 [==============================] - 6s 11ms/step - loss: 0.6223 - accuracy: 0.7659 - val_loss: 0.7011 - val_accuracy: 0.7443\n",
      "Epoch 9/100\n",
      "589/588 [==============================] - 6s 11ms/step - loss: 0.5963 - accuracy: 0.7755 - val_loss: 0.7012 - val_accuracy: 0.7409\n",
      "Epoch 10/100\n",
      "589/588 [==============================] - 6s 11ms/step - loss: 0.5770 - accuracy: 0.7842 - val_loss: 0.7024 - val_accuracy: 0.7379\n",
      "Epoch 11/100\n",
      "589/588 [==============================] - 6s 11ms/step - loss: 0.5568 - accuracy: 0.7950 - val_loss: 0.6775 - val_accuracy: 0.7479\n",
      "Epoch 12/100\n",
      "589/588 [==============================] - 6s 11ms/step - loss: 0.5378 - accuracy: 0.8019 - val_loss: 0.6641 - val_accuracy: 0.7609\n",
      "Epoch 13/100\n",
      "589/588 [==============================] - 6s 11ms/step - loss: 0.5245 - accuracy: 0.8040 - val_loss: 0.6630 - val_accuracy: 0.7639\n",
      "Epoch 14/100\n",
      "589/588 [==============================] - 7s 11ms/step - loss: 0.5064 - accuracy: 0.8165 - val_loss: 0.6556 - val_accuracy: 0.7641\n",
      "Epoch 15/100\n",
      "589/588 [==============================] - 6s 11ms/step - loss: 0.4932 - accuracy: 0.8211 - val_loss: 0.6620 - val_accuracy: 0.7639\n",
      "Epoch 16/100\n",
      "589/588 [==============================] - 6s 11ms/step - loss: 0.4782 - accuracy: 0.8269 - val_loss: 0.6603 - val_accuracy: 0.7649\n",
      "Epoch 17/100\n",
      "589/588 [==============================] - 6s 11ms/step - loss: 0.4682 - accuracy: 0.8292 - val_loss: 0.6479 - val_accuracy: 0.7728\n",
      "Epoch 18/100\n",
      "589/588 [==============================] - 6s 11ms/step - loss: 0.4537 - accuracy: 0.8362 - val_loss: 0.6861 - val_accuracy: 0.7624\n",
      "Epoch 19/100\n",
      "589/588 [==============================] - 6s 10ms/step - loss: 0.4441 - accuracy: 0.8395 - val_loss: 0.6810 - val_accuracy: 0.7634\n",
      "Epoch 20/100\n",
      "589/588 [==============================] - 6s 11ms/step - loss: 0.4338 - accuracy: 0.8430 - val_loss: 0.6599 - val_accuracy: 0.7651\n",
      "Epoch 21/100\n",
      "589/588 [==============================] - 6s 11ms/step - loss: 0.4208 - accuracy: 0.8486 - val_loss: 0.6643 - val_accuracy: 0.7719\n",
      "Epoch 22/100\n",
      "589/588 [==============================] - 6s 11ms/step - loss: 0.4111 - accuracy: 0.8512 - val_loss: 0.6664 - val_accuracy: 0.7777\n",
      "Epoch 00022: early stopping\n"
     ]
    }
   ],
   "source": [
    "\n",
    "epochs = 100\n",
    "\n",
    "m4_h = m4.fit(train_gen,\n",
    "                steps_per_epoch=(len(x_train_1)/batch_size),\n",
    "                callbacks = [es],\n",
    "                epochs=epochs,\n",
    "                validation_data = val_gen, \n",
    "                validation_steps = (len(x_val)/batch_size),\n",
    "                class_weight = weights)"
   ]
  },
  {
   "cell_type": "code",
   "execution_count": 26,
   "metadata": {},
   "outputs": [],
   "source": [
    "base_model.trainable = True\n",
    "\n",
    "opt = keras.optimizers.Adam(lr=1e-5)\n",
    "\n",
    "m4.compile(loss= keras.losses.categorical_crossentropy, optimizer=opt, metrics = ['accuracy'])"
   ]
  },
  {
   "cell_type": "code",
   "execution_count": 27,
   "metadata": {},
   "outputs": [
    {
     "name": "stdout",
     "output_type": "stream",
     "text": [
      "WARNING:tensorflow:sample_weight modes were coerced from\n",
      "  ...\n",
      "    to  \n",
      "  ['...']\n",
      "WARNING:tensorflow:sample_weight modes were coerced from\n",
      "  ...\n",
      "    to  \n",
      "  ['...']\n",
      "Train for 588.125 steps, validate for 147.03125 steps\n",
      "Epoch 1/100\n",
      "589/588 [==============================] - 14s 23ms/step - loss: 0.3708 - accuracy: 0.8689 - val_loss: 0.8700 - val_accuracy: 0.7154\n",
      "Epoch 2/100\n",
      "589/588 [==============================] - 12s 21ms/step - loss: 0.3240 - accuracy: 0.8894 - val_loss: 0.6490 - val_accuracy: 0.7851\n",
      "Epoch 3/100\n",
      "589/588 [==============================] - 12s 21ms/step - loss: 0.2906 - accuracy: 0.9055 - val_loss: 0.6147 - val_accuracy: 0.7832\n",
      "Epoch 4/100\n",
      "589/588 [==============================] - 12s 21ms/step - loss: 0.2640 - accuracy: 0.9177 - val_loss: 0.7517 - val_accuracy: 0.7501\n",
      "Epoch 5/100\n",
      "589/588 [==============================] - 12s 21ms/step - loss: 0.2408 - accuracy: 0.9287 - val_loss: 0.6007 - val_accuracy: 0.7981\n",
      "Epoch 6/100\n",
      "589/588 [==============================] - 12s 21ms/step - loss: 0.2201 - accuracy: 0.9398 - val_loss: 0.6549 - val_accuracy: 0.7843\n",
      "Epoch 7/100\n",
      "589/588 [==============================] - 12s 21ms/step - loss: 0.2012 - accuracy: 0.9484 - val_loss: 0.6889 - val_accuracy: 0.7726\n",
      "Epoch 8/100\n",
      "589/588 [==============================] - 12s 21ms/step - loss: 0.1851 - accuracy: 0.9557 - val_loss: 0.5701 - val_accuracy: 0.8096\n",
      "Epoch 9/100\n",
      "589/588 [==============================] - 12s 21ms/step - loss: 0.1680 - accuracy: 0.9620 - val_loss: 0.5955 - val_accuracy: 0.7979\n",
      "Epoch 10/100\n",
      "589/588 [==============================] - 12s 21ms/step - loss: 0.1535 - accuracy: 0.9680 - val_loss: 0.6048 - val_accuracy: 0.7994\n",
      "Epoch 11/100\n",
      "589/588 [==============================] - 12s 21ms/step - loss: 0.1401 - accuracy: 0.9750 - val_loss: 0.5834 - val_accuracy: 0.8004\n",
      "Epoch 12/100\n",
      "589/588 [==============================] - 12s 21ms/step - loss: 0.1279 - accuracy: 0.9793 - val_loss: 0.5714 - val_accuracy: 0.8089\n",
      "Epoch 13/100\n",
      "589/588 [==============================] - 12s 21ms/step - loss: 0.1161 - accuracy: 0.9837 - val_loss: 0.5725 - val_accuracy: 0.8100\n",
      "Epoch 00013: early stopping\n"
     ]
    }
   ],
   "source": [
    "\n",
    "epochs = 100\n",
    "\n",
    "m4_h = m4.fit(train_gen,\n",
    "                steps_per_epoch=(len(x_train_1)/batch_size),\n",
    "                callbacks = [es],\n",
    "                epochs=epochs,\n",
    "                validation_data = val_gen, \n",
    "                validation_steps = (len(x_val)/batch_size),\n",
    "                class_weight = weights)"
   ]
  },
  {
   "cell_type": "code",
   "execution_count": 28,
   "metadata": {},
   "outputs": [
    {
     "data": {
      "image/png": "[encoded data removed]",
      "text/plain": [
       "<Figure size 1080x360 with 2 Axes>"
      ]
     },
     "metadata": {},
     "output_type": "display_data"
    },
    {
     "data": {
      "image/png": "[encoded data removed]",
      "text/plain": [
       "<Figure size 1080x360 with 2 Axes>"
      ]
     },
     "execution_count": 28,
     "metadata": {},
     "output_type": "execute_result"
    }
   ],
   "source": [
    "plot_history(m4_h, 'first')\n"
   ]
  },
  {
   "cell_type": "code",
   "execution_count": 29,
   "metadata": {},
   "outputs": [
    {
     "name": "stdout",
     "output_type": "stream",
     "text": [
      "5882/5882 [==============================] - 2s 276us/sample - loss: 0.5501 - accuracy: 0.8086\n",
      "\n",
      "accuracy: 80.86%\n"
     ]
    }
   ],
   "source": [
    "scores = m4.evaluate(x_test, y_test_1)\n",
    "print(\"\\n%s: %.2f%%\" % (m4.metrics_names[1], scores[1]*100))"
   ]
  },
  {
   "cell_type": "code",
   "execution_count": 30,
   "metadata": {},
   "outputs": [],
   "source": [
    "test_preds = m4.predict(x_test)"
   ]
  },
  {
   "cell_type": "code",
   "execution_count": 31,
   "metadata": {},
   "outputs": [],
   "source": [
    "preds_df = pd.DataFrame(test_preds)\n",
    "predicted_labels = preds_df.idxmax(axis=1)"
   ]
  },
  {
   "cell_type": "code",
   "execution_count": 32,
   "metadata": {},
   "outputs": [
    {
     "data": {
      "image/png": "[encoded data removed]",
      "text/plain": [
       "<Figure size 432x288 with 1 Axes>"
      ]
     },
     "metadata": {
      "needs_background": "light"
     },
     "output_type": "display_data"
    },
    {
     "data": {
      "text/plain": [
       "array([[ 399,   19,   50,   37,   19],\n",
       "       [  70,  567,  123,  135,   47],\n",
       "       [  41,   21,  878,   97,   51],\n",
       "       [  38,   28,   76, 1412,   49],\n",
       "       [  19,   23,   93,   90, 1500]])"
      ]
     },
     "execution_count": 32,
     "metadata": {},
     "output_type": "execute_result"
    }
   ],
   "source": [
    "draw_confusion_matrix(y_test, predicted_labels)"
   ]
  },
  {
   "cell_type": "code",
   "execution_count": 33,
   "metadata": {},
   "outputs": [
    {
     "name": "stdout",
     "output_type": "stream",
     "text": [
      "              precision    recall  f1-score   support\n",
      "\n",
      "           0       0.70      0.76      0.73       524\n",
      "           1       0.86      0.60      0.71       942\n",
      "           2       0.72      0.81      0.76      1088\n",
      "           3       0.80      0.88      0.84      1603\n",
      "           4       0.90      0.87      0.88      1725\n",
      "\n",
      "    accuracy                           0.81      5882\n",
      "   macro avg       0.80      0.78      0.78      5882\n",
      "weighted avg       0.82      0.81      0.81      5882\n",
      "\n"
     ]
    }
   ],
   "source": [
    "print(classification_report(y_test, predicted_labels))"
   ]
  },
  {
   "cell_type": "code",
   "execution_count": 35,
   "metadata": {},
   "outputs": [],
   "source": [
    "p = '/home/jovyan/Saved_Models/'\n",
    "m4.save(p + \"CNN_T10_P010726_model_5.h5\")"
   ]
  },
  {
   "cell_type": "code",
   "execution_count": null,
   "metadata": {},
   "outputs": [],
   "source": []
  }
 ],
 "metadata": {
  "kernelspec": {
   "display_name": "Python 3",
   "language": "python",
   "name": "python3"
  },
  "language_info": {
   "codemirror_mode": {
    "name": "ipython",
    "version": 3
   },
   "file_extension": ".py",
   "mimetype": "text/x-python",
   "name": "python",
   "nbconvert_exporter": "python",
   "pygments_lexer": "ipython3",
   "version": "3.6.9"
  }
 },
 "nbformat": 4,
 "nbformat_minor": 4
}
