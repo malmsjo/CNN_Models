{
 "cells": [
  {
   "cell_type": "code",
   "execution_count": 1,
   "metadata": {},
   "outputs": [
    {
     "name": "stderr",
     "output_type": "stream",
     "text": [
      "Using TensorFlow backend.\n"
     ]
    }
   ],
   "source": [
    "import tensorflow as tf\n",
    "from tensorflow import keras\n",
    "from tensorflow.keras.models import Sequential\n",
    "from tensorflow.keras.layers import Dropout\n",
    "from tensorflow.keras.models import Model\n",
    "from tensorflow.keras.layers import Input\n",
    "from tensorflow.keras.layers import Dense\n",
    "from tensorflow.keras.layers import Activation\n",
    "from tensorflow.keras.layers import Flatten\n",
    "from tensorflow.keras.layers import Dropout\n",
    "from tensorflow.keras.layers import Conv2D, Conv3D\n",
    "from tensorflow.keras.layers import MaxPooling2D, MaxPooling3D\n",
    "from tensorflow.keras.layers import GlobalAveragePooling2D\n",
    "from tensorflow.keras.layers import BatchNormalization\n",
    "from tensorflow.keras.applications.vgg16 import VGG16\n",
    "\n",
    "from tensorflow.keras.optimizers import Adam, RMSprop\n",
    "from tensorflow.keras import regularizers\n",
    "from tensorflow.keras.losses import categorical_crossentropy\n",
    "from tensorflow.keras.losses import binary_crossentropy\n",
    "from sklearn.metrics import f1_score\n",
    "\n",
    "from keras.callbacks import EarlyStopping\n",
    "from keras.preprocessing.image import ImageDataGenerator\n",
    "from sklearn.model_selection import train_test_split\n",
    "import numpy as np\n",
    "import matplotlib.pyplot as plt\n",
    "import pandas as pd\n",
    "from PIL import Image \n",
    "import seaborn as sns\n",
    "import os\n",
    "import re\n",
    "import glob\n",
    "import cv2\n",
    "from sklearn.metrics import classification_report\n",
    "from sklearn.metrics import confusion_matrix\n",
    "from sklearn.utils.multiclass import unique_labels\n",
    "from sklearn.model_selection import StratifiedKFold\n",
    "from sklearn import preprocessing\n",
    "import tqdm\n",
    "from numpy import loadtxt\n",
    "from os import *\n",
    "from sklearn.utils import class_weight\n",
    "from tensorflow.keras.applications.vgg16 import preprocess_input\n",
    "from sklearn.metrics import roc_curve"
   ]
  },
  {
   "cell_type": "code",
   "execution_count": 2,
   "metadata": {},
   "outputs": [],
   "source": [
    "def atoi(text):\n",
    "    return int(text) if text.isdigit() else text\n",
    "def natural_keys(text):\n",
    "    return [atoi(c) for c in re.split('(\\d+)', text)]"
   ]
  },
  {
   "cell_type": "code",
   "execution_count": 3,
   "metadata": {},
   "outputs": [],
   "source": [
    "def draw_confusion_matrix(true,preds):\n",
    "    conf_matx = confusion_matrix(true, preds)\n",
    "    sns.heatmap(conf_matx, annot=True,annot_kws={\"size\": 12},fmt='g', cbar=False, cmap=plt.cm.Blues) #'viridis'\n",
    "    plt.savefig('/home/jovyan/conf_matrix.png')\n",
    "    plt.show()\n",
    "    \n",
    "    return conf_matx"
   ]
  },
  {
   "cell_type": "code",
   "execution_count": 4,
   "metadata": {},
   "outputs": [],
   "source": [
    "def plot_history(model_history, model_name):\n",
    "    fig = plt.figure(figsize=(15,5), facecolor='w')\n",
    "    ax = fig.add_subplot(121)\n",
    "    ax.plot(model_history.history['loss'])\n",
    "    ax.plot(model_history.history['val_loss'])\n",
    "    ax.set(title=model_name + ': Model loss', ylabel='Loss', xlabel='Epoch')\n",
    "    ax.legend(['Train', 'Val'], loc='upper left')\n",
    "    ax = fig.add_subplot(122)\n",
    "    ax.plot(model_history.history['accuracy'])\n",
    "    ax.plot(model_history.history['val_accuracy'])\n",
    "    ax.set(title=model_name + ': Model Accuracy; test='+ str(np.round(model_history.history['val_accuracy'][-1], 3)),\n",
    "           ylabel='Accuracy', xlabel='Epoch')\n",
    "    ax.legend(['Train', 'Val'], loc='upper left')\n",
    "    plt.savefig('/home/jovyan/curve.png')\n",
    "    plt.show()\n",
    "    \n",
    "    return fig"
   ]
  },
  {
   "cell_type": "code",
   "execution_count": 5,
   "metadata": {},
   "outputs": [],
   "source": [
    "def resize(x):\n",
    "    rescaled = []\n",
    "\n",
    "    for i in x:\n",
    "\n",
    "        scale_percent = 140 # percent of original size\n",
    "        width = int(i.shape[1] / (scale_percent / 100))\n",
    "        height = int(i.shape[0] / (scale_percent / 100))\n",
    "        dim = (width, height)\n",
    "        resized = cv2.resize(i, dim, interpolation = cv2.INTER_LANCZOS4)\n",
    "        rescaled.append(resized)\n",
    "\n",
    "    x_orig = np.reshape( rescaled, (len( rescaled), resized.shape[1], resized.shape[1], 3))\n",
    "\n",
    "    return x_orig"
   ]
  },
  {
   "cell_type": "code",
   "execution_count": 6,
   "metadata": {},
   "outputs": [],
   "source": [
    "def loadImages(path_data, path_labels):\n",
    "\n",
    "    image_list = []\n",
    "    \n",
    "\n",
    "    for filename in tqdm.tqdm(sorted(glob.glob(path_data), key=natural_keys)): \n",
    "        im=cv2.imread(filename)\n",
    "        #gray_image = cv2.cvtColor(im, cv2.COLOR_BGR2GRAY)\n",
    "        imarray = np.array(im)\n",
    "        #imarray = imarray.astype('float32')\n",
    "        image_list.append(imarray)\n",
    "\n",
    "    x_orig = np.reshape(image_list, (len(image_list), 90, 90, 3))\n",
    "    \n",
    "    path = path_labels    \n",
    "    labels = pd.read_csv(path, usecols=[\"Type\", \"Category\"],\n",
    "                       sep=\",\" )\n",
    "    y_orig = np.array(labels['Category'])\n",
    "\n",
    "    return x_orig, y_orig"
   ]
  },
  {
   "cell_type": "code",
   "execution_count": 7,
   "metadata": {},
   "outputs": [],
   "source": [
    "p_data = '/home/jovyan/DATA_MASTER_PROJECT/Check_DIFF_T60_T_97/2_calss_CONT_HRH/'\n",
    "\n",
    "train_data =  p_data + 'TRAIN/*.tiff'\n",
    "train_lab= p_data + 'train_lab.csv'\n",
    "\n",
    "validation_data = p_data + 'VALIDATION/*.tiff'\n",
    "validation_lab = p_data + 'validation_lab.csv'\n",
    "\n",
    "\n",
    "test_data= p_data + 'TEST/*.tiff'\n",
    "test_lab= p_data + 'test_lab.csv'\n",
    "\n"
   ]
  },
  {
   "cell_type": "code",
   "execution_count": 8,
   "metadata": {},
   "outputs": [
    {
     "name": "stderr",
     "output_type": "stream",
     "text": [
      "100%|██████████| 46790/46790 [00:40<00:00, 1144.04it/s]\n"
     ]
    },
    {
     "data": {
      "text/plain": [
       "((46790, 90, 90, 3), (46790,))"
      ]
     },
     "execution_count": 8,
     "metadata": {},
     "output_type": "execute_result"
    }
   ],
   "source": [
    "x_train, y_train = loadImages(train_data, train_lab)\n",
    "x_train.shape, y_train.shape"
   ]
  },
  {
   "cell_type": "code",
   "execution_count": 9,
   "metadata": {},
   "outputs": [
    {
     "name": "stderr",
     "output_type": "stream",
     "text": [
      "100%|██████████| 12591/12591 [00:12<00:00, 1007.38it/s]\n"
     ]
    },
    {
     "data": {
      "text/plain": [
       "((12591, 90, 90, 3), (12591,))"
      ]
     },
     "execution_count": 9,
     "metadata": {},
     "output_type": "execute_result"
    }
   ],
   "source": [
    "x_val, y_val = loadImages(validation_data, validation_lab)\n",
    "x_val.shape, y_val.shape"
   ]
  },
  {
   "cell_type": "code",
   "execution_count": 10,
   "metadata": {},
   "outputs": [
    {
     "name": "stderr",
     "output_type": "stream",
     "text": [
      "100%|██████████| 15219/15219 [00:15<00:00, 1001.77it/s]\n"
     ]
    },
    {
     "data": {
      "text/plain": [
       "((15219, 90, 90, 3), (15219,))"
      ]
     },
     "execution_count": 10,
     "metadata": {},
     "output_type": "execute_result"
    }
   ],
   "source": [
    "x_test, y_test = loadImages(test_data, test_lab)\n",
    "x_test.shape, y_test.shape"
   ]
  },
  {
   "cell_type": "code",
   "execution_count": 11,
   "metadata": {},
   "outputs": [
    {
     "data": {
      "text/plain": [
       "(46790, 64, 64, 3)"
      ]
     },
     "execution_count": 11,
     "metadata": {},
     "output_type": "execute_result"
    }
   ],
   "source": [
    "x_train = resize(x_train)\n",
    "x_train.shape"
   ]
  },
  {
   "cell_type": "code",
   "execution_count": 12,
   "metadata": {},
   "outputs": [
    {
     "data": {
      "text/plain": [
       "(12591, 64, 64, 3)"
      ]
     },
     "execution_count": 12,
     "metadata": {},
     "output_type": "execute_result"
    }
   ],
   "source": [
    "x_val = resize(x_val)\n",
    "x_val.shape"
   ]
  },
  {
   "cell_type": "code",
   "execution_count": 13,
   "metadata": {},
   "outputs": [
    {
     "data": {
      "text/plain": [
       "(15219, 64, 64, 3)"
      ]
     },
     "execution_count": 13,
     "metadata": {},
     "output_type": "execute_result"
    }
   ],
   "source": [
    "x_test = resize(x_test)\n",
    "x_test.shape"
   ]
  },
  {
   "cell_type": "code",
   "execution_count": 14,
   "metadata": {},
   "outputs": [],
   "source": [
    "es = EarlyStopping(monitor='val_loss', mode='min', verbose=2, patience=3)"
   ]
  },
  {
   "cell_type": "code",
   "execution_count": 15,
   "metadata": {},
   "outputs": [],
   "source": [
    "pretrained_model = VGG16(weights='imagenet',include_top=False, input_shape=(64, 64, 3))\n",
    "\n",
    "base_model = Model(inputs=pretrained_model.input, outputs=pretrained_model.get_layer('block3_pool').output)"
   ]
  },
  {
   "cell_type": "code",
   "execution_count": 16,
   "metadata": {},
   "outputs": [
    {
     "data": {
      "text/plain": [
       "{0: 36776, 1: 10014}"
      ]
     },
     "execution_count": 16,
     "metadata": {},
     "output_type": "execute_result"
    }
   ],
   "source": [
    "unique, counts = np.unique(y_train, return_counts=True)\n",
    "dict(zip(unique, counts))"
   ]
  },
  {
   "cell_type": "code",
   "execution_count": 17,
   "metadata": {},
   "outputs": [
    {
     "name": "stdout",
     "output_type": "stream",
     "text": [
      "weights = [0.63614858 2.33622928]\n"
     ]
    }
   ],
   "source": [
    "weights = class_weight.compute_class_weight('balanced', np.unique(y_train),y_train)\n",
    "print('weights = ' + str(weights))"
   ]
  },
  {
   "cell_type": "code",
   "execution_count": 18,
   "metadata": {},
   "outputs": [],
   "source": [
    "x_train = preprocess_input(x_train)\n",
    "\n",
    "x_val = preprocess_input(x_val)\n",
    "\n",
    "x_test = preprocess_input(x_test)\n"
   ]
  },
  {
   "cell_type": "code",
   "execution_count": 19,
   "metadata": {},
   "outputs": [],
   "source": [
    "batch_size = 128"
   ]
  },
  {
   "cell_type": "code",
   "execution_count": 20,
   "metadata": {},
   "outputs": [
    {
     "name": "stdout",
     "output_type": "stream",
     "text": [
      "Model: \"sequential\"\n",
      "_________________________________________________________________\n",
      "Layer (type)                 Output Shape              Param #   \n",
      "=================================================================\n",
      "model (Model)                (None, 8, 8, 256)         1735488   \n",
      "_________________________________________________________________\n",
      "batch_normalization (BatchNo (None, 8, 8, 256)         1024      \n",
      "_________________________________________________________________\n",
      "global_average_pooling2d (Gl (None, 256)               0         \n",
      "_________________________________________________________________\n",
      "batch_normalization_1 (Batch (None, 256)               1024      \n",
      "_________________________________________________________________\n",
      "activation (Activation)      (None, 256)               0         \n",
      "_________________________________________________________________\n",
      "dense (Dense)                (None, 64)                16448     \n",
      "_________________________________________________________________\n",
      "dense_1 (Dense)              (None, 1)                 65        \n",
      "=================================================================\n",
      "Total params: 1,754,049\n",
      "Trainable params: 1,753,025\n",
      "Non-trainable params: 1,024\n",
      "_________________________________________________________________\n"
     ]
    }
   ],
   "source": [
    "datagen = ImageDataGenerator()\n",
    "\n",
    "datagen.fit(x_train)\n",
    "\n",
    "train_gen = datagen.flow(x_train, y_train,batch_size=batch_size )\n",
    "\n",
    "dat_val = ImageDataGenerator()\n",
    "\n",
    "dat_val.fit(x_val)\n",
    "\n",
    "val_gen = dat_val.flow(x_val, y_val,batch_size=batch_size)\n",
    "\n",
    "m4 = Sequential()\n",
    "m4.add(base_model)\n",
    "\n",
    "\n",
    "m4.add(BatchNormalization())\n",
    "m4.add(GlobalAveragePooling2D())\n",
    "m4.add(BatchNormalization())\n",
    "m4.add(Activation('relu'))\n",
    "m4.add(Dense(64, activation='relu'))\n",
    "#m4.add(Dropout(0.5))\n",
    "\n",
    "m4.add(Dense(1,activation='sigmoid'))\n",
    "\n",
    "m4.summary()"
   ]
  },
  {
   "cell_type": "code",
   "execution_count": 21,
   "metadata": {
    "collapsed": true,
    "jupyter": {
     "outputs_hidden": true
    }
   },
   "outputs": [
    {
     "name": "stdout",
     "output_type": "stream",
     "text": [
      "WARNING:tensorflow:sample_weight modes were coerced from\n",
      "  ...\n",
      "    to  \n",
      "  ['...']\n",
      "WARNING:tensorflow:sample_weight modes were coerced from\n",
      "  ...\n",
      "    to  \n",
      "  ['...']\n",
      "Train for 365.546875 steps, validate for 98.3671875 steps\n",
      "Epoch 1/100\n",
      "366/365 [==============================] - 15s 40ms/step - loss: 0.8351 - accuracy: 0.4013 - val_loss: 0.7112 - val_accuracy: 0.5500\n",
      "Epoch 2/100\n",
      "366/365 [==============================] - 11s 31ms/step - loss: 0.6597 - accuracy: 0.6441 - val_loss: 0.6498 - val_accuracy: 0.6994\n",
      "Epoch 3/100\n",
      "366/365 [==============================] - 11s 30ms/step - loss: 0.6132 - accuracy: 0.7307 - val_loss: 0.6097 - val_accuracy: 0.7477\n",
      "Epoch 4/100\n",
      "366/365 [==============================] - 11s 30ms/step - loss: 0.5828 - accuracy: 0.7606 - val_loss: 0.5817 - val_accuracy: 0.7646\n",
      "Epoch 5/100\n",
      "366/365 [==============================] - 11s 31ms/step - loss: 0.5608 - accuracy: 0.7739 - val_loss: 0.5611 - val_accuracy: 0.7736\n",
      "Epoch 6/100\n",
      "366/365 [==============================] - 11s 30ms/step - loss: 0.5443 - accuracy: 0.7783 - val_loss: 0.5467 - val_accuracy: 0.7764\n",
      "Epoch 7/100\n",
      "366/365 [==============================] - 11s 31ms/step - loss: 0.5316 - accuracy: 0.7804 - val_loss: 0.5356 - val_accuracy: 0.7771\n",
      "Epoch 8/100\n",
      "366/365 [==============================] - 11s 30ms/step - loss: 0.5214 - accuracy: 0.7826 - val_loss: 0.5270 - val_accuracy: 0.7789\n",
      "Epoch 9/100\n",
      "366/365 [==============================] - 11s 30ms/step - loss: 0.5130 - accuracy: 0.7832 - val_loss: 0.5203 - val_accuracy: 0.7801\n",
      "Epoch 10/100\n",
      "366/365 [==============================] - 11s 31ms/step - loss: 0.5060 - accuracy: 0.7842 - val_loss: 0.5149 - val_accuracy: 0.7798\n",
      "Epoch 11/100\n",
      "366/365 [==============================] - 11s 30ms/step - loss: 0.5000 - accuracy: 0.7851 - val_loss: 0.5104 - val_accuracy: 0.7801\n",
      "Epoch 12/100\n",
      "366/365 [==============================] - 11s 30ms/step - loss: 0.4947 - accuracy: 0.7859 - val_loss: 0.5064 - val_accuracy: 0.7814\n",
      "Epoch 13/100\n",
      "366/365 [==============================] - 11s 30ms/step - loss: 0.4901 - accuracy: 0.7873 - val_loss: 0.5031 - val_accuracy: 0.7814\n",
      "Epoch 14/100\n",
      "366/365 [==============================] - 11s 30ms/step - loss: 0.4859 - accuracy: 0.7881 - val_loss: 0.5002 - val_accuracy: 0.7829\n",
      "Epoch 15/100\n",
      "366/365 [==============================] - 11s 30ms/step - loss: 0.4822 - accuracy: 0.7893 - val_loss: 0.4979 - val_accuracy: 0.7820\n",
      "Epoch 16/100\n",
      "366/365 [==============================] - 11s 30ms/step - loss: 0.4788 - accuracy: 0.7900 - val_loss: 0.4959 - val_accuracy: 0.7816\n",
      "Epoch 17/100\n",
      "366/365 [==============================] - 11s 29ms/step - loss: 0.4757 - accuracy: 0.7915 - val_loss: 0.4935 - val_accuracy: 0.7809\n",
      "Epoch 18/100\n",
      "366/365 [==============================] - 11s 31ms/step - loss: 0.4728 - accuracy: 0.7919 - val_loss: 0.4919 - val_accuracy: 0.7808\n",
      "Epoch 19/100\n",
      "366/365 [==============================] - 11s 30ms/step - loss: 0.4702 - accuracy: 0.7924 - val_loss: 0.4900 - val_accuracy: 0.7825\n",
      "Epoch 20/100\n",
      "366/365 [==============================] - 11s 30ms/step - loss: 0.4677 - accuracy: 0.7936 - val_loss: 0.4887 - val_accuracy: 0.7823\n",
      "Epoch 21/100\n",
      "366/365 [==============================] - 11s 30ms/step - loss: 0.4654 - accuracy: 0.7942 - val_loss: 0.4872 - val_accuracy: 0.7818\n",
      "Epoch 22/100\n",
      "366/365 [==============================] - 11s 30ms/step - loss: 0.4632 - accuracy: 0.7954 - val_loss: 0.4863 - val_accuracy: 0.7811\n",
      "Epoch 23/100\n",
      "366/365 [==============================] - 11s 31ms/step - loss: 0.4611 - accuracy: 0.7960 - val_loss: 0.4856 - val_accuracy: 0.7812\n",
      "Epoch 24/100\n",
      "366/365 [==============================] - 11s 31ms/step - loss: 0.4593 - accuracy: 0.7972 - val_loss: 0.4841 - val_accuracy: 0.7829\n",
      "Epoch 25/100\n",
      "366/365 [==============================] - 11s 31ms/step - loss: 0.4575 - accuracy: 0.7983 - val_loss: 0.4830 - val_accuracy: 0.7817\n",
      "Epoch 26/100\n",
      "366/365 [==============================] - 11s 30ms/step - loss: 0.4558 - accuracy: 0.7989 - val_loss: 0.4823 - val_accuracy: 0.7821\n",
      "Epoch 27/100\n",
      "366/365 [==============================] - 11s 30ms/step - loss: 0.4541 - accuracy: 0.7994 - val_loss: 0.4815 - val_accuracy: 0.7817\n",
      "Epoch 28/100\n",
      "366/365 [==============================] - 11s 30ms/step - loss: 0.4526 - accuracy: 0.8003 - val_loss: 0.4812 - val_accuracy: 0.7815\n",
      "Epoch 29/100\n",
      "366/365 [==============================] - 11s 30ms/step - loss: 0.4511 - accuracy: 0.8007 - val_loss: 0.4803 - val_accuracy: 0.7815\n",
      "Epoch 30/100\n",
      "366/365 [==============================] - 11s 30ms/step - loss: 0.4497 - accuracy: 0.8015 - val_loss: 0.4799 - val_accuracy: 0.7824\n",
      "Epoch 31/100\n",
      "366/365 [==============================] - 11s 30ms/step - loss: 0.4483 - accuracy: 0.8020 - val_loss: 0.4791 - val_accuracy: 0.7829\n",
      "Epoch 32/100\n",
      "366/365 [==============================] - 11s 30ms/step - loss: 0.4470 - accuracy: 0.8025 - val_loss: 0.4783 - val_accuracy: 0.7833\n",
      "Epoch 33/100\n",
      "366/365 [==============================] - 11s 30ms/step - loss: 0.4458 - accuracy: 0.8035 - val_loss: 0.4781 - val_accuracy: 0.7831\n",
      "Epoch 34/100\n",
      "366/365 [==============================] - 11s 30ms/step - loss: 0.4446 - accuracy: 0.8042 - val_loss: 0.4773 - val_accuracy: 0.7826\n",
      "Epoch 35/100\n",
      "366/365 [==============================] - 11s 30ms/step - loss: 0.4434 - accuracy: 0.8046 - val_loss: 0.4768 - val_accuracy: 0.7822\n",
      "Epoch 36/100\n",
      "366/365 [==============================] - 11s 30ms/step - loss: 0.4422 - accuracy: 0.8051 - val_loss: 0.4762 - val_accuracy: 0.7817\n",
      "Epoch 37/100\n",
      "366/365 [==============================] - 11s 30ms/step - loss: 0.4410 - accuracy: 0.8056 - val_loss: 0.4761 - val_accuracy: 0.7805\n",
      "Epoch 38/100\n",
      "366/365 [==============================] - 11s 30ms/step - loss: 0.4400 - accuracy: 0.8065 - val_loss: 0.4756 - val_accuracy: 0.7817\n",
      "Epoch 39/100\n",
      "366/365 [==============================] - 11s 30ms/step - loss: 0.4388 - accuracy: 0.8062 - val_loss: 0.4753 - val_accuracy: 0.7809\n",
      "Epoch 40/100\n",
      "366/365 [==============================] - 11s 31ms/step - loss: 0.4379 - accuracy: 0.8074 - val_loss: 0.4749 - val_accuracy: 0.7816\n",
      "Epoch 41/100\n",
      "366/365 [==============================] - 11s 30ms/step - loss: 0.4368 - accuracy: 0.8077 - val_loss: 0.4742 - val_accuracy: 0.7821\n",
      "Epoch 42/100\n",
      "366/365 [==============================] - 11s 30ms/step - loss: 0.4358 - accuracy: 0.8081 - val_loss: 0.4739 - val_accuracy: 0.7817\n",
      "Epoch 43/100\n",
      "366/365 [==============================] - 11s 30ms/step - loss: 0.4348 - accuracy: 0.8084 - val_loss: 0.4734 - val_accuracy: 0.7818\n",
      "Epoch 44/100\n",
      "366/365 [==============================] - 11s 30ms/step - loss: 0.4338 - accuracy: 0.8088 - val_loss: 0.4736 - val_accuracy: 0.7804\n",
      "Epoch 45/100\n",
      "366/365 [==============================] - 11s 31ms/step - loss: 0.4328 - accuracy: 0.8095 - val_loss: 0.4731 - val_accuracy: 0.7807\n",
      "Epoch 46/100\n",
      "366/365 [==============================] - 11s 31ms/step - loss: 0.4318 - accuracy: 0.8100 - val_loss: 0.4729 - val_accuracy: 0.7800\n",
      "Epoch 47/100\n",
      "366/365 [==============================] - 11s 30ms/step - loss: 0.4309 - accuracy: 0.8108 - val_loss: 0.4724 - val_accuracy: 0.7803\n",
      "Epoch 48/100\n",
      "366/365 [==============================] - 11s 30ms/step - loss: 0.4299 - accuracy: 0.8108 - val_loss: 0.4719 - val_accuracy: 0.7803\n",
      "Epoch 49/100\n",
      "366/365 [==============================] - 11s 30ms/step - loss: 0.4290 - accuracy: 0.8112 - val_loss: 0.4720 - val_accuracy: 0.7794\n",
      "Epoch 50/100\n",
      "366/365 [==============================] - 11s 30ms/step - loss: 0.4281 - accuracy: 0.8119 - val_loss: 0.4714 - val_accuracy: 0.7800\n",
      "Epoch 51/100\n",
      "366/365 [==============================] - 11s 30ms/step - loss: 0.4272 - accuracy: 0.8124 - val_loss: 0.4712 - val_accuracy: 0.7799\n",
      "Epoch 52/100\n",
      "366/365 [==============================] - 11s 30ms/step - loss: 0.4263 - accuracy: 0.8125 - val_loss: 0.4710 - val_accuracy: 0.7800\n",
      "Epoch 53/100\n",
      "366/365 [==============================] - 11s 29ms/step - loss: 0.4254 - accuracy: 0.8134 - val_loss: 0.4707 - val_accuracy: 0.7803\n",
      "Epoch 54/100\n",
      "366/365 [==============================] - 11s 30ms/step - loss: 0.4245 - accuracy: 0.8138 - val_loss: 0.4705 - val_accuracy: 0.7799\n",
      "Epoch 55/100\n",
      "366/365 [==============================] - 11s 31ms/step - loss: 0.4236 - accuracy: 0.8139 - val_loss: 0.4703 - val_accuracy: 0.7798\n",
      "Epoch 56/100\n",
      "366/365 [==============================] - 11s 31ms/step - loss: 0.4227 - accuracy: 0.8141 - val_loss: 0.4699 - val_accuracy: 0.7801\n",
      "Epoch 57/100\n",
      "366/365 [==============================] - 11s 31ms/step - loss: 0.4219 - accuracy: 0.8143 - val_loss: 0.4698 - val_accuracy: 0.7803\n",
      "Epoch 58/100\n",
      "366/365 [==============================] - 11s 31ms/step - loss: 0.4210 - accuracy: 0.8148 - val_loss: 0.4692 - val_accuracy: 0.7806\n",
      "Epoch 59/100\n",
      "366/365 [==============================] - 11s 30ms/step - loss: 0.4202 - accuracy: 0.8149 - val_loss: 0.4691 - val_accuracy: 0.7809\n",
      "Epoch 60/100\n",
      "366/365 [==============================] - 11s 31ms/step - loss: 0.4193 - accuracy: 0.8156 - val_loss: 0.4690 - val_accuracy: 0.7808\n",
      "Epoch 61/100\n",
      "366/365 [==============================] - 11s 30ms/step - loss: 0.4185 - accuracy: 0.8159 - val_loss: 0.4686 - val_accuracy: 0.7812\n",
      "Epoch 62/100\n",
      "366/365 [==============================] - 11s 30ms/step - loss: 0.4176 - accuracy: 0.8167 - val_loss: 0.4682 - val_accuracy: 0.7818\n",
      "Epoch 63/100\n",
      "366/365 [==============================] - 11s 30ms/step - loss: 0.4168 - accuracy: 0.8168 - val_loss: 0.4681 - val_accuracy: 0.7811\n",
      "Epoch 64/100\n",
      "366/365 [==============================] - 11s 30ms/step - loss: 0.4160 - accuracy: 0.8171 - val_loss: 0.4680 - val_accuracy: 0.7814\n",
      "Epoch 65/100\n",
      "366/365 [==============================] - 11s 30ms/step - loss: 0.4152 - accuracy: 0.8177 - val_loss: 0.4676 - val_accuracy: 0.7810\n",
      "Epoch 66/100\n",
      "366/365 [==============================] - 11s 30ms/step - loss: 0.4144 - accuracy: 0.8179 - val_loss: 0.4670 - val_accuracy: 0.7809\n",
      "Epoch 67/100\n",
      "366/365 [==============================] - 11s 30ms/step - loss: 0.4136 - accuracy: 0.8178 - val_loss: 0.4671 - val_accuracy: 0.7809\n",
      "Epoch 68/100\n",
      "366/365 [==============================] - 11s 30ms/step - loss: 0.4128 - accuracy: 0.8183 - val_loss: 0.4666 - val_accuracy: 0.7810\n",
      "Epoch 69/100\n",
      "366/365 [==============================] - 11s 30ms/step - loss: 0.4120 - accuracy: 0.8189 - val_loss: 0.4664 - val_accuracy: 0.7814\n",
      "Epoch 70/100\n",
      "366/365 [==============================] - 11s 30ms/step - loss: 0.4112 - accuracy: 0.8192 - val_loss: 0.4665 - val_accuracy: 0.7817\n",
      "Epoch 71/100\n",
      "366/365 [==============================] - 11s 30ms/step - loss: 0.4105 - accuracy: 0.8193 - val_loss: 0.4659 - val_accuracy: 0.7810\n",
      "Epoch 72/100\n",
      "366/365 [==============================] - 11s 30ms/step - loss: 0.4097 - accuracy: 0.8198 - val_loss: 0.4655 - val_accuracy: 0.7811\n",
      "Epoch 73/100\n",
      "366/365 [==============================] - 11s 30ms/step - loss: 0.4089 - accuracy: 0.8202 - val_loss: 0.4657 - val_accuracy: 0.7812\n",
      "Epoch 74/100\n",
      "366/365 [==============================] - 11s 30ms/step - loss: 0.4082 - accuracy: 0.8205 - val_loss: 0.4653 - val_accuracy: 0.7811\n",
      "Epoch 75/100\n",
      "366/365 [==============================] - 11s 30ms/step - loss: 0.4074 - accuracy: 0.8209 - val_loss: 0.4653 - val_accuracy: 0.7804\n",
      "Epoch 76/100\n",
      "366/365 [==============================] - 11s 30ms/step - loss: 0.4067 - accuracy: 0.8214 - val_loss: 0.4648 - val_accuracy: 0.7804\n",
      "Epoch 77/100\n",
      "366/365 [==============================] - 11s 30ms/step - loss: 0.4059 - accuracy: 0.8214 - val_loss: 0.4650 - val_accuracy: 0.7802\n",
      "Epoch 78/100\n",
      "366/365 [==============================] - 11s 30ms/step - loss: 0.4052 - accuracy: 0.8222 - val_loss: 0.4642 - val_accuracy: 0.7816\n",
      "Epoch 79/100\n",
      "366/365 [==============================] - 11s 30ms/step - loss: 0.4045 - accuracy: 0.8221 - val_loss: 0.4645 - val_accuracy: 0.7816\n",
      "Epoch 80/100\n",
      "366/365 [==============================] - 11s 30ms/step - loss: 0.4037 - accuracy: 0.8229 - val_loss: 0.4642 - val_accuracy: 0.7815\n",
      "Epoch 81/100\n",
      "366/365 [==============================] - 11s 30ms/step - loss: 0.4031 - accuracy: 0.8228 - val_loss: 0.4640 - val_accuracy: 0.7817\n",
      "Epoch 82/100\n",
      "366/365 [==============================] - 11s 30ms/step - loss: 0.4023 - accuracy: 0.8233 - val_loss: 0.4638 - val_accuracy: 0.7815\n",
      "Epoch 83/100\n",
      "366/365 [==============================] - 11s 30ms/step - loss: 0.4016 - accuracy: 0.8237 - val_loss: 0.4634 - val_accuracy: 0.7816\n",
      "Epoch 84/100\n",
      "366/365 [==============================] - 11s 30ms/step - loss: 0.4009 - accuracy: 0.8242 - val_loss: 0.4636 - val_accuracy: 0.7814\n",
      "Epoch 85/100\n",
      "366/365 [==============================] - 11s 30ms/step - loss: 0.4002 - accuracy: 0.8244 - val_loss: 0.4629 - val_accuracy: 0.7814\n",
      "Epoch 86/100\n",
      "366/365 [==============================] - 11s 30ms/step - loss: 0.3995 - accuracy: 0.8245 - val_loss: 0.4631 - val_accuracy: 0.7814\n",
      "Epoch 87/100\n",
      "366/365 [==============================] - 11s 30ms/step - loss: 0.3988 - accuracy: 0.8251 - val_loss: 0.4626 - val_accuracy: 0.7812\n",
      "Epoch 88/100\n",
      "366/365 [==============================] - 11s 29ms/step - loss: 0.3981 - accuracy: 0.8246 - val_loss: 0.4624 - val_accuracy: 0.7813\n",
      "Epoch 89/100\n",
      "366/365 [==============================] - 11s 30ms/step - loss: 0.3974 - accuracy: 0.8255 - val_loss: 0.4621 - val_accuracy: 0.7815\n",
      "Epoch 90/100\n",
      "366/365 [==============================] - 11s 30ms/step - loss: 0.3966 - accuracy: 0.8258 - val_loss: 0.4621 - val_accuracy: 0.7826\n",
      "Epoch 91/100\n",
      "366/365 [==============================] - 11s 29ms/step - loss: 0.3960 - accuracy: 0.8258 - val_loss: 0.4617 - val_accuracy: 0.7816\n",
      "Epoch 92/100\n",
      "366/365 [==============================] - 11s 30ms/step - loss: 0.3953 - accuracy: 0.8269 - val_loss: 0.4613 - val_accuracy: 0.7825\n",
      "Epoch 93/100\n",
      "366/365 [==============================] - 11s 30ms/step - loss: 0.3947 - accuracy: 0.8268 - val_loss: 0.4616 - val_accuracy: 0.7815\n",
      "Epoch 94/100\n",
      "366/365 [==============================] - 11s 30ms/step - loss: 0.3940 - accuracy: 0.8278 - val_loss: 0.4613 - val_accuracy: 0.7825\n",
      "Epoch 95/100\n",
      "366/365 [==============================] - 11s 30ms/step - loss: 0.3933 - accuracy: 0.8278 - val_loss: 0.4609 - val_accuracy: 0.7825\n",
      "Epoch 96/100\n",
      "366/365 [==============================] - 11s 30ms/step - loss: 0.3927 - accuracy: 0.8283 - val_loss: 0.4608 - val_accuracy: 0.7825\n",
      "Epoch 97/100\n",
      "366/365 [==============================] - 11s 31ms/step - loss: 0.3920 - accuracy: 0.8282 - val_loss: 0.4609 - val_accuracy: 0.7824\n",
      "Epoch 98/100\n",
      "366/365 [==============================] - 11s 30ms/step - loss: 0.3913 - accuracy: 0.8287 - val_loss: 0.4609 - val_accuracy: 0.7825\n",
      "Epoch 99/100\n",
      "366/365 [==============================] - 11s 31ms/step - loss: 0.3907 - accuracy: 0.8292 - val_loss: 0.4606 - val_accuracy: 0.7825\n",
      "Epoch 100/100\n",
      "366/365 [==============================] - 11s 30ms/step - loss: 0.3900 - accuracy: 0.8299 - val_loss: 0.4601 - val_accuracy: 0.7829\n"
     ]
    }
   ],
   "source": [
    "base_model.trainable = False\n",
    "\n",
    "opt = keras.optimizers.Adam(lr=1e-5)\n",
    "\n",
    "m4.compile(loss= keras.losses.binary_crossentropy, optimizer=opt, metrics = ['accuracy'])\n",
    "\n",
    "\n",
    "\n",
    "epochs = 100\n",
    "\n",
    "m4_h = m4.fit(train_gen,\n",
    "                steps_per_epoch=(len(x_train)/batch_size),\n",
    "                callbacks = [es],\n",
    "                epochs=epochs,\n",
    "                validation_data = (val_gen), \n",
    "                validation_steps = (len(x_val)/batch_size),\n",
    "                class_weight = weights,\n",
    "                 verbose = 1)"
   ]
  },
  {
   "cell_type": "code",
   "execution_count": null,
   "metadata": {},
   "outputs": [],
   "source": [
    "base_model.trainable = True\n",
    "\n",
    "opt = keras.optimizers.Adam(lr=1e-5)\n",
    "\n",
    "m4.compile(loss= keras.losses.binary_crossentropy, optimizer=opt, metrics = ['accuracy'])\n",
    "\n",
    "epochs = 100\n",
    "\n",
    "m4_h = m4.fit(train_gen,\n",
    "                steps_per_epoch=(len(x_train)/batch_size),\n",
    "                callbacks = [es],\n",
    "                epochs=epochs,\n",
    "                validation_data = val_gen, \n",
    "                validation_steps = (len(x_val)/batch_size),\n",
    "                class_weight = weights,\n",
    "                verbose = 1)"
   ]
  },
  {
   "cell_type": "code",
   "execution_count": null,
   "metadata": {},
   "outputs": [],
   "source": [
    "plot_history(m4_h, 'first')"
   ]
  },
  {
   "cell_type": "code",
   "execution_count": null,
   "metadata": {},
   "outputs": [],
   "source": [
    "scores = m4.evaluate(x_test, y_test, verbose = 1)\n",
    "print(\"\\n%s: %.2f%%\" % (m4.metrics_names[1], scores[1]*100))\n"
   ]
  },
  {
   "cell_type": "code",
   "execution_count": null,
   "metadata": {},
   "outputs": [],
   "source": [
    "test_preds = m4.predict(x_test)\n",
    "\n",
    "t= []\n",
    "for i in (test_preds):\n",
    "    if i > 0.5:\n",
    "        t.append(1)\n",
    "    else:\n",
    "        t.append(0)\n",
    "\n",
    "draw_confusion_matrix(y_test, t)"
   ]
  },
  {
   "cell_type": "code",
   "execution_count": null,
   "metadata": {},
   "outputs": [],
   "source": [
    "print(classification_report(y_test, t))"
   ]
  },
  {
   "cell_type": "code",
   "execution_count": null,
   "metadata": {},
   "outputs": [],
   "source": [
    "from sklearn.metrics import precision_recall_curve\n"
   ]
  },
  {
   "cell_type": "code",
   "execution_count": null,
   "metadata": {},
   "outputs": [],
   "source": [
    "pr, re ,th = precision_recall_curve(y_test,test_preds)"
   ]
  },
  {
   "cell_type": "code",
   "execution_count": null,
   "metadata": {},
   "outputs": [],
   "source": [
    "def plot_pre_rec_curve(pr, re ,th):\n",
    "    plt.plot(th,pr [:-1],'b--', label = 'Precision')\n",
    "    plt.plot(th,re [:-1], 'g-', label = 'Rec')\n",
    "    plt.xlabel('Thresh')\n",
    "    plt.legend(loc = 'center left')\n",
    "    plt.ylim([0,1])"
   ]
  },
  {
   "cell_type": "code",
   "execution_count": null,
   "metadata": {},
   "outputs": [],
   "source": [
    "plot_pre_rec_curve(pr, re ,th )\n",
    "plt.show"
   ]
  },
  {
   "cell_type": "code",
   "execution_count": null,
   "metadata": {},
   "outputs": [],
   "source": [
    "p = '/home/jovyan/Saved_Models/'\n",
    "m4.save(p + \"CNN_same_fields_view_ADR_HRH.h5\")"
   ]
  },
  {
   "cell_type": "code",
   "execution_count": null,
   "metadata": {},
   "outputs": [],
   "source": []
  }
 ],
 "metadata": {
  "kernelspec": {
   "display_name": "Python 3",
   "language": "python",
   "name": "python3"
  },
  "language_info": {
   "codemirror_mode": {
    "name": "ipython",
    "version": 3
   },
   "file_extension": ".py",
   "mimetype": "text/x-python",
   "name": "python",
   "nbconvert_exporter": "python",
   "pygments_lexer": "ipython3",
   "version": "3.6.9"
  }
 },
 "nbformat": 4,
 "nbformat_minor": 4
}
