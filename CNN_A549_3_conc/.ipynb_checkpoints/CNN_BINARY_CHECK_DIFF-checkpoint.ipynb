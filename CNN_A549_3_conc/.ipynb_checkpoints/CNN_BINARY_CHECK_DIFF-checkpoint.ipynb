{
 "cells": [
  {
   "cell_type": "code",
   "execution_count": 1,
   "metadata": {},
   "outputs": [
    {
     "name": "stderr",
     "output_type": "stream",
     "text": [
      "Using TensorFlow backend.\n"
     ]
    }
   ],
   "source": [
    "import tensorflow as tf\n",
    "from tensorflow import keras\n",
    "from tensorflow.keras.models import Sequential\n",
    "from tensorflow.keras.layers import Dropout\n",
    "from tensorflow.keras.models import Model\n",
    "from tensorflow.keras.layers import Input\n",
    "from tensorflow.keras.layers import Dense\n",
    "from tensorflow.keras.layers import Activation\n",
    "from tensorflow.keras.layers import Flatten\n",
    "from tensorflow.keras.layers import Dropout\n",
    "from tensorflow.keras.layers import Conv2D, Conv3D\n",
    "from tensorflow.keras.layers import MaxPooling2D, MaxPooling3D\n",
    "from tensorflow.keras.layers import GlobalAveragePooling2D\n",
    "from tensorflow.keras.layers import BatchNormalization\n",
    "from tensorflow.keras.applications.vgg16 import VGG16\n",
    "\n",
    "from tensorflow.keras.optimizers import Adam, RMSprop\n",
    "from tensorflow.keras import regularizers\n",
    "from tensorflow.keras.losses import categorical_crossentropy\n",
    "from tensorflow.keras.losses import binary_crossentropy\n",
    "from sklearn.metrics import f1_score\n",
    "\n",
    "from keras.callbacks import EarlyStopping\n",
    "from keras.preprocessing.image import ImageDataGenerator\n",
    "from sklearn.model_selection import train_test_split\n",
    "import numpy as np\n",
    "import matplotlib.pyplot as plt\n",
    "import pandas as pd\n",
    "from PIL import Image \n",
    "import seaborn as sns\n",
    "import os\n",
    "import re\n",
    "import glob\n",
    "import cv2\n",
    "from sklearn.metrics import classification_report\n",
    "from sklearn.metrics import confusion_matrix\n",
    "from sklearn.utils.multiclass import unique_labels\n",
    "from sklearn.model_selection import StratifiedKFold\n",
    "from sklearn import preprocessing\n",
    "import tqdm\n",
    "from numpy import loadtxt\n",
    "from os import *\n",
    "from sklearn.utils import class_weight\n",
    "from tensorflow.keras.applications.vgg16 import preprocess_input\n",
    "from sklearn.metrics import roc_curve"
   ]
  },
  {
   "cell_type": "code",
   "execution_count": 2,
   "metadata": {},
   "outputs": [],
   "source": [
    "def atoi(text):\n",
    "    return int(text) if text.isdigit() else text\n",
    "def natural_keys(text):\n",
    "    return [atoi(c) for c in re.split('(\\d+)', text)]"
   ]
  },
  {
   "cell_type": "code",
   "execution_count": 3,
   "metadata": {},
   "outputs": [],
   "source": [
    "def draw_confusion_matrix(true,preds):\n",
    "    conf_matx = confusion_matrix(true, preds)\n",
    "    sns.heatmap(conf_matx, annot=True,annot_kws={\"size\": 12},fmt='g', cbar=False, cmap=plt.cm.Blues) #'viridis'\n",
    "    #plt.savefig('/home/jovyan/conf_matrix.png')\n",
    "    plt.show()\n",
    "    \n",
    "    return conf_matx"
   ]
  },
  {
   "cell_type": "code",
   "execution_count": 4,
   "metadata": {},
   "outputs": [],
   "source": [
    "def plot_history(model_history, model_name):\n",
    "    fig = plt.figure(figsize=(15,5), facecolor='w')\n",
    "    ax = fig.add_subplot(121)\n",
    "    ax.plot(model_history.history['loss'])\n",
    "    ax.plot(model_history.history['val_loss'])\n",
    "    ax.set(title=model_name + ': Model loss', ylabel='Loss', xlabel='Epoch')\n",
    "    ax.legend(['Train', 'Val'], loc='upper left')\n",
    "    ax = fig.add_subplot(122)\n",
    "    ax.plot(model_history.history['accuracy'])\n",
    "    ax.plot(model_history.history['val_accuracy'])\n",
    "    ax.set(title=model_name + ': Model Accuracy; test='+ str(np.round(model_history.history['val_accuracy'][-1], 3)),\n",
    "           ylabel='Accuracy', xlabel='Epoch')\n",
    "    ax.legend(['Train', 'Val'], loc='upper left')\n",
    "    #plt.savefig('/home/jovyan/curve.png')\n",
    "    plt.show()\n",
    "    \n",
    "    return fig"
   ]
  },
  {
   "cell_type": "code",
   "execution_count": 5,
   "metadata": {},
   "outputs": [],
   "source": [
    "def resize(x):\n",
    "    rescaled = []\n",
    "\n",
    "    for i in x:\n",
    "\n",
    "        scale_percent = 140 # percent of original size\n",
    "        width = int(i.shape[1] / (scale_percent / 100))\n",
    "        height = int(i.shape[0] / (scale_percent / 100))\n",
    "        dim = (width, height)\n",
    "        resized = cv2.resize(i, dim, interpolation = cv2.INTER_LANCZOS4)\n",
    "        rescaled.append(resized)\n",
    "\n",
    "    x_orig = np.reshape( rescaled, (len( rescaled), resized.shape[1], resized.shape[1], 3))\n",
    "\n",
    "    return x_orig"
   ]
  },
  {
   "cell_type": "code",
   "execution_count": 6,
   "metadata": {},
   "outputs": [],
   "source": [
    "def loadImages(path_data, path_labels):\n",
    "\n",
    "    image_list = []\n",
    "    \n",
    "\n",
    "    for filename in tqdm.tqdm(sorted(glob.glob(path_data), key=natural_keys)): \n",
    "        im=cv2.imread(filename)\n",
    "        #gray_image = cv2.cvtColor(im, cv2.COLOR_BGR2GRAY)\n",
    "        imarray = np.array(im)\n",
    "        #imarray = imarray.astype('float32')\n",
    "        image_list.append(imarray)\n",
    "\n",
    "    x_orig = np.reshape(image_list, (len(image_list), 90, 90, 3))\n",
    "    \n",
    "    path = path_labels    \n",
    "    labels = pd.read_csv(path, usecols=[\"Type\", \"Category\"],\n",
    "                       sep=\",\" )\n",
    "    y_orig = np.array(labels['Category'])\n",
    "\n",
    "    return x_orig, y_orig"
   ]
  },
  {
   "cell_type": "code",
   "execution_count": 7,
   "metadata": {},
   "outputs": [],
   "source": [
    "p_data = '/home/jovyan/DATA_MASTER_PROJECT/Leav_one_out_data_set/'\n",
    "\n",
    "train_data =  p_data + 'TRAIN/*.tiff'\n",
    "train_lab= p_data + 'train_lab.csv'\n",
    "\n",
    "validation_data = p_data + 'VALIDATION/*.tiff'\n",
    "validation_lab = p_data + 'validation_lab.csv'\n",
    "\n",
    "\n",
    "test_data= p_data + 'TEST/*.tiff'\n",
    "test_lab= p_data + 'test_lab.csv'\n",
    "\n"
   ]
  },
  {
   "cell_type": "code",
   "execution_count": 8,
   "metadata": {},
   "outputs": [
    {
     "name": "stderr",
     "output_type": "stream",
     "text": [
      "100%|██████████| 48615/48615 [01:00<00:00, 799.82it/s]\n"
     ]
    },
    {
     "data": {
      "text/plain": [
       "((48615, 90, 90, 3), (48615,))"
      ]
     },
     "execution_count": 8,
     "metadata": {},
     "output_type": "execute_result"
    }
   ],
   "source": [
    "x_train, y_train = loadImages(train_data, train_lab)\n",
    "x_train.shape, y_train.shape"
   ]
  },
  {
   "cell_type": "code",
   "execution_count": 9,
   "metadata": {},
   "outputs": [
    {
     "name": "stderr",
     "output_type": "stream",
     "text": [
      "100%|██████████| 12885/12885 [00:17<00:00, 757.34it/s]\n"
     ]
    },
    {
     "data": {
      "text/plain": [
       "((12885, 90, 90, 3), (12885,))"
      ]
     },
     "execution_count": 9,
     "metadata": {},
     "output_type": "execute_result"
    }
   ],
   "source": [
    "x_val, y_val = loadImages(validation_data, validation_lab)\n",
    "x_val.shape, y_val.shape"
   ]
  },
  {
   "cell_type": "code",
   "execution_count": 10,
   "metadata": {},
   "outputs": [
    {
     "name": "stderr",
     "output_type": "stream",
     "text": [
      "100%|██████████| 10761/10761 [00:14<00:00, 737.24it/s]\n"
     ]
    },
    {
     "data": {
      "text/plain": [
       "((10761, 90, 90, 3), (10761,))"
      ]
     },
     "execution_count": 10,
     "metadata": {},
     "output_type": "execute_result"
    }
   ],
   "source": [
    "x_test, y_test = loadImages(test_data, test_lab)\n",
    "x_test.shape, y_test.shape"
   ]
  },
  {
   "cell_type": "code",
   "execution_count": 11,
   "metadata": {},
   "outputs": [
    {
     "data": {
      "text/plain": [
       "(48615, 64, 64, 3)"
      ]
     },
     "execution_count": 11,
     "metadata": {},
     "output_type": "execute_result"
    }
   ],
   "source": [
    "x_train = resize(x_train)\n",
    "x_train.shape"
   ]
  },
  {
   "cell_type": "code",
   "execution_count": 12,
   "metadata": {},
   "outputs": [
    {
     "data": {
      "text/plain": [
       "(12885, 64, 64, 3)"
      ]
     },
     "execution_count": 12,
     "metadata": {},
     "output_type": "execute_result"
    }
   ],
   "source": [
    "x_val = resize(x_val)\n",
    "x_val.shape"
   ]
  },
  {
   "cell_type": "code",
   "execution_count": 13,
   "metadata": {},
   "outputs": [
    {
     "data": {
      "text/plain": [
       "(10761, 64, 64, 3)"
      ]
     },
     "execution_count": 13,
     "metadata": {},
     "output_type": "execute_result"
    }
   ],
   "source": [
    "x_test = resize(x_test)\n",
    "x_test.shape"
   ]
  },
  {
   "cell_type": "code",
   "execution_count": 14,
   "metadata": {},
   "outputs": [],
   "source": [
    "es = EarlyStopping(monitor='val_loss', mode='min', verbose=2, patience=3)"
   ]
  },
  {
   "cell_type": "code",
   "execution_count": 15,
   "metadata": {},
   "outputs": [],
   "source": [
    "pretrained_model = VGG16(weights='imagenet',include_top=False, input_shape=(64, 64, 3))\n",
    "\n",
    "base_model = Model(inputs=pretrained_model.input, outputs=pretrained_model.get_layer('block3_pool').output)"
   ]
  },
  {
   "cell_type": "code",
   "execution_count": 16,
   "metadata": {},
   "outputs": [
    {
     "data": {
      "text/plain": [
       "{0: 35969, 1: 12646}"
      ]
     },
     "execution_count": 16,
     "metadata": {},
     "output_type": "execute_result"
    }
   ],
   "source": [
    "unique, counts = np.unique(y_train, return_counts=True)\n",
    "dict(zip(unique, counts))"
   ]
  },
  {
   "cell_type": "code",
   "execution_count": 17,
   "metadata": {},
   "outputs": [
    {
     "name": "stdout",
     "output_type": "stream",
     "text": [
      "weights = [0.67579026 1.9221493 ]\n"
     ]
    }
   ],
   "source": [
    "weights = class_weight.compute_class_weight('balanced', np.unique(y_train),y_train)\n",
    "print('weights = ' + str(weights))"
   ]
  },
  {
   "cell_type": "code",
   "execution_count": 18,
   "metadata": {},
   "outputs": [],
   "source": [
    "x_train = preprocess_input(x_train)\n",
    "\n",
    "x_val = preprocess_input(x_val)\n",
    "\n",
    "x_test = preprocess_input(x_test)\n"
   ]
  },
  {
   "cell_type": "code",
   "execution_count": 19,
   "metadata": {},
   "outputs": [],
   "source": [
    "batch_size = 128"
   ]
  },
  {
   "cell_type": "code",
   "execution_count": 20,
   "metadata": {},
   "outputs": [
    {
     "name": "stdout",
     "output_type": "stream",
     "text": [
      "Model: \"sequential\"\n",
      "_________________________________________________________________\n",
      "Layer (type)                 Output Shape              Param #   \n",
      "=================================================================\n",
      "model (Model)                (None, 8, 8, 256)         1735488   \n",
      "_________________________________________________________________\n",
      "batch_normalization (BatchNo (None, 8, 8, 256)         1024      \n",
      "_________________________________________________________________\n",
      "global_average_pooling2d (Gl (None, 256)               0         \n",
      "_________________________________________________________________\n",
      "batch_normalization_1 (Batch (None, 256)               1024      \n",
      "_________________________________________________________________\n",
      "activation (Activation)      (None, 256)               0         \n",
      "_________________________________________________________________\n",
      "dense (Dense)                (None, 64)                16448     \n",
      "_________________________________________________________________\n",
      "dense_1 (Dense)              (None, 1)                 65        \n",
      "=================================================================\n",
      "Total params: 1,754,049\n",
      "Trainable params: 1,753,025\n",
      "Non-trainable params: 1,024\n",
      "_________________________________________________________________\n"
     ]
    }
   ],
   "source": [
    "datagen = ImageDataGenerator()\n",
    "\n",
    "datagen.fit(x_train)\n",
    "\n",
    "train_gen = datagen.flow(x_train, y_train,batch_size=batch_size )\n",
    "\n",
    "dat_val = ImageDataGenerator()\n",
    "\n",
    "dat_val.fit(x_val)\n",
    "\n",
    "val_gen = dat_val.flow(x_val, y_val,batch_size=batch_size)\n",
    "\n",
    "m4 = Sequential()\n",
    "m4.add(base_model)\n",
    "\n",
    "\n",
    "m4.add(BatchNormalization())\n",
    "m4.add(GlobalAveragePooling2D())\n",
    "m4.add(BatchNormalization())\n",
    "m4.add(Activation('relu'))\n",
    "m4.add(Dense(64, activation='relu'))\n",
    "#m4.add(Dropout(0.5))\n",
    "\n",
    "m4.add(Dense(1,activation='sigmoid'))\n",
    "\n",
    "m4.summary()"
   ]
  },
  {
   "cell_type": "code",
   "execution_count": 21,
   "metadata": {},
   "outputs": [
    {
     "name": "stdout",
     "output_type": "stream",
     "text": [
      "WARNING:tensorflow:sample_weight modes were coerced from\n",
      "  ...\n",
      "    to  \n",
      "  ['...']\n",
      "WARNING:tensorflow:sample_weight modes were coerced from\n",
      "  ...\n",
      "    to  \n",
      "  ['...']\n",
      "Train for 379.8046875 steps, validate for 100.6640625 steps\n",
      "Epoch 1/100\n",
      "380/379 [==============================] - 16s 41ms/step - loss: 0.6509 - accuracy: 0.6513 - val_loss: 0.6067 - val_accuracy: 0.7047\n",
      "Epoch 2/100\n",
      "380/379 [==============================] - 11s 30ms/step - loss: 0.5886 - accuracy: 0.7219 - val_loss: 0.5842 - val_accuracy: 0.7230\n",
      "Epoch 3/100\n",
      "380/379 [==============================] - 11s 30ms/step - loss: 0.5620 - accuracy: 0.7360 - val_loss: 0.5744 - val_accuracy: 0.7278\n",
      "Epoch 4/100\n",
      "380/379 [==============================] - 11s 30ms/step - loss: 0.5468 - accuracy: 0.7412 - val_loss: 0.5685 - val_accuracy: 0.7289\n",
      "Epoch 5/100\n",
      "380/379 [==============================] - 12s 30ms/step - loss: 0.5367 - accuracy: 0.7445 - val_loss: 0.5647 - val_accuracy: 0.7292\n",
      "Epoch 6/100\n",
      "380/379 [==============================] - 12s 31ms/step - loss: 0.5294 - accuracy: 0.7466 - val_loss: 0.5621 - val_accuracy: 0.7270\n",
      "Epoch 7/100\n",
      "380/379 [==============================] - 12s 31ms/step - loss: 0.5236 - accuracy: 0.7486 - val_loss: 0.5605 - val_accuracy: 0.7266\n",
      "Epoch 8/100\n",
      "380/379 [==============================] - 12s 31ms/step - loss: 0.5187 - accuracy: 0.7499 - val_loss: 0.5578 - val_accuracy: 0.7266\n",
      "Epoch 9/100\n",
      "380/379 [==============================] - 12s 31ms/step - loss: 0.5145 - accuracy: 0.7517 - val_loss: 0.5560 - val_accuracy: 0.7291\n",
      "Epoch 10/100\n",
      "380/379 [==============================] - 12s 31ms/step - loss: 0.5109 - accuracy: 0.7530 - val_loss: 0.5545 - val_accuracy: 0.7277\n",
      "Epoch 11/100\n",
      "380/379 [==============================] - 12s 30ms/step - loss: 0.5075 - accuracy: 0.7542 - val_loss: 0.5530 - val_accuracy: 0.7269\n",
      "Epoch 12/100\n",
      "380/379 [==============================] - 11s 30ms/step - loss: 0.5045 - accuracy: 0.7548 - val_loss: 0.5511 - val_accuracy: 0.7288\n",
      "Epoch 13/100\n",
      "380/379 [==============================] - 11s 30ms/step - loss: 0.5018 - accuracy: 0.7566 - val_loss: 0.5502 - val_accuracy: 0.7276\n",
      "Epoch 14/100\n",
      "380/379 [==============================] - 11s 29ms/step - loss: 0.4992 - accuracy: 0.7575 - val_loss: 0.5489 - val_accuracy: 0.7285\n",
      "Epoch 15/100\n",
      "380/379 [==============================] - 11s 30ms/step - loss: 0.4969 - accuracy: 0.7587 - val_loss: 0.5483 - val_accuracy: 0.7269\n",
      "Epoch 16/100\n",
      "380/379 [==============================] - 12s 30ms/step - loss: 0.4948 - accuracy: 0.7593 - val_loss: 0.5469 - val_accuracy: 0.7268\n",
      "Epoch 17/100\n",
      "380/379 [==============================] - 11s 30ms/step - loss: 0.4926 - accuracy: 0.7604 - val_loss: 0.5462 - val_accuracy: 0.7278\n",
      "Epoch 18/100\n",
      "380/379 [==============================] - 11s 30ms/step - loss: 0.4907 - accuracy: 0.7611 - val_loss: 0.5450 - val_accuracy: 0.7282\n",
      "Epoch 19/100\n",
      "380/379 [==============================] - 11s 30ms/step - loss: 0.4889 - accuracy: 0.7621 - val_loss: 0.5443 - val_accuracy: 0.7281\n",
      "Epoch 20/100\n",
      "380/379 [==============================] - 12s 30ms/step - loss: 0.4870 - accuracy: 0.7632 - val_loss: 0.5433 - val_accuracy: 0.7287\n",
      "Epoch 21/100\n",
      "380/379 [==============================] - 11s 30ms/step - loss: 0.4853 - accuracy: 0.7641 - val_loss: 0.5428 - val_accuracy: 0.7295\n",
      "Epoch 22/100\n",
      "380/379 [==============================] - 11s 30ms/step - loss: 0.4837 - accuracy: 0.7656 - val_loss: 0.5423 - val_accuracy: 0.7292\n",
      "Epoch 23/100\n",
      "380/379 [==============================] - 11s 30ms/step - loss: 0.4821 - accuracy: 0.7661 - val_loss: 0.5416 - val_accuracy: 0.7310\n",
      "Epoch 24/100\n",
      "380/379 [==============================] - 11s 30ms/step - loss: 0.4806 - accuracy: 0.7674 - val_loss: 0.5412 - val_accuracy: 0.7303\n",
      "Epoch 25/100\n",
      "380/379 [==============================] - 11s 30ms/step - loss: 0.4791 - accuracy: 0.7681 - val_loss: 0.5405 - val_accuracy: 0.7297\n",
      "Epoch 26/100\n",
      "380/379 [==============================] - 11s 30ms/step - loss: 0.4776 - accuracy: 0.7693 - val_loss: 0.5402 - val_accuracy: 0.7308\n",
      "Epoch 27/100\n",
      "380/379 [==============================] - 11s 30ms/step - loss: 0.4762 - accuracy: 0.7693 - val_loss: 0.5394 - val_accuracy: 0.7295\n",
      "Epoch 28/100\n",
      "380/379 [==============================] - 11s 30ms/step - loss: 0.4748 - accuracy: 0.7703 - val_loss: 0.5387 - val_accuracy: 0.7291\n",
      "Epoch 29/100\n",
      "380/379 [==============================] - 11s 30ms/step - loss: 0.4735 - accuracy: 0.7711 - val_loss: 0.5382 - val_accuracy: 0.7298\n",
      "Epoch 30/100\n",
      "380/379 [==============================] - 11s 30ms/step - loss: 0.4721 - accuracy: 0.7716 - val_loss: 0.5378 - val_accuracy: 0.7284\n",
      "Epoch 31/100\n",
      "380/379 [==============================] - 11s 30ms/step - loss: 0.4709 - accuracy: 0.7720 - val_loss: 0.5377 - val_accuracy: 0.7288\n",
      "Epoch 32/100\n",
      "380/379 [==============================] - 11s 30ms/step - loss: 0.4696 - accuracy: 0.7731 - val_loss: 0.5370 - val_accuracy: 0.7291\n",
      "Epoch 33/100\n",
      "380/379 [==============================] - 11s 30ms/step - loss: 0.4684 - accuracy: 0.7735 - val_loss: 0.5363 - val_accuracy: 0.7294\n",
      "Epoch 34/100\n",
      "380/379 [==============================] - 11s 30ms/step - loss: 0.4671 - accuracy: 0.7735 - val_loss: 0.5359 - val_accuracy: 0.7298\n",
      "Epoch 35/100\n",
      "380/379 [==============================] - 11s 30ms/step - loss: 0.4659 - accuracy: 0.7749 - val_loss: 0.5353 - val_accuracy: 0.7291\n",
      "Epoch 36/100\n",
      "380/379 [==============================] - 11s 30ms/step - loss: 0.4647 - accuracy: 0.7752 - val_loss: 0.5355 - val_accuracy: 0.7292\n",
      "Epoch 37/100\n",
      "380/379 [==============================] - 11s 29ms/step - loss: 0.4636 - accuracy: 0.7760 - val_loss: 0.5345 - val_accuracy: 0.7295\n",
      "Epoch 38/100\n",
      "380/379 [==============================] - 11s 29ms/step - loss: 0.4624 - accuracy: 0.7764 - val_loss: 0.5341 - val_accuracy: 0.7294\n",
      "Epoch 39/100\n",
      "380/379 [==============================] - 12s 30ms/step - loss: 0.4614 - accuracy: 0.7772 - val_loss: 0.5338 - val_accuracy: 0.7292\n",
      "Epoch 40/100\n",
      "380/379 [==============================] - 11s 30ms/step - loss: 0.4602 - accuracy: 0.7777 - val_loss: 0.5338 - val_accuracy: 0.7284\n",
      "Epoch 41/100\n",
      "380/379 [==============================] - 11s 30ms/step - loss: 0.4591 - accuracy: 0.7779 - val_loss: 0.5332 - val_accuracy: 0.7284\n",
      "Epoch 42/100\n",
      "380/379 [==============================] - 11s 30ms/step - loss: 0.4581 - accuracy: 0.7786 - val_loss: 0.5324 - val_accuracy: 0.7288\n",
      "Epoch 43/100\n",
      "380/379 [==============================] - 12s 31ms/step - loss: 0.4570 - accuracy: 0.7789 - val_loss: 0.5324 - val_accuracy: 0.7291\n",
      "Epoch 44/100\n",
      "380/379 [==============================] - 11s 30ms/step - loss: 0.4559 - accuracy: 0.7796 - val_loss: 0.5321 - val_accuracy: 0.7291\n",
      "Epoch 45/100\n",
      "380/379 [==============================] - 11s 30ms/step - loss: 0.4549 - accuracy: 0.7798 - val_loss: 0.5316 - val_accuracy: 0.7296\n",
      "Epoch 46/100\n",
      "380/379 [==============================] - 11s 30ms/step - loss: 0.4539 - accuracy: 0.7803 - val_loss: 0.5313 - val_accuracy: 0.7299\n",
      "Epoch 47/100\n",
      "380/379 [==============================] - 11s 30ms/step - loss: 0.4528 - accuracy: 0.7811 - val_loss: 0.5310 - val_accuracy: 0.7300\n",
      "Epoch 48/100\n",
      "380/379 [==============================] - 12s 30ms/step - loss: 0.4518 - accuracy: 0.7817 - val_loss: 0.5311 - val_accuracy: 0.7300\n",
      "Epoch 49/100\n",
      "380/379 [==============================] - 11s 30ms/step - loss: 0.4509 - accuracy: 0.7821 - val_loss: 0.5303 - val_accuracy: 0.7304\n",
      "Epoch 50/100\n",
      "380/379 [==============================] - 11s 30ms/step - loss: 0.4499 - accuracy: 0.7826 - val_loss: 0.5301 - val_accuracy: 0.7305\n",
      "Epoch 51/100\n",
      "380/379 [==============================] - 11s 30ms/step - loss: 0.4488 - accuracy: 0.7836 - val_loss: 0.5298 - val_accuracy: 0.7323\n",
      "Epoch 52/100\n",
      "380/379 [==============================] - 11s 29ms/step - loss: 0.4479 - accuracy: 0.7838 - val_loss: 0.5290 - val_accuracy: 0.7319\n",
      "Epoch 53/100\n",
      "380/379 [==============================] - 11s 30ms/step - loss: 0.4469 - accuracy: 0.7846 - val_loss: 0.5296 - val_accuracy: 0.7308\n",
      "Epoch 54/100\n",
      "380/379 [==============================] - 11s 30ms/step - loss: 0.4460 - accuracy: 0.7855 - val_loss: 0.5292 - val_accuracy: 0.7312\n",
      "Epoch 55/100\n",
      "380/379 [==============================] - 11s 29ms/step - loss: 0.4451 - accuracy: 0.7857 - val_loss: 0.5289 - val_accuracy: 0.7312\n",
      "Epoch 56/100\n",
      "380/379 [==============================] - 11s 29ms/step - loss: 0.4441 - accuracy: 0.7863 - val_loss: 0.5287 - val_accuracy: 0.7318\n",
      "Epoch 57/100\n",
      "380/379 [==============================] - 11s 30ms/step - loss: 0.4432 - accuracy: 0.7865 - val_loss: 0.5285 - val_accuracy: 0.7316\n",
      "Epoch 58/100\n",
      "380/379 [==============================] - 11s 29ms/step - loss: 0.4423 - accuracy: 0.7871 - val_loss: 0.5288 - val_accuracy: 0.7314\n",
      "Epoch 59/100\n",
      "380/379 [==============================] - 11s 29ms/step - loss: 0.4414 - accuracy: 0.7876 - val_loss: 0.5283 - val_accuracy: 0.7326\n",
      "Epoch 60/100\n",
      "380/379 [==============================] - 11s 30ms/step - loss: 0.4405 - accuracy: 0.7881 - val_loss: 0.5279 - val_accuracy: 0.7320\n",
      "Epoch 61/100\n",
      "380/379 [==============================] - 11s 29ms/step - loss: 0.4396 - accuracy: 0.7884 - val_loss: 0.5279 - val_accuracy: 0.7336\n",
      "Epoch 62/100\n",
      "380/379 [==============================] - 11s 29ms/step - loss: 0.4388 - accuracy: 0.7893 - val_loss: 0.5276 - val_accuracy: 0.7333\n",
      "Epoch 63/100\n",
      "380/379 [==============================] - 11s 30ms/step - loss: 0.4379 - accuracy: 0.7898 - val_loss: 0.5273 - val_accuracy: 0.7326\n",
      "Epoch 64/100\n",
      "380/379 [==============================] - 11s 30ms/step - loss: 0.4371 - accuracy: 0.7903 - val_loss: 0.5274 - val_accuracy: 0.7326\n",
      "Epoch 65/100\n",
      "380/379 [==============================] - 11s 30ms/step - loss: 0.4362 - accuracy: 0.7908 - val_loss: 0.5269 - val_accuracy: 0.7340\n",
      "Epoch 66/100\n",
      "380/379 [==============================] - 11s 30ms/step - loss: 0.4353 - accuracy: 0.7918 - val_loss: 0.5267 - val_accuracy: 0.7329\n",
      "Epoch 67/100\n",
      "380/379 [==============================] - 12s 30ms/step - loss: 0.4345 - accuracy: 0.7924 - val_loss: 0.5264 - val_accuracy: 0.7343\n",
      "Epoch 68/100\n",
      "380/379 [==============================] - 11s 30ms/step - loss: 0.4337 - accuracy: 0.7927 - val_loss: 0.5261 - val_accuracy: 0.7347\n",
      "Epoch 69/100\n",
      "380/379 [==============================] - 12s 30ms/step - loss: 0.4328 - accuracy: 0.7932 - val_loss: 0.5256 - val_accuracy: 0.7348\n",
      "Epoch 70/100\n",
      "380/379 [==============================] - 11s 30ms/step - loss: 0.4320 - accuracy: 0.7939 - val_loss: 0.5260 - val_accuracy: 0.7339\n",
      "Epoch 71/100\n",
      "380/379 [==============================] - 11s 29ms/step - loss: 0.4312 - accuracy: 0.7941 - val_loss: 0.5255 - val_accuracy: 0.7352\n",
      "Epoch 72/100\n",
      "380/379 [==============================] - 11s 30ms/step - loss: 0.4304 - accuracy: 0.7951 - val_loss: 0.5251 - val_accuracy: 0.7348\n",
      "Epoch 73/100\n",
      "380/379 [==============================] - 11s 29ms/step - loss: 0.4296 - accuracy: 0.7957 - val_loss: 0.5259 - val_accuracy: 0.7350\n",
      "Epoch 74/100\n",
      "380/379 [==============================] - 11s 30ms/step - loss: 0.4288 - accuracy: 0.7959 - val_loss: 0.5254 - val_accuracy: 0.7353\n",
      "Epoch 75/100\n",
      "380/379 [==============================] - 11s 30ms/step - loss: 0.4280 - accuracy: 0.7968 - val_loss: 0.5254 - val_accuracy: 0.7355\n",
      "Epoch 00075: early stopping\n"
     ]
    }
   ],
   "source": [
    "base_model.trainable = False\n",
    "\n",
    "opt = keras.optimizers.Adam(lr=1e-5)\n",
    "\n",
    "m4.compile(loss= keras.losses.binary_crossentropy, optimizer=opt, metrics = ['accuracy'])\n",
    "\n",
    "\n",
    "\n",
    "epochs = 100\n",
    "\n",
    "m4_h = m4.fit(train_gen,\n",
    "                steps_per_epoch=(len(x_train)/batch_size),\n",
    "                callbacks = [es],\n",
    "                epochs=epochs,\n",
    "                validation_data = (val_gen), \n",
    "                validation_steps = (len(x_val)/batch_size),\n",
    "                class_weight = weights,\n",
    "                 verbose = 1)"
   ]
  },
  {
   "cell_type": "code",
   "execution_count": 22,
   "metadata": {},
   "outputs": [
    {
     "name": "stdout",
     "output_type": "stream",
     "text": [
      "WARNING:tensorflow:sample_weight modes were coerced from\n",
      "  ...\n",
      "    to  \n",
      "  ['...']\n",
      "WARNING:tensorflow:sample_weight modes were coerced from\n",
      "  ...\n",
      "    to  \n",
      "  ['...']\n",
      "Train for 379.8046875 steps, validate for 100.6640625 steps\n",
      "Epoch 1/100\n",
      "380/379 [==============================] - 27s 72ms/step - loss: 0.4020 - accuracy: 0.8120 - val_loss: 0.5177 - val_accuracy: 0.7395\n",
      "Epoch 2/100\n",
      "380/379 [==============================] - 25s 67ms/step - loss: 0.3606 - accuracy: 0.8378 - val_loss: 0.4922 - val_accuracy: 0.7598\n",
      "Epoch 3/100\n",
      "380/379 [==============================] - 25s 66ms/step - loss: 0.3308 - accuracy: 0.8561 - val_loss: 0.4665 - val_accuracy: 0.7633\n",
      "Epoch 4/100\n",
      "380/379 [==============================] - 25s 67ms/step - loss: 0.3063 - accuracy: 0.8694 - val_loss: 0.5676 - val_accuracy: 0.7547\n",
      "Epoch 5/100\n",
      "380/379 [==============================] - 25s 67ms/step - loss: 0.2841 - accuracy: 0.8820 - val_loss: 0.5017 - val_accuracy: 0.7599\n",
      "Epoch 6/100\n",
      "380/379 [==============================] - 25s 66ms/step - loss: 0.2651 - accuracy: 0.8936 - val_loss: 0.4761 - val_accuracy: 0.7630\n",
      "Epoch 00006: early stopping\n"
     ]
    }
   ],
   "source": [
    "base_model.trainable = True\n",
    "\n",
    "opt = keras.optimizers.Adam(lr=1e-5)\n",
    "\n",
    "m4.compile(loss= keras.losses.binary_crossentropy, optimizer=opt, metrics = ['accuracy'])\n",
    "\n",
    "epochs = 100\n",
    "\n",
    "m4_h = m4.fit(train_gen,\n",
    "                steps_per_epoch=(len(x_train)/batch_size),\n",
    "                callbacks = [es],\n",
    "                epochs=epochs,\n",
    "                validation_data = val_gen, \n",
    "                validation_steps = (len(x_val)/batch_size),\n",
    "                class_weight = weights,\n",
    "                verbose = 1)"
   ]
  },
  {
   "cell_type": "code",
   "execution_count": 23,
   "metadata": {},
   "outputs": [
    {
     "data": {
      "image/png": "[encoded data removed]",
      "text/plain": [
       "<Figure size 1080x360 with 2 Axes>"
      ]
     },
     "metadata": {},
     "output_type": "display_data"
    },
    {
     "data": {
      "image/png": "[encoded data removed]",
      "text/plain": [
       "<Figure size 1080x360 with 2 Axes>"
      ]
     },
     "execution_count": 23,
     "metadata": {},
     "output_type": "execute_result"
    }
   ],
   "source": [
    "plot_history(m4_h, 'first')"
   ]
  },
  {
   "cell_type": "code",
   "execution_count": 24,
   "metadata": {},
   "outputs": [
    {
     "name": "stdout",
     "output_type": "stream",
     "text": [
      "10761/10761 [==============================] - 3s 250us/sample - loss: 0.1859 - accuracy: 0.9365\n",
      "\n",
      "accuracy: 93.65%\n"
     ]
    }
   ],
   "source": [
    "scores = m4.evaluate(x_test, y_test, verbose = 1)\n",
    "print(\"\\n%s: %.2f%%\" % (m4.metrics_names[1], scores[1]*100))\n"
   ]
  },
  {
   "cell_type": "code",
   "execution_count": 32,
   "metadata": {},
   "outputs": [
    {
     "data": {
      "image/png": "[encoded data removed]",
      "text/plain": [
       "<Figure size 432x288 with 1 Axes>"
      ]
     },
     "metadata": {
      "needs_background": "light"
     },
     "output_type": "display_data"
    },
    {
     "data": {
      "text/plain": [
       "array([[10078,   683],\n",
       "       [    0,     0]])"
      ]
     },
     "execution_count": 32,
     "metadata": {},
     "output_type": "execute_result"
    }
   ],
   "source": [
    "test_preds = m4.predict(x_test)\n",
    "\n",
    "t= []\n",
    "for i in (test_preds):\n",
    "    if i > 0.5:\n",
    "        t.append(1)\n",
    "    else:\n",
    "        t.append(0)\n",
    "\n",
    "draw_confusion_matrix(y_test, t)"
   ]
  },
  {
   "cell_type": "code",
   "execution_count": 33,
   "metadata": {},
   "outputs": [
    {
     "name": "stdout",
     "output_type": "stream",
     "text": [
      "              precision    recall  f1-score   support\n",
      "\n",
      "           0       1.00      0.94      0.97     10761\n",
      "           1       0.00      0.00      0.00         0\n",
      "\n",
      "    accuracy                           0.94     10761\n",
      "   macro avg       0.50      0.47      0.48     10761\n",
      "weighted avg       1.00      0.94      0.97     10761\n",
      "\n"
     ]
    }
   ],
   "source": [
    "print(classification_report(y_test, t))"
   ]
  },
  {
   "cell_type": "code",
   "execution_count": 27,
   "metadata": {},
   "outputs": [],
   "source": [
    "from sklearn.metrics import precision_recall_curve\n"
   ]
  },
  {
   "cell_type": "code",
   "execution_count": 28,
   "metadata": {},
   "outputs": [
    {
     "name": "stderr",
     "output_type": "stream",
     "text": [
      "/usr/local/lib/python3.6/dist-packages/sklearn/metrics/_ranking.py:677: RuntimeWarning: invalid value encountered in true_divide\n",
      "  recall = tps / tps[-1]\n"
     ]
    }
   ],
   "source": [
    "pr, re ,th = precision_recall_curve(y_test,test_preds)"
   ]
  },
  {
   "cell_type": "code",
   "execution_count": 29,
   "metadata": {},
   "outputs": [],
   "source": [
    "def plot_pre_rec_curve(pr, re ,th):\n",
    "    plt.plot(th,pr [:-1],'b--', label = 'Precision')\n",
    "    plt.plot(th,re [:-1], 'g-', label = 'Rec')\n",
    "    plt.xlabel('Thresh')\n",
    "    plt.legend(loc = 'center left')\n",
    "    plt.ylim([0,1])"
   ]
  },
  {
   "cell_type": "code",
   "execution_count": 30,
   "metadata": {},
   "outputs": [
    {
     "data": {
      "text/plain": [
       "<function matplotlib.pyplot.show(*args, **kw)>"
      ]
     },
     "execution_count": 30,
     "metadata": {},
     "output_type": "execute_result"
    },
    {
     "data": {
      "image/png": "[encoded data removed]",
      "text/plain": [
       "<Figure size 432x288 with 1 Axes>"
      ]
     },
     "metadata": {
      "needs_background": "light"
     },
     "output_type": "display_data"
    }
   ],
   "source": [
    "plot_pre_rec_curve(pr, re ,th )\n",
    "plt.show"
   ]
  },
  {
   "cell_type": "code",
   "execution_count": 31,
   "metadata": {},
   "outputs": [],
   "source": [
    "#p = '/home/jovyan/Saved_Models/'\n",
    "#m4.save(p + \"CNN_same_fields_view_ADR_HRH.h5\")"
   ]
  },
  {
   "cell_type": "code",
   "execution_count": null,
   "metadata": {},
   "outputs": [],
   "source": []
  }
 ],
 "metadata": {
  "kernelspec": {
   "display_name": "Python 3",
   "language": "python",
   "name": "python3"
  },
  "language_info": {
   "codemirror_mode": {
    "name": "ipython",
    "version": 3
   },
   "file_extension": ".py",
   "mimetype": "text/x-python",
   "name": "python",
   "nbconvert_exporter": "python",
   "pygments_lexer": "ipython3",
   "version": "3.6.9"
  }
 },
 "nbformat": 4,
 "nbformat_minor": 4
}
