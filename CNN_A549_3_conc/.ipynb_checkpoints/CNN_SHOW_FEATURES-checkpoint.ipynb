{
 "cells": [
  {
   "cell_type": "code",
   "execution_count": null,
   "metadata": {},
   "outputs": [],
   "source": [
    "import tensorflow as tf\n",
    "from tensorflow import keras\n",
    "from tensorflow.keras.models import Sequential\n",
    "from tensorflow.keras.layers import Dropout\n",
    "from tensorflow.keras.models import Model\n",
    "from tensorflow.keras.layers import Input\n",
    "from tensorflow.keras.layers import Dense\n",
    "from tensorflow.keras.layers import Activation\n",
    "from tensorflow.keras.layers import Flatten\n",
    "from tensorflow.keras.layers import Dropout\n",
    "from tensorflow.keras.layers import Conv2D, Conv3D\n",
    "from tensorflow.keras.layers import MaxPooling2D, MaxPooling3D\n",
    "from tensorflow.keras.layers import GlobalAveragePooling2D\n",
    "from tensorflow.keras.layers import BatchNormalization\n",
    "from tensorflow.keras.applications.vgg16 import VGG16\n",
    "from tensorflow.keras.optimizers import Adam, RMSprop\n",
    "from tensorflow.keras import regularizers\n",
    "from tensorflow.keras.losses import categorical_crossentropy\n",
    "from tensorflow.keras.losses import binary_crossentropy\n",
    "from sklearn.metrics import f1_score\n",
    "\n",
    "from keras.callbacks import EarlyStopping\n",
    "from keras.preprocessing.image import ImageDataGenerator\n",
    "from sklearn.model_selection import train_test_split\n",
    "import numpy as np\n",
    "import matplotlib.pyplot as plt\n",
    "import pandas as pd\n",
    "from PIL import Image \n",
    "import seaborn as sns\n",
    "import os\n",
    "import re\n",
    "import glob\n",
    "import cv2\n",
    "from sklearn.metrics import classification_report\n",
    "from sklearn.metrics import confusion_matrix\n",
    "from sklearn.utils.multiclass import unique_labels\n",
    "from sklearn.model_selection import StratifiedKFold\n",
    "from sklearn import preprocessing\n",
    "import tqdm\n",
    "from numpy import loadtxt\n",
    "from os import *\n",
    "from sklearn.utils import class_weight"
   ]
  },
  {
   "cell_type": "code",
   "execution_count": 2,
   "metadata": {},
   "outputs": [],
   "source": [
    "def atoi(text):\n",
    "    return int(text) if text.isdigit() else text\n",
    "def natural_keys(text):\n",
    "    return [atoi(c) for c in re.split('(\\d+)', text)]"
   ]
  },
  {
   "cell_type": "code",
   "execution_count": 3,
   "metadata": {},
   "outputs": [],
   "source": [
    "def draw_confusion_matrix(true,preds):\n",
    "    conf_matx = confusion_matrix(true, preds)\n",
    "    sns.heatmap(conf_matx, annot=True,annot_kws={\"size\": 12},fmt='g', cbar=False, cmap=plt.cm.Blues) #'viridis'\n",
    "    #plt.savefig('/home/jovyan/img1.png')\n",
    "    plt.show()\n",
    "    \n",
    "    return conf_matx"
   ]
  },
  {
   "cell_type": "code",
   "execution_count": 4,
   "metadata": {},
   "outputs": [],
   "source": [
    "def normalization(data, norm_mean):#, norm_sigma):\n",
    "    \n",
    "    x_scaled = np.subtract(data, norm_mean)# / norm_sigma\n",
    "    data = x_scaled\n",
    "    \n",
    "    return data"
   ]
  },
  {
   "cell_type": "code",
   "execution_count": 5,
   "metadata": {},
   "outputs": [],
   "source": [
    "def plot_history(model_history, model_name):\n",
    "    fig = plt.figure(figsize=(15,5), facecolor='w')\n",
    "    ax = fig.add_subplot(121)\n",
    "    ax.plot(model_history.history['loss'])\n",
    "    ax.plot(model_history.history['val_loss'])\n",
    "    ax.set(title=model_name + ': Model loss', ylabel='Loss', xlabel='Epoch')\n",
    "    ax.legend(['Train', 'Val'], loc='upper left')\n",
    "    ax = fig.add_subplot(122)\n",
    "    ax.plot(model_history.history['accuracy'])\n",
    "    ax.plot(model_history.history['val_accuracy'])\n",
    "    ax.set(title=model_name + ': Model Accuracy; test='+ str(np.round(model_history.history['val_accuracy'][-1], 3)),\n",
    "           ylabel='Accuracy', xlabel='Epoch')\n",
    "    ax.legend(['Train', 'Val'], loc='upper left')\n",
    "    #plt.show()\n",
    "    \n",
    "    return fig"
   ]
  },
  {
   "cell_type": "code",
   "execution_count": 6,
   "metadata": {},
   "outputs": [],
   "source": [
    "def resize(x):\n",
    "    rescaled = []\n",
    "\n",
    "    for i in x:\n",
    "\n",
    "        scale_percent = 140 # percent of original size\n",
    "        width = int(i.shape[1] / (scale_percent / 100))\n",
    "        height = int(i.shape[0] / (scale_percent / 100))\n",
    "        dim = (width, height)\n",
    "        resized = cv2.resize(i, dim, interpolation = cv2.INTER_LANCZOS4)\n",
    "        rescaled.append(resized)\n",
    "\n",
    "    x_orig = np.reshape( rescaled, (len( rescaled), resized.shape[1], resized.shape[1], 3))\n",
    "\n",
    "    return x_orig"
   ]
  },
  {
   "cell_type": "code",
   "execution_count": 7,
   "metadata": {},
   "outputs": [],
   "source": [
    "def loadImages(path_data, path_labels):\n",
    "\n",
    "    image_list = []\n",
    "    \n",
    "\n",
    "    for filename in tqdm.tqdm(sorted(glob.glob(path_data), key=natural_keys)): \n",
    "        im=cv2.imread(filename)\n",
    "        #gray_image = cv2.cvtColor(im, cv2.COLOR_BGR2GRAY)\n",
    "        imarray = np.array(im)\n",
    "        #imarray = imarray.astype('float32')\n",
    "        image_list.append(imarray)\n",
    "\n",
    "    x_orig = np.reshape(image_list, (len(image_list), 90, 90, 3))\n",
    "    \n",
    "    path = path_labels    \n",
    "    labels = pd.read_csv(path, usecols=[\"Type\", \"Category\"],\n",
    "                       sep=\",\" )\n",
    "    y_orig = np.array(labels['Category'])\n",
    "\n",
    "    return x_orig, y_orig"
   ]
  },
  {
   "cell_type": "code",
   "execution_count": 44,
   "metadata": {},
   "outputs": [],
   "source": [
    "train_data = '/home/jovyan/DATA_MASTER_PROJECT/Check_DIFF_T60_T_97/TRAIN_CONT_KETO/*.tiff'\n",
    "train_lab='/home/jovyan/DATA_MASTER_PROJECT/Check_DIFF_T60_T_97/train_lab.csv'\n",
    "\n",
    "validation_data = '/home/jovyan/DATA_MASTER_PROJECT/Check_DIFF_T60_T_97/VALIDATION_CONT_KETO/*.tiff'\n",
    "validation_lab = '/home/jovyan/DATA_MASTER_PROJECT/Check_DIFF_T60_T_97/validation_lab.csv'\n",
    "\n",
    "\n",
    "test_data='/home/jovyan/DATA_MASTER_PROJECT/Check_DIFF_T60_T_97/TEST_CONT_KETO/*.tiff'\n",
    "test_lab='/home/jovyan/DATA_MASTER_PROJECT/Check_DIFF_T60_T_97/test_lab.csv'\n",
    "\n"
   ]
  },
  {
   "cell_type": "code",
   "execution_count": 45,
   "metadata": {},
   "outputs": [
    {
     "name": "stderr",
     "output_type": "stream",
     "text": [
      "100%|██████████| 17160/17160 [00:23<00:00, 728.39it/s]\n"
     ]
    },
    {
     "data": {
      "text/plain": [
       "((17160, 90, 90, 3), (17160,))"
      ]
     },
     "execution_count": 45,
     "metadata": {},
     "output_type": "execute_result"
    }
   ],
   "source": [
    "x_train, y_train = loadImages(train_data, train_lab)\n",
    "x_train.shape, y_train.shape"
   ]
  },
  {
   "cell_type": "code",
   "execution_count": 46,
   "metadata": {},
   "outputs": [
    {
     "name": "stderr",
     "output_type": "stream",
     "text": [
      "100%|██████████| 4486/4486 [00:06<00:00, 747.46it/s]\n"
     ]
    },
    {
     "data": {
      "text/plain": [
       "((4486, 90, 90, 3), (4486,))"
      ]
     },
     "execution_count": 46,
     "metadata": {},
     "output_type": "execute_result"
    }
   ],
   "source": [
    "x_val, y_val = loadImages(validation_data, validation_lab)\n",
    "x_val.shape, y_val.shape"
   ]
  },
  {
   "cell_type": "code",
   "execution_count": 47,
   "metadata": {},
   "outputs": [
    {
     "name": "stderr",
     "output_type": "stream",
     "text": [
      "100%|██████████| 5721/5721 [00:08<00:00, 709.90it/s]\n"
     ]
    },
    {
     "data": {
      "text/plain": [
       "((5721, 90, 90, 3), (5721,))"
      ]
     },
     "execution_count": 47,
     "metadata": {},
     "output_type": "execute_result"
    }
   ],
   "source": [
    "x_test, y_test = loadImages(test_data, test_lab)\n",
    "x_test.shape, y_test.shape"
   ]
  },
  {
   "cell_type": "code",
   "execution_count": 48,
   "metadata": {},
   "outputs": [
    {
     "data": {
      "text/plain": [
       "(17160, 64, 64, 3)"
      ]
     },
     "execution_count": 48,
     "metadata": {},
     "output_type": "execute_result"
    }
   ],
   "source": [
    "x_train = resize(x_train)\n",
    "x_train.shape"
   ]
  },
  {
   "cell_type": "code",
   "execution_count": 49,
   "metadata": {},
   "outputs": [
    {
     "data": {
      "text/plain": [
       "(4486, 64, 64, 3)"
      ]
     },
     "execution_count": 49,
     "metadata": {},
     "output_type": "execute_result"
    }
   ],
   "source": [
    "x_val = resize(x_val)\n",
    "x_val.shape"
   ]
  },
  {
   "cell_type": "code",
   "execution_count": 50,
   "metadata": {},
   "outputs": [
    {
     "data": {
      "text/plain": [
       "(5721, 64, 64, 3)"
      ]
     },
     "execution_count": 50,
     "metadata": {},
     "output_type": "execute_result"
    }
   ],
   "source": [
    "x_test = resize(x_test)\n",
    "x_test.shape"
   ]
  },
  {
   "cell_type": "code",
   "execution_count": 51,
   "metadata": {},
   "outputs": [],
   "source": [
    "es = EarlyStopping(monitor='val_loss', mode='min', verbose=2, patience=3)"
   ]
  },
  {
   "cell_type": "code",
   "execution_count": 52,
   "metadata": {},
   "outputs": [],
   "source": [
    "pretrained_model = VGG16(weights='imagenet',include_top=False, input_shape=(64, 64, 3))\n",
    "\n",
    "base_model = Model(inputs=pretrained_model.input, outputs=pretrained_model.get_layer('block3_pool').output)"
   ]
  },
  {
   "cell_type": "code",
   "execution_count": 53,
   "metadata": {},
   "outputs": [
    {
     "name": "stdout",
     "output_type": "stream",
     "text": [
      "weights = [1.20760028 0.85330681]\n"
     ]
    }
   ],
   "source": [
    "weights = class_weight.compute_class_weight('balanced', np.unique(y_train),y_train)\n",
    "print('weights = ' + str(weights))"
   ]
  },
  {
   "cell_type": "code",
   "execution_count": 54,
   "metadata": {},
   "outputs": [],
   "source": [
    "norm_mean = np.mean(x_train)\n",
    "norm_sigma = np.std(x_train)\n",
    "\n",
    "x_train = normalization(x_train, norm_mean)#, norm_sigma)\n",
    "\n",
    "x_val = normalization(x_val, norm_mean)#, norm_sigma)\n",
    "\n",
    "x_test = normalization(x_test, norm_mean)#, norm_sigma)\n"
   ]
  },
  {
   "cell_type": "code",
   "execution_count": 55,
   "metadata": {},
   "outputs": [],
   "source": [
    "batch_size = 128"
   ]
  },
  {
   "cell_type": "code",
   "execution_count": 56,
   "metadata": {},
   "outputs": [
    {
     "name": "stdout",
     "output_type": "stream",
     "text": [
      "WARNING:tensorflow:sample_weight modes were coerced from\n",
      "  ...\n",
      "    to  \n",
      "  ['...']\n",
      "WARNING:tensorflow:sample_weight modes were coerced from\n",
      "  ...\n",
      "    to  \n",
      "  ['...']\n",
      "Train for 134.0625 steps, validate for 35.046875 steps\n",
      "Epoch 1/100\n",
      "135/134 [==============================] - 5s 36ms/step - loss: 0.7045 - accuracy: 0.5429 - val_loss: 0.6765 - val_accuracy: 0.6210\n",
      "Epoch 2/100\n",
      "135/134 [==============================] - 4s 29ms/step - loss: 0.6628 - accuracy: 0.6042 - val_loss: 0.6725 - val_accuracy: 0.6304\n",
      "Epoch 3/100\n",
      "135/134 [==============================] - 4s 30ms/step - loss: 0.6429 - accuracy: 0.6324 - val_loss: 0.6666 - val_accuracy: 0.6309\n",
      "Epoch 4/100\n",
      "135/134 [==============================] - 4s 28ms/step - loss: 0.6276 - accuracy: 0.6531 - val_loss: 0.6623 - val_accuracy: 0.6393\n",
      "Epoch 5/100\n",
      "135/134 [==============================] - 4s 29ms/step - loss: 0.6138 - accuracy: 0.6670 - val_loss: 0.6590 - val_accuracy: 0.6411\n",
      "Epoch 6/100\n",
      "135/134 [==============================] - 4s 28ms/step - loss: 0.6017 - accuracy: 0.6805 - val_loss: 0.6548 - val_accuracy: 0.6460\n",
      "Epoch 7/100\n",
      "135/134 [==============================] - 4s 30ms/step - loss: 0.5908 - accuracy: 0.6872 - val_loss: 0.6533 - val_accuracy: 0.6462\n",
      "Epoch 8/100\n",
      "135/134 [==============================] - 4s 28ms/step - loss: 0.5805 - accuracy: 0.6987 - val_loss: 0.6516 - val_accuracy: 0.6476\n",
      "Epoch 9/100\n",
      "135/134 [==============================] - 4s 29ms/step - loss: 0.5722 - accuracy: 0.7047 - val_loss: 0.6470 - val_accuracy: 0.6540\n",
      "Epoch 10/100\n",
      "135/134 [==============================] - 4s 29ms/step - loss: 0.5643 - accuracy: 0.7097 - val_loss: 0.6464 - val_accuracy: 0.6558\n",
      "Epoch 11/100\n",
      "135/134 [==============================] - 4s 30ms/step - loss: 0.5561 - accuracy: 0.7197 - val_loss: 0.6419 - val_accuracy: 0.6567\n",
      "Epoch 12/100\n",
      "135/134 [==============================] - 4s 28ms/step - loss: 0.5498 - accuracy: 0.7218 - val_loss: 0.6396 - val_accuracy: 0.6596\n",
      "Epoch 13/100\n",
      "135/134 [==============================] - 4s 30ms/step - loss: 0.5427 - accuracy: 0.7271 - val_loss: 0.6413 - val_accuracy: 0.6612\n",
      "Epoch 14/100\n",
      "135/134 [==============================] - 4s 29ms/step - loss: 0.5341 - accuracy: 0.7330 - val_loss: 0.6386 - val_accuracy: 0.6658\n",
      "Epoch 15/100\n",
      "135/134 [==============================] - 4s 30ms/step - loss: 0.5279 - accuracy: 0.7428 - val_loss: 0.6395 - val_accuracy: 0.6667\n",
      "Epoch 16/100\n",
      "135/134 [==============================] - 4s 29ms/step - loss: 0.5229 - accuracy: 0.7423 - val_loss: 0.6364 - val_accuracy: 0.6743\n",
      "Epoch 17/100\n",
      "135/134 [==============================] - 4s 30ms/step - loss: 0.5157 - accuracy: 0.7477 - val_loss: 0.6346 - val_accuracy: 0.6741\n",
      "Epoch 18/100\n",
      "135/134 [==============================] - 4s 29ms/step - loss: 0.5085 - accuracy: 0.7517 - val_loss: 0.6419 - val_accuracy: 0.6687\n",
      "Epoch 19/100\n",
      "135/134 [==============================] - 4s 29ms/step - loss: 0.5044 - accuracy: 0.7541 - val_loss: 0.6344 - val_accuracy: 0.6752\n",
      "Epoch 20/100\n",
      "135/134 [==============================] - 4s 29ms/step - loss: 0.4995 - accuracy: 0.7551 - val_loss: 0.6342 - val_accuracy: 0.6761\n",
      "Epoch 21/100\n",
      "135/134 [==============================] - 4s 29ms/step - loss: 0.4936 - accuracy: 0.7622 - val_loss: 0.6355 - val_accuracy: 0.6737\n",
      "Epoch 22/100\n",
      "135/134 [==============================] - 4s 30ms/step - loss: 0.4890 - accuracy: 0.7643 - val_loss: 0.6334 - val_accuracy: 0.6768\n",
      "Epoch 23/100\n",
      "135/134 [==============================] - 4s 29ms/step - loss: 0.4840 - accuracy: 0.7694 - val_loss: 0.6304 - val_accuracy: 0.6794\n",
      "Epoch 24/100\n",
      "135/134 [==============================] - 4s 30ms/step - loss: 0.4793 - accuracy: 0.7727 - val_loss: 0.6283 - val_accuracy: 0.6801\n",
      "Epoch 25/100\n",
      "135/134 [==============================] - 4s 30ms/step - loss: 0.4728 - accuracy: 0.7752 - val_loss: 0.6292 - val_accuracy: 0.6783\n",
      "Epoch 26/100\n",
      "135/134 [==============================] - 4s 29ms/step - loss: 0.4675 - accuracy: 0.7803 - val_loss: 0.6324 - val_accuracy: 0.6781\n",
      "Epoch 27/100\n",
      "135/134 [==============================] - 4s 29ms/step - loss: 0.4643 - accuracy: 0.7787 - val_loss: 0.6281 - val_accuracy: 0.6803\n",
      "Epoch 28/100\n",
      "135/134 [==============================] - 4s 29ms/step - loss: 0.4605 - accuracy: 0.7805 - val_loss: 0.6267 - val_accuracy: 0.6846\n",
      "Epoch 29/100\n",
      "135/134 [==============================] - 4s 29ms/step - loss: 0.4556 - accuracy: 0.7865 - val_loss: 0.6238 - val_accuracy: 0.6837\n",
      "Epoch 30/100\n",
      "135/134 [==============================] - 4s 29ms/step - loss: 0.4496 - accuracy: 0.7881 - val_loss: 0.6272 - val_accuracy: 0.6828\n",
      "Epoch 31/100\n",
      "135/134 [==============================] - 4s 29ms/step - loss: 0.4415 - accuracy: 0.7948 - val_loss: 0.6277 - val_accuracy: 0.6819\n",
      "Epoch 32/100\n",
      "135/134 [==============================] - 4s 29ms/step - loss: 0.4408 - accuracy: 0.7937 - val_loss: 0.6264 - val_accuracy: 0.6821\n",
      "Epoch 00032: early stopping\n"
     ]
    }
   ],
   "source": [
    "datagen = ImageDataGenerator()\n",
    "\n",
    "datagen.fit(x_train)\n",
    "\n",
    "train_gen = datagen.flow(x_train, y_train,batch_size=batch_size )\n",
    "\n",
    "dat_val = ImageDataGenerator()\n",
    "\n",
    "dat_val.fit(x_val)\n",
    "\n",
    "val_gen = dat_val.flow(x_val, y_val,batch_size=batch_size)\n",
    "\n",
    "m4 = Sequential()\n",
    "m4.add(base_model)\n",
    "\n",
    "\n",
    "m4.add(BatchNormalization())\n",
    "m4.add(GlobalAveragePooling2D())\n",
    "m4.add(BatchNormalization())\n",
    "m4.add(Activation('relu'))\n",
    "m4.add(Dense(64, activation='relu'))\n",
    "m4.add(Dropout(0.2))\n",
    "\n",
    "m4.add(Dense(1,activation='sigmoid'))\n",
    "\n",
    "\n",
    "base_model.trainable = False\n",
    "\n",
    "opt = keras.optimizers.Adam(lr=1e-4)\n",
    "\n",
    "m4.compile(loss= keras.losses.binary_crossentropy, optimizer=opt, metrics = ['accuracy'])\n",
    "\n",
    "\n",
    "\n",
    "epochs = 100\n",
    "\n",
    "m4_h = m4.fit(train_gen,\n",
    "                steps_per_epoch=(len(x_train)/batch_size),\n",
    "                callbacks = [es],\n",
    "                epochs=epochs,\n",
    "                validation_data = (val_gen), \n",
    "                validation_steps = (len(x_val)/batch_size),\n",
    "                class_weight = weights,\n",
    "                 verbose = 1)"
   ]
  },
  {
   "cell_type": "code",
   "execution_count": 57,
   "metadata": {},
   "outputs": [
    {
     "name": "stdout",
     "output_type": "stream",
     "text": [
      "WARNING:tensorflow:sample_weight modes were coerced from\n",
      "  ...\n",
      "    to  \n",
      "  ['...']\n",
      "WARNING:tensorflow:sample_weight modes were coerced from\n",
      "  ...\n",
      "    to  \n",
      "  ['...']\n",
      "Train for 134.0625 steps, validate for 35.046875 steps\n",
      "Epoch 1/100\n",
      "135/134 [==============================] - 10s 75ms/step - loss: 0.3743 - accuracy: 0.8336 - val_loss: 0.8011 - val_accuracy: 0.6008\n",
      "Epoch 2/100\n",
      "135/134 [==============================] - 9s 65ms/step - loss: 0.2326 - accuracy: 0.9126 - val_loss: 0.7431 - val_accuracy: 0.6592\n",
      "Epoch 3/100\n",
      "135/134 [==============================] - 9s 65ms/step - loss: 0.1691 - accuracy: 0.9417 - val_loss: 1.0659 - val_accuracy: 0.6282\n",
      "Epoch 4/100\n",
      "135/134 [==============================] - 9s 64ms/step - loss: 0.1266 - accuracy: 0.9592 - val_loss: 0.6587 - val_accuracy: 0.7182\n",
      "Epoch 5/100\n",
      "135/134 [==============================] - 9s 65ms/step - loss: 0.0860 - accuracy: 0.9757 - val_loss: 1.0939 - val_accuracy: 0.6607\n",
      "Epoch 6/100\n",
      "135/134 [==============================] - 9s 64ms/step - loss: 0.0638 - accuracy: 0.9829 - val_loss: 0.7092 - val_accuracy: 0.7329\n",
      "Epoch 7/100\n",
      "135/134 [==============================] - 9s 65ms/step - loss: 0.0485 - accuracy: 0.9883 - val_loss: 0.8751 - val_accuracy: 0.7111\n",
      "Epoch 00007: early stopping\n"
     ]
    }
   ],
   "source": [
    "base_model.trainable = True\n",
    "\n",
    "opt = keras.optimizers.Adam(lr=1e-4)\n",
    "\n",
    "m4.compile(loss= keras.losses.binary_crossentropy, optimizer=opt, metrics = ['accuracy'])\n",
    "\n",
    "epochs = 100\n",
    "\n",
    "m4_h = m4.fit(train_gen,\n",
    "                steps_per_epoch=(len(x_train)/batch_size),\n",
    "                callbacks = [es],\n",
    "                epochs=epochs,\n",
    "                validation_data = val_gen, \n",
    "                validation_steps = (len(x_val)/batch_size),\n",
    "                class_weight = weights,\n",
    "                verbose = 1)"
   ]
  },
  {
   "cell_type": "code",
   "execution_count": 58,
   "metadata": {},
   "outputs": [
    {
     "data": {
      "image/png": "[encoded data removed]",
      "text/plain": [
       "<Figure size 1080x360 with 2 Axes>"
      ]
     },
     "execution_count": 58,
     "metadata": {},
     "output_type": "execute_result"
    },
    {
     "data": {
      "image/png": "[encoded data removed]",
      "text/plain": [
       "<Figure size 1080x360 with 2 Axes>"
      ]
     },
     "metadata": {},
     "output_type": "display_data"
    }
   ],
   "source": [
    "plot_history(m4_h, 'first')"
   ]
  },
  {
   "cell_type": "code",
   "execution_count": 59,
   "metadata": {},
   "outputs": [
    {
     "name": "stdout",
     "output_type": "stream",
     "text": [
      "\n",
      "accuracy: 75.11%\n"
     ]
    }
   ],
   "source": [
    "scores = m4.evaluate(x_test, y_test, verbose = 0)\n",
    "print(\"\\n%s: %.2f%%\" % (m4.metrics_names[1], scores[1]*100))\n"
   ]
  },
  {
   "cell_type": "code",
   "execution_count": 60,
   "metadata": {},
   "outputs": [
    {
     "data": {
      "image/png": "[encoded data removed]",
      "text/plain": [
       "<Figure size 432x288 with 1 Axes>"
      ]
     },
     "metadata": {
      "needs_background": "light"
     },
     "output_type": "display_data"
    },
    {
     "data": {
      "text/plain": [
       "array([[1383,  992],\n",
       "       [ 432, 2914]])"
      ]
     },
     "execution_count": 60,
     "metadata": {},
     "output_type": "execute_result"
    }
   ],
   "source": [
    "test_preds = m4.predict(x_test)\n",
    "\n",
    "t= []\n",
    "for i in (test_preds):\n",
    "    if i > 0.5:\n",
    "        t.append(1)\n",
    "    else:\n",
    "        t.append(0)\n",
    "\n",
    "draw_confusion_matrix(y_test, t)"
   ]
  },
  {
   "cell_type": "code",
   "execution_count": 61,
   "metadata": {},
   "outputs": [
    {
     "name": "stdout",
     "output_type": "stream",
     "text": [
      "              precision    recall  f1-score   support\n",
      "\n",
      "           0       0.76      0.58      0.66      2375\n",
      "           1       0.75      0.87      0.80      3346\n",
      "\n",
      "    accuracy                           0.75      5721\n",
      "   macro avg       0.75      0.73      0.73      5721\n",
      "weighted avg       0.75      0.75      0.74      5721\n",
      "\n"
     ]
    }
   ],
   "source": [
    "print(classification_report(y_test, t))"
   ]
  },
  {
   "cell_type": "code",
   "execution_count": null,
   "metadata": {},
   "outputs": [],
   "source": []
  },
  {
   "cell_type": "code",
   "execution_count": null,
   "metadata": {},
   "outputs": [],
   "source": []
  }
 ],
 "metadata": {
  "kernelspec": {
   "display_name": "Python 3",
   "language": "python",
   "name": "python3"
  },
  "language_info": {
   "codemirror_mode": {
    "name": "ipython",
    "version": 3
   },
   "file_extension": ".py",
   "mimetype": "text/x-python",
   "name": "python",
   "nbconvert_exporter": "python",
   "pygments_lexer": "ipython3",
   "version": "3.6.9"
  }
 },
 "nbformat": 4,
 "nbformat_minor": 4
}
