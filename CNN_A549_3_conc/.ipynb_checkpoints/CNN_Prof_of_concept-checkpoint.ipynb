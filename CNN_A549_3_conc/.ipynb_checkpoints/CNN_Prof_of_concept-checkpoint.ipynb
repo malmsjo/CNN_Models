{
 "cells": [
  {
   "cell_type": "code",
   "execution_count": 1,
   "metadata": {},
   "outputs": [
    {
     "name": "stderr",
     "output_type": "stream",
     "text": [
      "Using TensorFlow backend.\n"
     ]
    }
   ],
   "source": [
    "import tensorflow as tf\n",
    "from tensorflow import keras\n",
    "from tensorflow.keras.models import Sequential\n",
    "from tensorflow.keras.layers import Dropout\n",
    "from tensorflow.keras.models import Model\n",
    "from tensorflow.keras.layers import Input\n",
    "from tensorflow.keras.layers import Dense\n",
    "from tensorflow.keras.layers import Activation\n",
    "from tensorflow.keras.layers import Flatten\n",
    "from tensorflow.keras.layers import Dropout\n",
    "from tensorflow.keras.layers import Conv2D, Conv3D\n",
    "from tensorflow.keras.layers import MaxPooling2D, MaxPooling3D\n",
    "from tensorflow.keras.layers import GlobalAveragePooling2D\n",
    "from tensorflow.keras.layers import BatchNormalization\n",
    "from tensorflow.keras.applications.vgg16 import VGG16\n",
    "from tensorflow.keras import optimizers\n",
    "from tensorflow.keras import regularizers\n",
    "from sklearn.metrics import f1_score\n",
    "#from keras import backend as K\n",
    "from keras.callbacks import EarlyStopping\n",
    "from keras.preprocessing.image import ImageDataGenerator\n",
    "from sklearn.model_selection import train_test_split\n",
    "import numpy as np\n",
    "import matplotlib.pyplot as plt\n",
    "import pandas as pd\n",
    "from PIL import Image \n",
    "import seaborn as sns\n",
    "import os\n",
    "import re\n",
    "import glob\n",
    "import cv2\n",
    "from sklearn.metrics import classification_report\n",
    "from sklearn.metrics import confusion_matrix\n",
    "from sklearn.utils.multiclass import unique_labels\n",
    "from sklearn import preprocessing\n",
    "import tqdm\n",
    "from numpy import loadtxt\n",
    "from sklearn.utils import class_weight"
   ]
  },
  {
   "cell_type": "code",
   "execution_count": 2,
   "metadata": {},
   "outputs": [],
   "source": [
    "def atoi(text):\n",
    "    return int(text) if text.isdigit() else text\n",
    "def natural_keys(text):\n",
    "    return [atoi(c) for c in re.split('(\\d+)', text)]"
   ]
  },
  {
   "cell_type": "code",
   "execution_count": 3,
   "metadata": {},
   "outputs": [],
   "source": [
    "def draw_confusion_matrix(true,preds):\n",
    "    conf_matx = confusion_matrix(true, preds)\n",
    "    sns.heatmap(conf_matx, annot=True,annot_kws={\"size\": 12},fmt='g', cbar=False, cmap=plt.cm.Blues) #'viridis'\n",
    "    #plt.savefig('/home/jovyan/img1.png')\n",
    "    plt.show()\n",
    "    \n",
    "    return conf_matx"
   ]
  },
  {
   "cell_type": "code",
   "execution_count": 4,
   "metadata": {},
   "outputs": [],
   "source": [
    "def plot_history(model_history, model_name):\n",
    "    fig = plt.figure(figsize=(15,5), facecolor='w')\n",
    "    ax = fig.add_subplot(121)\n",
    "    ax.plot(model_history.history['loss'])\n",
    "    ax.plot(model_history.history['val_loss'])\n",
    "    ax.set(title=model_name + ': Model loss', ylabel='Loss', xlabel='Epoch')\n",
    "    ax.legend(['Train', 'Val'], loc='upper left')\n",
    "    ax = fig.add_subplot(122)\n",
    "    ax.plot(model_history.history['accuracy'])\n",
    "    ax.plot(model_history.history['val_accuracy'])\n",
    "    ax.set(title=model_name + ': Model Accuracy; test='+ str(np.round(model_history.history['val_accuracy'][-1], 3)),\n",
    "           ylabel='Accuracy', xlabel='Epoch')\n",
    "    ax.legend(['Train', 'Val'], loc='upper left')\n",
    "    #plt.savefig('/home/jovyan/img2.png')\n",
    "    plt.show()\n",
    "   \n",
    "    \n",
    "    return fig"
   ]
  },
  {
   "cell_type": "code",
   "execution_count": 5,
   "metadata": {},
   "outputs": [],
   "source": [
    "def loadImages(path_data, path_labels):\n",
    "\n",
    "    image_list = []\n",
    "    \n",
    "\n",
    "    for filename in tqdm.tqdm(sorted(glob.glob(path_data), key=natural_keys)): \n",
    "        im=cv2.imread(filename)\n",
    "        #gray_image = cv2.cvtColor(im, cv2.COLOR_BGR2GRAY)\n",
    "        imarray = np.array(im)\n",
    "        imarray = imarray.astype('float32')\n",
    "        image_list.append(imarray)\n",
    "\n",
    "    x_orig = np.reshape(image_list, (len(image_list), 90, 90, 3))\n",
    "    \n",
    "    path = path_labels    \n",
    "    labels = pd.read_csv(path, usecols=[\"Type\", \"Category\"],\n",
    "                       sep=\",\" )\n",
    "    y_orig = np.array(labels['Category'])\n",
    "\n",
    "    return x_orig, y_orig"
   ]
  },
  {
   "cell_type": "code",
   "execution_count": 6,
   "metadata": {},
   "outputs": [],
   "source": [
    "def normalization(data, norm_mean):#, norm_sigma):\n",
    "    \n",
    "    x_scaled = np.subtract(data, norm_mean)# / norm_sigma\n",
    "    data = x_scaled\n",
    "    \n",
    "    return data"
   ]
  },
  {
   "cell_type": "code",
   "execution_count": 7,
   "metadata": {},
   "outputs": [],
   "source": [
    "def resize(x_o):\n",
    "    rescaled = []\n",
    "\n",
    "    for i in tqdm.tqdm(x_o):\n",
    "\n",
    "        scale_percent = 140 # percent of original size\n",
    "        width = int(i.shape[1] / (scale_percent / 100))\n",
    "        height = int(i.shape[0] / (scale_percent / 100))\n",
    "        dim = (width, height)\n",
    "        resized = cv2.resize(i, dim, interpolation = cv2.INTER_LANCZOS4)\n",
    "        rescaled.append(resized)\n",
    "\n",
    "    x_orig = np.reshape( rescaled, (len( rescaled), resized.shape[1], resized.shape[1], 3))\n",
    "\n",
    "    return x_orig"
   ]
  },
  {
   "cell_type": "code",
   "execution_count": 8,
   "metadata": {},
   "outputs": [],
   "source": [
    "es = EarlyStopping(monitor='val_loss', mode='min', verbose=2, patience=3)"
   ]
  },
  {
   "cell_type": "code",
   "execution_count": 9,
   "metadata": {},
   "outputs": [],
   "source": [
    "train_data = '/home/jovyan/DATA_MASTER_PROJECT/Check_for_differences/TRAIN/*.tiff'\n",
    "train_lab='/home/jovyan/DATA_MASTER_PROJECT/Check_for_differences/train_lab.csv'\n",
    "\n",
    "\n",
    "test_data='/home/jovyan/DATA_MASTER_PROJECT/Check_for_differences/TEST/*.tiff'\n",
    "test_lab='/home/jovyan/DATA_MASTER_PROJECT/Check_for_differences/test_lab.csv'"
   ]
  },
  {
   "cell_type": "code",
   "execution_count": 10,
   "metadata": {},
   "outputs": [
    {
     "name": "stderr",
     "output_type": "stream",
     "text": [
      "100%|██████████| 11434/11434 [00:07<00:00, 1538.84it/s]\n",
      "100%|██████████| 2/2 [00:00<00:00, 3614.22it/s]\n"
     ]
    },
    {
     "data": {
      "text/plain": [
       "((11434, 90, 90, 3), (11434,))"
      ]
     },
     "execution_count": 10,
     "metadata": {},
     "output_type": "execute_result"
    }
   ],
   "source": [
    "x_orig_1, y_orig_1 = tqdm.tqdm(loadImages(train_data, train_lab))\n",
    "x_orig_1.shape, y_orig_1.shape"
   ]
  },
  {
   "cell_type": "code",
   "execution_count": 11,
   "metadata": {},
   "outputs": [
    {
     "name": "stderr",
     "output_type": "stream",
     "text": [
      "100%|██████████| 11131/11131 [00:03<00:00, 2883.64it/s]\n"
     ]
    },
    {
     "data": {
      "text/plain": [
       "((11131, 90, 90, 3), (11131,))"
      ]
     },
     "execution_count": 11,
     "metadata": {},
     "output_type": "execute_result"
    }
   ],
   "source": [
    "x_test, y_test = loadImages(test_data, test_lab)\n",
    "x_test.shape, y_test.shape"
   ]
  },
  {
   "cell_type": "code",
   "execution_count": 12,
   "metadata": {},
   "outputs": [
    {
     "name": "stderr",
     "output_type": "stream",
     "text": [
      "100%|██████████| 11131/11131 [00:02<00:00, 5439.60it/s]\n"
     ]
    },
    {
     "data": {
      "text/plain": [
       "(11131, 64, 64, 3)"
      ]
     },
     "execution_count": 12,
     "metadata": {},
     "output_type": "execute_result"
    }
   ],
   "source": [
    "x_test = resize(x_test)\n",
    "x_test.shape"
   ]
  },
  {
   "cell_type": "code",
   "execution_count": 13,
   "metadata": {},
   "outputs": [
    {
     "name": "stderr",
     "output_type": "stream",
     "text": [
      "100%|██████████| 11434/11434 [00:02<00:00, 5644.15it/s]\n"
     ]
    },
    {
     "data": {
      "text/plain": [
       "(11434, 64, 64, 3)"
      ]
     },
     "execution_count": 13,
     "metadata": {},
     "output_type": "execute_result"
    }
   ],
   "source": [
    "x_orig_1 = resize(x_orig_1)\n",
    "\n",
    "x_orig_1.shape"
   ]
  },
  {
   "cell_type": "code",
   "execution_count": 14,
   "metadata": {},
   "outputs": [
    {
     "data": {
      "text/plain": [
       "((9147, 64, 64, 3), (2287, 64, 64, 3), (9147,), (2287,))"
      ]
     },
     "execution_count": 14,
     "metadata": {},
     "output_type": "execute_result"
    }
   ],
   "source": [
    "x_train_1, x_val, y_train_1, y_val = train_test_split(x_orig_1, y_orig_1, test_size=0.2, random_state=999 )\n",
    "x_train_1.shape, x_val.shape, y_train_1.shape, y_val.shape"
   ]
  },
  {
   "cell_type": "code",
   "execution_count": 15,
   "metadata": {},
   "outputs": [],
   "source": [
    "pretrained_model = VGG16(weights='imagenet',include_top=False, input_shape=(64, 64, 3))\n",
    "\n",
    "base_model = Model(inputs=pretrained_model.input, outputs=pretrained_model.get_layer('block3_pool').output)"
   ]
  },
  {
   "cell_type": "code",
   "execution_count": 16,
   "metadata": {},
   "outputs": [
    {
     "data": {
      "text/plain": [
       "{0: 4720, 1: 2081, 2: 2346}"
      ]
     },
     "execution_count": 16,
     "metadata": {},
     "output_type": "execute_result"
    }
   ],
   "source": [
    "unique, counts = np.unique(y_train_1, return_counts=True)\n",
    "dict(zip(unique, counts))"
   ]
  },
  {
   "cell_type": "code",
   "execution_count": 17,
   "metadata": {},
   "outputs": [
    {
     "data": {
      "text/plain": [
       "{0: 1179, 1: 506, 2: 602}"
      ]
     },
     "execution_count": 17,
     "metadata": {},
     "output_type": "execute_result"
    }
   ],
   "source": [
    "unique, counts = np.unique(y_val, return_counts=True)\n",
    "dict(zip(unique, counts))"
   ]
  },
  {
   "cell_type": "code",
   "execution_count": 18,
   "metadata": {},
   "outputs": [
    {
     "data": {
      "text/plain": [
       "{0: 2693, 1: 2766, 2: 5672}"
      ]
     },
     "execution_count": 18,
     "metadata": {},
     "output_type": "execute_result"
    }
   ],
   "source": [
    "unique, counts = np.unique(y_test, return_counts=True)\n",
    "dict(zip(unique, counts))"
   ]
  },
  {
   "cell_type": "code",
   "execution_count": 19,
   "metadata": {},
   "outputs": [
    {
     "name": "stdout",
     "output_type": "stream",
     "text": [
      "weights = [0.64597458 1.46516098 1.29965899]\n"
     ]
    }
   ],
   "source": [
    "weights = class_weight.compute_class_weight('balanced', np.unique(y_train_1),y_train_1)\n",
    "print('weights = ' + str(weights))"
   ]
  },
  {
   "cell_type": "code",
   "execution_count": 20,
   "metadata": {},
   "outputs": [
    {
     "data": {
      "text/plain": [
       "((9147, 3), (11131, 3), (2287, 3))"
      ]
     },
     "execution_count": 20,
     "metadata": {},
     "output_type": "execute_result"
    }
   ],
   "source": [
    "y_train_1 = keras.utils.to_categorical(y_train_1)\n",
    "y_test_1 = keras.utils.to_categorical(y_test)\n",
    "y_val = keras.utils.to_categorical(y_val)\n",
    "\n",
    "y_train_1.shape, y_test_1.shape, y_val.shape"
   ]
  },
  {
   "cell_type": "code",
   "execution_count": 21,
   "metadata": {},
   "outputs": [
    {
     "name": "stdout",
     "output_type": "stream",
     "text": [
      "Shape:(9147, 64, 64, 3)\n",
      "Mean:19.70850944519043\n",
      "Sigma:29.875551223754883\n"
     ]
    }
   ],
   "source": [
    "print('Shape:{0}\\nMean:{1}\\nSigma:{2}'.format(x_train_1.shape,np.mean(x_train_1),np.std(x_train_1)))"
   ]
  },
  {
   "cell_type": "code",
   "execution_count": 22,
   "metadata": {},
   "outputs": [],
   "source": [
    "norm_mean = np.mean(x_train_1)\n",
    "norm_sigma = np.std(x_train_1)\n",
    "\n",
    "x_train_1 = normalization(x_train_1, norm_mean)#, norm_sigma)\n",
    "\n",
    "x_val = normalization(x_val, norm_mean)#, norm_sigma)\n",
    "\n",
    "x_test = normalization(x_test, norm_mean)#, norm_sigma)\n"
   ]
  },
  {
   "cell_type": "code",
   "execution_count": 23,
   "metadata": {},
   "outputs": [],
   "source": [
    "batch_size = 64"
   ]
  },
  {
   "cell_type": "code",
   "execution_count": 24,
   "metadata": {},
   "outputs": [],
   "source": [
    "datagen = ImageDataGenerator()\n",
    "\n",
    "datagen.fit(x_train_1)\n",
    "\n",
    "train_gen = datagen.flow(x_train_1, y_train_1, batch_size=batch_size)"
   ]
  },
  {
   "cell_type": "code",
   "execution_count": 25,
   "metadata": {},
   "outputs": [],
   "source": [
    "dat_val = ImageDataGenerator()\n",
    "\n",
    "dat_val.fit(x_val)\n",
    "\n",
    "val_gen = dat_val.flow(x_val, y_val, batch_size=batch_size)"
   ]
  },
  {
   "cell_type": "code",
   "execution_count": 26,
   "metadata": {},
   "outputs": [
    {
     "name": "stdout",
     "output_type": "stream",
     "text": [
      "Model: \"sequential\"\n",
      "_________________________________________________________________\n",
      "Layer (type)                 Output Shape              Param #   \n",
      "=================================================================\n",
      "model (Model)                (None, 8, 8, 256)         1735488   \n",
      "_________________________________________________________________\n",
      "batch_normalization (BatchNo (None, 8, 8, 256)         1024      \n",
      "_________________________________________________________________\n",
      "global_average_pooling2d (Gl (None, 256)               0         \n",
      "_________________________________________________________________\n",
      "batch_normalization_1 (Batch (None, 256)               1024      \n",
      "_________________________________________________________________\n",
      "activation (Activation)      (None, 256)               0         \n",
      "_________________________________________________________________\n",
      "dense (Dense)                (None, 64)                16448     \n",
      "_________________________________________________________________\n",
      "dense_1 (Dense)              (None, 3)                 195       \n",
      "=================================================================\n",
      "Total params: 1,754,179\n",
      "Trainable params: 1,753,155\n",
      "Non-trainable params: 1,024\n",
      "_________________________________________________________________\n"
     ]
    }
   ],
   "source": [
    "m4 = Sequential()\n",
    "m4.add(base_model)\n",
    "\n",
    "\n",
    "m4.add(BatchNormalization())\n",
    "m4.add(GlobalAveragePooling2D())\n",
    "m4.add(BatchNormalization())\n",
    "m4.add(Activation('relu'))\n",
    "m4.add(Dense(64, activation='relu'))\n",
    "#m4.add(BatchNormalization())\n",
    "#m4.add(Activation('relu'))\n",
    "m4.add(Dense(3, activation = 'softmax'))\n",
    "\n",
    "m4.summary()\n",
    "\n",
    "\n"
   ]
  },
  {
   "cell_type": "code",
   "execution_count": 27,
   "metadata": {},
   "outputs": [],
   "source": [
    "base_model.trainable = False\n",
    "\n",
    "opt = keras.optimizers.Adam(lr=1e-4)\n",
    "\n",
    "m4.compile(loss= keras.losses.categorical_crossentropy, optimizer=opt, metrics = ['accuracy'])\n"
   ]
  },
  {
   "cell_type": "code",
   "execution_count": 28,
   "metadata": {},
   "outputs": [
    {
     "name": "stdout",
     "output_type": "stream",
     "text": [
      "WARNING:tensorflow:sample_weight modes were coerced from\n",
      "  ...\n",
      "    to  \n",
      "  ['...']\n",
      "WARNING:tensorflow:sample_weight modes were coerced from\n",
      "  ...\n",
      "    to  \n",
      "  ['...']\n",
      "Train for 142.921875 steps, validate for 35.734375 steps\n",
      "Epoch 1/300\n",
      "143/142 [==============================] - 6s 42ms/step - loss: 1.1004 - accuracy: 0.4675 - val_loss: 1.0079 - val_accuracy: 0.5186\n",
      "Epoch 2/300\n",
      "143/142 [==============================] - 2s 17ms/step - loss: 0.9760 - accuracy: 0.5256 - val_loss: 0.9516 - val_accuracy: 0.5549\n",
      "Epoch 3/300\n",
      "143/142 [==============================] - 2s 17ms/step - loss: 0.9240 - accuracy: 0.5603 - val_loss: 0.9175 - val_accuracy: 0.5776\n",
      "Epoch 4/300\n",
      "143/142 [==============================] - 3s 18ms/step - loss: 0.8905 - accuracy: 0.5800 - val_loss: 0.8975 - val_accuracy: 0.5890\n",
      "Epoch 5/300\n",
      "143/142 [==============================] - 2s 17ms/step - loss: 0.8674 - accuracy: 0.5986 - val_loss: 0.8831 - val_accuracy: 0.6017\n",
      "Epoch 6/300\n",
      "143/142 [==============================] - 2s 17ms/step - loss: 0.8486 - accuracy: 0.6101 - val_loss: 0.8695 - val_accuracy: 0.6060\n",
      "Epoch 7/300\n",
      "143/142 [==============================] - 2s 17ms/step - loss: 0.8331 - accuracy: 0.6192 - val_loss: 0.8558 - val_accuracy: 0.6091\n",
      "Epoch 8/300\n",
      "143/142 [==============================] - 2s 17ms/step - loss: 0.8209 - accuracy: 0.6260 - val_loss: 0.8527 - val_accuracy: 0.6170\n",
      "Epoch 9/300\n",
      "143/142 [==============================] - 2s 17ms/step - loss: 0.8094 - accuracy: 0.6324 - val_loss: 0.8404 - val_accuracy: 0.6200\n",
      "Epoch 10/300\n",
      "143/142 [==============================] - 2s 17ms/step - loss: 0.7997 - accuracy: 0.6412 - val_loss: 0.8370 - val_accuracy: 0.6240\n",
      "Epoch 11/300\n",
      "143/142 [==============================] - 2s 17ms/step - loss: 0.7901 - accuracy: 0.6463 - val_loss: 0.8276 - val_accuracy: 0.6305\n",
      "Epoch 12/300\n",
      "143/142 [==============================] - 2s 17ms/step - loss: 0.7823 - accuracy: 0.6498 - val_loss: 0.8213 - val_accuracy: 0.6310\n",
      "Epoch 13/300\n",
      "143/142 [==============================] - 2s 17ms/step - loss: 0.7738 - accuracy: 0.6548 - val_loss: 0.8145 - val_accuracy: 0.6314\n",
      "Epoch 14/300\n",
      "143/142 [==============================] - 2s 17ms/step - loss: 0.7669 - accuracy: 0.6564 - val_loss: 0.8100 - val_accuracy: 0.6358\n",
      "Epoch 15/300\n",
      "143/142 [==============================] - 2s 17ms/step - loss: 0.7609 - accuracy: 0.6612 - val_loss: 0.8077 - val_accuracy: 0.6397\n",
      "Epoch 16/300\n",
      "143/142 [==============================] - 2s 17ms/step - loss: 0.7536 - accuracy: 0.6659 - val_loss: 0.8000 - val_accuracy: 0.6401\n",
      "Epoch 17/300\n",
      "143/142 [==============================] - 2s 17ms/step - loss: 0.7467 - accuracy: 0.6703 - val_loss: 0.7969 - val_accuracy: 0.6471\n",
      "Epoch 18/300\n",
      "143/142 [==============================] - 2s 16ms/step - loss: 0.7402 - accuracy: 0.6736 - val_loss: 0.7920 - val_accuracy: 0.6449\n",
      "Epoch 19/300\n",
      "143/142 [==============================] - 2s 17ms/step - loss: 0.7341 - accuracy: 0.6755 - val_loss: 0.7930 - val_accuracy: 0.6458\n",
      "Epoch 20/300\n",
      "143/142 [==============================] - 3s 18ms/step - loss: 0.7286 - accuracy: 0.6780 - val_loss: 0.7838 - val_accuracy: 0.6537\n",
      "Epoch 21/300\n",
      "143/142 [==============================] - 2s 17ms/step - loss: 0.7229 - accuracy: 0.6800 - val_loss: 0.7782 - val_accuracy: 0.6563\n",
      "Epoch 22/300\n",
      "143/142 [==============================] - 2s 17ms/step - loss: 0.7172 - accuracy: 0.6877 - val_loss: 0.7763 - val_accuracy: 0.6572\n",
      "Epoch 23/300\n",
      "143/142 [==============================] - 2s 17ms/step - loss: 0.7111 - accuracy: 0.6890 - val_loss: 0.7698 - val_accuracy: 0.6620\n",
      "Epoch 24/300\n",
      "143/142 [==============================] - 3s 18ms/step - loss: 0.7065 - accuracy: 0.6916 - val_loss: 0.7664 - val_accuracy: 0.6651\n",
      "Epoch 25/300\n",
      "143/142 [==============================] - 2s 17ms/step - loss: 0.7028 - accuracy: 0.6920 - val_loss: 0.7653 - val_accuracy: 0.6668\n",
      "Epoch 26/300\n",
      "143/142 [==============================] - 2s 17ms/step - loss: 0.6956 - accuracy: 0.6968 - val_loss: 0.7612 - val_accuracy: 0.6694\n",
      "Epoch 27/300\n",
      "143/142 [==============================] - 2s 17ms/step - loss: 0.6913 - accuracy: 0.6988 - val_loss: 0.7626 - val_accuracy: 0.6707\n",
      "Epoch 28/300\n",
      "143/142 [==============================] - 2s 17ms/step - loss: 0.6862 - accuracy: 0.7009 - val_loss: 0.7577 - val_accuracy: 0.6690\n",
      "Epoch 29/300\n",
      "143/142 [==============================] - 2s 17ms/step - loss: 0.6831 - accuracy: 0.7024 - val_loss: 0.7548 - val_accuracy: 0.6716\n",
      "Epoch 30/300\n",
      "143/142 [==============================] - 2s 17ms/step - loss: 0.6765 - accuracy: 0.7061 - val_loss: 0.7462 - val_accuracy: 0.6764\n",
      "Epoch 31/300\n",
      "143/142 [==============================] - 3s 18ms/step - loss: 0.6723 - accuracy: 0.7080 - val_loss: 0.7437 - val_accuracy: 0.6747\n",
      "Epoch 32/300\n",
      "143/142 [==============================] - 2s 17ms/step - loss: 0.6679 - accuracy: 0.7085 - val_loss: 0.7478 - val_accuracy: 0.6782\n",
      "Epoch 33/300\n",
      "143/142 [==============================] - 3s 18ms/step - loss: 0.6631 - accuracy: 0.7125 - val_loss: 0.7369 - val_accuracy: 0.6808\n",
      "Epoch 34/300\n",
      "143/142 [==============================] - 3s 18ms/step - loss: 0.6581 - accuracy: 0.7167 - val_loss: 0.7335 - val_accuracy: 0.6847\n",
      "Epoch 35/300\n",
      "143/142 [==============================] - 3s 18ms/step - loss: 0.6538 - accuracy: 0.7194 - val_loss: 0.7329 - val_accuracy: 0.6826\n",
      "Epoch 36/300\n",
      "143/142 [==============================] - 3s 18ms/step - loss: 0.6495 - accuracy: 0.7230 - val_loss: 0.7288 - val_accuracy: 0.6856\n",
      "Epoch 37/300\n",
      "143/142 [==============================] - 3s 18ms/step - loss: 0.6460 - accuracy: 0.7224 - val_loss: 0.7281 - val_accuracy: 0.6804\n",
      "Epoch 38/300\n",
      "143/142 [==============================] - 2s 17ms/step - loss: 0.6414 - accuracy: 0.7252 - val_loss: 0.7253 - val_accuracy: 0.6843\n",
      "Epoch 39/300\n",
      "143/142 [==============================] - 2s 17ms/step - loss: 0.6383 - accuracy: 0.7278 - val_loss: 0.7192 - val_accuracy: 0.6917\n",
      "Epoch 40/300\n",
      "143/142 [==============================] - 2s 17ms/step - loss: 0.6328 - accuracy: 0.7311 - val_loss: 0.7231 - val_accuracy: 0.6909\n",
      "Epoch 41/300\n",
      "143/142 [==============================] - 3s 18ms/step - loss: 0.6284 - accuracy: 0.7323 - val_loss: 0.7157 - val_accuracy: 0.6909\n",
      "Epoch 42/300\n",
      "143/142 [==============================] - 2s 17ms/step - loss: 0.6251 - accuracy: 0.7347 - val_loss: 0.7147 - val_accuracy: 0.6939\n",
      "Epoch 43/300\n",
      "143/142 [==============================] - 2s 17ms/step - loss: 0.6206 - accuracy: 0.7381 - val_loss: 0.7184 - val_accuracy: 0.6922\n",
      "Epoch 44/300\n",
      "143/142 [==============================] - 2s 17ms/step - loss: 0.6165 - accuracy: 0.7390 - val_loss: 0.7179 - val_accuracy: 0.6917\n",
      "Epoch 45/300\n",
      "143/142 [==============================] - 2s 17ms/step - loss: 0.6124 - accuracy: 0.7423 - val_loss: 0.7079 - val_accuracy: 0.6974\n",
      "Epoch 46/300\n",
      "143/142 [==============================] - 2s 17ms/step - loss: 0.6084 - accuracy: 0.7433 - val_loss: 0.7046 - val_accuracy: 0.7000\n",
      "Epoch 47/300\n",
      "143/142 [==============================] - 3s 18ms/step - loss: 0.6044 - accuracy: 0.7433 - val_loss: 0.7034 - val_accuracy: 0.7022\n",
      "Epoch 48/300\n",
      "143/142 [==============================] - 2s 17ms/step - loss: 0.6005 - accuracy: 0.7480 - val_loss: 0.7003 - val_accuracy: 0.7018\n",
      "Epoch 49/300\n",
      "143/142 [==============================] - 2s 17ms/step - loss: 0.5976 - accuracy: 0.7505 - val_loss: 0.6990 - val_accuracy: 0.7018\n",
      "Epoch 50/300\n",
      "143/142 [==============================] - 2s 17ms/step - loss: 0.5938 - accuracy: 0.7511 - val_loss: 0.6983 - val_accuracy: 0.7075\n",
      "Epoch 51/300\n",
      "143/142 [==============================] - 2s 17ms/step - loss: 0.5904 - accuracy: 0.7523 - val_loss: 0.6927 - val_accuracy: 0.7084\n",
      "Epoch 52/300\n",
      "143/142 [==============================] - 2s 17ms/step - loss: 0.5863 - accuracy: 0.7549 - val_loss: 0.6910 - val_accuracy: 0.7066\n",
      "Epoch 53/300\n",
      "143/142 [==============================] - 2s 17ms/step - loss: 0.5832 - accuracy: 0.7574 - val_loss: 0.6919 - val_accuracy: 0.7044\n",
      "Epoch 54/300\n",
      "143/142 [==============================] - 2s 17ms/step - loss: 0.5799 - accuracy: 0.7596 - val_loss: 0.6900 - val_accuracy: 0.7084\n",
      "Epoch 55/300\n",
      "143/142 [==============================] - 2s 17ms/step - loss: 0.5754 - accuracy: 0.7608 - val_loss: 0.6847 - val_accuracy: 0.7132\n",
      "Epoch 56/300\n",
      "143/142 [==============================] - 2s 17ms/step - loss: 0.5718 - accuracy: 0.7637 - val_loss: 0.6859 - val_accuracy: 0.7092\n",
      "Epoch 57/300\n",
      "143/142 [==============================] - 3s 18ms/step - loss: 0.5697 - accuracy: 0.7633 - val_loss: 0.6828 - val_accuracy: 0.7136\n",
      "Epoch 58/300\n",
      "143/142 [==============================] - 2s 17ms/step - loss: 0.5652 - accuracy: 0.7648 - val_loss: 0.6814 - val_accuracy: 0.7158\n",
      "Epoch 59/300\n",
      "143/142 [==============================] - 2s 17ms/step - loss: 0.5615 - accuracy: 0.7663 - val_loss: 0.6794 - val_accuracy: 0.7118\n",
      "Epoch 60/300\n",
      "143/142 [==============================] - 3s 18ms/step - loss: 0.5586 - accuracy: 0.7711 - val_loss: 0.6760 - val_accuracy: 0.7127\n",
      "Epoch 61/300\n",
      "143/142 [==============================] - 2s 17ms/step - loss: 0.5556 - accuracy: 0.7716 - val_loss: 0.6757 - val_accuracy: 0.7171\n",
      "Epoch 62/300\n",
      "143/142 [==============================] - 2s 17ms/step - loss: 0.5522 - accuracy: 0.7741 - val_loss: 0.6756 - val_accuracy: 0.7184\n",
      "Epoch 63/300\n",
      "143/142 [==============================] - 2s 17ms/step - loss: 0.5497 - accuracy: 0.7733 - val_loss: 0.6703 - val_accuracy: 0.7193\n",
      "Epoch 64/300\n",
      "143/142 [==============================] - 2s 17ms/step - loss: 0.5460 - accuracy: 0.7747 - val_loss: 0.6681 - val_accuracy: 0.7184\n",
      "Epoch 65/300\n",
      "143/142 [==============================] - 2s 17ms/step - loss: 0.5427 - accuracy: 0.7789 - val_loss: 0.6658 - val_accuracy: 0.7228\n",
      "Epoch 66/300\n",
      "143/142 [==============================] - 2s 17ms/step - loss: 0.5393 - accuracy: 0.7811 - val_loss: 0.6657 - val_accuracy: 0.7193\n",
      "Epoch 67/300\n",
      "143/142 [==============================] - 2s 17ms/step - loss: 0.5360 - accuracy: 0.7839 - val_loss: 0.6672 - val_accuracy: 0.7206\n",
      "Epoch 68/300\n",
      "143/142 [==============================] - 2s 17ms/step - loss: 0.5338 - accuracy: 0.7830 - val_loss: 0.6664 - val_accuracy: 0.7245\n",
      "Epoch 69/300\n",
      "143/142 [==============================] - 2s 17ms/step - loss: 0.5296 - accuracy: 0.7883 - val_loss: 0.6621 - val_accuracy: 0.7228\n",
      "Epoch 70/300\n",
      "143/142 [==============================] - 2s 17ms/step - loss: 0.5260 - accuracy: 0.7881 - val_loss: 0.6653 - val_accuracy: 0.7237\n",
      "Epoch 71/300\n",
      "143/142 [==============================] - 2s 17ms/step - loss: 0.5236 - accuracy: 0.7902 - val_loss: 0.6598 - val_accuracy: 0.7232\n",
      "Epoch 72/300\n",
      "143/142 [==============================] - 2s 17ms/step - loss: 0.5201 - accuracy: 0.7903 - val_loss: 0.6598 - val_accuracy: 0.7250\n",
      "Epoch 73/300\n",
      "143/142 [==============================] - 3s 18ms/step - loss: 0.5182 - accuracy: 0.7924 - val_loss: 0.6537 - val_accuracy: 0.7276\n",
      "Epoch 74/300\n",
      "143/142 [==============================] - 3s 18ms/step - loss: 0.5149 - accuracy: 0.7932 - val_loss: 0.6540 - val_accuracy: 0.7272\n",
      "Epoch 75/300\n",
      "143/142 [==============================] - 2s 17ms/step - loss: 0.5118 - accuracy: 0.7959 - val_loss: 0.6590 - val_accuracy: 0.7285\n",
      "Epoch 76/300\n",
      "143/142 [==============================] - 2s 17ms/step - loss: 0.5092 - accuracy: 0.7956 - val_loss: 0.6492 - val_accuracy: 0.7289\n",
      "Epoch 77/300\n",
      "143/142 [==============================] - 2s 17ms/step - loss: 0.5059 - accuracy: 0.7974 - val_loss: 0.6532 - val_accuracy: 0.7276\n",
      "Epoch 78/300\n",
      "143/142 [==============================] - 2s 17ms/step - loss: 0.5028 - accuracy: 0.7999 - val_loss: 0.6464 - val_accuracy: 0.7311\n",
      "Epoch 79/300\n",
      "143/142 [==============================] - 2s 17ms/step - loss: 0.5004 - accuracy: 0.8014 - val_loss: 0.6548 - val_accuracy: 0.7293\n",
      "Epoch 80/300\n",
      "143/142 [==============================] - 2s 17ms/step - loss: 0.4971 - accuracy: 0.8031 - val_loss: 0.6491 - val_accuracy: 0.7298\n",
      "Epoch 81/300\n",
      "143/142 [==============================] - 3s 18ms/step - loss: 0.4944 - accuracy: 0.8027 - val_loss: 0.6500 - val_accuracy: 0.7289\n",
      "Epoch 00081: early stopping\n"
     ]
    }
   ],
   "source": [
    "\n",
    "epochs = 300\n",
    "\n",
    "m4_h = m4.fit(train_gen,\n",
    "                steps_per_epoch=(len(x_train_1)/batch_size),\n",
    "                callbacks = [es],\n",
    "                epochs=epochs,\n",
    "                validation_data = val_gen, \n",
    "                validation_steps = (len(x_val)/batch_size),\n",
    "                class_weight = weights)"
   ]
  },
  {
   "cell_type": "code",
   "execution_count": 29,
   "metadata": {},
   "outputs": [],
   "source": [
    "base_model.trainable = True\n",
    "\n",
    "opt = keras.optimizers.Adam(lr=1e-4)\n",
    "\n",
    "m4.compile(loss= keras.losses.categorical_crossentropy, optimizer=opt, metrics = ['accuracy'])"
   ]
  },
  {
   "cell_type": "code",
   "execution_count": 30,
   "metadata": {},
   "outputs": [
    {
     "name": "stdout",
     "output_type": "stream",
     "text": [
      "WARNING:tensorflow:sample_weight modes were coerced from\n",
      "  ...\n",
      "    to  \n",
      "  ['...']\n",
      "WARNING:tensorflow:sample_weight modes were coerced from\n",
      "  ...\n",
      "    to  \n",
      "  ['...']\n",
      "Train for 142.921875 steps, validate for 35.734375 steps\n",
      "Epoch 1/300\n",
      "143/142 [==============================] - 7s 47ms/step - loss: 0.5646 - accuracy: 0.7547 - val_loss: 1.1865 - val_accuracy: 0.5391\n",
      "Epoch 2/300\n",
      "143/142 [==============================] - 5s 35ms/step - loss: 0.4235 - accuracy: 0.8340 - val_loss: 0.8597 - val_accuracy: 0.6734\n",
      "Epoch 3/300\n",
      "143/142 [==============================] - 5s 35ms/step - loss: 0.3409 - accuracy: 0.8777 - val_loss: 0.7739 - val_accuracy: 0.6655\n",
      "Epoch 4/300\n",
      "143/142 [==============================] - 5s 35ms/step - loss: 0.2703 - accuracy: 0.9129 - val_loss: 0.6869 - val_accuracy: 0.7193\n",
      "Epoch 5/300\n",
      "143/142 [==============================] - 5s 35ms/step - loss: 0.2098 - accuracy: 0.9406 - val_loss: 0.7471 - val_accuracy: 0.7118\n",
      "Epoch 6/300\n",
      "143/142 [==============================] - 5s 35ms/step - loss: 0.1684 - accuracy: 0.9588 - val_loss: 0.6052 - val_accuracy: 0.7617\n",
      "Epoch 7/300\n",
      "143/142 [==============================] - 5s 35ms/step - loss: 0.1248 - accuracy: 0.9770 - val_loss: 0.7998 - val_accuracy: 0.7184\n",
      "Epoch 8/300\n",
      "143/142 [==============================] - 5s 36ms/step - loss: 0.0903 - accuracy: 0.9894 - val_loss: 0.6261 - val_accuracy: 0.7683\n",
      "Epoch 9/300\n",
      "143/142 [==============================] - 5s 35ms/step - loss: 0.0620 - accuracy: 0.9960 - val_loss: 0.4722 - val_accuracy: 0.8207\n",
      "Epoch 10/300\n",
      "143/142 [==============================] - 5s 35ms/step - loss: 0.0426 - accuracy: 0.9984 - val_loss: 0.6209 - val_accuracy: 0.7840\n",
      "Epoch 11/300\n",
      "143/142 [==============================] - 5s 35ms/step - loss: 0.0273 - accuracy: 0.9997 - val_loss: 0.4126 - val_accuracy: 0.8623\n",
      "Epoch 12/300\n",
      "143/142 [==============================] - 5s 35ms/step - loss: 0.0178 - accuracy: 1.0000 - val_loss: 0.4238 - val_accuracy: 0.8496\n",
      "Epoch 13/300\n",
      "143/142 [==============================] - 5s 35ms/step - loss: 0.0130 - accuracy: 1.0000 - val_loss: 0.3993 - val_accuracy: 0.8540\n",
      "Epoch 14/300\n",
      "143/142 [==============================] - 5s 35ms/step - loss: 0.0096 - accuracy: 1.0000 - val_loss: 0.3831 - val_accuracy: 0.8688\n",
      "Epoch 15/300\n",
      "143/142 [==============================] - 5s 35ms/step - loss: 0.0074 - accuracy: 1.0000 - val_loss: 0.4049 - val_accuracy: 0.8693\n",
      "Epoch 16/300\n",
      "143/142 [==============================] - 5s 35ms/step - loss: 0.0060 - accuracy: 1.0000 - val_loss: 0.4474 - val_accuracy: 0.8605\n",
      "Epoch 17/300\n",
      "143/142 [==============================] - 5s 35ms/step - loss: 0.0050 - accuracy: 1.0000 - val_loss: 0.4572 - val_accuracy: 0.8548\n",
      "Epoch 00017: early stopping\n"
     ]
    }
   ],
   "source": [
    "\n",
    "epochs = 300\n",
    "\n",
    "m4_h = m4.fit(train_gen,\n",
    "                steps_per_epoch=(len(x_train_1)/batch_size),\n",
    "                callbacks = [es],\n",
    "                epochs=epochs,\n",
    "                validation_data = val_gen, \n",
    "                validation_steps = (len(x_val)/batch_size),\n",
    "                class_weight = weights)"
   ]
  },
  {
   "cell_type": "code",
   "execution_count": 31,
   "metadata": {},
   "outputs": [
    {
     "data": {
      "image/png": "[encoded data removed]",
      "text/plain": [
       "<Figure size 1080x360 with 2 Axes>"
      ]
     },
     "metadata": {},
     "output_type": "display_data"
    },
    {
     "data": {
      "image/png": "[encoded data removed]",
      "text/plain": [
       "<Figure size 1080x360 with 2 Axes>"
      ]
     },
     "execution_count": 31,
     "metadata": {},
     "output_type": "execute_result"
    }
   ],
   "source": [
    "plot_history(m4_h, 'first')\n"
   ]
  },
  {
   "cell_type": "code",
   "execution_count": 32,
   "metadata": {},
   "outputs": [
    {
     "name": "stdout",
     "output_type": "stream",
     "text": [
      "11131/11131 [==============================] - 3s 255us/sample - loss: 6.3594 - accuracy: 0.1692\n",
      "\n",
      "accuracy: 16.92%\n"
     ]
    }
   ],
   "source": [
    "scores = m4.evaluate(x_test, y_test_1)\n",
    "print(\"\\n%s: %.2f%%\" % (m4.metrics_names[1], scores[1]*100))"
   ]
  },
  {
   "cell_type": "code",
   "execution_count": 33,
   "metadata": {},
   "outputs": [],
   "source": [
    "test_preds = m4.predict(x_test)"
   ]
  },
  {
   "cell_type": "code",
   "execution_count": 34,
   "metadata": {},
   "outputs": [],
   "source": [
    "preds_df = pd.DataFrame(test_preds)\n",
    "predicted_labels = preds_df.idxmax(axis=1)"
   ]
  },
  {
   "cell_type": "code",
   "execution_count": 35,
   "metadata": {},
   "outputs": [
    {
     "data": {
      "image/png": "[encoded data removed]",
      "text/plain": [
       "<Figure size 432x288 with 1 Axes>"
      ]
     },
     "metadata": {
      "needs_background": "light"
     },
     "output_type": "display_data"
    },
    {
     "data": {
      "text/plain": [
       "array([[1029, 1570,   94],\n",
       "       [1556,  418,  792],\n",
       "       [4458,  778,  436]])"
      ]
     },
     "execution_count": 35,
     "metadata": {},
     "output_type": "execute_result"
    }
   ],
   "source": [
    "draw_confusion_matrix(y_test, predicted_labels)"
   ]
  },
  {
   "cell_type": "code",
   "execution_count": 36,
   "metadata": {},
   "outputs": [
    {
     "name": "stdout",
     "output_type": "stream",
     "text": [
      "              precision    recall  f1-score   support\n",
      "\n",
      "           0       0.15      0.38      0.21      2693\n",
      "           1       0.15      0.15      0.15      2766\n",
      "           2       0.33      0.08      0.12      5672\n",
      "\n",
      "    accuracy                           0.17     11131\n",
      "   macro avg       0.21      0.20      0.16     11131\n",
      "weighted avg       0.24      0.17      0.15     11131\n",
      "\n"
     ]
    }
   ],
   "source": [
    "print(classification_report(y_test, predicted_labels))"
   ]
  },
  {
   "cell_type": "code",
   "execution_count": null,
   "metadata": {},
   "outputs": [],
   "source": [
    "p = '/home/jovyan/Saved_Models/'\n",
    "m4.save(p + \"CNN_high_conc_no_batch.h5\")"
   ]
  },
  {
   "cell_type": "code",
   "execution_count": null,
   "metadata": {},
   "outputs": [],
   "source": []
  }
 ],
 "metadata": {
  "kernelspec": {
   "display_name": "Python 3",
   "language": "python",
   "name": "python3"
  },
  "language_info": {
   "codemirror_mode": {
    "name": "ipython",
    "version": 3
   },
   "file_extension": ".py",
   "mimetype": "text/x-python",
   "name": "python",
   "nbconvert_exporter": "python",
   "pygments_lexer": "ipython3",
   "version": "3.6.9"
  }
 },
 "nbformat": 4,
 "nbformat_minor": 4
}
