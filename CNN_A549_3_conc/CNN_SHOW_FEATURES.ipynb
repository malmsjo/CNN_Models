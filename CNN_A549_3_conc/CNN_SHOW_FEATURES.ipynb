{
 "cells": [
  {
   "cell_type": "code",
   "execution_count": 1,
   "metadata": {},
   "outputs": [
    {
     "name": "stderr",
     "output_type": "stream",
     "text": [
      "Using TensorFlow backend.\n"
     ]
    }
   ],
   "source": [
    "import tensorflow as tf\n",
    "from tensorflow import keras\n",
    "from tensorflow.keras.models import Sequential\n",
    "from tensorflow.keras.layers import Dropout\n",
    "from tensorflow.keras.models import Model\n",
    "from tensorflow.keras.layers import Input\n",
    "from tensorflow.keras.layers import Dense\n",
    "from tensorflow.keras.layers import Activation\n",
    "from tensorflow.keras.layers import Flatten\n",
    "from tensorflow.keras.layers import Dropout\n",
    "from tensorflow.keras.layers import Conv2D, Conv3D\n",
    "from tensorflow.keras.layers import MaxPooling2D, MaxPooling3D\n",
    "from tensorflow.keras.layers import GlobalAveragePooling2D\n",
    "from tensorflow.keras.layers import BatchNormalization\n",
    "from tensorflow.keras.applications.vgg16 import VGG16\n",
    "from tensorflow.keras.applications.vgg16 import preprocess_input\n",
    "from tensorflow.keras.optimizers import Adam, RMSprop\n",
    "from tensorflow.keras import regularizers\n",
    "from tensorflow.keras.losses import categorical_crossentropy\n",
    "from tensorflow.keras.losses import binary_crossentropy\n",
    "from sklearn.metrics import f1_score\n",
    "from sklearn.metrics import roc_curve\n",
    "\n",
    "from keras.callbacks import EarlyStopping\n",
    "from keras.preprocessing.image import ImageDataGenerator\n",
    "from sklearn.model_selection import train_test_split\n",
    "import numpy as np\n",
    "import matplotlib.pyplot as plt\n",
    "import pandas as pd\n",
    "from PIL import Image \n",
    "import seaborn as sns\n",
    "import os\n",
    "import re\n",
    "import glob\n",
    "import cv2\n",
    "from sklearn.metrics import classification_report\n",
    "from sklearn.metrics import confusion_matrix\n",
    "from sklearn.utils.multiclass import unique_labels\n",
    "from sklearn.model_selection import StratifiedKFold\n",
    "from sklearn import preprocessing\n",
    "import tqdm\n",
    "from numpy import loadtxt\n",
    "from os import *\n",
    "from sklearn.utils import class_weight"
   ]
  },
  {
   "cell_type": "code",
   "execution_count": 2,
   "metadata": {},
   "outputs": [],
   "source": [
    "def atoi(text):\n",
    "    return int(text) if text.isdigit() else text\n",
    "def natural_keys(text):\n",
    "    return [atoi(c) for c in re.split('(\\d+)', text)]"
   ]
  },
  {
   "cell_type": "code",
   "execution_count": 3,
   "metadata": {},
   "outputs": [],
   "source": [
    "def draw_confusion_matrix(true,preds):\n",
    "    conf_matx = confusion_matrix(true, preds)\n",
    "    sns.heatmap(conf_matx, annot=True,annot_kws={\"size\": 12},fmt='g', cbar=False, cmap=plt.cm.Blues) #'viridis'\n",
    "    #plt.savefig('/home/jovyan/img1.png')\n",
    "    plt.show()\n",
    "    \n",
    "    return conf_matx"
   ]
  },
  {
   "cell_type": "code",
   "execution_count": 4,
   "metadata": {},
   "outputs": [],
   "source": [
    "def plot_history(model_history, model_name):\n",
    "    fig = plt.figure(figsize=(15,5), facecolor='w')\n",
    "    ax = fig.add_subplot(121)\n",
    "    ax.plot(model_history.history['loss'])\n",
    "    ax.plot(model_history.history['val_loss'])\n",
    "    ax.set(title=model_name + ': Model loss', ylabel='Loss', xlabel='Epoch')\n",
    "    ax.legend(['Train', 'Val'], loc='upper left')\n",
    "    ax = fig.add_subplot(122)\n",
    "    ax.plot(model_history.history['accuracy'])\n",
    "    ax.plot(model_history.history['val_accuracy'])\n",
    "    ax.set(title=model_name + ': Model Accuracy; test='+ str(np.round(model_history.history['val_accuracy'][-1], 3)),\n",
    "           ylabel='Accuracy', xlabel='Epoch')\n",
    "    ax.legend(['Train', 'Val'], loc='upper left')\n",
    "    #plt.show()\n",
    "    \n",
    "    return fig"
   ]
  },
  {
   "cell_type": "code",
   "execution_count": 5,
   "metadata": {},
   "outputs": [],
   "source": [
    "def resize(x):\n",
    "    rescaled = []\n",
    "\n",
    "    for i in x:\n",
    "\n",
    "        scale_percent = 140 # percent of original size\n",
    "        width = int(i.shape[1] / (scale_percent / 100))\n",
    "        height = int(i.shape[0] / (scale_percent / 100))\n",
    "        dim = (width, height)\n",
    "        resized = cv2.resize(i, dim, interpolation = cv2.INTER_LANCZOS4)\n",
    "        rescaled.append(resized)\n",
    "\n",
    "    x_orig = np.reshape( rescaled, (len( rescaled), resized.shape[1], resized.shape[1], 3))\n",
    "\n",
    "    return x_orig"
   ]
  },
  {
   "cell_type": "code",
   "execution_count": 6,
   "metadata": {},
   "outputs": [],
   "source": [
    "def loadImages(path_data, path_labels):\n",
    "\n",
    "    image_list = []\n",
    "    \n",
    "\n",
    "    for filename in tqdm.tqdm(sorted(glob.glob(path_data), key=natural_keys)): \n",
    "        im=cv2.imread(filename)\n",
    "        #gray_image = cv2.cvtColor(im, cv2.COLOR_BGR2GRAY)\n",
    "        imarray = np.array(im)\n",
    "        #imarray = imarray.astype('float32')\n",
    "        image_list.append(imarray)\n",
    "\n",
    "    x_orig = np.reshape(image_list, (len(image_list), 90, 90, 3))\n",
    "    \n",
    "    path = path_labels    \n",
    "    labels = pd.read_csv(path, usecols=[\"Type\", \"Category\"],\n",
    "                       sep=\",\" )\n",
    "    y_orig = np.array(labels['Category'])\n",
    "\n",
    "    return x_orig, y_orig"
   ]
  },
  {
   "cell_type": "code",
   "execution_count": 7,
   "metadata": {},
   "outputs": [],
   "source": [
    "train_data = '/home/jovyan/DATA_MASTER_PROJECT/Check_DIFF_T60_T_97/2_class_CON_METHO/TRAIN_CONT_METHOX/*.tiff'\n",
    "train_lab='/home/jovyan/DATA_MASTER_PROJECT/Check_DIFF_T60_T_97/2_class_CON_METHO/train_lab.csv'\n",
    "\n",
    "validation_data = '/home/jovyan/DATA_MASTER_PROJECT/Check_DIFF_T60_T_97/2_class_CON_METHO/VALIDATION_CONT_METHOX/*.tiff'\n",
    "validation_lab = '/home/jovyan/DATA_MASTER_PROJECT/Check_DIFF_T60_T_97/2_class_CON_METHO/validation_lab.csv'\n",
    "\n",
    "\n",
    "test_data='/home/jovyan/DATA_MASTER_PROJECT/Check_DIFF_T60_T_97/2_class_CON_METHO/TEST_CONT_METHOX/*.tiff'\n",
    "test_lab='/home/jovyan/DATA_MASTER_PROJECT/Check_DIFF_T60_T_97/2_class_CON_METHO/test_lab.csv'\n",
    "\n"
   ]
  },
  {
   "cell_type": "code",
   "execution_count": 8,
   "metadata": {},
   "outputs": [
    {
     "name": "stderr",
     "output_type": "stream",
     "text": [
      "100%|██████████| 16296/16296 [00:15<00:00, 1049.68it/s]\n"
     ]
    },
    {
     "data": {
      "text/plain": [
       "((16296, 90, 90, 3), (16296,))"
      ]
     },
     "execution_count": 8,
     "metadata": {},
     "output_type": "execute_result"
    }
   ],
   "source": [
    "x_train, y_train = loadImages(train_data, train_lab)\n",
    "x_train.shape, y_train.shape"
   ]
  },
  {
   "cell_type": "code",
   "execution_count": 9,
   "metadata": {},
   "outputs": [
    {
     "name": "stderr",
     "output_type": "stream",
     "text": [
      "100%|██████████| 4229/4229 [00:03<00:00, 1110.29it/s]\n"
     ]
    },
    {
     "data": {
      "text/plain": [
       "((4229, 90, 90, 3), (4229,))"
      ]
     },
     "execution_count": 9,
     "metadata": {},
     "output_type": "execute_result"
    }
   ],
   "source": [
    "x_val, y_val = loadImages(validation_data, validation_lab)\n",
    "x_val.shape, y_val.shape"
   ]
  },
  {
   "cell_type": "code",
   "execution_count": 10,
   "metadata": {},
   "outputs": [
    {
     "name": "stderr",
     "output_type": "stream",
     "text": [
      "100%|██████████| 5415/5415 [00:04<00:00, 1273.20it/s]\n"
     ]
    },
    {
     "data": {
      "text/plain": [
       "((5415, 90, 90, 3), (5415,))"
      ]
     },
     "execution_count": 10,
     "metadata": {},
     "output_type": "execute_result"
    }
   ],
   "source": [
    "x_test, y_test = loadImages(test_data, test_lab)\n",
    "x_test.shape, y_test.shape"
   ]
  },
  {
   "cell_type": "code",
   "execution_count": 11,
   "metadata": {},
   "outputs": [
    {
     "data": {
      "text/plain": [
       "(16296, 64, 64, 3)"
      ]
     },
     "execution_count": 11,
     "metadata": {},
     "output_type": "execute_result"
    }
   ],
   "source": [
    "x_train = resize(x_train)\n",
    "x_train.shape"
   ]
  },
  {
   "cell_type": "code",
   "execution_count": 12,
   "metadata": {},
   "outputs": [
    {
     "data": {
      "text/plain": [
       "(4229, 64, 64, 3)"
      ]
     },
     "execution_count": 12,
     "metadata": {},
     "output_type": "execute_result"
    }
   ],
   "source": [
    "x_val = resize(x_val)\n",
    "x_val.shape"
   ]
  },
  {
   "cell_type": "code",
   "execution_count": 13,
   "metadata": {},
   "outputs": [
    {
     "data": {
      "text/plain": [
       "(5415, 64, 64, 3)"
      ]
     },
     "execution_count": 13,
     "metadata": {},
     "output_type": "execute_result"
    }
   ],
   "source": [
    "x_test = resize(x_test)\n",
    "x_test.shape"
   ]
  },
  {
   "cell_type": "code",
   "execution_count": 14,
   "metadata": {},
   "outputs": [],
   "source": [
    "es = EarlyStopping(monitor='val_loss', mode='min', verbose=2, patience=5)"
   ]
  },
  {
   "cell_type": "code",
   "execution_count": 15,
   "metadata": {},
   "outputs": [],
   "source": [
    "pretrained_model = VGG16(weights='imagenet',include_top=False, input_shape=(64, 64, 3))\n",
    "\n",
    "base_model = Model(inputs=pretrained_model.input, outputs=pretrained_model.get_layer('block3_pool').output)"
   ]
  },
  {
   "cell_type": "code",
   "execution_count": 16,
   "metadata": {},
   "outputs": [
    {
     "name": "stdout",
     "output_type": "stream",
     "text": [
      "weights = [0.81034311 1.30556001]\n"
     ]
    }
   ],
   "source": [
    "weights = class_weight.compute_class_weight('balanced', np.unique(y_train),y_train)\n",
    "print('weights = ' + str(weights))"
   ]
  },
  {
   "cell_type": "code",
   "execution_count": 17,
   "metadata": {},
   "outputs": [],
   "source": [
    "x_train = preprocess_input(x_train)\n",
    "\n",
    "x_val = preprocess_input(x_val)\n",
    "\n",
    "x_test = preprocess_input(x_test)\n"
   ]
  },
  {
   "cell_type": "code",
   "execution_count": 18,
   "metadata": {},
   "outputs": [],
   "source": [
    "batch_size = 128"
   ]
  },
  {
   "cell_type": "code",
   "execution_count": 19,
   "metadata": {},
   "outputs": [
    {
     "name": "stdout",
     "output_type": "stream",
     "text": [
      "Model: \"sequential\"\n",
      "_________________________________________________________________\n",
      "Layer (type)                 Output Shape              Param #   \n",
      "=================================================================\n",
      "model (Model)                (None, 8, 8, 256)         1735488   \n",
      "_________________________________________________________________\n",
      "batch_normalization (BatchNo (None, 8, 8, 256)         1024      \n",
      "_________________________________________________________________\n",
      "global_average_pooling2d (Gl (None, 256)               0         \n",
      "_________________________________________________________________\n",
      "batch_normalization_1 (Batch (None, 256)               1024      \n",
      "_________________________________________________________________\n",
      "activation (Activation)      (None, 256)               0         \n",
      "_________________________________________________________________\n",
      "dense (Dense)                (None, 64)                16448     \n",
      "_________________________________________________________________\n",
      "dense_1 (Dense)              (None, 1)                 65        \n",
      "=================================================================\n",
      "Total params: 1,754,049\n",
      "Trainable params: 1,753,025\n",
      "Non-trainable params: 1,024\n",
      "_________________________________________________________________\n"
     ]
    }
   ],
   "source": [
    "datagen = ImageDataGenerator()\n",
    "\n",
    "datagen.fit(x_train)\n",
    "\n",
    "train_gen = datagen.flow(x_train, y_train,batch_size=batch_size )\n",
    "\n",
    "dat_val = ImageDataGenerator()\n",
    "\n",
    "dat_val.fit(x_val)\n",
    "\n",
    "val_gen = dat_val.flow(x_val, y_val,batch_size=batch_size)\n",
    "\n",
    "m4 = Sequential()\n",
    "m4.add(base_model)\n",
    "\n",
    "\n",
    "m4.add(BatchNormalization())\n",
    "m4.add(GlobalAveragePooling2D())\n",
    "m4.add(BatchNormalization())\n",
    "m4.add(Activation('relu'))\n",
    "m4.add(Dense(64, activation='relu'))\n",
    "#m4.add(Dropout(0.5))\n",
    "\n",
    "m4.add(Dense(1,activation='sigmoid'))\n",
    "\n",
    "m4.summary()"
   ]
  },
  {
   "cell_type": "code",
   "execution_count": 20,
   "metadata": {
    "collapsed": true,
    "jupyter": {
     "outputs_hidden": true
    }
   },
   "outputs": [
    {
     "name": "stdout",
     "output_type": "stream",
     "text": [
      "WARNING:tensorflow:sample_weight modes were coerced from\n",
      "  ...\n",
      "    to  \n",
      "  ['...']\n",
      "WARNING:tensorflow:sample_weight modes were coerced from\n",
      "  ...\n",
      "    to  \n",
      "  ['...']\n",
      "Train for 127.3125 steps, validate for 33.0390625 steps\n",
      "Epoch 1/100\n",
      "128/127 [==============================] - 7s 58ms/step - loss: 0.7697 - accuracy: 0.5990 - val_loss: 0.7038 - val_accuracy: 0.6049\n",
      "Epoch 2/100\n",
      "128/127 [==============================] - 4s 30ms/step - loss: 0.7239 - accuracy: 0.5852 - val_loss: 0.6902 - val_accuracy: 0.5914\n",
      "Epoch 3/100\n",
      "128/127 [==============================] - 4s 30ms/step - loss: 0.7080 - accuracy: 0.5835 - val_loss: 0.6842 - val_accuracy: 0.5933\n",
      "Epoch 4/100\n",
      "128/127 [==============================] - 4s 31ms/step - loss: 0.6979 - accuracy: 0.5875 - val_loss: 0.6788 - val_accuracy: 0.5980\n",
      "Epoch 5/100\n",
      "128/127 [==============================] - 4s 31ms/step - loss: 0.6889 - accuracy: 0.5959 - val_loss: 0.6733 - val_accuracy: 0.6037\n",
      "Epoch 6/100\n",
      "128/127 [==============================] - 4s 31ms/step - loss: 0.6806 - accuracy: 0.6041 - val_loss: 0.6684 - val_accuracy: 0.6087\n",
      "Epoch 7/100\n",
      "128/127 [==============================] - 4s 30ms/step - loss: 0.6727 - accuracy: 0.6135 - val_loss: 0.6633 - val_accuracy: 0.6179\n",
      "Epoch 8/100\n",
      "128/127 [==============================] - 4s 31ms/step - loss: 0.6653 - accuracy: 0.6203 - val_loss: 0.6586 - val_accuracy: 0.6259\n",
      "Epoch 9/100\n",
      "128/127 [==============================] - 4s 31ms/step - loss: 0.6584 - accuracy: 0.6276 - val_loss: 0.6541 - val_accuracy: 0.6328\n",
      "Epoch 10/100\n",
      "128/127 [==============================] - 4s 31ms/step - loss: 0.6516 - accuracy: 0.6341 - val_loss: 0.6499 - val_accuracy: 0.6377\n",
      "Epoch 11/100\n",
      "128/127 [==============================] - 4s 31ms/step - loss: 0.6453 - accuracy: 0.6402 - val_loss: 0.6458 - val_accuracy: 0.6448\n",
      "Epoch 12/100\n",
      "128/127 [==============================] - 4s 32ms/step - loss: 0.6393 - accuracy: 0.6481 - val_loss: 0.6420 - val_accuracy: 0.6503\n",
      "Epoch 13/100\n",
      "128/127 [==============================] - 4s 31ms/step - loss: 0.6336 - accuracy: 0.6553 - val_loss: 0.6386 - val_accuracy: 0.6541\n",
      "Epoch 14/100\n",
      "128/127 [==============================] - 4s 31ms/step - loss: 0.6281 - accuracy: 0.6613 - val_loss: 0.6352 - val_accuracy: 0.6593\n",
      "Epoch 15/100\n",
      "128/127 [==============================] - 4s 31ms/step - loss: 0.6228 - accuracy: 0.6661 - val_loss: 0.6318 - val_accuracy: 0.6656\n",
      "Epoch 16/100\n",
      "128/127 [==============================] - 4s 31ms/step - loss: 0.6177 - accuracy: 0.6728 - val_loss: 0.6285 - val_accuracy: 0.6711\n",
      "Epoch 17/100\n",
      "128/127 [==============================] - 4s 31ms/step - loss: 0.6128 - accuracy: 0.6774 - val_loss: 0.6257 - val_accuracy: 0.6791\n",
      "Epoch 18/100\n",
      "128/127 [==============================] - 4s 31ms/step - loss: 0.6081 - accuracy: 0.6827 - val_loss: 0.6228 - val_accuracy: 0.6838\n",
      "Epoch 19/100\n",
      "128/127 [==============================] - 4s 30ms/step - loss: 0.6035 - accuracy: 0.6874 - val_loss: 0.6198 - val_accuracy: 0.6883\n",
      "Epoch 20/100\n",
      "128/127 [==============================] - 4s 31ms/step - loss: 0.5990 - accuracy: 0.6913 - val_loss: 0.6171 - val_accuracy: 0.6919\n",
      "Epoch 21/100\n",
      "128/127 [==============================] - 4s 31ms/step - loss: 0.5946 - accuracy: 0.6958 - val_loss: 0.6143 - val_accuracy: 0.6985\n",
      "Epoch 22/100\n",
      "128/127 [==============================] - 4s 31ms/step - loss: 0.5904 - accuracy: 0.6999 - val_loss: 0.6118 - val_accuracy: 0.7018\n",
      "Epoch 23/100\n",
      "128/127 [==============================] - 4s 31ms/step - loss: 0.5863 - accuracy: 0.7045 - val_loss: 0.6092 - val_accuracy: 0.7049\n",
      "Epoch 24/100\n",
      "128/127 [==============================] - 4s 30ms/step - loss: 0.5823 - accuracy: 0.7086 - val_loss: 0.6069 - val_accuracy: 0.7061\n",
      "Epoch 25/100\n",
      "128/127 [==============================] - 4s 31ms/step - loss: 0.5784 - accuracy: 0.7119 - val_loss: 0.6042 - val_accuracy: 0.7096\n",
      "Epoch 26/100\n",
      "128/127 [==============================] - 4s 30ms/step - loss: 0.5747 - accuracy: 0.7150 - val_loss: 0.6022 - val_accuracy: 0.7108\n",
      "Epoch 27/100\n",
      "128/127 [==============================] - 4s 31ms/step - loss: 0.5710 - accuracy: 0.7180 - val_loss: 0.6000 - val_accuracy: 0.7141\n",
      "Epoch 28/100\n",
      "128/127 [==============================] - 4s 30ms/step - loss: 0.5674 - accuracy: 0.7209 - val_loss: 0.5977 - val_accuracy: 0.7170\n",
      "Epoch 29/100\n",
      "128/127 [==============================] - 4s 31ms/step - loss: 0.5640 - accuracy: 0.7242 - val_loss: 0.5956 - val_accuracy: 0.7170\n",
      "Epoch 30/100\n",
      "128/127 [==============================] - 4s 31ms/step - loss: 0.5606 - accuracy: 0.7274 - val_loss: 0.5936 - val_accuracy: 0.7203\n",
      "Epoch 31/100\n",
      "128/127 [==============================] - 4s 30ms/step - loss: 0.5573 - accuracy: 0.7305 - val_loss: 0.5916 - val_accuracy: 0.7203\n",
      "Epoch 32/100\n",
      "128/127 [==============================] - 4s 31ms/step - loss: 0.5541 - accuracy: 0.7321 - val_loss: 0.5898 - val_accuracy: 0.7219\n",
      "Epoch 33/100\n",
      "128/127 [==============================] - 4s 31ms/step - loss: 0.5510 - accuracy: 0.7350 - val_loss: 0.5880 - val_accuracy: 0.7200\n",
      "Epoch 34/100\n",
      "128/127 [==============================] - 4s 31ms/step - loss: 0.5479 - accuracy: 0.7384 - val_loss: 0.5867 - val_accuracy: 0.7210\n",
      "Epoch 35/100\n",
      "128/127 [==============================] - 4s 31ms/step - loss: 0.5450 - accuracy: 0.7409 - val_loss: 0.5848 - val_accuracy: 0.7222\n",
      "Epoch 36/100\n",
      "128/127 [==============================] - 4s 31ms/step - loss: 0.5421 - accuracy: 0.7416 - val_loss: 0.5832 - val_accuracy: 0.7229\n",
      "Epoch 37/100\n",
      "128/127 [==============================] - 4s 31ms/step - loss: 0.5393 - accuracy: 0.7437 - val_loss: 0.5818 - val_accuracy: 0.7250\n",
      "Epoch 38/100\n",
      "128/127 [==============================] - 4s 31ms/step - loss: 0.5365 - accuracy: 0.7471 - val_loss: 0.5804 - val_accuracy: 0.7255\n",
      "Epoch 39/100\n",
      "128/127 [==============================] - 4s 31ms/step - loss: 0.5339 - accuracy: 0.7486 - val_loss: 0.5791 - val_accuracy: 0.7269\n",
      "Epoch 40/100\n",
      "128/127 [==============================] - 4s 31ms/step - loss: 0.5312 - accuracy: 0.7510 - val_loss: 0.5776 - val_accuracy: 0.7269\n",
      "Epoch 41/100\n",
      "128/127 [==============================] - 4s 30ms/step - loss: 0.5286 - accuracy: 0.7529 - val_loss: 0.5761 - val_accuracy: 0.7271\n",
      "Epoch 42/100\n",
      "128/127 [==============================] - 4s 31ms/step - loss: 0.5261 - accuracy: 0.7545 - val_loss: 0.5751 - val_accuracy: 0.7264\n",
      "Epoch 43/100\n",
      "128/127 [==============================] - 4s 31ms/step - loss: 0.5236 - accuracy: 0.7556 - val_loss: 0.5736 - val_accuracy: 0.7264\n",
      "Epoch 44/100\n",
      "128/127 [==============================] - 4s 32ms/step - loss: 0.5212 - accuracy: 0.7579 - val_loss: 0.5726 - val_accuracy: 0.7274\n",
      "Epoch 45/100\n",
      "128/127 [==============================] - 4s 31ms/step - loss: 0.5188 - accuracy: 0.7602 - val_loss: 0.5715 - val_accuracy: 0.7266\n",
      "Epoch 46/100\n",
      "128/127 [==============================] - 4s 31ms/step - loss: 0.5165 - accuracy: 0.7606 - val_loss: 0.5706 - val_accuracy: 0.7278\n",
      "Epoch 47/100\n",
      "128/127 [==============================] - 4s 30ms/step - loss: 0.5142 - accuracy: 0.7629 - val_loss: 0.5692 - val_accuracy: 0.7302\n",
      "Epoch 48/100\n",
      "128/127 [==============================] - 4s 30ms/step - loss: 0.5120 - accuracy: 0.7643 - val_loss: 0.5683 - val_accuracy: 0.7285\n",
      "Epoch 49/100\n",
      "128/127 [==============================] - 4s 30ms/step - loss: 0.5097 - accuracy: 0.7657 - val_loss: 0.5676 - val_accuracy: 0.7300\n",
      "Epoch 50/100\n",
      "128/127 [==============================] - 4s 31ms/step - loss: 0.5076 - accuracy: 0.7662 - val_loss: 0.5661 - val_accuracy: 0.7297\n",
      "Epoch 51/100\n",
      "128/127 [==============================] - 4s 30ms/step - loss: 0.5054 - accuracy: 0.7682 - val_loss: 0.5652 - val_accuracy: 0.7304\n",
      "Epoch 52/100\n",
      "128/127 [==============================] - 4s 30ms/step - loss: 0.5034 - accuracy: 0.7704 - val_loss: 0.5645 - val_accuracy: 0.7295\n",
      "Epoch 53/100\n",
      "128/127 [==============================] - 4s 30ms/step - loss: 0.5013 - accuracy: 0.7711 - val_loss: 0.5638 - val_accuracy: 0.7281\n",
      "Epoch 54/100\n",
      "128/127 [==============================] - 4s 31ms/step - loss: 0.4993 - accuracy: 0.7733 - val_loss: 0.5631 - val_accuracy: 0.7285\n",
      "Epoch 55/100\n",
      "128/127 [==============================] - 4s 31ms/step - loss: 0.4973 - accuracy: 0.7742 - val_loss: 0.5617 - val_accuracy: 0.7307\n",
      "Epoch 56/100\n",
      "128/127 [==============================] - 4s 31ms/step - loss: 0.4953 - accuracy: 0.7754 - val_loss: 0.5610 - val_accuracy: 0.7309\n",
      "Epoch 57/100\n",
      "128/127 [==============================] - 4s 30ms/step - loss: 0.4934 - accuracy: 0.7775 - val_loss: 0.5604 - val_accuracy: 0.7314\n",
      "Epoch 58/100\n",
      "128/127 [==============================] - 4s 31ms/step - loss: 0.4915 - accuracy: 0.7790 - val_loss: 0.5597 - val_accuracy: 0.7307\n",
      "Epoch 59/100\n",
      "128/127 [==============================] - 4s 31ms/step - loss: 0.4896 - accuracy: 0.7805 - val_loss: 0.5590 - val_accuracy: 0.7316\n",
      "Epoch 60/100\n",
      "128/127 [==============================] - 4s 31ms/step - loss: 0.4878 - accuracy: 0.7822 - val_loss: 0.5586 - val_accuracy: 0.7321\n",
      "Epoch 61/100\n",
      "128/127 [==============================] - 4s 31ms/step - loss: 0.4860 - accuracy: 0.7831 - val_loss: 0.5575 - val_accuracy: 0.7321\n",
      "Epoch 62/100\n",
      "128/127 [==============================] - 4s 32ms/step - loss: 0.4842 - accuracy: 0.7845 - val_loss: 0.5574 - val_accuracy: 0.7319\n",
      "Epoch 63/100\n",
      "128/127 [==============================] - 4s 32ms/step - loss: 0.4823 - accuracy: 0.7865 - val_loss: 0.5565 - val_accuracy: 0.7321\n",
      "Epoch 64/100\n",
      "128/127 [==============================] - 4s 31ms/step - loss: 0.4806 - accuracy: 0.7860 - val_loss: 0.5561 - val_accuracy: 0.7333\n",
      "Epoch 65/100\n",
      "128/127 [==============================] - 4s 30ms/step - loss: 0.4789 - accuracy: 0.7879 - val_loss: 0.5553 - val_accuracy: 0.7333\n",
      "Epoch 66/100\n",
      "128/127 [==============================] - 4s 31ms/step - loss: 0.4772 - accuracy: 0.7887 - val_loss: 0.5547 - val_accuracy: 0.7333\n",
      "Epoch 67/100\n",
      "128/127 [==============================] - 4s 31ms/step - loss: 0.4755 - accuracy: 0.7906 - val_loss: 0.5541 - val_accuracy: 0.7333\n",
      "Epoch 68/100\n",
      "128/127 [==============================] - 4s 31ms/step - loss: 0.4738 - accuracy: 0.7917 - val_loss: 0.5536 - val_accuracy: 0.7345\n",
      "Epoch 69/100\n",
      "128/127 [==============================] - 4s 30ms/step - loss: 0.4722 - accuracy: 0.7935 - val_loss: 0.5530 - val_accuracy: 0.7345\n",
      "Epoch 70/100\n",
      "128/127 [==============================] - 4s 31ms/step - loss: 0.4706 - accuracy: 0.7933 - val_loss: 0.5525 - val_accuracy: 0.7340\n",
      "Epoch 71/100\n",
      "128/127 [==============================] - 4s 30ms/step - loss: 0.4690 - accuracy: 0.7956 - val_loss: 0.5522 - val_accuracy: 0.7340\n",
      "Epoch 72/100\n",
      "128/127 [==============================] - 4s 31ms/step - loss: 0.4674 - accuracy: 0.7954 - val_loss: 0.5518 - val_accuracy: 0.7349\n",
      "Epoch 73/100\n",
      "128/127 [==============================] - 4s 30ms/step - loss: 0.4658 - accuracy: 0.7971 - val_loss: 0.5510 - val_accuracy: 0.7349\n",
      "Epoch 74/100\n",
      "128/127 [==============================] - 4s 31ms/step - loss: 0.4643 - accuracy: 0.7976 - val_loss: 0.5504 - val_accuracy: 0.7347\n",
      "Epoch 75/100\n",
      "128/127 [==============================] - 4s 30ms/step - loss: 0.4628 - accuracy: 0.7979 - val_loss: 0.5500 - val_accuracy: 0.7349\n",
      "Epoch 76/100\n",
      "128/127 [==============================] - 4s 31ms/step - loss: 0.4612 - accuracy: 0.7992 - val_loss: 0.5497 - val_accuracy: 0.7330\n",
      "Epoch 77/100\n",
      "128/127 [==============================] - 4s 32ms/step - loss: 0.4598 - accuracy: 0.8003 - val_loss: 0.5489 - val_accuracy: 0.7337\n",
      "Epoch 78/100\n",
      "128/127 [==============================] - 4s 31ms/step - loss: 0.4583 - accuracy: 0.8012 - val_loss: 0.5481 - val_accuracy: 0.7345\n",
      "Epoch 79/100\n",
      "128/127 [==============================] - 4s 32ms/step - loss: 0.4568 - accuracy: 0.8018 - val_loss: 0.5476 - val_accuracy: 0.7359\n",
      "Epoch 80/100\n",
      "128/127 [==============================] - 4s 31ms/step - loss: 0.4553 - accuracy: 0.8031 - val_loss: 0.5476 - val_accuracy: 0.7345\n",
      "Epoch 81/100\n",
      "128/127 [==============================] - 4s 30ms/step - loss: 0.4539 - accuracy: 0.8039 - val_loss: 0.5472 - val_accuracy: 0.7347\n",
      "Epoch 82/100\n",
      "128/127 [==============================] - 4s 30ms/step - loss: 0.4525 - accuracy: 0.8041 - val_loss: 0.5470 - val_accuracy: 0.7342\n",
      "Epoch 83/100\n",
      "128/127 [==============================] - 4s 30ms/step - loss: 0.4511 - accuracy: 0.8057 - val_loss: 0.5467 - val_accuracy: 0.7345\n",
      "Epoch 84/100\n",
      "128/127 [==============================] - 4s 30ms/step - loss: 0.4497 - accuracy: 0.8066 - val_loss: 0.5461 - val_accuracy: 0.7354\n",
      "Epoch 85/100\n",
      "128/127 [==============================] - 4s 30ms/step - loss: 0.4483 - accuracy: 0.8064 - val_loss: 0.5455 - val_accuracy: 0.7354\n",
      "Epoch 86/100\n",
      "128/127 [==============================] - 4s 31ms/step - loss: 0.4470 - accuracy: 0.8079 - val_loss: 0.5457 - val_accuracy: 0.7345\n",
      "Epoch 87/100\n",
      "128/127 [==============================] - 4s 30ms/step - loss: 0.4456 - accuracy: 0.8095 - val_loss: 0.5449 - val_accuracy: 0.7361\n",
      "Epoch 88/100\n",
      "128/127 [==============================] - 4s 31ms/step - loss: 0.4443 - accuracy: 0.8101 - val_loss: 0.5447 - val_accuracy: 0.7368\n",
      "Epoch 89/100\n",
      "128/127 [==============================] - 4s 30ms/step - loss: 0.4430 - accuracy: 0.8101 - val_loss: 0.5442 - val_accuracy: 0.7361\n",
      "Epoch 90/100\n",
      "128/127 [==============================] - 4s 29ms/step - loss: 0.4417 - accuracy: 0.8113 - val_loss: 0.5437 - val_accuracy: 0.7366\n",
      "Epoch 91/100\n",
      "128/127 [==============================] - 4s 30ms/step - loss: 0.4404 - accuracy: 0.8115 - val_loss: 0.5434 - val_accuracy: 0.7359\n",
      "Epoch 92/100\n",
      "128/127 [==============================] - 4s 31ms/step - loss: 0.4391 - accuracy: 0.8124 - val_loss: 0.5430 - val_accuracy: 0.7356\n",
      "Epoch 93/100\n",
      "128/127 [==============================] - 4s 32ms/step - loss: 0.4379 - accuracy: 0.8123 - val_loss: 0.5429 - val_accuracy: 0.7363\n",
      "Epoch 94/100\n",
      "128/127 [==============================] - 4s 31ms/step - loss: 0.4366 - accuracy: 0.8143 - val_loss: 0.5423 - val_accuracy: 0.7366\n",
      "Epoch 95/100\n",
      "128/127 [==============================] - 4s 31ms/step - loss: 0.4353 - accuracy: 0.8146 - val_loss: 0.5421 - val_accuracy: 0.7363\n",
      "Epoch 96/100\n",
      "128/127 [==============================] - 4s 31ms/step - loss: 0.4341 - accuracy: 0.8151 - val_loss: 0.5420 - val_accuracy: 0.7375\n",
      "Epoch 97/100\n",
      "128/127 [==============================] - 4s 30ms/step - loss: 0.4329 - accuracy: 0.8169 - val_loss: 0.5417 - val_accuracy: 0.7368\n",
      "Epoch 98/100\n",
      "128/127 [==============================] - 4s 30ms/step - loss: 0.4316 - accuracy: 0.8165 - val_loss: 0.5411 - val_accuracy: 0.7380\n",
      "Epoch 99/100\n",
      "128/127 [==============================] - 4s 31ms/step - loss: 0.4304 - accuracy: 0.8182 - val_loss: 0.5413 - val_accuracy: 0.7368\n",
      "Epoch 100/100\n",
      "128/127 [==============================] - 4s 30ms/step - loss: 0.4293 - accuracy: 0.8177 - val_loss: 0.5412 - val_accuracy: 0.7373\n"
     ]
    }
   ],
   "source": [
    "base_model.trainable = False\n",
    "\n",
    "opt = keras.optimizers.Adam(lr=1e-5)\n",
    "\n",
    "m4.compile(loss= keras.losses.binary_crossentropy, optimizer=opt, metrics = ['accuracy'])\n",
    "\n",
    "\n",
    "\n",
    "epochs = 100\n",
    "\n",
    "m4_h = m4.fit(train_gen,\n",
    "                steps_per_epoch=(len(x_train)/batch_size),\n",
    "                callbacks = [es],\n",
    "                epochs=epochs,\n",
    "                validation_data = (val_gen), \n",
    "                validation_steps = (len(x_val)/batch_size),\n",
    "                class_weight = weights,\n",
    "                 verbose = 1)"
   ]
  },
  {
   "cell_type": "code",
   "execution_count": 21,
   "metadata": {
    "collapsed": true,
    "jupyter": {
     "outputs_hidden": true
    }
   },
   "outputs": [
    {
     "name": "stdout",
     "output_type": "stream",
     "text": [
      "WARNING:tensorflow:sample_weight modes were coerced from\n",
      "  ...\n",
      "    to  \n",
      "  ['...']\n",
      "WARNING:tensorflow:sample_weight modes were coerced from\n",
      "  ...\n",
      "    to  \n",
      "  ['...']\n",
      "Train for 127.3125 steps, validate for 33.0390625 steps\n",
      "Epoch 1/100\n",
      "128/127 [==============================] - 10s 80ms/step - loss: 0.3904 - accuracy: 0.8420 - val_loss: 0.5687 - val_accuracy: 0.7214\n",
      "Epoch 2/100\n",
      "128/127 [==============================] - 9s 68ms/step - loss: 0.3302 - accuracy: 0.8736 - val_loss: 0.5009 - val_accuracy: 0.7721\n",
      "Epoch 3/100\n",
      "128/127 [==============================] - 9s 68ms/step - loss: 0.2900 - accuracy: 0.8937 - val_loss: 0.5065 - val_accuracy: 0.7576\n",
      "Epoch 4/100\n",
      "128/127 [==============================] - 9s 68ms/step - loss: 0.2597 - accuracy: 0.9097 - val_loss: 0.4777 - val_accuracy: 0.7799\n",
      "Epoch 5/100\n",
      "128/127 [==============================] - 9s 68ms/step - loss: 0.2354 - accuracy: 0.9237 - val_loss: 0.5016 - val_accuracy: 0.7508\n",
      "Epoch 6/100\n",
      "128/127 [==============================] - 9s 67ms/step - loss: 0.2146 - accuracy: 0.9339 - val_loss: 0.4671 - val_accuracy: 0.7936\n",
      "Epoch 7/100\n",
      "128/127 [==============================] - 9s 67ms/step - loss: 0.1969 - accuracy: 0.9426 - val_loss: 0.4636 - val_accuracy: 0.7945\n",
      "Epoch 8/100\n",
      "128/127 [==============================] - 9s 67ms/step - loss: 0.1814 - accuracy: 0.9515 - val_loss: 0.4868 - val_accuracy: 0.7943\n",
      "Epoch 9/100\n",
      "128/127 [==============================] - 9s 69ms/step - loss: 0.1680 - accuracy: 0.9559 - val_loss: 0.4672 - val_accuracy: 0.8047\n",
      "Epoch 10/100\n",
      "128/127 [==============================] - 9s 67ms/step - loss: 0.1553 - accuracy: 0.9628 - val_loss: 0.4827 - val_accuracy: 0.7990\n",
      "Epoch 11/100\n",
      "128/127 [==============================] - 9s 67ms/step - loss: 0.1443 - accuracy: 0.9677 - val_loss: 0.4468 - val_accuracy: 0.8137\n",
      "Epoch 12/100\n",
      "128/127 [==============================] - 8s 66ms/step - loss: 0.1336 - accuracy: 0.9713 - val_loss: 0.4619 - val_accuracy: 0.8080\n",
      "Epoch 13/100\n",
      "128/127 [==============================] - 9s 68ms/step - loss: 0.1235 - accuracy: 0.9745 - val_loss: 0.4782 - val_accuracy: 0.8096\n",
      "Epoch 14/100\n",
      "128/127 [==============================] - 9s 68ms/step - loss: 0.1152 - accuracy: 0.9776 - val_loss: 0.4705 - val_accuracy: 0.8094\n",
      "Epoch 15/100\n",
      "128/127 [==============================] - 9s 67ms/step - loss: 0.1063 - accuracy: 0.9821 - val_loss: 0.4721 - val_accuracy: 0.8016\n",
      "Epoch 16/100\n",
      "128/127 [==============================] - 9s 67ms/step - loss: 0.0991 - accuracy: 0.9842 - val_loss: 0.4850 - val_accuracy: 0.8007\n",
      "Epoch 00016: early stopping\n"
     ]
    }
   ],
   "source": [
    "base_model.trainable = True\n",
    "\n",
    "opt = keras.optimizers.Adam(lr=1e-5)\n",
    "\n",
    "m4.compile(loss= keras.losses.binary_crossentropy, optimizer=opt, metrics = ['accuracy'])\n",
    "\n",
    "epochs = 100\n",
    "\n",
    "m4_h = m4.fit(train_gen,\n",
    "                steps_per_epoch=(len(x_train)/batch_size),\n",
    "                callbacks = [es],\n",
    "                epochs=epochs,\n",
    "                validation_data = val_gen, \n",
    "                validation_steps = (len(x_val)/batch_size),\n",
    "                class_weight = weights,\n",
    "                verbose = 1)"
   ]
  },
  {
   "cell_type": "code",
   "execution_count": 22,
   "metadata": {},
   "outputs": [
    {
     "data": {
      "image/png": "[encoded data removed]",
      "text/plain": [
       "<Figure size 1080x360 with 2 Axes>"
      ]
     },
     "execution_count": 22,
     "metadata": {},
     "output_type": "execute_result"
    },
    {
     "data": {
      "image/png": "[encoded data removed]",
      "text/plain": [
       "<Figure size 1080x360 with 2 Axes>"
      ]
     },
     "metadata": {},
     "output_type": "display_data"
    }
   ],
   "source": [
    "plot_history(m4_h, 'first')"
   ]
  },
  {
   "cell_type": "code",
   "execution_count": 43,
   "metadata": {},
   "outputs": [
    {
     "name": "stdout",
     "output_type": "stream",
     "text": [
      "5415/5415 [==============================] - 1s 218us/sample - loss: 0.5069 - accuracy: 0.7734\n",
      "\n",
      "accuracy: 77.34%\n"
     ]
    }
   ],
   "source": [
    "scores = m4.evaluate(x_test, y_test, verbose = 1)\n",
    "print(\"\\n%s: %.2f%%\" % (m4.metrics_names[1], scores[1]*100))\n"
   ]
  },
  {
   "cell_type": "code",
   "execution_count": 58,
   "metadata": {},
   "outputs": [
    {
     "data": {
      "image/png": "[encoded data removed]",
      "text/plain": [
       "<Figure size 432x288 with 1 Axes>"
      ]
     },
     "metadata": {
      "needs_background": "light"
     },
     "output_type": "display_data"
    },
    {
     "data": {
      "text/plain": [
       "array([[2936,  410],\n",
       "       [ 783, 1286]])"
      ]
     },
     "execution_count": 58,
     "metadata": {},
     "output_type": "execute_result"
    }
   ],
   "source": [
    "test_preds = m4.predict(x_test)\n",
    "\n",
    "t= []\n",
    "for i in (test_preds):\n",
    "    if i > 0.6:\n",
    "        t.append(1)\n",
    "    else:\n",
    "        t.append(0)\n",
    "\n",
    "draw_confusion_matrix(y_test, t)"
   ]
  },
  {
   "cell_type": "code",
   "execution_count": 59,
   "metadata": {},
   "outputs": [
    {
     "name": "stdout",
     "output_type": "stream",
     "text": [
      "              precision    recall  f1-score   support\n",
      "\n",
      "           0       0.79      0.88      0.83      3346\n",
      "           1       0.76      0.62      0.68      2069\n",
      "\n",
      "    accuracy                           0.78      5415\n",
      "   macro avg       0.77      0.75      0.76      5415\n",
      "weighted avg       0.78      0.78      0.77      5415\n",
      "\n"
     ]
    }
   ],
   "source": [
    "print(classification_report(y_test, t))"
   ]
  },
  {
   "cell_type": "code",
   "execution_count": 60,
   "metadata": {},
   "outputs": [],
   "source": [
    "import sklearn"
   ]
  },
  {
   "cell_type": "code",
   "execution_count": 1,
   "metadata": {},
   "outputs": [],
   "source": [
    "def plot_roc(name, labels, predictions, **kwargs):\n",
    "    fp, tp, _ = sklearn.metrics.roc_curve(labels, predictions)\n",
    "\n",
    "    plt.plot(fp, tp, label=name, linewidth=2, **kwargs)\n",
    "    plt.xlabel('False positives [%]')\n",
    "    plt.ylabel('True positives [%]')\n",
    "    plt.xlim([-0.5,20])\n",
    "    plt.ylim([80,100.5])\n",
    "    plt.grid(True)\n",
    "    ax = plt.gca()\n",
    "    ax.set_aspect('equal')"
   ]
  },
  {
   "cell_type": "code",
   "execution_count": 2,
   "metadata": {},
   "outputs": [
    {
     "ename": "NameError",
     "evalue": "name 'plt' is not defined",
     "output_type": "error",
     "traceback": [
      "\u001b[0;31m---------------------------------------------------------------------------\u001b[0m",
      "\u001b[0;31mNameError\u001b[0m                                 Traceback (most recent call last)",
      "\u001b[0;32m<ipython-input-2-21385d085bed>\u001b[0m in \u001b[0;36m<module>\u001b[0;34m\u001b[0m\n\u001b[0;32m----> 1\u001b[0;31m \u001b[0mcolors\u001b[0m \u001b[0;34m=\u001b[0m \u001b[0mplt\u001b[0m\u001b[0;34m.\u001b[0m\u001b[0mrcParams\u001b[0m\u001b[0;34m[\u001b[0m\u001b[0;34m'axes.prop_cycle'\u001b[0m\u001b[0;34m]\u001b[0m\u001b[0;34m.\u001b[0m\u001b[0mby_key\u001b[0m\u001b[0;34m(\u001b[0m\u001b[0;34m)\u001b[0m\u001b[0;34m[\u001b[0m\u001b[0;34m'color'\u001b[0m\u001b[0;34m]\u001b[0m\u001b[0;34m\u001b[0m\u001b[0;34m\u001b[0m\u001b[0m\n\u001b[0m",
      "\u001b[0;31mNameError\u001b[0m: name 'plt' is not defined"
     ]
    }
   ],
   "source": [
    "colors = plt.rcParams['axes.prop_cycle'].by_key()['color']"
   ]
  },
  {
   "cell_type": "code",
   "execution_count": 3,
   "metadata": {},
   "outputs": [
    {
     "ename": "NameError",
     "evalue": "name 'y_test' is not defined",
     "output_type": "error",
     "traceback": [
      "\u001b[0;31m---------------------------------------------------------------------------\u001b[0m",
      "\u001b[0;31mNameError\u001b[0m                                 Traceback (most recent call last)",
      "\u001b[0;32m<ipython-input-3-2094fb99f031>\u001b[0m in \u001b[0;36m<module>\u001b[0;34m\u001b[0m\n\u001b[0;32m----> 1\u001b[0;31m \u001b[0mplot_roc\u001b[0m\u001b[0;34m(\u001b[0m\u001b[0;34m'ROC'\u001b[0m\u001b[0;34m,\u001b[0m \u001b[0my_test\u001b[0m\u001b[0;34m,\u001b[0m \u001b[0mt\u001b[0m\u001b[0;34m,\u001b[0m \u001b[0mcolor\u001b[0m\u001b[0;34m=\u001b[0m\u001b[0mcolors\u001b[0m\u001b[0;34m[\u001b[0m\u001b[0;36m0\u001b[0m\u001b[0;34m]\u001b[0m\u001b[0;34m)\u001b[0m\u001b[0;34m\u001b[0m\u001b[0;34m\u001b[0m\u001b[0m\n\u001b[0m\u001b[1;32m      2\u001b[0m \u001b[0mplt\u001b[0m\u001b[0;34m.\u001b[0m\u001b[0mlegend\u001b[0m\u001b[0;34m(\u001b[0m\u001b[0mloc\u001b[0m\u001b[0;34m=\u001b[0m\u001b[0;34m'lower right'\u001b[0m\u001b[0;34m)\u001b[0m\u001b[0;34m\u001b[0m\u001b[0;34m\u001b[0m\u001b[0m\n",
      "\u001b[0;31mNameError\u001b[0m: name 'y_test' is not defined"
     ]
    }
   ],
   "source": [
    "plot_roc('ROC', y_test, t, color=colors[0])\n",
    "plt.legend(loc='lower right')"
   ]
  },
  {
   "cell_type": "code",
   "execution_count": 47,
   "metadata": {},
   "outputs": [],
   "source": [
    "fp, tp, _ = sklearn.metrics.roc_curve(y_test, t)"
   ]
  },
  {
   "cell_type": "code",
   "execution_count": 62,
   "metadata": {},
   "outputs": [
    {
     "data": {
      "image/png": "[encoded data removed]",
      "text/plain": [
       "<Figure size 432x288 with 1 Axes>"
      ]
     },
     "metadata": {
      "needs_background": "light"
     },
     "output_type": "display_data"
    }
   ],
   "source": [
    "plt.plot(fp,tp)\n",
    "plt.show()"
   ]
  },
  {
   "cell_type": "code",
   "execution_count": null,
   "metadata": {},
   "outputs": [],
   "source": []
  }
 ],
 "metadata": {
  "kernelspec": {
   "display_name": "Python 3",
   "language": "python",
   "name": "python3"
  },
  "language_info": {
   "codemirror_mode": {
    "name": "ipython",
    "version": 3
   },
   "file_extension": ".py",
   "mimetype": "text/x-python",
   "name": "python",
   "nbconvert_exporter": "python",
   "pygments_lexer": "ipython3",
   "version": "3.6.9"
  }
 },
 "nbformat": 4,
 "nbformat_minor": 4
}
