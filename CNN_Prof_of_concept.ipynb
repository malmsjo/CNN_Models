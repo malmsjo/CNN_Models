{
 "cells": [
  {
   "cell_type": "code",
   "execution_count": 40,
   "metadata": {},
   "outputs": [],
   "source": [
    "import tensorflow as tf\n",
    "from tensorflow import keras\n",
    "from tensorflow.keras.models import Sequential\n",
    "from tensorflow.keras.layers import Dropout\n",
    "from tensorflow.keras.models import Model\n",
    "from tensorflow.keras.layers import Input\n",
    "from tensorflow.keras.layers import Dense\n",
    "from tensorflow.keras.layers import Activation\n",
    "from tensorflow.keras.layers import Flatten\n",
    "from tensorflow.keras.layers import Dropout\n",
    "from tensorflow.keras.layers import Conv2D, Conv3D\n",
    "from tensorflow.keras.layers import MaxPooling2D, MaxPooling3D\n",
    "from tensorflow.keras.layers import GlobalAveragePooling2D\n",
    "from tensorflow.keras.layers import BatchNormalization\n",
    "from tensorflow.keras.applications.vgg16 import VGG16\n",
    "from tensorflow.keras import optimizers\n",
    "from tensorflow.keras import regularizers\n",
    "from sklearn.metrics import f1_score\n",
    "#from keras import backend as K\n",
    "from keras.callbacks import EarlyStopping\n",
    "from keras.preprocessing.image import ImageDataGenerator\n",
    "from sklearn.model_selection import train_test_split\n",
    "import numpy as np\n",
    "import matplotlib.pyplot as plt\n",
    "import pandas as pd\n",
    "from PIL import Image \n",
    "import seaborn as sns\n",
    "import os\n",
    "import re\n",
    "import glob\n",
    "import cv2\n",
    "from sklearn.metrics import classification_report\n",
    "from sklearn.metrics import confusion_matrix\n",
    "from sklearn.utils.multiclass import unique_labels\n",
    "from sklearn import preprocessing\n",
    "import tqdm\n",
    "from numpy import loadtxt\n",
    "from sklearn.utils import class_weight"
   ]
  },
  {
   "cell_type": "code",
   "execution_count": 41,
   "metadata": {},
   "outputs": [],
   "source": [
    "def atoi(text):\n",
    "    return int(text) if text.isdigit() else text\n",
    "def natural_keys(text):\n",
    "    return [atoi(c) for c in re.split('(\\d+)', text)]"
   ]
  },
  {
   "cell_type": "code",
   "execution_count": 42,
   "metadata": {},
   "outputs": [],
   "source": [
    "def draw_confusion_matrix(true,preds):\n",
    "    conf_matx = confusion_matrix(true, preds)\n",
    "    sns.heatmap(conf_matx, annot=True,annot_kws={\"size\": 12},fmt='g', cbar=False, cmap=plt.cm.Blues) #'viridis'\n",
    "    #plt.savefig('/home/jovyan/img1.png')\n",
    "    plt.show()\n",
    "    \n",
    "    return conf_matx"
   ]
  },
  {
   "cell_type": "code",
   "execution_count": 43,
   "metadata": {},
   "outputs": [],
   "source": [
    "def plot_history(model_history, model_name):\n",
    "    fig = plt.figure(figsize=(15,5), facecolor='w')\n",
    "    ax = fig.add_subplot(121)\n",
    "    ax.plot(model_history.history['loss'])\n",
    "    ax.plot(model_history.history['val_loss'])\n",
    "    ax.set(title=model_name + ': Model loss', ylabel='Loss', xlabel='Epoch')\n",
    "    ax.legend(['Train', 'Val'], loc='upper left')\n",
    "    ax = fig.add_subplot(122)\n",
    "    ax.plot(model_history.history['accuracy'])\n",
    "    ax.plot(model_history.history['val_accuracy'])\n",
    "    ax.set(title=model_name + ': Model Accuracy; test='+ str(np.round(model_history.history['val_accuracy'][-1], 3)),\n",
    "           ylabel='Accuracy', xlabel='Epoch')\n",
    "    ax.legend(['Train', 'Val'], loc='upper left')\n",
    "    #plt.savefig('/home/jovyan/img2.png')\n",
    "    plt.show()\n",
    "   \n",
    "    \n",
    "    return fig"
   ]
  },
  {
   "cell_type": "code",
   "execution_count": 44,
   "metadata": {},
   "outputs": [],
   "source": [
    "def loadImages(path_data, path_labels):\n",
    "\n",
    "    image_list = []\n",
    "    \n",
    "\n",
    "    for filename in sorted(glob.glob(path_data), key=natural_keys): \n",
    "        im=cv2.imread(filename)\n",
    "        #gray_image = cv2.cvtColor(im, cv2.COLOR_BGR2GRAY)\n",
    "        imarray = np.array(im)\n",
    "        imarray = imarray.astype('float32')\n",
    "        image_list.append(imarray)\n",
    "\n",
    "    x_orig = np.reshape(image_list, (len(image_list), 90, 90, 3))\n",
    "    \n",
    "    path = path_labels    \n",
    "    labels = pd.read_csv(path, usecols=[\"Type\", \"Category\"],\n",
    "                       sep=\",\" )\n",
    "    y_orig = np.array(labels['Category'])\n",
    "\n",
    "    return x_orig, y_orig"
   ]
  },
  {
   "cell_type": "code",
   "execution_count": 45,
   "metadata": {},
   "outputs": [],
   "source": [
    "def normalization(data, norm_mean):#, norm_sigma):\n",
    "    \n",
    "    x_scaled = (data - norm_mean)# / norm_sigma\n",
    "    data = x_scaled\n",
    "    \n",
    "    return data"
   ]
  },
  {
   "cell_type": "code",
   "execution_count": 46,
   "metadata": {},
   "outputs": [],
   "source": [
    "def resize(x_o):\n",
    "    rescaled = []\n",
    "\n",
    "    for i in x_o:\n",
    "\n",
    "        scale_percent = 140 # percent of original size\n",
    "        width = int(i.shape[1] / (scale_percent / 100))\n",
    "        height = int(i.shape[0] / (scale_percent / 100))\n",
    "        dim = (width, height)\n",
    "        resized = cv2.resize(i, dim, interpolation = cv2.INTER_LANCZOS4)\n",
    "        rescaled.append(resized)\n",
    "\n",
    "    x_orig = np.reshape( rescaled, (len( rescaled), resized.shape[1], resized.shape[1], 3))\n",
    "\n",
    "    return x_orig"
   ]
  },
  {
   "cell_type": "code",
   "execution_count": 47,
   "metadata": {},
   "outputs": [],
   "source": [
    "es = EarlyStopping(monitor='val_loss', mode='min', verbose=2, patience=3)"
   ]
  },
  {
   "cell_type": "code",
   "execution_count": 48,
   "metadata": {},
   "outputs": [],
   "source": [
    "train_data = '/home/jovyan/DATA_MASTER_PROJECT/A549/Cropped_test/*.tiff'\n",
    "train_lab='/home/jovyan/DATA_MASTER_PROJECT/A549/test_labels.csv'\n",
    "\n",
    "\n",
    "test_data='/home/jovyan/DATA_MASTER_PROJECT/A549/Cropped_train/*.tiff'\n",
    "test_lab='/home/jovyan/DATA_MASTER_PROJECT/A549/train_labels.csv'"
   ]
  },
  {
   "cell_type": "code",
   "execution_count": 49,
   "metadata": {},
   "outputs": [
    {
     "name": "stderr",
     "output_type": "stream",
     "text": [
      "100%|██████████| 2/2 [00:00<00:00, 2364.32it/s]\n"
     ]
    },
    {
     "data": {
      "text/plain": [
       "((23094, 90, 90, 3), (23094,))"
      ]
     },
     "execution_count": 49,
     "metadata": {},
     "output_type": "execute_result"
    }
   ],
   "source": [
    "x_orig_1, y_orig_1 = tqdm.tqdm(loadImages(train_data, train_lab))\n",
    "x_orig_1.shape, y_orig_1.shape"
   ]
  },
  {
   "cell_type": "code",
   "execution_count": 50,
   "metadata": {},
   "outputs": [
    {
     "data": {
      "text/plain": [
       "((8575, 90, 90, 3), (8575,))"
      ]
     },
     "execution_count": 50,
     "metadata": {},
     "output_type": "execute_result"
    }
   ],
   "source": [
    "x_test, y_test = loadImages(test_data, test_lab)\n",
    "x_test.shape, y_test.shape"
   ]
  },
  {
   "cell_type": "code",
   "execution_count": 51,
   "metadata": {},
   "outputs": [],
   "source": [
    "x_test = x_test/255\n",
    "x_orig_1 = x_orig_1/255"
   ]
  },
  {
   "cell_type": "code",
   "execution_count": 52,
   "metadata": {},
   "outputs": [
    {
     "data": {
      "text/plain": [
       "(8575, 64, 64, 3)"
      ]
     },
     "execution_count": 52,
     "metadata": {},
     "output_type": "execute_result"
    }
   ],
   "source": [
    "x_test = resize(x_test)\n",
    "x_test.shape"
   ]
  },
  {
   "cell_type": "code",
   "execution_count": 53,
   "metadata": {},
   "outputs": [
    {
     "data": {
      "text/plain": [
       "(23094, 64, 64, 3)"
      ]
     },
     "execution_count": 53,
     "metadata": {},
     "output_type": "execute_result"
    }
   ],
   "source": [
    "x_orig_1 = resize(x_orig_1)\n",
    "\n",
    "x_orig_1.shape"
   ]
  },
  {
   "cell_type": "code",
   "execution_count": 54,
   "metadata": {},
   "outputs": [
    {
     "data": {
      "text/plain": [
       "((18475, 64, 64, 3), (4619, 64, 64, 3), (18475,), (4619,))"
      ]
     },
     "execution_count": 54,
     "metadata": {},
     "output_type": "execute_result"
    }
   ],
   "source": [
    "x_train_1, x_val, y_train_1, y_val = train_test_split(x_orig_1, y_orig_1, test_size=0.2, random_state=999 )\n",
    "x_train_1.shape, x_val.shape, y_train_1.shape, y_val.shape"
   ]
  },
  {
   "cell_type": "code",
   "execution_count": 55,
   "metadata": {},
   "outputs": [],
   "source": [
    "pretrained_model = VGG16(weights='imagenet',include_top=False, input_shape=(64, 64, 3))\n",
    "\n",
    "base_model = Model(inputs=pretrained_model.input, outputs=pretrained_model.get_layer('block3_pool').output)"
   ]
  },
  {
   "cell_type": "code",
   "execution_count": 56,
   "metadata": {},
   "outputs": [
    {
     "data": {
      "text/plain": [
       "{0: 6710, 1: 5768, 2: 5997}"
      ]
     },
     "execution_count": 56,
     "metadata": {},
     "output_type": "execute_result"
    }
   ],
   "source": [
    "unique, counts = np.unique(y_train_1, return_counts=True)\n",
    "dict(zip(unique, counts))"
   ]
  },
  {
   "cell_type": "code",
   "execution_count": 57,
   "metadata": {},
   "outputs": [
    {
     "data": {
      "text/plain": [
       "{0: 1639, 1: 1497, 2: 1483}"
      ]
     },
     "execution_count": 57,
     "metadata": {},
     "output_type": "execute_result"
    }
   ],
   "source": [
    "unique, counts = np.unique(y_val, return_counts=True)\n",
    "dict(zip(unique, counts))"
   ]
  },
  {
   "cell_type": "code",
   "execution_count": 58,
   "metadata": {},
   "outputs": [
    {
     "data": {
      "text/plain": [
       "{0: 1877, 1: 3700, 2: 2998}"
      ]
     },
     "execution_count": 58,
     "metadata": {},
     "output_type": "execute_result"
    }
   ],
   "source": [
    "unique, counts = np.unique(y_test, return_counts=True)\n",
    "dict(zip(unique, counts))"
   ]
  },
  {
   "cell_type": "code",
   "execution_count": 59,
   "metadata": {},
   "outputs": [
    {
     "name": "stdout",
     "output_type": "stream",
     "text": [
      "weights = [0.9177844  1.06767221 1.02690234]\n"
     ]
    }
   ],
   "source": [
    "weights = class_weight.compute_class_weight('balanced', np.unique(y_train_1),y_train_1)\n",
    "print('weights = ' + str(weights))"
   ]
  },
  {
   "cell_type": "code",
   "execution_count": 60,
   "metadata": {},
   "outputs": [
    {
     "data": {
      "text/plain": [
       "((18475, 3), (8575, 3), (4619, 3))"
      ]
     },
     "execution_count": 60,
     "metadata": {},
     "output_type": "execute_result"
    }
   ],
   "source": [
    "y_train_1 = keras.utils.to_categorical(y_train_1)\n",
    "y_test_1 = keras.utils.to_categorical(y_test)\n",
    "y_val = keras.utils.to_categorical(y_val)\n",
    "\n",
    "y_train_1.shape, y_test_1.shape, y_val.shape"
   ]
  },
  {
   "cell_type": "code",
   "execution_count": 61,
   "metadata": {},
   "outputs": [],
   "source": [
    "#print('Shape:{0}\\nMean:{1}\\nSigma:{2}'.format(x_train_1.shape,np.mean(x_train_1),np.std(x_train_1)))"
   ]
  },
  {
   "cell_type": "code",
   "execution_count": 62,
   "metadata": {},
   "outputs": [],
   "source": [
    "norm_mean = np.mean(x_train_1)\n",
    "norm_sigma = np.std(x_train_1)\n",
    "\n",
    "x_train_1 = normalization(x_train_1, norm_mean)#, norm_sigma)\n",
    "\n",
    "x_val = normalization(x_val, norm_mean)#, norm_sigma)\n",
    "\n",
    "x_test = normalization(x_test, norm_mean)#, norm_sigma)\n"
   ]
  },
  {
   "cell_type": "code",
   "execution_count": 63,
   "metadata": {},
   "outputs": [],
   "source": [
    "batch_size = 32"
   ]
  },
  {
   "cell_type": "code",
   "execution_count": 64,
   "metadata": {},
   "outputs": [],
   "source": [
    "datagen = ImageDataGenerator()\n",
    "\n",
    "datagen.fit(x_train_1)\n",
    "\n",
    "train_gen = datagen.flow(x_train_1, y_train_1, batch_size=batch_size)"
   ]
  },
  {
   "cell_type": "code",
   "execution_count": 65,
   "metadata": {},
   "outputs": [],
   "source": [
    "dat_val = ImageDataGenerator()\n",
    "\n",
    "dat_val.fit(x_val)\n",
    "\n",
    "val_gen = dat_val.flow(x_val, y_val, batch_size=batch_size)"
   ]
  },
  {
   "cell_type": "code",
   "execution_count": 66,
   "metadata": {},
   "outputs": [
    {
     "name": "stdout",
     "output_type": "stream",
     "text": [
      "Model: \"sequential_1\"\n",
      "_________________________________________________________________\n",
      "Layer (type)                 Output Shape              Param #   \n",
      "=================================================================\n",
      "model_1 (Model)              (None, 8, 8, 256)         1735488   \n",
      "_________________________________________________________________\n",
      "batch_normalization_1 (Batch (None, 8, 8, 256)         1024      \n",
      "_________________________________________________________________\n",
      "global_average_pooling2d_1 ( (None, 256)               0         \n",
      "_________________________________________________________________\n",
      "dense_2 (Dense)              (None, 64)                16448     \n",
      "_________________________________________________________________\n",
      "dense_3 (Dense)              (None, 3)                 195       \n",
      "=================================================================\n",
      "Total params: 1,753,155\n",
      "Trainable params: 1,752,643\n",
      "Non-trainable params: 512\n",
      "_________________________________________________________________\n"
     ]
    }
   ],
   "source": [
    "m4 = Sequential()\n",
    "m4.add(base_model)\n",
    "\n",
    "\n",
    "m4.add(BatchNormalization())\n",
    "m4.add(GlobalAveragePooling2D())\n",
    "m4.add(Dense(64, activation='relu'))\n",
    "m4.add(Dense(3, activation = 'softmax'))\n",
    "\n",
    "m4.summary()\n",
    "\n",
    "\n"
   ]
  },
  {
   "cell_type": "code",
   "execution_count": 67,
   "metadata": {},
   "outputs": [],
   "source": [
    "base_model.trainable = False\n",
    "\n",
    "opt = keras.optimizers.Adam(lr=1e-3)\n",
    "\n",
    "m4.compile(loss= keras.losses.categorical_crossentropy, optimizer=opt, metrics = ['accuracy'])\n"
   ]
  },
  {
   "cell_type": "code",
   "execution_count": 68,
   "metadata": {},
   "outputs": [
    {
     "name": "stdout",
     "output_type": "stream",
     "text": [
      "WARNING:tensorflow:sample_weight modes were coerced from\n",
      "  ...\n",
      "    to  \n",
      "  ['...']\n",
      "WARNING:tensorflow:sample_weight modes were coerced from\n",
      "  ...\n",
      "    to  \n",
      "  ['...']\n",
      "Train for 577.34375 steps, validate for 144.34375 steps\n",
      "Epoch 1/100\n",
      "578/577 [==============================] - 7s 12ms/step - loss: 0.9833 - accuracy: 0.5084 - val_loss: 0.9206 - val_accuracy: 0.5696\n",
      "Epoch 2/100\n",
      "578/577 [==============================] - 6s 11ms/step - loss: 0.8969 - accuracy: 0.5798 - val_loss: 0.8702 - val_accuracy: 0.6012\n",
      "Epoch 3/100\n",
      "578/577 [==============================] - 6s 11ms/step - loss: 0.8438 - accuracy: 0.6149 - val_loss: 0.8216 - val_accuracy: 0.6300\n",
      "Epoch 4/100\n",
      "578/577 [==============================] - 7s 11ms/step - loss: 0.8027 - accuracy: 0.6415 - val_loss: 0.7932 - val_accuracy: 0.6443\n",
      "Epoch 5/100\n",
      "578/577 [==============================] - 6s 11ms/step - loss: 0.7709 - accuracy: 0.6554 - val_loss: 0.7764 - val_accuracy: 0.6575\n",
      "Epoch 6/100\n",
      "578/577 [==============================] - 6s 11ms/step - loss: 0.7458 - accuracy: 0.6701 - val_loss: 0.7625 - val_accuracy: 0.6620\n",
      "Epoch 7/100\n",
      "578/577 [==============================] - 6s 11ms/step - loss: 0.7220 - accuracy: 0.6836 - val_loss: 0.7507 - val_accuracy: 0.6672\n",
      "Epoch 8/100\n",
      "578/577 [==============================] - 7s 11ms/step - loss: 0.7015 - accuracy: 0.6961 - val_loss: 0.7426 - val_accuracy: 0.6709\n",
      "Epoch 9/100\n",
      "578/577 [==============================] - 6s 11ms/step - loss: 0.6822 - accuracy: 0.7065 - val_loss: 0.7190 - val_accuracy: 0.6895\n",
      "Epoch 10/100\n",
      "578/577 [==============================] - 7s 11ms/step - loss: 0.6651 - accuracy: 0.7105 - val_loss: 0.7120 - val_accuracy: 0.6867\n",
      "Epoch 11/100\n",
      "578/577 [==============================] - 6s 11ms/step - loss: 0.6504 - accuracy: 0.7210 - val_loss: 0.7204 - val_accuracy: 0.6874\n",
      "Epoch 12/100\n",
      "578/577 [==============================] - 6s 11ms/step - loss: 0.6361 - accuracy: 0.7295 - val_loss: 0.7300 - val_accuracy: 0.6843\n",
      "Epoch 13/100\n",
      "578/577 [==============================] - 6s 11ms/step - loss: 0.6225 - accuracy: 0.7382 - val_loss: 0.7076 - val_accuracy: 0.6908\n",
      "Epoch 14/100\n",
      "578/577 [==============================] - 6s 11ms/step - loss: 0.6086 - accuracy: 0.7410 - val_loss: 0.6857 - val_accuracy: 0.7066\n",
      "Epoch 15/100\n",
      "578/577 [==============================] - 6s 11ms/step - loss: 0.5977 - accuracy: 0.7487 - val_loss: 0.6950 - val_accuracy: 0.7086\n",
      "Epoch 16/100\n",
      "578/577 [==============================] - 6s 11ms/step - loss: 0.5852 - accuracy: 0.7582 - val_loss: 0.6927 - val_accuracy: 0.7006\n",
      "Epoch 17/100\n",
      "578/577 [==============================] - 7s 11ms/step - loss: 0.5768 - accuracy: 0.7595 - val_loss: 0.6774 - val_accuracy: 0.7079\n",
      "Epoch 18/100\n",
      "578/577 [==============================] - 6s 11ms/step - loss: 0.5634 - accuracy: 0.7650 - val_loss: 0.6932 - val_accuracy: 0.7064\n",
      "Epoch 19/100\n",
      "578/577 [==============================] - 6s 11ms/step - loss: 0.5583 - accuracy: 0.7697 - val_loss: 0.6892 - val_accuracy: 0.7069\n",
      "Epoch 20/100\n",
      "578/577 [==============================] - 6s 11ms/step - loss: 0.5407 - accuracy: 0.7791 - val_loss: 0.6760 - val_accuracy: 0.7082\n",
      "Epoch 21/100\n",
      "578/577 [==============================] - 6s 11ms/step - loss: 0.5362 - accuracy: 0.7807 - val_loss: 0.6948 - val_accuracy: 0.7066\n",
      "Epoch 22/100\n",
      "578/577 [==============================] - 6s 11ms/step - loss: 0.5283 - accuracy: 0.7828 - val_loss: 0.6869 - val_accuracy: 0.7149\n",
      "Epoch 23/100\n",
      "578/577 [==============================] - 6s 11ms/step - loss: 0.5181 - accuracy: 0.7870 - val_loss: 0.6620 - val_accuracy: 0.7279\n",
      "Epoch 24/100\n",
      "578/577 [==============================] - 6s 11ms/step - loss: 0.5119 - accuracy: 0.7904 - val_loss: 0.6666 - val_accuracy: 0.7199\n",
      "Epoch 25/100\n",
      "578/577 [==============================] - 6s 11ms/step - loss: 0.5043 - accuracy: 0.7936 - val_loss: 0.6790 - val_accuracy: 0.7190\n",
      "Epoch 26/100\n",
      "578/577 [==============================] - 6s 11ms/step - loss: 0.4972 - accuracy: 0.7972 - val_loss: 0.6637 - val_accuracy: 0.7283\n",
      "Epoch 00026: early stopping\n"
     ]
    }
   ],
   "source": [
    "\n",
    "epochs = 100\n",
    "\n",
    "m4_h = m4.fit(train_gen,\n",
    "                steps_per_epoch=(len(x_train_1)/batch_size),\n",
    "                callbacks = [es],\n",
    "                epochs=epochs,\n",
    "                validation_data = val_gen, \n",
    "                validation_steps = (len(x_val)/batch_size),\n",
    "                class_weight = weights)"
   ]
  },
  {
   "cell_type": "code",
   "execution_count": 69,
   "metadata": {},
   "outputs": [],
   "source": [
    "base_model.trainable = True\n",
    "\n",
    "opt = keras.optimizers.Adam(lr=1e-4)\n",
    "\n",
    "m4.compile(loss= keras.losses.categorical_crossentropy, optimizer=opt, metrics = ['accuracy'])"
   ]
  },
  {
   "cell_type": "code",
   "execution_count": 70,
   "metadata": {},
   "outputs": [
    {
     "name": "stdout",
     "output_type": "stream",
     "text": [
      "WARNING:tensorflow:sample_weight modes were coerced from\n",
      "  ...\n",
      "    to  \n",
      "  ['...']\n",
      "WARNING:tensorflow:sample_weight modes were coerced from\n",
      "  ...\n",
      "    to  \n",
      "  ['...']\n",
      "Train for 577.34375 steps, validate for 144.34375 steps\n",
      "Epoch 1/100\n",
      "578/577 [==============================] - 13s 23ms/step - loss: 0.7288 - accuracy: 0.6966 - val_loss: 1.8245 - val_accuracy: 0.4516\n",
      "Epoch 2/100\n",
      "578/577 [==============================] - 12s 20ms/step - loss: 0.5783 - accuracy: 0.7566 - val_loss: 1.9281 - val_accuracy: 0.5228\n",
      "Epoch 3/100\n",
      "578/577 [==============================] - 12s 20ms/step - loss: 0.4857 - accuracy: 0.7986 - val_loss: 2.3956 - val_accuracy: 0.4551\n",
      "Epoch 4/100\n",
      "578/577 [==============================] - 12s 21ms/step - loss: 0.4256 - accuracy: 0.8304 - val_loss: 2.3213 - val_accuracy: 0.4525\n",
      "Epoch 00004: early stopping\n"
     ]
    }
   ],
   "source": [
    "\n",
    "epochs = 100\n",
    "\n",
    "m4_h = m4.fit(train_gen,\n",
    "                steps_per_epoch=(len(x_train_1)/batch_size),\n",
    "                callbacks = [es],\n",
    "                epochs=epochs,\n",
    "                validation_data = val_gen, \n",
    "                validation_steps = (len(x_val)/batch_size),\n",
    "                class_weight = weights)"
   ]
  },
  {
   "cell_type": "code",
   "execution_count": 71,
   "metadata": {},
   "outputs": [],
   "source": [
    "base_model.trainable = True\n",
    "\n",
    "opt = keras.optimizers.Adam(lr=1e-5)\n",
    "\n",
    "m4.compile(loss= keras.losses.categorical_crossentropy, optimizer=opt, metrics = ['accuracy'])"
   ]
  },
  {
   "cell_type": "code",
   "execution_count": 72,
   "metadata": {},
   "outputs": [
    {
     "name": "stdout",
     "output_type": "stream",
     "text": [
      "WARNING:tensorflow:sample_weight modes were coerced from\n",
      "  ...\n",
      "    to  \n",
      "  ['...']\n",
      "WARNING:tensorflow:sample_weight modes were coerced from\n",
      "  ...\n",
      "    to  \n",
      "  ['...']\n",
      "Train for 577.34375 steps, validate for 144.34375 steps\n",
      "Epoch 1/100\n",
      "578/577 [==============================] - 13s 22ms/step - loss: 0.2706 - accuracy: 0.9076 - val_loss: 0.5255 - val_accuracy: 0.7848\n",
      "Epoch 2/100\n",
      "578/577 [==============================] - 12s 21ms/step - loss: 0.2327 - accuracy: 0.9264 - val_loss: 0.5195 - val_accuracy: 0.7909\n",
      "Epoch 3/100\n",
      "578/577 [==============================] - 12s 20ms/step - loss: 0.2136 - accuracy: 0.9364 - val_loss: 0.5504 - val_accuracy: 0.7816\n",
      "Epoch 4/100\n",
      "578/577 [==============================] - 12s 20ms/step - loss: 0.1979 - accuracy: 0.9437 - val_loss: 0.4947 - val_accuracy: 0.8062\n",
      "Epoch 5/100\n",
      "578/577 [==============================] - 12s 20ms/step - loss: 0.1846 - accuracy: 0.9494 - val_loss: 0.5235 - val_accuracy: 0.7891\n",
      "Epoch 6/100\n",
      "578/577 [==============================] - 12s 20ms/step - loss: 0.1721 - accuracy: 0.9543 - val_loss: 0.5303 - val_accuracy: 0.7928\n",
      "Epoch 7/100\n",
      "578/577 [==============================] - 12s 20ms/step - loss: 0.1603 - accuracy: 0.9589 - val_loss: 0.4991 - val_accuracy: 0.7980\n",
      "Epoch 00007: early stopping\n"
     ]
    }
   ],
   "source": [
    "\n",
    "epochs = 100\n",
    "\n",
    "m4_h = m4.fit(train_gen,\n",
    "                steps_per_epoch=(len(x_train_1)/batch_size),\n",
    "                callbacks = [es],\n",
    "                epochs=epochs,\n",
    "                validation_data = val_gen, \n",
    "                validation_steps = (len(x_val)/batch_size),\n",
    "                class_weight = weights)"
   ]
  },
  {
   "cell_type": "code",
   "execution_count": 73,
   "metadata": {},
   "outputs": [
    {
     "data": {
      "image/png": "[encoded data removed]",
      "text/plain": [
       "<Figure size 1080x360 with 2 Axes>"
      ]
     },
     "metadata": {},
     "output_type": "display_data"
    },
    {
     "data": {
      "image/png": "[encoded data removed]",
      "text/plain": [
       "<Figure size 1080x360 with 2 Axes>"
      ]
     },
     "execution_count": 73,
     "metadata": {},
     "output_type": "execute_result"
    }
   ],
   "source": [
    "plot_history(m4_h, 'first')\n"
   ]
  },
  {
   "cell_type": "code",
   "execution_count": 74,
   "metadata": {},
   "outputs": [
    {
     "name": "stdout",
     "output_type": "stream",
     "text": [
      "8575/8575 [==============================] - 2s 253us/sample - loss: 2.0752 - accuracy: 0.3317\n",
      "\n",
      "accuracy: 33.17%\n"
     ]
    }
   ],
   "source": [
    "scores = m4.evaluate(x_test, y_test_1)\n",
    "print(\"\\n%s: %.2f%%\" % (m4.metrics_names[1], scores[1]*100))"
   ]
  },
  {
   "cell_type": "code",
   "execution_count": 75,
   "metadata": {},
   "outputs": [],
   "source": [
    "test_preds = m4.predict(x_test)"
   ]
  },
  {
   "cell_type": "code",
   "execution_count": 76,
   "metadata": {},
   "outputs": [],
   "source": [
    "preds_df = pd.DataFrame(test_preds)\n",
    "predicted_labels = preds_df.idxmax(axis=1)"
   ]
  },
  {
   "cell_type": "code",
   "execution_count": 77,
   "metadata": {},
   "outputs": [
    {
     "data": {
      "image/png": "[encoded data removed]",
      "text/plain": [
       "<Figure size 432x288 with 1 Axes>"
      ]
     },
     "metadata": {
      "needs_background": "light"
     },
     "output_type": "display_data"
    },
    {
     "data": {
      "text/plain": [
       "array([[ 740,  321,  816],\n",
       "       [1444, 1018, 1238],\n",
       "       [ 732, 1180, 1086]])"
      ]
     },
     "execution_count": 77,
     "metadata": {},
     "output_type": "execute_result"
    }
   ],
   "source": [
    "draw_confusion_matrix(y_test, predicted_labels)"
   ]
  },
  {
   "cell_type": "code",
   "execution_count": 78,
   "metadata": {},
   "outputs": [
    {
     "name": "stdout",
     "output_type": "stream",
     "text": [
      "              precision    recall  f1-score   support\n",
      "\n",
      "           0       0.25      0.39      0.31      1877\n",
      "           1       0.40      0.28      0.33      3700\n",
      "           2       0.35      0.36      0.35      2998\n",
      "\n",
      "    accuracy                           0.33      8575\n",
      "   macro avg       0.33      0.34      0.33      8575\n",
      "weighted avg       0.35      0.33      0.33      8575\n",
      "\n"
     ]
    }
   ],
   "source": [
    "print(classification_report(y_test, predicted_labels))"
   ]
  },
  {
   "cell_type": "code",
   "execution_count": 79,
   "metadata": {},
   "outputs": [],
   "source": [
    "# p = '/home/jovyan/Saved_Models/'\n",
    "# m4.save(p + \"CNN_T10_P010726_model_5.h5\")"
   ]
  },
  {
   "cell_type": "code",
   "execution_count": null,
   "metadata": {},
   "outputs": [],
   "source": []
  }
 ],
 "metadata": {
  "kernelspec": {
   "display_name": "Python 3",
   "language": "python",
   "name": "python3"
  },
  "language_info": {
   "codemirror_mode": {
    "name": "ipython",
    "version": 3
   },
   "file_extension": ".py",
   "mimetype": "text/x-python",
   "name": "python",
   "nbconvert_exporter": "python",
   "pygments_lexer": "ipython3",
   "version": "3.6.9"
  }
 },
 "nbformat": 4,
 "nbformat_minor": 4
}
