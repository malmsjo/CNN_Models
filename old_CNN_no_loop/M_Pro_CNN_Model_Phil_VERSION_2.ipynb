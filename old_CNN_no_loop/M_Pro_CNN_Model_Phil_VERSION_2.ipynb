{
 "cells": [
  {
   "cell_type": "code",
   "execution_count": 1,
   "metadata": {},
   "outputs": [
    {
     "name": "stderr",
     "output_type": "stream",
     "text": [
      "Using TensorFlow backend.\n"
     ]
    }
   ],
   "source": [
    "import tensorflow as tf\n",
    "from tensorflow import keras\n",
    "from tensorflow.keras.models import Sequential\n",
    "from tensorflow.keras.layers import Dropout\n",
    "from tensorflow.keras.models import Model\n",
    "from tensorflow.keras.layers import Input\n",
    "from tensorflow.keras.layers import Dense\n",
    "from tensorflow.keras.layers import Activation\n",
    "from tensorflow.keras.layers import Flatten\n",
    "from tensorflow.keras.layers import Dropout\n",
    "from tensorflow.keras.layers import Conv2D, Conv3D\n",
    "from tensorflow.keras.layers import MaxPooling2D, MaxPooling3D\n",
    "from tensorflow.keras.layers import GlobalAveragePooling2D\n",
    "from tensorflow.keras.layers import BatchNormalization\n",
    "from tensorflow.keras.applications.vgg16 import VGG16\n",
    "from tensorflow.keras import optimizers\n",
    "from tensorflow.keras import regularizers\n",
    "from sklearn.metrics import f1_score\n",
    "#from keras import backend as K\n",
    "from keras.callbacks import EarlyStopping\n",
    "from keras.preprocessing.image import ImageDataGenerator\n",
    "from sklearn.model_selection import train_test_split\n",
    "import numpy as np\n",
    "import matplotlib.pyplot as plt\n",
    "import pandas as pd\n",
    "from PIL import Image \n",
    "import seaborn as sns\n",
    "import os\n",
    "import re\n",
    "import glob\n",
    "import cv2\n",
    "from sklearn.metrics import classification_report\n",
    "from sklearn.metrics import confusion_matrix\n",
    "from sklearn.utils.multiclass import unique_labels\n",
    "from sklearn import preprocessing\n",
    "import tqdm\n",
    "from numpy import loadtxt\n",
    "from sklearn.utils import class_weight"
   ]
  },
  {
   "cell_type": "code",
   "execution_count": 2,
   "metadata": {},
   "outputs": [],
   "source": [
    "def atoi(text):\n",
    "    return int(text) if text.isdigit() else text\n",
    "def natural_keys(text):\n",
    "    return [atoi(c) for c in re.split('(\\d+)', text)]"
   ]
  },
  {
   "cell_type": "code",
   "execution_count": 3,
   "metadata": {},
   "outputs": [],
   "source": [
    "def draw_confusion_matrix(true,preds):\n",
    "    conf_matx = confusion_matrix(true, preds)\n",
    "    sns.heatmap(conf_matx, annot=True,annot_kws={\"size\": 12},fmt='g', cbar=False, cmap=plt.cm.Blues) #'viridis'\n",
    "    #plt.savefig('/home/jovyan/Confmatrix.png')\n",
    "    plt.show()\n",
    "    \n",
    "    return conf_matx"
   ]
  },
  {
   "cell_type": "code",
   "execution_count": 4,
   "metadata": {},
   "outputs": [],
   "source": [
    "def plot_history(model_history, model_name):\n",
    "    fig = plt.figure(figsize=(15,5), facecolor='w')\n",
    "    ax = fig.add_subplot(121)\n",
    "    ax.plot(model_history.history['loss'])\n",
    "    ax.plot(model_history.history['val_loss'])\n",
    "    ax.set(title=model_name + ': Model loss', ylabel='Loss', xlabel='Epoch')\n",
    "    ax.legend(['Train', 'Val'], loc='upper left')\n",
    "    ax = fig.add_subplot(122)\n",
    "    ax.plot(model_history.history['accuracy'])\n",
    "    ax.plot(model_history.history['val_accuracy'])\n",
    "    ax.set(title=model_name + ': Model Accuracy; test='+ str(np.round(model_history.history['val_accuracy'][-1], 3)),\n",
    "           ylabel='Accuracy', xlabel='Epoch')\n",
    "    ax.legend(['Train', 'Val'], loc='upper left')\n",
    "    #plt.savefig('/home/jovyan/Acc_loss.png')\n",
    "    plt.show()\n",
    "   \n",
    "    \n",
    "    return fig"
   ]
  },
  {
   "cell_type": "code",
   "execution_count": 5,
   "metadata": {},
   "outputs": [],
   "source": [
    "def loadImages():\n",
    "\n",
    "    image_list = []\n",
    "    \n",
    "\n",
    "    for filename in tqdm.tqdm(sorted(glob.glob('/home/jovyan/DATA_MASTER_PROJECT/FINAL_Data/3_classes_t_96_HIGH/croppped_train/*.tiff'), key=natural_keys)): \n",
    "        im=cv2.imread(filename)\n",
    "        imarray = np.array(im)\n",
    "        imarray = imarray.astype('float32')\n",
    "        image_list.append(imarray)\n",
    "\n",
    "    x_orig = np.reshape(image_list, (len(image_list), 90, 90, 3))\n",
    "    \n",
    "    path = '/home/jovyan/DATA_MASTER_PROJECT/FINAL_Data/3_classes_t_96_HIGH/train_labels.csv'     \n",
    "    labels = pd.read_csv(path, usecols=[\"Type\", \"Category\"],\n",
    "                       sep=\",\" )\n",
    "    y_orig = np.array(labels['Category'])\n",
    "\n",
    "    return x_orig, y_orig"
   ]
  },
  {
   "cell_type": "code",
   "execution_count": 6,
   "metadata": {},
   "outputs": [],
   "source": [
    "def normalization(data, norm_mean):#, norm_sigma):\n",
    "    \n",
    "    x_scaled = np.subtract(data, norm_mean)# / norm_sigma\n",
    "    data = x_scaled\n",
    "    \n",
    "    return data"
   ]
  },
  {
   "cell_type": "code",
   "execution_count": 7,
   "metadata": {},
   "outputs": [],
   "source": [
    "def resize():\n",
    "    rescaled = []\n",
    "\n",
    "    for i in tqdm.tqdm(x_orig_1):\n",
    "\n",
    "        scale_percent = 140 # percent of original size\n",
    "        width = int(i.shape[1] / (scale_percent / 100))\n",
    "        height = int(i.shape[0] / (scale_percent / 100))\n",
    "        dim = (width, height)\n",
    "        resized = cv2.resize(i, dim, interpolation = cv2.INTER_LANCZOS4)\n",
    "        rescaled.append(resized)\n",
    "\n",
    "    x_orig = np.reshape( rescaled, (len( rescaled), resized.shape[1], resized.shape[1], 3))\n",
    "\n",
    "    return x_orig"
   ]
  },
  {
   "cell_type": "code",
   "execution_count": 8,
   "metadata": {},
   "outputs": [],
   "source": [
    "es = EarlyStopping(monitor='val_loss', mode='min', verbose=2, patience=3)"
   ]
  },
  {
   "cell_type": "code",
   "execution_count": 9,
   "metadata": {},
   "outputs": [],
   "source": [
    "pretrained_model = VGG16(weights='imagenet',include_top=False, input_shape=(64, 64, 3))\n",
    "\n",
    "base_model = Model(inputs=pretrained_model.input, outputs=pretrained_model.get_layer('block3_pool').output)"
   ]
  },
  {
   "cell_type": "code",
   "execution_count": 10,
   "metadata": {},
   "outputs": [
    {
     "name": "stderr",
     "output_type": "stream",
     "text": [
      "100%|██████████| 137571/137571 [02:01<00:00, 1133.01it/s]\n"
     ]
    },
    {
     "data": {
      "text/plain": [
       "((137571, 90, 90, 3), (137571,))"
      ]
     },
     "execution_count": 10,
     "metadata": {},
     "output_type": "execute_result"
    }
   ],
   "source": [
    "x_orig_1, y_orig_1 = loadImages()\n",
    "x_orig_1.shape, y_orig_1.shape"
   ]
  },
  {
   "cell_type": "code",
   "execution_count": 11,
   "metadata": {},
   "outputs": [
    {
     "name": "stderr",
     "output_type": "stream",
     "text": [
      "100%|██████████| 137571/137571 [00:28<00:00, 4878.68it/s]\n"
     ]
    },
    {
     "data": {
      "text/plain": [
       "(137571, 64, 64, 3)"
      ]
     },
     "execution_count": 11,
     "metadata": {},
     "output_type": "execute_result"
    }
   ],
   "source": [
    "x_orig_1 = resize()\n",
    "x_orig_1.shape"
   ]
  },
  {
   "cell_type": "code",
   "execution_count": 12,
   "metadata": {},
   "outputs": [
    {
     "data": {
      "text/plain": [
       "((110056, 64, 64, 3), (27515, 64, 64, 3), (110056,), (27515,))"
      ]
     },
     "execution_count": 12,
     "metadata": {},
     "output_type": "execute_result"
    }
   ],
   "source": [
    "x_train, x_test, y_train, y_test = train_test_split(x_orig_1, y_orig_1, test_size=0.2, random_state=999 )\n",
    "x_train.shape, x_test.shape, y_train.shape, y_test.shape"
   ]
  },
  {
   "cell_type": "code",
   "execution_count": 13,
   "metadata": {},
   "outputs": [
    {
     "data": {
      "text/plain": [
       "((88044, 64, 64, 3), (22012, 64, 64, 3), (88044,), (22012,))"
      ]
     },
     "execution_count": 13,
     "metadata": {},
     "output_type": "execute_result"
    }
   ],
   "source": [
    "x_train_1, x_val, y_train_1, y_val = train_test_split(x_train, y_train, test_size=0.2, random_state=999 )\n",
    "x_train_1.shape, x_val.shape, y_train_1.shape, y_val.shape"
   ]
  },
  {
   "cell_type": "code",
   "execution_count": 14,
   "metadata": {},
   "outputs": [
    {
     "data": {
      "text/plain": [
       "{0: 18361, 1: 33050, 2: 36633}"
      ]
     },
     "execution_count": 14,
     "metadata": {},
     "output_type": "execute_result"
    }
   ],
   "source": [
    "unique, counts = np.unique(y_train_1, return_counts=True)\n",
    "dict(zip(unique, counts))"
   ]
  },
  {
   "cell_type": "code",
   "execution_count": 15,
   "metadata": {},
   "outputs": [
    {
     "data": {
      "text/plain": [
       "{0: 4564, 1: 8323, 2: 9125}"
      ]
     },
     "execution_count": 15,
     "metadata": {},
     "output_type": "execute_result"
    }
   ],
   "source": [
    "unique, counts = np.unique(y_val, return_counts=True)\n",
    "dict(zip(unique, counts))"
   ]
  },
  {
   "cell_type": "code",
   "execution_count": 16,
   "metadata": {},
   "outputs": [
    {
     "name": "stdout",
     "output_type": "stream",
     "text": [
      "weights = [1.59838789 0.8879879  0.80113559]\n"
     ]
    }
   ],
   "source": [
    "weights = class_weight.compute_class_weight('balanced', np.unique(y_train_1),y_train_1)\n",
    "print('weights = ' + str(weights))"
   ]
  },
  {
   "cell_type": "code",
   "execution_count": 17,
   "metadata": {},
   "outputs": [
    {
     "data": {
      "text/plain": [
       "((88044, 3), (27515, 3), (22012, 3))"
      ]
     },
     "execution_count": 17,
     "metadata": {},
     "output_type": "execute_result"
    }
   ],
   "source": [
    "y_train_1 = keras.utils.to_categorical(y_train_1)\n",
    "y_test_1 = keras.utils.to_categorical(y_test)\n",
    "y_val = keras.utils.to_categorical(y_val)\n",
    "\n",
    "y_train_1.shape, y_test_1.shape, y_val.shape"
   ]
  },
  {
   "cell_type": "code",
   "execution_count": 18,
   "metadata": {},
   "outputs": [
    {
     "name": "stdout",
     "output_type": "stream",
     "text": [
      "Shape:(88044, 64, 64, 3)\n",
      "Mean:18.392343521118164\n",
      "Sigma:26.812421798706055\n"
     ]
    }
   ],
   "source": [
    "print('Shape:{0}\\nMean:{1}\\nSigma:{2}'.format(x_train_1.shape,np.mean(x_train_1),np.std(x_train_1)))"
   ]
  },
  {
   "cell_type": "code",
   "execution_count": 19,
   "metadata": {},
   "outputs": [],
   "source": [
    "norm_mean = np.mean(x_train_1)\n",
    "norm_sigma = np.std(x_train_1)\n",
    "\n",
    "x_train_1 = normalization(x_train_1, norm_mean)#, norm_sigma)\n",
    "\n",
    "x_val = normalization(x_val, norm_mean)#, norm_sigma)\n",
    "\n",
    "x_test = normalization(x_test, norm_mean)#, norm_sigma)\n"
   ]
  },
  {
   "cell_type": "code",
   "execution_count": 20,
   "metadata": {},
   "outputs": [],
   "source": [
    "batch_size = 128"
   ]
  },
  {
   "cell_type": "code",
   "execution_count": 21,
   "metadata": {},
   "outputs": [],
   "source": [
    "datagen = ImageDataGenerator()\n",
    "\n",
    "datagen.fit(x_train_1)\n",
    "\n",
    "train_gen = datagen.flow(x_train_1, y_train_1, batch_size=batch_size)"
   ]
  },
  {
   "cell_type": "code",
   "execution_count": 22,
   "metadata": {},
   "outputs": [],
   "source": [
    "dat_val = ImageDataGenerator()\n",
    "\n",
    "dat_val.fit(x_val)\n",
    "\n",
    "val_gen = dat_val.flow(x_val, y_val, batch_size=batch_size)"
   ]
  },
  {
   "cell_type": "code",
   "execution_count": 26,
   "metadata": {},
   "outputs": [
    {
     "name": "stdout",
     "output_type": "stream",
     "text": [
      "Model: \"sequential_3\"\n",
      "_________________________________________________________________\n",
      "Layer (type)                 Output Shape              Param #   \n",
      "=================================================================\n",
      "model (Model)                (None, 8, 8, 256)         1735488   \n",
      "_________________________________________________________________\n",
      "batch_normalization_6 (Batch (None, 8, 8, 256)         1024      \n",
      "_________________________________________________________________\n",
      "global_average_pooling2d_3 ( (None, 256)               0         \n",
      "_________________________________________________________________\n",
      "dense_3 (Dense)              (None, 64)                16448     \n",
      "_________________________________________________________________\n",
      "batch_normalization_7 (Batch (None, 64)                256       \n",
      "_________________________________________________________________\n",
      "activation (Activation)      (None, 64)                0         \n",
      "_________________________________________________________________\n",
      "dense_4 (Dense)              (None, 3)                 195       \n",
      "=================================================================\n",
      "Total params: 1,753,411\n",
      "Trainable params: 1,752,771\n",
      "Non-trainable params: 640\n",
      "_________________________________________________________________\n"
     ]
    }
   ],
   "source": [
    "m4 = Sequential()\n",
    "m4.add(base_model)\n",
    "\n",
    "\n",
    "m4.add(BatchNormalization())\n",
    "m4.add(GlobalAveragePooling2D())\n",
    "m4.add(Dense(64, activation='relu'))\n",
    "m4.add(BatchNormalization())\n",
    "m4.add(Activation ('relu'))\n",
    "m4.add(Dense(3, activation = 'softmax'))\n",
    "\n",
    "m4.summary()\n",
    "\n",
    "\n"
   ]
  },
  {
   "cell_type": "code",
   "execution_count": 27,
   "metadata": {},
   "outputs": [],
   "source": [
    "base_model.trainable = False\n",
    "\n",
    "opt = keras.optimizers.Adam(lr=1e-3)\n",
    "\n",
    "m4.compile(loss= keras.losses.categorical_crossentropy, optimizer=opt, metrics = ['accuracy'])\n"
   ]
  },
  {
   "cell_type": "code",
   "execution_count": 28,
   "metadata": {
    "collapsed": true,
    "jupyter": {
     "outputs_hidden": true
    }
   },
   "outputs": [
    {
     "name": "stdout",
     "output_type": "stream",
     "text": [
      "WARNING:tensorflow:sample_weight modes were coerced from\n",
      "  ...\n",
      "    to  \n",
      "  ['...']\n",
      "WARNING:tensorflow:sample_weight modes were coerced from\n",
      "  ...\n",
      "    to  \n",
      "  ['...']\n",
      "Train for 687.84375 steps, validate for 171.96875 steps\n",
      "Epoch 1/100\n",
      "688/687 [==============================] - 26s 39ms/step - loss: 0.9693 - accuracy: 0.5212 - val_loss: 0.9123 - val_accuracy: 0.5622\n",
      "Epoch 2/100\n",
      "688/687 [==============================] - 21s 30ms/step - loss: 0.8790 - accuracy: 0.5857 - val_loss: 0.8556 - val_accuracy: 0.5987\n",
      "Epoch 3/100\n",
      "688/687 [==============================] - 21s 31ms/step - loss: 0.8282 - accuracy: 0.6177 - val_loss: 0.8146 - val_accuracy: 0.6217\n",
      "Epoch 4/100\n",
      "688/687 [==============================] - 21s 30ms/step - loss: 0.7918 - accuracy: 0.6403 - val_loss: 0.7950 - val_accuracy: 0.6365\n",
      "Epoch 5/100\n",
      "688/687 [==============================] - 21s 31ms/step - loss: 0.7667 - accuracy: 0.6551 - val_loss: 0.7723 - val_accuracy: 0.6496\n",
      "Epoch 6/100\n",
      "688/687 [==============================] - 21s 30ms/step - loss: 0.7433 - accuracy: 0.6690 - val_loss: 0.7681 - val_accuracy: 0.6571\n",
      "Epoch 7/100\n",
      "688/687 [==============================] - 21s 30ms/step - loss: 0.7263 - accuracy: 0.6792 - val_loss: 0.7601 - val_accuracy: 0.6587\n",
      "Epoch 8/100\n",
      "688/687 [==============================] - 21s 30ms/step - loss: 0.7099 - accuracy: 0.6889 - val_loss: 0.7534 - val_accuracy: 0.6624\n",
      "Epoch 9/100\n",
      "688/687 [==============================] - 21s 31ms/step - loss: 0.6985 - accuracy: 0.6957 - val_loss: 0.7254 - val_accuracy: 0.6794\n",
      "Epoch 10/100\n",
      "688/687 [==============================] - 21s 31ms/step - loss: 0.6837 - accuracy: 0.7026 - val_loss: 0.7192 - val_accuracy: 0.6833\n",
      "Epoch 11/100\n",
      "688/687 [==============================] - 21s 31ms/step - loss: 0.6737 - accuracy: 0.7086 - val_loss: 0.7175 - val_accuracy: 0.6836\n",
      "Epoch 12/100\n",
      "688/687 [==============================] - 21s 31ms/step - loss: 0.6645 - accuracy: 0.7128 - val_loss: 0.7112 - val_accuracy: 0.6862\n",
      "Epoch 13/100\n",
      "688/687 [==============================] - 21s 31ms/step - loss: 0.6555 - accuracy: 0.7187 - val_loss: 0.7084 - val_accuracy: 0.6890\n",
      "Epoch 14/100\n",
      "688/687 [==============================] - 21s 30ms/step - loss: 0.6489 - accuracy: 0.7214 - val_loss: 0.7145 - val_accuracy: 0.6883\n",
      "Epoch 15/100\n",
      "688/687 [==============================] - 21s 31ms/step - loss: 0.6418 - accuracy: 0.7264 - val_loss: 0.7023 - val_accuracy: 0.6939\n",
      "Epoch 16/100\n",
      "688/687 [==============================] - 21s 31ms/step - loss: 0.6343 - accuracy: 0.7302 - val_loss: 0.7221 - val_accuracy: 0.6915\n",
      "Epoch 17/100\n",
      "688/687 [==============================] - 21s 30ms/step - loss: 0.6279 - accuracy: 0.7330 - val_loss: 0.6889 - val_accuracy: 0.7046\n",
      "Epoch 18/100\n",
      "688/687 [==============================] - 21s 30ms/step - loss: 0.6220 - accuracy: 0.7361 - val_loss: 0.7109 - val_accuracy: 0.6942\n",
      "Epoch 19/100\n",
      "688/687 [==============================] - 21s 30ms/step - loss: 0.6181 - accuracy: 0.7373 - val_loss: 0.6869 - val_accuracy: 0.7000\n",
      "Epoch 20/100\n",
      "688/687 [==============================] - 21s 30ms/step - loss: 0.6125 - accuracy: 0.7419 - val_loss: 0.7113 - val_accuracy: 0.6975\n",
      "Epoch 21/100\n",
      "688/687 [==============================] - 21s 30ms/step - loss: 0.6085 - accuracy: 0.7429 - val_loss: 0.6861 - val_accuracy: 0.7047\n",
      "Epoch 22/100\n",
      "688/687 [==============================] - 21s 31ms/step - loss: 0.6027 - accuracy: 0.7459 - val_loss: 0.6851 - val_accuracy: 0.7101\n",
      "Epoch 23/100\n",
      "688/687 [==============================] - 21s 31ms/step - loss: 0.5995 - accuracy: 0.7469 - val_loss: 0.6934 - val_accuracy: 0.7068\n",
      "Epoch 24/100\n",
      "688/687 [==============================] - 21s 30ms/step - loss: 0.5955 - accuracy: 0.7484 - val_loss: 0.6880 - val_accuracy: 0.7090\n",
      "Epoch 25/100\n",
      "688/687 [==============================] - 21s 30ms/step - loss: 0.5928 - accuracy: 0.7496 - val_loss: 0.6731 - val_accuracy: 0.7122\n",
      "Epoch 26/100\n",
      "688/687 [==============================] - 21s 30ms/step - loss: 0.5892 - accuracy: 0.7529 - val_loss: 0.6925 - val_accuracy: 0.7061\n",
      "Epoch 27/100\n",
      "688/687 [==============================] - 21s 30ms/step - loss: 0.5839 - accuracy: 0.7554 - val_loss: 0.6840 - val_accuracy: 0.7146\n",
      "Epoch 28/100\n",
      "688/687 [==============================] - 21s 31ms/step - loss: 0.5821 - accuracy: 0.7559 - val_loss: 0.6804 - val_accuracy: 0.7138\n",
      "Epoch 00028: early stopping\n"
     ]
    }
   ],
   "source": [
    "\n",
    "epochs = 100\n",
    "\n",
    "m4_h = m4.fit(train_gen,\n",
    "                steps_per_epoch=(len(x_train_1)/batch_size),\n",
    "                callbacks = [es],\n",
    "                epochs=epochs,\n",
    "                validation_data = val_gen, \n",
    "                validation_steps = (len(x_val)/batch_size),\n",
    "                class_weight = weights)"
   ]
  },
  {
   "cell_type": "code",
   "execution_count": 29,
   "metadata": {},
   "outputs": [],
   "source": [
    "base_model.trainable = True\n",
    "\n",
    "opt = keras.optimizers.Adam(lr=1e-5)\n",
    "\n",
    "m4.compile(loss= keras.losses.categorical_crossentropy, optimizer=opt, metrics = ['accuracy'])"
   ]
  },
  {
   "cell_type": "code",
   "execution_count": 30,
   "metadata": {
    "collapsed": true,
    "jupyter": {
     "outputs_hidden": true
    }
   },
   "outputs": [
    {
     "name": "stdout",
     "output_type": "stream",
     "text": [
      "WARNING:tensorflow:sample_weight modes were coerced from\n",
      "  ...\n",
      "    to  \n",
      "  ['...']\n",
      "WARNING:tensorflow:sample_weight modes were coerced from\n",
      "  ...\n",
      "    to  \n",
      "  ['...']\n",
      "Train for 687.84375 steps, validate for 171.96875 steps\n",
      "Epoch 1/100\n",
      "688/687 [==============================] - 48s 70ms/step - loss: 0.5397 - accuracy: 0.7768 - val_loss: 0.6500 - val_accuracy: 0.7237\n",
      "Epoch 2/100\n",
      "688/687 [==============================] - 46s 67ms/step - loss: 0.5042 - accuracy: 0.7962 - val_loss: 0.6413 - val_accuracy: 0.7306\n",
      "Epoch 3/100\n",
      "688/687 [==============================] - 46s 67ms/step - loss: 0.4797 - accuracy: 0.8085 - val_loss: 0.6286 - val_accuracy: 0.7345\n",
      "Epoch 4/100\n",
      "688/687 [==============================] - 46s 67ms/step - loss: 0.4592 - accuracy: 0.8192 - val_loss: 0.5996 - val_accuracy: 0.7524\n",
      "Epoch 5/100\n",
      "688/687 [==============================] - 46s 67ms/step - loss: 0.4405 - accuracy: 0.8286 - val_loss: 0.5997 - val_accuracy: 0.7536\n",
      "Epoch 6/100\n",
      "688/687 [==============================] - 46s 67ms/step - loss: 0.4234 - accuracy: 0.8375 - val_loss: 0.6121 - val_accuracy: 0.7495\n",
      "Epoch 7/100\n",
      "688/687 [==============================] - 46s 67ms/step - loss: 0.4078 - accuracy: 0.8464 - val_loss: 0.5594 - val_accuracy: 0.7711\n",
      "Epoch 8/100\n",
      "688/687 [==============================] - 46s 67ms/step - loss: 0.3935 - accuracy: 0.8532 - val_loss: 0.5682 - val_accuracy: 0.7666\n",
      "Epoch 9/100\n",
      "688/687 [==============================] - 46s 67ms/step - loss: 0.3783 - accuracy: 0.8618 - val_loss: 0.5805 - val_accuracy: 0.7592\n",
      "Epoch 10/100\n",
      "688/687 [==============================] - 46s 66ms/step - loss: 0.3645 - accuracy: 0.8686 - val_loss: 0.5518 - val_accuracy: 0.7766\n",
      "Epoch 11/100\n",
      "688/687 [==============================] - 46s 66ms/step - loss: 0.3513 - accuracy: 0.8753 - val_loss: 0.5422 - val_accuracy: 0.7800\n",
      "Epoch 12/100\n",
      "688/687 [==============================] - 46s 67ms/step - loss: 0.3384 - accuracy: 0.8813 - val_loss: 0.5327 - val_accuracy: 0.7858\n",
      "Epoch 13/100\n",
      "688/687 [==============================] - 46s 67ms/step - loss: 0.3260 - accuracy: 0.8870 - val_loss: 0.5411 - val_accuracy: 0.7790\n",
      "Epoch 14/100\n",
      "688/687 [==============================] - 46s 67ms/step - loss: 0.3147 - accuracy: 0.8938 - val_loss: 0.5149 - val_accuracy: 0.7933\n",
      "Epoch 15/100\n",
      "688/687 [==============================] - 46s 67ms/step - loss: 0.3025 - accuracy: 0.8990 - val_loss: 0.5422 - val_accuracy: 0.7798\n",
      "Epoch 16/100\n",
      "688/687 [==============================] - 46s 67ms/step - loss: 0.2918 - accuracy: 0.9044 - val_loss: 0.5140 - val_accuracy: 0.7908\n",
      "Epoch 17/100\n",
      "688/687 [==============================] - 46s 67ms/step - loss: 0.2801 - accuracy: 0.9106 - val_loss: 0.5183 - val_accuracy: 0.7901\n",
      "Epoch 18/100\n",
      "688/687 [==============================] - 46s 66ms/step - loss: 0.2698 - accuracy: 0.9150 - val_loss: 0.5154 - val_accuracy: 0.7892\n",
      "Epoch 19/100\n",
      "688/687 [==============================] - 45s 66ms/step - loss: 0.2592 - accuracy: 0.9199 - val_loss: 0.4970 - val_accuracy: 0.8028\n",
      "Epoch 20/100\n",
      "688/687 [==============================] - 45s 66ms/step - loss: 0.2489 - accuracy: 0.9247 - val_loss: 0.4839 - val_accuracy: 0.8086\n",
      "Epoch 21/100\n",
      "688/687 [==============================] - 46s 67ms/step - loss: 0.2390 - accuracy: 0.9300 - val_loss: 0.5031 - val_accuracy: 0.8004\n",
      "Epoch 22/100\n",
      "688/687 [==============================] - 46s 67ms/step - loss: 0.2294 - accuracy: 0.9343 - val_loss: 0.4865 - val_accuracy: 0.8067\n",
      "Epoch 23/100\n",
      "688/687 [==============================] - 46s 67ms/step - loss: 0.2201 - accuracy: 0.9385 - val_loss: 0.5004 - val_accuracy: 0.8020\n",
      "Epoch 00023: early stopping\n"
     ]
    }
   ],
   "source": [
    "\n",
    "epochs = 100\n",
    "\n",
    "m4_h = m4.fit(train_gen,\n",
    "                steps_per_epoch=(len(x_train_1)/batch_size),\n",
    "                callbacks = [es],\n",
    "                epochs=epochs,\n",
    "                validation_data = val_gen, \n",
    "                validation_steps = (len(x_val)/batch_size),\n",
    "                class_weight = weights)"
   ]
  },
  {
   "cell_type": "code",
   "execution_count": 31,
   "metadata": {},
   "outputs": [
    {
     "data": {
      "image/png": "[encoded data removed]",
      "text/plain": [
       "<Figure size 1080x360 with 2 Axes>"
      ]
     },
     "metadata": {},
     "output_type": "display_data"
    },
    {
     "data": {
      "image/png": "[encoded data removed]",
      "text/plain": [
       "<Figure size 1080x360 with 2 Axes>"
      ]
     },
     "execution_count": 31,
     "metadata": {},
     "output_type": "execute_result"
    }
   ],
   "source": [
    "plot_history(m4_h, 'first')\n"
   ]
  },
  {
   "cell_type": "code",
   "execution_count": 32,
   "metadata": {},
   "outputs": [
    {
     "name": "stdout",
     "output_type": "stream",
     "text": [
      "27515/27515 [==============================] - 8s 285us/sample - loss: 0.5008 - accuracy: 0.8000\n",
      "\n",
      "accuracy: 80.00%\n"
     ]
    }
   ],
   "source": [
    "scores = m4.evaluate(x_test, y_test_1)\n",
    "print(\"\\n%s: %.2f%%\" % (m4.metrics_names[1], scores[1]*100))"
   ]
  },
  {
   "cell_type": "code",
   "execution_count": 33,
   "metadata": {},
   "outputs": [],
   "source": [
    "test_preds = m4.predict(x_test)"
   ]
  },
  {
   "cell_type": "code",
   "execution_count": 34,
   "metadata": {},
   "outputs": [],
   "source": [
    "preds_df = pd.DataFrame(test_preds)\n",
    "predicted_labels = preds_df.idxmax(axis=1)"
   ]
  },
  {
   "cell_type": "code",
   "execution_count": 35,
   "metadata": {},
   "outputs": [
    {
     "data": {
      "image/png": "[encoded data removed]",
      "text/plain": [
       "<Figure size 432x288 with 1 Axes>"
      ]
     },
     "metadata": {
      "needs_background": "light"
     },
     "output_type": "display_data"
    },
    {
     "data": {
      "text/plain": [
       "array([[4212,  619,  826],\n",
       "       [ 677, 8373, 1406],\n",
       "       [ 960, 1016, 9426]])"
      ]
     },
     "execution_count": 35,
     "metadata": {},
     "output_type": "execute_result"
    }
   ],
   "source": [
    "draw_confusion_matrix(y_test, predicted_labels)"
   ]
  },
  {
   "cell_type": "code",
   "execution_count": 36,
   "metadata": {},
   "outputs": [
    {
     "name": "stdout",
     "output_type": "stream",
     "text": [
      "              precision    recall  f1-score   support\n",
      "\n",
      "           0       0.72      0.74      0.73      5657\n",
      "           1       0.84      0.80      0.82     10456\n",
      "           2       0.81      0.83      0.82     11402\n",
      "\n",
      "    accuracy                           0.80     27515\n",
      "   macro avg       0.79      0.79      0.79     27515\n",
      "weighted avg       0.80      0.80      0.80     27515\n",
      "\n"
     ]
    }
   ],
   "source": [
    "print(classification_report(y_test, predicted_labels))"
   ]
  },
  {
   "cell_type": "code",
   "execution_count": null,
   "metadata": {},
   "outputs": [],
   "source": [
    "p = '/home/jovyan/Saved_Models/'\n",
    "m4.save(p + \"CNN_NEW_DATA.h5\")"
   ]
  },
  {
   "cell_type": "code",
   "execution_count": null,
   "metadata": {},
   "outputs": [],
   "source": []
  }
 ],
 "metadata": {
  "kernelspec": {
   "display_name": "Python 3",
   "language": "python",
   "name": "python3"
  },
  "language_info": {
   "codemirror_mode": {
    "name": "ipython",
    "version": 3
   },
   "file_extension": ".py",
   "mimetype": "text/x-python",
   "name": "python",
   "nbconvert_exporter": "python",
   "pygments_lexer": "ipython3",
   "version": "3.6.9"
  }
 },
 "nbformat": 4,
 "nbformat_minor": 4
}
