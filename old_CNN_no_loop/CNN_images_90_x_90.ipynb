{
 "cells": [
  {
   "cell_type": "code",
   "execution_count": 1,
   "metadata": {},
   "outputs": [
    {
     "name": "stderr",
     "output_type": "stream",
     "text": [
      "Using TensorFlow backend.\n"
     ]
    }
   ],
   "source": [
    "import tensorflow as tf\n",
    "from tensorflow import keras\n",
    "from tensorflow.keras.models import Sequential\n",
    "from tensorflow.keras.layers import Dropout\n",
    "from tensorflow.keras.models import Model\n",
    "from tensorflow.keras.layers import Input\n",
    "from tensorflow.keras.layers import Dense\n",
    "from tensorflow.keras.layers import Activation\n",
    "from tensorflow.keras.layers import Flatten\n",
    "from tensorflow.keras.layers import Dropout\n",
    "from tensorflow.keras.layers import Conv2D, Conv3D\n",
    "from tensorflow.keras.layers import MaxPooling2D, MaxPooling3D\n",
    "from tensorflow.keras.layers import GlobalAveragePooling2D\n",
    "from tensorflow.keras.layers import BatchNormalization\n",
    "from tensorflow.keras.applications.vgg16 import VGG16\n",
    "from tensorflow.keras import optimizers\n",
    "from tensorflow.keras import regularizers\n",
    "from sklearn.metrics import f1_score\n",
    "#from keras import backend as K\n",
    "from keras.callbacks import EarlyStopping\n",
    "from keras.preprocessing.image import ImageDataGenerator\n",
    "from sklearn.model_selection import train_test_split\n",
    "import numpy as np\n",
    "import matplotlib.pyplot as plt\n",
    "import pandas as pd\n",
    "from PIL import Image \n",
    "import seaborn as sns\n",
    "import os\n",
    "import re\n",
    "import glob\n",
    "import cv2\n",
    "from sklearn.metrics import classification_report\n",
    "from sklearn.metrics import confusion_matrix\n",
    "from sklearn.utils.multiclass import unique_labels\n",
    "from sklearn import preprocessing\n",
    "import tqdm\n",
    "from numpy import loadtxt\n",
    "from sklearn.utils import class_weight"
   ]
  },
  {
   "cell_type": "code",
   "execution_count": 2,
   "metadata": {},
   "outputs": [],
   "source": [
    "def atoi(text):\n",
    "   return int(text) if text.isdigit() else text\n",
    "def natural_keys(text):\n",
    "   return [atoi(c) for c in re.split('(\\d+)', text)]"
   ]
  },
  {
   "cell_type": "code",
   "execution_count": 3,
   "metadata": {},
   "outputs": [],
   "source": [
    "def draw_confusion_matrix(true,preds):\n",
    "    conf_matx = confusion_matrix(true, preds)\n",
    "    sns.heatmap(conf_matx, annot=True,annot_kws={\"size\": 12},fmt='g', cbar=False, cmap=plt.cm.Blues) #'viridis'\n",
    "    #plt.savefig('/home/jovyan/img1.png')\n",
    "    plt.show()\n",
    "    \n",
    "    return conf_matx"
   ]
  },
  {
   "cell_type": "code",
   "execution_count": 4,
   "metadata": {},
   "outputs": [],
   "source": [
    "def plot_history(model_history, model_name):\n",
    "    fig = plt.figure(figsize=(15,5), facecolor='w')\n",
    "    ax = fig.add_subplot(121)\n",
    "    ax.plot(model_history.history['loss'])\n",
    "    ax.plot(model_history.history['val_loss'])\n",
    "    ax.set(title=model_name + ': Model loss', ylabel='Loss', xlabel='Epoch')\n",
    "    ax.legend(['Train', 'Val'], loc='upper left')\n",
    "    ax = fig.add_subplot(122)\n",
    "    ax.plot(model_history.history['accuracy'])\n",
    "    ax.plot(model_history.history['val_accuracy'])\n",
    "    ax.set(title=model_name + ': Model Accuracy; test='+ str(np.round(model_history.history['val_accuracy'][-1], 3)),\n",
    "           ylabel='Accuracy', xlabel='Epoch')\n",
    "    ax.legend(['Train', 'Val'], loc='upper left')\n",
    "    #plt.savefig('/home/jovyan/img2.png')\n",
    "    plt.show()\n",
    "   \n",
    "    \n",
    "    return fig"
   ]
  },
  {
   "cell_type": "code",
   "execution_count": 5,
   "metadata": {},
   "outputs": [],
   "source": [
    "def loadImages():\n",
    "\n",
    "    image_list = []\n",
    "    \n",
    "\n",
    "    for filename in sorted(glob.glob('/home/jovyan/DATA_MASTER_PROJECT/P010276_Images/cropped_train/*.tiff'), key=natural_keys): \n",
    "        im=cv2.imread(filename)\n",
    "        imarray = np.array(im)\n",
    "        imarray = imarray.astype('float32')\n",
    "        image_list.append(imarray)\n",
    "\n",
    "    x_orig = np.reshape(image_list, (len(image_list), 90, 90, 3))\n",
    "    \n",
    "    path = '/home/jovyan/DATA_MASTER_PROJECT/P010276_Images/labels_train.csv'     \n",
    "    labels = pd.read_csv(path, usecols=[\"Type\", \"Category\"],\n",
    "                       sep=\",\" )\n",
    "    y_orig = np.array(labels['Category'])\n",
    "\n",
    "    return x_orig, y_orig"
   ]
  },
  {
   "cell_type": "code",
   "execution_count": 6,
   "metadata": {},
   "outputs": [],
   "source": [
    "def normalization(data, norm_mean):#, norm_sigma):\n",
    "    \n",
    "    x_scaled = (data - norm_mean)# / norm_sigma\n",
    "    data = x_scaled\n",
    "    \n",
    "    return data"
   ]
  },
  {
   "cell_type": "code",
   "execution_count": 7,
   "metadata": {},
   "outputs": [],
   "source": [
    "es = EarlyStopping(monitor='val_loss', mode='min', verbose=2, patience=3)"
   ]
  },
  {
   "cell_type": "code",
   "execution_count": 8,
   "metadata": {},
   "outputs": [],
   "source": [
    "def resize():\n",
    "    rescaled = []\n",
    "\n",
    "    for i in x_orig_1:\n",
    "\n",
    "        scale_percent = 140 # percent of original size\n",
    "        width = int(i.shape[1] / (scale_percent / 100))\n",
    "        height = int(i.shape[0] / (scale_percent / 100))\n",
    "        dim = (width, height)\n",
    "        resized = cv2.resize(i, dim, interpolation = cv2.INTER_LANCZOS4)\n",
    "        rescaled.append(resized)\n",
    "\n",
    "    x_orig = np.reshape( rescaled, (len( rescaled), resized.shape[1], resized.shape[1], 3))\n",
    "\n",
    "    return x_orig"
   ]
  },
  {
   "cell_type": "code",
   "execution_count": 9,
   "metadata": {},
   "outputs": [
    {
     "name": "stderr",
     "output_type": "stream",
     "text": [
      "100%|██████████| 2/2 [00:00<00:00, 2218.62it/s]\n"
     ]
    },
    {
     "data": {
      "text/plain": [
       "((17107, 90, 90, 3), (17107,))"
      ]
     },
     "execution_count": 9,
     "metadata": {},
     "output_type": "execute_result"
    }
   ],
   "source": [
    "x_orig_1, y_orig_1 = tqdm.tqdm(loadImages())\n",
    "x_orig_1.shape, y_orig_1.shape"
   ]
  },
  {
   "cell_type": "code",
   "execution_count": 10,
   "metadata": {},
   "outputs": [
    {
     "data": {
      "text/plain": [
       "(17107, 64, 64, 3)"
      ]
     },
     "execution_count": 10,
     "metadata": {},
     "output_type": "execute_result"
    }
   ],
   "source": [
    "x_orig_1 = resize()\n",
    "x_orig_1.shape"
   ]
  },
  {
   "cell_type": "code",
   "execution_count": 11,
   "metadata": {},
   "outputs": [
    {
     "data": {
      "text/plain": [
       "((13685, 64, 64, 3), (3422, 64, 64, 3), (13685,), (3422,))"
      ]
     },
     "execution_count": 11,
     "metadata": {},
     "output_type": "execute_result"
    }
   ],
   "source": [
    "x_train, x_test, y_train, y_test = train_test_split(x_orig_1, y_orig_1, test_size=0.2, random_state=99 )\n",
    "x_train.shape, x_test.shape, y_train.shape, y_test.shape"
   ]
  },
  {
   "cell_type": "code",
   "execution_count": 12,
   "metadata": {},
   "outputs": [
    {
     "data": {
      "text/plain": [
       "((10948, 64, 64, 3), (2737, 64, 64, 3), (10948,), (2737,))"
      ]
     },
     "execution_count": 12,
     "metadata": {},
     "output_type": "execute_result"
    }
   ],
   "source": [
    "x_train_1, x_val, y_train_1, y_val = train_test_split(x_train, y_train, test_size=0.2, random_state=99 )\n",
    "x_train_1.shape, x_val.shape, y_train_1.shape, y_val.shape"
   ]
  },
  {
   "cell_type": "code",
   "execution_count": 13,
   "metadata": {},
   "outputs": [],
   "source": [
    "pretrained_model = VGG16(weights='imagenet',include_top=False, input_shape=(64, 64, 3))\n",
    "\n",
    "base_model = Model(inputs=pretrained_model.input, outputs=pretrained_model.get_layer('block3_pool').output)"
   ]
  },
  {
   "cell_type": "code",
   "execution_count": 14,
   "metadata": {},
   "outputs": [
    {
     "data": {
      "text/plain": [
       "{0: 1694, 1: 1901, 2: 3245, 3: 1931, 4: 2177}"
      ]
     },
     "execution_count": 14,
     "metadata": {},
     "output_type": "execute_result"
    }
   ],
   "source": [
    "unique, counts = np.unique(y_train_1, return_counts=True)\n",
    "dict(zip(unique, counts))"
   ]
  },
  {
   "cell_type": "code",
   "execution_count": 15,
   "metadata": {},
   "outputs": [
    {
     "data": {
      "text/plain": [
       "{0: 398, 1: 505, 2: 812, 3: 478, 4: 544}"
      ]
     },
     "execution_count": 15,
     "metadata": {},
     "output_type": "execute_result"
    }
   ],
   "source": [
    "unique, counts = np.unique(y_val, return_counts=True)\n",
    "dict(zip(unique, counts))"
   ]
  },
  {
   "cell_type": "code",
   "execution_count": 16,
   "metadata": {},
   "outputs": [
    {
     "name": "stdout",
     "output_type": "stream",
     "text": [
      "weights = [1.29256198 1.15181483 0.67476117 1.13392025 1.00578778]\n"
     ]
    }
   ],
   "source": [
    "weights = class_weight.compute_class_weight('balanced', np.unique(y_train_1),y_train_1)\n",
    "print('weights = ' + str(weights))"
   ]
  },
  {
   "cell_type": "code",
   "execution_count": 17,
   "metadata": {},
   "outputs": [
    {
     "data": {
      "text/plain": [
       "((10948, 5), (3422, 5), (2737, 5))"
      ]
     },
     "execution_count": 17,
     "metadata": {},
     "output_type": "execute_result"
    }
   ],
   "source": [
    "y_train_1 = keras.utils.to_categorical(y_train_1)\n",
    "y_test_1 = keras.utils.to_categorical(y_test)\n",
    "y_val = keras.utils.to_categorical(y_val)\n",
    "\n",
    "y_train_1.shape, y_test_1.shape, y_val.shape"
   ]
  },
  {
   "cell_type": "code",
   "execution_count": 18,
   "metadata": {},
   "outputs": [],
   "source": [
    "#print('Shape:{0}\\nMean:{1}\\nSigma:{2}'.format(x_train_1.shape,np.mean(x_train_1),np.std(x_train_1)))"
   ]
  },
  {
   "cell_type": "code",
   "execution_count": 19,
   "metadata": {},
   "outputs": [],
   "source": [
    "norm_mean = np.mean(x_train_1)\n",
    "norm_sigma = np.std(x_train_1)\n",
    "\n",
    "x_train_1 = normalization(x_train_1, norm_mean)#, norm_sigma)\n",
    "\n",
    "x_val = normalization(x_val, norm_mean)#, norm_sigma)\n",
    "\n",
    "x_test = normalization(x_test, norm_mean)#, norm_sigma)\n"
   ]
  },
  {
   "cell_type": "code",
   "execution_count": 20,
   "metadata": {},
   "outputs": [],
   "source": [
    "batch_size = 32"
   ]
  },
  {
   "cell_type": "code",
   "execution_count": 21,
   "metadata": {},
   "outputs": [],
   "source": [
    "datagen = ImageDataGenerator()\n",
    "\n",
    "datagen.fit(x_train_1)\n",
    "\n",
    "train_gen = datagen.flow(x_train_1, y_train_1, batch_size=batch_size)"
   ]
  },
  {
   "cell_type": "code",
   "execution_count": 22,
   "metadata": {},
   "outputs": [],
   "source": [
    "dat_val = ImageDataGenerator()\n",
    "\n",
    "dat_val.fit(x_val)\n",
    "\n",
    "val_gen = dat_val.flow(x_val, y_val, batch_size=batch_size)"
   ]
  },
  {
   "cell_type": "code",
   "execution_count": 23,
   "metadata": {},
   "outputs": [
    {
     "name": "stdout",
     "output_type": "stream",
     "text": [
      "Model: \"sequential\"\n",
      "_________________________________________________________________\n",
      "Layer (type)                 Output Shape              Param #   \n",
      "=================================================================\n",
      "model (Model)                (None, 8, 8, 256)         1735488   \n",
      "_________________________________________________________________\n",
      "batch_normalization (BatchNo (None, 8, 8, 256)         1024      \n",
      "_________________________________________________________________\n",
      "global_average_pooling2d (Gl (None, 256)               0         \n",
      "_________________________________________________________________\n",
      "dense (Dense)                (None, 64)                16448     \n",
      "_________________________________________________________________\n",
      "dense_1 (Dense)              (None, 5)                 325       \n",
      "=================================================================\n",
      "Total params: 1,753,285\n",
      "Trainable params: 1,752,773\n",
      "Non-trainable params: 512\n",
      "_________________________________________________________________\n"
     ]
    }
   ],
   "source": [
    "m4 = Sequential()\n",
    "m4.add(base_model)\n",
    "\n",
    "\n",
    "m4.add(BatchNormalization())\n",
    "m4.add(GlobalAveragePooling2D())\n",
    "m4.add(Dense(64, activation='relu'))\n",
    "m4.add(Dense(5, activation = 'softmax'))\n",
    "\n",
    "m4.summary()\n",
    "\n",
    "\n"
   ]
  },
  {
   "cell_type": "code",
   "execution_count": 24,
   "metadata": {},
   "outputs": [],
   "source": [
    "base_model.trainable = False\n",
    "\n",
    "opt = keras.optimizers.Adam(lr=1e-3)\n",
    "\n",
    "m4.compile(loss= keras.losses.categorical_crossentropy, optimizer=opt, metrics = ['accuracy'])\n"
   ]
  },
  {
   "cell_type": "code",
   "execution_count": 25,
   "metadata": {},
   "outputs": [
    {
     "name": "stdout",
     "output_type": "stream",
     "text": [
      "WARNING:tensorflow:sample_weight modes were coerced from\n",
      "  ...\n",
      "    to  \n",
      "  ['...']\n",
      "WARNING:tensorflow:sample_weight modes were coerced from\n",
      "  ...\n",
      "    to  \n",
      "  ['...']\n",
      "Train for 342.125 steps, validate for 85.53125 steps\n",
      "Epoch 1/100\n",
      "343/342 [==============================] - 7s 20ms/step - loss: 1.3694 - accuracy: 0.4228 - val_loss: 1.2501 - val_accuracy: 0.4965\n",
      "Epoch 2/100\n",
      "343/342 [==============================] - 4s 12ms/step - loss: 1.1959 - accuracy: 0.5213 - val_loss: 1.1496 - val_accuracy: 0.5532\n",
      "Epoch 3/100\n",
      "343/342 [==============================] - 4s 11ms/step - loss: 1.1067 - accuracy: 0.5657 - val_loss: 1.0975 - val_accuracy: 0.5707\n",
      "Epoch 4/100\n",
      "343/342 [==============================] - 4s 11ms/step - loss: 1.0398 - accuracy: 0.5951 - val_loss: 1.0519 - val_accuracy: 0.5868\n",
      "Epoch 5/100\n",
      "343/342 [==============================] - 4s 11ms/step - loss: 0.9846 - accuracy: 0.6170 - val_loss: 1.0224 - val_accuracy: 0.6050\n",
      "Epoch 6/100\n",
      "343/342 [==============================] - 4s 11ms/step - loss: 0.9382 - accuracy: 0.6435 - val_loss: 0.9970 - val_accuracy: 0.6142\n",
      "Epoch 7/100\n",
      "343/342 [==============================] - 4s 11ms/step - loss: 0.9004 - accuracy: 0.6550 - val_loss: 0.9828 - val_accuracy: 0.6175\n",
      "Epoch 8/100\n",
      "343/342 [==============================] - 4s 11ms/step - loss: 0.8640 - accuracy: 0.6723 - val_loss: 0.9527 - val_accuracy: 0.6324\n",
      "Epoch 9/100\n",
      "343/342 [==============================] - 4s 11ms/step - loss: 0.8367 - accuracy: 0.6862 - val_loss: 0.9503 - val_accuracy: 0.6335\n",
      "Epoch 10/100\n",
      "343/342 [==============================] - 4s 11ms/step - loss: 0.8055 - accuracy: 0.6943 - val_loss: 0.9353 - val_accuracy: 0.6514\n",
      "Epoch 11/100\n",
      "343/342 [==============================] - 4s 11ms/step - loss: 0.7826 - accuracy: 0.7102 - val_loss: 0.9332 - val_accuracy: 0.6485\n",
      "Epoch 12/100\n",
      "343/342 [==============================] - 4s 11ms/step - loss: 0.7587 - accuracy: 0.7123 - val_loss: 0.9123 - val_accuracy: 0.6493\n",
      "Epoch 13/100\n",
      "343/342 [==============================] - 4s 11ms/step - loss: 0.7332 - accuracy: 0.7318 - val_loss: 0.9149 - val_accuracy: 0.6518\n",
      "Epoch 14/100\n",
      "343/342 [==============================] - 4s 12ms/step - loss: 0.7143 - accuracy: 0.7354 - val_loss: 0.9068 - val_accuracy: 0.6558\n",
      "Epoch 15/100\n",
      "343/342 [==============================] - 4s 11ms/step - loss: 0.6936 - accuracy: 0.7444 - val_loss: 0.8979 - val_accuracy: 0.6617\n",
      "Epoch 16/100\n",
      "343/342 [==============================] - 4s 11ms/step - loss: 0.6791 - accuracy: 0.7509 - val_loss: 0.9038 - val_accuracy: 0.6635\n",
      "Epoch 17/100\n",
      "343/342 [==============================] - 4s 11ms/step - loss: 0.6617 - accuracy: 0.7610 - val_loss: 0.8900 - val_accuracy: 0.6672\n",
      "Epoch 18/100\n",
      "343/342 [==============================] - 4s 11ms/step - loss: 0.6418 - accuracy: 0.7681 - val_loss: 0.8859 - val_accuracy: 0.6712\n",
      "Epoch 19/100\n",
      "343/342 [==============================] - 4s 11ms/step - loss: 0.6300 - accuracy: 0.7692 - val_loss: 0.9156 - val_accuracy: 0.6620\n",
      "Epoch 20/100\n",
      "343/342 [==============================] - 4s 11ms/step - loss: 0.6130 - accuracy: 0.7788 - val_loss: 0.8901 - val_accuracy: 0.6646\n",
      "Epoch 21/100\n",
      "343/342 [==============================] - 4s 11ms/step - loss: 0.6028 - accuracy: 0.7814 - val_loss: 0.8964 - val_accuracy: 0.6704\n",
      "Epoch 00021: early stopping\n"
     ]
    }
   ],
   "source": [
    "\n",
    "epochs = 100\n",
    "\n",
    "m4_h = m4.fit(train_gen,\n",
    "                steps_per_epoch=(len(x_train_1)/batch_size),\n",
    "                callbacks = [es],\n",
    "                epochs=epochs,\n",
    "                validation_data = val_gen, \n",
    "                validation_steps = (len(x_val)/batch_size),\n",
    "                class_weight = weights)"
   ]
  },
  {
   "cell_type": "code",
   "execution_count": 26,
   "metadata": {},
   "outputs": [],
   "source": [
    "base_model.trainable = True\n",
    "\n",
    "opt = keras.optimizers.Adam(lr=1e-5)\n",
    "\n",
    "m4.compile(loss= keras.losses.categorical_crossentropy, optimizer=opt, metrics = ['accuracy'])"
   ]
  },
  {
   "cell_type": "code",
   "execution_count": 27,
   "metadata": {},
   "outputs": [
    {
     "name": "stdout",
     "output_type": "stream",
     "text": [
      "WARNING:tensorflow:sample_weight modes were coerced from\n",
      "  ...\n",
      "    to  \n",
      "  ['...']\n",
      "WARNING:tensorflow:sample_weight modes were coerced from\n",
      "  ...\n",
      "    to  \n",
      "  ['...']\n",
      "Train for 342.125 steps, validate for 85.53125 steps\n",
      "Epoch 1/100\n",
      "343/342 [==============================] - 8s 23ms/step - loss: 0.5514 - accuracy: 0.8029 - val_loss: 0.8770 - val_accuracy: 0.6785\n",
      "Epoch 2/100\n",
      "343/342 [==============================] - 7s 21ms/step - loss: 0.4956 - accuracy: 0.8322 - val_loss: 0.8905 - val_accuracy: 0.6734\n",
      "Epoch 3/100\n",
      "343/342 [==============================] - 7s 20ms/step - loss: 0.4578 - accuracy: 0.8497 - val_loss: 0.8795 - val_accuracy: 0.6825\n",
      "Epoch 4/100\n",
      "343/342 [==============================] - 7s 21ms/step - loss: 0.4242 - accuracy: 0.8660 - val_loss: 0.8815 - val_accuracy: 0.6777\n",
      "Epoch 00004: early stopping\n"
     ]
    }
   ],
   "source": [
    "\n",
    "epochs = 100\n",
    "\n",
    "m4_h = m4.fit(train_gen,\n",
    "                steps_per_epoch=(len(x_train_1)/batch_size),\n",
    "                callbacks = [es],\n",
    "                epochs=epochs,\n",
    "                validation_data = val_gen, \n",
    "                validation_steps = (len(x_val)/batch_size),\n",
    "                class_weight = weights)"
   ]
  },
  {
   "cell_type": "code",
   "execution_count": 28,
   "metadata": {},
   "outputs": [
    {
     "data": {
      "image/png": "[encoded data removed]",
      "text/plain": [
       "<Figure size 1080x360 with 2 Axes>"
      ]
     },
     "metadata": {},
     "output_type": "display_data"
    },
    {
     "data": {
      "image/png": "[encoded data removed]",
      "text/plain": [
       "<Figure size 1080x360 with 2 Axes>"
      ]
     },
     "execution_count": 28,
     "metadata": {},
     "output_type": "execute_result"
    }
   ],
   "source": [
    "plot_history(m4_h, 'first')\n"
   ]
  },
  {
   "cell_type": "code",
   "execution_count": 29,
   "metadata": {},
   "outputs": [
    {
     "name": "stdout",
     "output_type": "stream",
     "text": [
      "3422/3422 [==============================] - 1s 333us/sample - loss: 0.9081 - accuracy: 0.6642\n",
      "\n",
      "accuracy: 66.42%\n"
     ]
    }
   ],
   "source": [
    "scores = m4.evaluate(x_test, y_test_1)\n",
    "print(\"\\n%s: %.2f%%\" % (m4.metrics_names[1], scores[1]*100))"
   ]
  },
  {
   "cell_type": "code",
   "execution_count": 30,
   "metadata": {},
   "outputs": [],
   "source": [
    "test_preds = m4.predict(x_test)"
   ]
  },
  {
   "cell_type": "code",
   "execution_count": 31,
   "metadata": {},
   "outputs": [],
   "source": [
    "preds_df = pd.DataFrame(test_preds)\n",
    "predicted_labels = preds_df.idxmax(axis=1)"
   ]
  },
  {
   "cell_type": "code",
   "execution_count": 32,
   "metadata": {},
   "outputs": [
    {
     "data": {
      "image/png": "[encoded data removed]",
      "text/plain": [
       "<Figure size 432x288 with 1 Axes>"
      ]
     },
     "metadata": {
      "needs_background": "light"
     },
     "output_type": "display_data"
    },
    {
     "data": {
      "text/plain": [
       "array([[337,  23,  36, 116,  41],\n",
       "       [ 20, 488,  42,  53,  33],\n",
       "       [ 82,  58, 581, 185,  80],\n",
       "       [ 36,  15,  36, 431,  33],\n",
       "       [ 35,  39,  49, 137, 436]])"
      ]
     },
     "execution_count": 32,
     "metadata": {},
     "output_type": "execute_result"
    }
   ],
   "source": [
    "draw_confusion_matrix(y_test, predicted_labels)"
   ]
  },
  {
   "cell_type": "code",
   "execution_count": 33,
   "metadata": {},
   "outputs": [
    {
     "name": "stdout",
     "output_type": "stream",
     "text": [
      "              precision    recall  f1-score   support\n",
      "\n",
      "           0       0.66      0.61      0.63       553\n",
      "           1       0.78      0.77      0.78       636\n",
      "           2       0.78      0.59      0.67       986\n",
      "           3       0.47      0.78      0.59       551\n",
      "           4       0.70      0.63      0.66       696\n",
      "\n",
      "    accuracy                           0.66      3422\n",
      "   macro avg       0.68      0.67      0.67      3422\n",
      "weighted avg       0.69      0.66      0.67      3422\n",
      "\n"
     ]
    }
   ],
   "source": [
    "print(classification_report(y_test, predicted_labels))"
   ]
  },
  {
   "cell_type": "code",
   "execution_count": null,
   "metadata": {},
   "outputs": [],
   "source": [
    "# p = '/home/jovyan/Saved_Models/'\n",
    "# m4.save(p + \"CNN_A59_modell.h5\")"
   ]
  },
  {
   "cell_type": "code",
   "execution_count": null,
   "metadata": {},
   "outputs": [],
   "source": []
  }
 ],
 "metadata": {
  "kernelspec": {
   "display_name": "Python 3",
   "language": "python",
   "name": "python3"
  },
  "language_info": {
   "codemirror_mode": {
    "name": "ipython",
    "version": 3
   },
   "file_extension": ".py",
   "mimetype": "text/x-python",
   "name": "python",
   "nbconvert_exporter": "python",
   "pygments_lexer": "ipython3",
   "version": "3.6.9"
  }
 },
 "nbformat": 4,
 "nbformat_minor": 4
}
